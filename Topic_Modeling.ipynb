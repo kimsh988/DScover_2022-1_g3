{
  "nbformat": 4,
  "nbformat_minor": 0,
  "metadata": {
    "colab": {
      "name": "3조 프로젝트 코드 (2)",
      "provenance": [],
      "collapsed_sections": [],
      "toc_visible": true
    },
    "kernelspec": {
      "name": "python3",
      "display_name": "Python 3"
    },
    "language_info": {
      "name": "python"
    },
    "accelerator": "GPU"
  },
  "cells": [
    {
      "cell_type": "markdown",
      "source": [
        "# 준비사항\n",
        "1. 드라이브 마운트\n",
        "2. 패키지 설치"
      ],
      "metadata": {
        "id": "T1RObAUBlnIz"
      }
    },
    {
      "cell_type": "code",
      "source": [
        "#드라이브 마운트\n",
        "from google.colab import drive\n",
        "drive.mount('/content/drive')"
      ],
      "metadata": {
        "id": "l4kj3zkhJMrs",
        "colab": {
          "base_uri": "https://localhost:8080/"
        },
        "outputId": "0d31ad49-cab4-497e-e47b-f96fb9b3d98a"
      },
      "execution_count": null,
      "outputs": [
        {
          "output_type": "stream",
          "name": "stdout",
          "text": [
            "Mounted at /content/drive\n"
          ]
        }
      ]
    },
    {
      "cell_type": "code",
      "source": [
        "# 패키지 설치\n",
        "!pip install kiwipiepy #형태소분석기\n",
        "!pip install tomotopy #LDA 설계용\n",
        "import pandas as pd #xlsx파일 불러오기 위한 pandas\n",
        "import numpy as np\n",
        "import datetime as dt #날짜 자료형 패키지\n",
        "import matplotlib.pyplot as plt\n",
        "import seaborn as sns\n",
        "import re #정규표현식\n",
        "import random #랜덤함수\n",
        "import tomotopy as tp #tomotopy\n",
        "import collections #counter 호출용\n",
        "from math import sqrt #제곱근 계산\n",
        "from tqdm import tqdm\n",
        "tqdm.pandas() #진행상황 확인\n",
        "from kiwipiepy import Kiwi, Option #키위\n",
        "from matplotlib import font_manager, rc #시각화 폰트 패키지\n",
        "from wordcloud import WordCloud,STOPWORDS #워드클라우드 패키지\n",
        "from PIL import Image #이미지 배경 패키지"
      ],
      "metadata": {
        "id": "gm6Nv0fIJWi5",
        "colab": {
          "base_uri": "https://localhost:8080/"
        },
        "outputId": "c38a2fad-67d4-4994-c184-9515c76d3571"
      },
      "execution_count": null,
      "outputs": [
        {
          "output_type": "stream",
          "name": "stdout",
          "text": [
            "Collecting kiwipiepy\n",
            "  Downloading kiwipiepy-0.11.2-cp37-cp37m-manylinux_2_12_x86_64.manylinux2010_x86_64.whl (850 kB)\n",
            "\u001b[K     |████████████████████████████████| 850 kB 5.4 MB/s \n",
            "\u001b[?25hCollecting kiwipiepy-model~=0.11\n",
            "  Downloading kiwipiepy_model-0.11.0.tar.gz (26.5 MB)\n",
            "\u001b[K     |████████████████████████████████| 26.5 MB 1.7 MB/s \n",
            "\u001b[?25hBuilding wheels for collected packages: kiwipiepy-model\n",
            "  Building wheel for kiwipiepy-model (setup.py) ... \u001b[?25l\u001b[?25hdone\n",
            "  Created wheel for kiwipiepy-model: filename=kiwipiepy_model-0.11.0-py3-none-any.whl size=26552558 sha256=b2bc073d52f531cdb3b673fe9884b47a7fce692381968cf97a753138f98f4bb5\n",
            "  Stored in directory: /root/.cache/pip/wheels/99/c9/8d/87f32d82825c0739691bc02c7e3a1c6d79dbc9455f955311d4\n",
            "Successfully built kiwipiepy-model\n",
            "Installing collected packages: kiwipiepy-model, kiwipiepy\n",
            "Successfully installed kiwipiepy-0.11.2 kiwipiepy-model-0.11.0\n",
            "Collecting tomotopy\n",
            "  Downloading tomotopy-0.12.2-cp37-cp37m-manylinux_2_12_x86_64.manylinux2010_x86_64.whl (16.3 MB)\n",
            "\u001b[K     |████████████████████████████████| 16.3 MB 324 kB/s \n",
            "\u001b[?25hRequirement already satisfied: numpy>=1.11.0 in /usr/local/lib/python3.7/dist-packages (from tomotopy) (1.21.6)\n",
            "Installing collected packages: tomotopy\n",
            "Successfully installed tomotopy-0.12.2\n"
          ]
        }
      ]
    },
    {
      "cell_type": "code",
      "source": [
        "#news_all.to_excel('/content/drive/MyDrive/dscvr_g3_preproc.xlsx',encoding='CP949') #전처리 후 중간 저장\n",
        "news_all=pd.read_excel('/content/drive/MyDrive/dscvr_g3/dscvr_g3_preproc_2.xlsx',index_col=0) #저장된 파일 불러오기"
      ],
      "metadata": {
        "id": "v8xaywyBgosa"
      },
      "execution_count": null,
      "outputs": []
    },
    {
      "cell_type": "code",
      "source": [
        "#파일 확인\n",
        "news_all.head()"
      ],
      "metadata": {
        "colab": {
          "base_uri": "https://localhost:8080/",
          "height": 206
        },
        "id": "PGDPn05sY3RW",
        "outputId": "451803ae-9e87-4b5f-c50f-f04bd7ca067e"
      },
      "execution_count": null,
      "outputs": [
        {
          "output_type": "execute_result",
          "data": {
            "text/plain": [
              "             id      date press  \\\n",
              "0  1.100401e+06  20170509  동아일보   \n",
              "1  1.101101e+06  20170508  한국일보   \n",
              "2  1.100101e+06  20170508  경향신문   \n",
              "3  1.100101e+06  20170508  경향신문   \n",
              "4  1.101001e+06  20170508   한겨레   \n",
              "\n",
              "                                            maintext      date1 year-month  \n",
              "0  석탄발전 퇴출과 원전 축소, 재생에너지 확대는 대선 후보 대부분의 에너지 정책 기조... 2017-05-09    2017-05  \n",
              "1  도널드 트럼프 미국 행정부 요청으로 중국이 대북 압박을 강화하는 것으로 알려졌지만,... 2017-05-08    2017-05  \n",
              "2  ■마지막 한마디\\n\\n“저 문재인에게 당면한 나라의 위기를 극복할 힘을 주십시오. ... 2017-05-08    2017-05  \n",
              "3  ■마지막 한마디\\n\\n“많은 분들이 유승민 참 좋은데 찍으면 사표 될까봐 걱정하십니... 2017-05-08    2017-05  \n",
              "4  주요 5개 정당 대선 후보들이 대통령에 당선되면 지방분권에 관심을 갖고 헌법 개정 ... 2017-05-08    2017-05  "
            ],
            "text/html": [
              "\n",
              "  <div id=\"df-9b0cad32-df6d-4b8a-8ae6-7ee47c4d0360\">\n",
              "    <div class=\"colab-df-container\">\n",
              "      <div>\n",
              "<style scoped>\n",
              "    .dataframe tbody tr th:only-of-type {\n",
              "        vertical-align: middle;\n",
              "    }\n",
              "\n",
              "    .dataframe tbody tr th {\n",
              "        vertical-align: top;\n",
              "    }\n",
              "\n",
              "    .dataframe thead th {\n",
              "        text-align: right;\n",
              "    }\n",
              "</style>\n",
              "<table border=\"1\" class=\"dataframe\">\n",
              "  <thead>\n",
              "    <tr style=\"text-align: right;\">\n",
              "      <th></th>\n",
              "      <th>id</th>\n",
              "      <th>date</th>\n",
              "      <th>press</th>\n",
              "      <th>maintext</th>\n",
              "      <th>date1</th>\n",
              "      <th>year-month</th>\n",
              "    </tr>\n",
              "  </thead>\n",
              "  <tbody>\n",
              "    <tr>\n",
              "      <th>0</th>\n",
              "      <td>1.100401e+06</td>\n",
              "      <td>20170509</td>\n",
              "      <td>동아일보</td>\n",
              "      <td>석탄발전 퇴출과 원전 축소, 재생에너지 확대는 대선 후보 대부분의 에너지 정책 기조...</td>\n",
              "      <td>2017-05-09</td>\n",
              "      <td>2017-05</td>\n",
              "    </tr>\n",
              "    <tr>\n",
              "      <th>1</th>\n",
              "      <td>1.101101e+06</td>\n",
              "      <td>20170508</td>\n",
              "      <td>한국일보</td>\n",
              "      <td>도널드 트럼프 미국 행정부 요청으로 중국이 대북 압박을 강화하는 것으로 알려졌지만,...</td>\n",
              "      <td>2017-05-08</td>\n",
              "      <td>2017-05</td>\n",
              "    </tr>\n",
              "    <tr>\n",
              "      <th>2</th>\n",
              "      <td>1.100101e+06</td>\n",
              "      <td>20170508</td>\n",
              "      <td>경향신문</td>\n",
              "      <td>■마지막 한마디\\n\\n“저 문재인에게 당면한 나라의 위기를 극복할 힘을 주십시오. ...</td>\n",
              "      <td>2017-05-08</td>\n",
              "      <td>2017-05</td>\n",
              "    </tr>\n",
              "    <tr>\n",
              "      <th>3</th>\n",
              "      <td>1.100101e+06</td>\n",
              "      <td>20170508</td>\n",
              "      <td>경향신문</td>\n",
              "      <td>■마지막 한마디\\n\\n“많은 분들이 유승민 참 좋은데 찍으면 사표 될까봐 걱정하십니...</td>\n",
              "      <td>2017-05-08</td>\n",
              "      <td>2017-05</td>\n",
              "    </tr>\n",
              "    <tr>\n",
              "      <th>4</th>\n",
              "      <td>1.101001e+06</td>\n",
              "      <td>20170508</td>\n",
              "      <td>한겨레</td>\n",
              "      <td>주요 5개 정당 대선 후보들이 대통령에 당선되면 지방분권에 관심을 갖고 헌법 개정 ...</td>\n",
              "      <td>2017-05-08</td>\n",
              "      <td>2017-05</td>\n",
              "    </tr>\n",
              "  </tbody>\n",
              "</table>\n",
              "</div>\n",
              "      <button class=\"colab-df-convert\" onclick=\"convertToInteractive('df-9b0cad32-df6d-4b8a-8ae6-7ee47c4d0360')\"\n",
              "              title=\"Convert this dataframe to an interactive table.\"\n",
              "              style=\"display:none;\">\n",
              "        \n",
              "  <svg xmlns=\"http://www.w3.org/2000/svg\" height=\"24px\"viewBox=\"0 0 24 24\"\n",
              "       width=\"24px\">\n",
              "    <path d=\"M0 0h24v24H0V0z\" fill=\"none\"/>\n",
              "    <path d=\"M18.56 5.44l.94 2.06.94-2.06 2.06-.94-2.06-.94-.94-2.06-.94 2.06-2.06.94zm-11 1L8.5 8.5l.94-2.06 2.06-.94-2.06-.94L8.5 2.5l-.94 2.06-2.06.94zm10 10l.94 2.06.94-2.06 2.06-.94-2.06-.94-.94-2.06-.94 2.06-2.06.94z\"/><path d=\"M17.41 7.96l-1.37-1.37c-.4-.4-.92-.59-1.43-.59-.52 0-1.04.2-1.43.59L10.3 9.45l-7.72 7.72c-.78.78-.78 2.05 0 2.83L4 21.41c.39.39.9.59 1.41.59.51 0 1.02-.2 1.41-.59l7.78-7.78 2.81-2.81c.8-.78.8-2.07 0-2.86zM5.41 20L4 18.59l7.72-7.72 1.47 1.35L5.41 20z\"/>\n",
              "  </svg>\n",
              "      </button>\n",
              "      \n",
              "  <style>\n",
              "    .colab-df-container {\n",
              "      display:flex;\n",
              "      flex-wrap:wrap;\n",
              "      gap: 12px;\n",
              "    }\n",
              "\n",
              "    .colab-df-convert {\n",
              "      background-color: #E8F0FE;\n",
              "      border: none;\n",
              "      border-radius: 50%;\n",
              "      cursor: pointer;\n",
              "      display: none;\n",
              "      fill: #1967D2;\n",
              "      height: 32px;\n",
              "      padding: 0 0 0 0;\n",
              "      width: 32px;\n",
              "    }\n",
              "\n",
              "    .colab-df-convert:hover {\n",
              "      background-color: #E2EBFA;\n",
              "      box-shadow: 0px 1px 2px rgba(60, 64, 67, 0.3), 0px 1px 3px 1px rgba(60, 64, 67, 0.15);\n",
              "      fill: #174EA6;\n",
              "    }\n",
              "\n",
              "    [theme=dark] .colab-df-convert {\n",
              "      background-color: #3B4455;\n",
              "      fill: #D2E3FC;\n",
              "    }\n",
              "\n",
              "    [theme=dark] .colab-df-convert:hover {\n",
              "      background-color: #434B5C;\n",
              "      box-shadow: 0px 1px 3px 1px rgba(0, 0, 0, 0.15);\n",
              "      filter: drop-shadow(0px 1px 2px rgba(0, 0, 0, 0.3));\n",
              "      fill: #FFFFFF;\n",
              "    }\n",
              "  </style>\n",
              "\n",
              "      <script>\n",
              "        const buttonEl =\n",
              "          document.querySelector('#df-9b0cad32-df6d-4b8a-8ae6-7ee47c4d0360 button.colab-df-convert');\n",
              "        buttonEl.style.display =\n",
              "          google.colab.kernel.accessAllowed ? 'block' : 'none';\n",
              "\n",
              "        async function convertToInteractive(key) {\n",
              "          const element = document.querySelector('#df-9b0cad32-df6d-4b8a-8ae6-7ee47c4d0360');\n",
              "          const dataTable =\n",
              "            await google.colab.kernel.invokeFunction('convertToInteractive',\n",
              "                                                     [key], {});\n",
              "          if (!dataTable) return;\n",
              "\n",
              "          const docLinkHtml = 'Like what you see? Visit the ' +\n",
              "            '<a target=\"_blank\" href=https://colab.research.google.com/notebooks/data_table.ipynb>data table notebook</a>'\n",
              "            + ' to learn more about interactive tables.';\n",
              "          element.innerHTML = '';\n",
              "          dataTable['output_type'] = 'display_data';\n",
              "          await google.colab.output.renderOutput(dataTable, element);\n",
              "          const docLink = document.createElement('div');\n",
              "          docLink.innerHTML = docLinkHtml;\n",
              "          element.appendChild(docLink);\n",
              "        }\n",
              "      </script>\n",
              "    </div>\n",
              "  </div>\n",
              "  "
            ]
          },
          "metadata": {},
          "execution_count": 5
        }
      ]
    },
    {
      "cell_type": "code",
      "source": [
        "news_all.info()"
      ],
      "metadata": {
        "colab": {
          "base_uri": "https://localhost:8080/"
        },
        "id": "ODF7_rVvWIQT",
        "outputId": "5857f1fc-1803-4ac7-f899-dd50d11cb64e"
      },
      "execution_count": null,
      "outputs": [
        {
          "output_type": "stream",
          "name": "stdout",
          "text": [
            "<class 'pandas.core.frame.DataFrame'>\n",
            "Int64Index: 31262 entries, 0 to 31261\n",
            "Data columns (total 6 columns):\n",
            " #   Column      Non-Null Count  Dtype         \n",
            "---  ------      --------------  -----         \n",
            " 0   id          31262 non-null  float64       \n",
            " 1   date        31262 non-null  int64         \n",
            " 2   press       31262 non-null  object        \n",
            " 3   maintext    31262 non-null  object        \n",
            " 4   date1       31262 non-null  datetime64[ns]\n",
            " 5   year-month  31262 non-null  object        \n",
            "dtypes: datetime64[ns](1), float64(1), int64(1), object(3)\n",
            "memory usage: 1.7+ MB\n"
          ]
        }
      ]
    },
    {
      "cell_type": "markdown",
      "source": [
        "#2-2. 기사 토픽모델링\n",
        "```\n",
        "셀 실행 순서\n",
        "1. 분석 준비\n",
        "2. 명사 추출 함수 정의\n",
        "3. 명사 추출\n",
        "4. 정규화 및 커스텀 딕셔너리 작업\n",
        "5. 다시 명사 추출\n",
        "6. 불용어 처리\n",
        "```\n"
      ],
      "metadata": {
        "id": "Uzcmq8NuG4WZ"
      }
    },
    {
      "cell_type": "markdown",
      "source": [
        "##형태소분석"
      ],
      "metadata": {
        "id": "KZ9VX0yjar17"
      }
    },
    {
      "cell_type": "markdown",
      "source": [
        "###분석 준비"
      ],
      "metadata": {
        "id": "9BEJb-1IbatW"
      }
    },
    {
      "cell_type": "code",
      "source": [
        "#형태소분석기 호출★\n",
        "kiwi = Kiwi()"
      ],
      "metadata": {
        "id": "yU0LgXC6arDy"
      },
      "execution_count": null,
      "outputs": []
    },
    {
      "cell_type": "code",
      "source": [
        "#특수기호 제거\n",
        "pattern1 = '[-=+,#/\\?:;^$.A*\"~%!\\\\\\n\\r\\t<>[]{}()▼▽♣♧§☆♡´∀｀ﾉ♥♡▲△�ㅁ▼▽▶▷◀◁★☆♠♤●○◎⊙◆◇■□＊━▣“”]' #특수기호 목록\n",
        "news_all['maintext']=news_all['maintext'].progress_map(lambda x:re.sub(pattern1, ' ', x).strip())  # 특수 기호를 \" \" 공란으로"
      ],
      "metadata": {
        "id": "GOmu1V1oaw9g",
        "colab": {
          "base_uri": "https://localhost:8080/"
        },
        "outputId": "32ca9375-8b81-4892-b28c-618d57cd337e"
      },
      "execution_count": null,
      "outputs": [
        {
          "output_type": "stream",
          "name": "stderr",
          "text": [
            "100%|██████████| 31262/31262 [00:00<00:00, 184216.72it/s]\n"
          ]
        }
      ]
    },
    {
      "cell_type": "markdown",
      "source": [
        "###명사 추출\n",
        "kiwi형태소분석은 다음과 같은 형태로 분석이 이루어집니다."
      ],
      "metadata": {
        "id": "ryADKwu4a35F"
      }
    },
    {
      "cell_type": "code",
      "source": [
        "kiwi.analyze('금잔디에 가면 볶음우동을 먹을 수 있어요')"
      ],
      "metadata": {
        "colab": {
          "base_uri": "https://localhost:8080/"
        },
        "id": "5-KEAXE5FB-D",
        "outputId": "2f7b7af0-9b77-4880-996e-6eb20e83de28"
      },
      "execution_count": null,
      "outputs": [
        {
          "output_type": "execute_result",
          "data": {
            "text/plain": [
              "[([Token(form='금잔디', tag='NNP', start=0, len=3),\n",
              "   Token(form='에', tag='JKB', start=3, len=1),\n",
              "   Token(form='가', tag='VV', start=5, len=1),\n",
              "   Token(form='면', tag='EC', start=6, len=1),\n",
              "   Token(form='볶음', tag='NNG', start=8, len=2),\n",
              "   Token(form='우동', tag='NNG', start=10, len=2),\n",
              "   Token(form='을', tag='JKO', start=12, len=1),\n",
              "   Token(form='먹', tag='VV', start=14, len=1),\n",
              "   Token(form='을', tag='ETM', start=15, len=1),\n",
              "   Token(form='수', tag='NNB', start=17, len=1),\n",
              "   Token(form='있', tag='VA', start=19, len=1),\n",
              "   Token(form='어요', tag='EF', start=20, len=2)],\n",
              "  -69.1999282836914)]"
            ]
          },
          "metadata": {},
          "execution_count": 7
        }
      ]
    },
    {
      "cell_type": "markdown",
      "source": [
        "kiwi는 명사 추출 기능이 존재하지 않기 때문에 사용자함수를 정의해 주었습니다. 명사와 고유명사를 추출합니다."
      ],
      "metadata": {
        "id": "Um7cYRFDaNPw"
      }
    },
    {
      "cell_type": "code",
      "source": [
        " #명사 추출 함수 (kiwi 0.10.0)\n",
        " def get_noun(texts):\n",
        "    res = kiwi.analyze(texts)[0][0]\n",
        "    return [Token[0]\n",
        "            for Token in res\n",
        "            if Token[1]=='NNG' or Token[1]=='NNP']\n",
        "\n",
        "#함수 동작 체크\n",
        "get_noun('금잔디에 가면 볶음우동을 먹을 수 있어요')"
      ],
      "metadata": {
        "id": "3_MYZiKEsZR9",
        "colab": {
          "base_uri": "https://localhost:8080/"
        },
        "outputId": "2504105c-2461-48c8-c74f-a38e6dd32ad9"
      },
      "execution_count": null,
      "outputs": [
        {
          "output_type": "execute_result",
          "data": {
            "text/plain": [
              "['금잔디', '볶음', '우동']"
            ]
          },
          "metadata": {},
          "execution_count": 6
        }
      ]
    },
    {
      "cell_type": "markdown",
      "source": [
        "**부가설명**\n",
        "\n",
        "Kiwi는 `List[Tuple[List[Tuple[형태소, 품사태그, 시작위치, 문자열길이]], 분석 점수]]` 형태로 분석 결과를 출력합니다.\n",
        "\n",
        "맨 바깥 리스트에서 res라는 변수를 생성하고(Line 2), 이를 활용하여 품사 태그가 NNG(명사) 혹은 NNP(고유명사)인 형태소만을\n",
        "리스트 형태로 반환합니다(Line 3~5).\n",
        "\n",
        "참고로 Kiwi의 품사 태그는 Sejong의 것과 동일합니다."
      ],
      "metadata": {
        "id": "oKZumGiza8WY"
      }
    },
    {
      "cell_type": "code",
      "source": [
        "# 최초 형태소 분석★\n",
        "# 전처리 후 다시 형태소분석을 진행할 때도 이 셀을 실행해주세요.\n",
        "news_all['nouns'] = news_all['maintext'].progress_map(lambda x:get_noun(x))"
      ],
      "metadata": {
        "id": "m9FvCasGbcRf",
        "colab": {
          "base_uri": "https://localhost:8080/"
        },
        "outputId": "38fae24a-8264-48a3-8b57-5562ca5ef94f"
      },
      "execution_count": null,
      "outputs": [
        {
          "output_type": "stream",
          "name": "stderr",
          "text": [
            "100%|██████████| 31262/31262 [03:35<00:00, 145.13it/s]\n"
          ]
        }
      ]
    },
    {
      "cell_type": "code",
      "source": [
        "#결과 확인\n",
        "news_all.head()"
      ],
      "metadata": {
        "colab": {
          "base_uri": "https://localhost:8080/",
          "height": 206
        },
        "id": "9XhL-Tlnc9dp",
        "outputId": "833ea915-5f04-4ba2-c87d-a7d0f71ff648"
      },
      "execution_count": null,
      "outputs": [
        {
          "output_type": "execute_result",
          "data": {
            "text/plain": [
              "             id      date press  \\\n",
              "0  1.100401e+06  20170509  동아일보   \n",
              "1  1.101101e+06  20170508  한국일보   \n",
              "2  1.100101e+06  20170508  경향신문   \n",
              "3  1.100101e+06  20170508  경향신문   \n",
              "4  1.101001e+06  20170508   한겨레   \n",
              "\n",
              "                                            maintext      date1 year-month  \\\n",
              "0  석탄발전 퇴출과 원자력발전소 축소, 재생에너지 확대는 대선 후보 대부분의 에너지 정... 2017-05-09    2017-05   \n",
              "1  도널드 트럼프 미국 행정부 요청으로 중국이 대북 압박을 강화하는 것으로 알려졌지만,... 2017-05-08    2017-05   \n",
              "2  ■마지막 한마디\\n\\n“저 문재인에게 당면한 나라의 위기를 극복할 힘을 주십시오. ... 2017-05-08    2017-05   \n",
              "3  ■마지막 한마디\\n\\n“많은 분들이 유승민 참 좋은데 찍으면 사표 될까봐 걱정하십니... 2017-05-08    2017-05   \n",
              "4  주요 5개 정당 대선 후보들이 대통령에 당선되면 지방분권에 관심을 갖고 헌법 개정 ... 2017-05-08    2017-05   \n",
              "\n",
              "                                               nouns  \n",
              "0  [석탄, 발전, 퇴출, 원자력발전소, 축소, 재생에너지, 확대, 대선, 후보, 대부...  \n",
              "1  [도널드, 트럼프, 미국, 행정부, 요청, 중국, 대북, 압박, 강화, 중국, 국영...  \n",
              "2  [마지막, 한마디, 문재인, 당면, 나라, 위기, 극복, 힘, 개혁, 통합, 흐름,...  \n",
              "3  [마지막, 한마디, 유승민, 사표, 걱정, 소신, 양심, 후보, 표, 사표, 소신,...  \n",
              "4  [주요, 정당, 대선, 후보, 대통령, 당선, 지방, 분권, 관심, 헌법, 개정, ...  "
            ],
            "text/html": [
              "\n",
              "  <div id=\"df-5ff962aa-c32b-4d56-a582-b3468f20f62e\">\n",
              "    <div class=\"colab-df-container\">\n",
              "      <div>\n",
              "<style scoped>\n",
              "    .dataframe tbody tr th:only-of-type {\n",
              "        vertical-align: middle;\n",
              "    }\n",
              "\n",
              "    .dataframe tbody tr th {\n",
              "        vertical-align: top;\n",
              "    }\n",
              "\n",
              "    .dataframe thead th {\n",
              "        text-align: right;\n",
              "    }\n",
              "</style>\n",
              "<table border=\"1\" class=\"dataframe\">\n",
              "  <thead>\n",
              "    <tr style=\"text-align: right;\">\n",
              "      <th></th>\n",
              "      <th>id</th>\n",
              "      <th>date</th>\n",
              "      <th>press</th>\n",
              "      <th>maintext</th>\n",
              "      <th>date1</th>\n",
              "      <th>year-month</th>\n",
              "      <th>nouns</th>\n",
              "    </tr>\n",
              "  </thead>\n",
              "  <tbody>\n",
              "    <tr>\n",
              "      <th>0</th>\n",
              "      <td>1.100401e+06</td>\n",
              "      <td>20170509</td>\n",
              "      <td>동아일보</td>\n",
              "      <td>석탄발전 퇴출과 원자력발전소 축소, 재생에너지 확대는 대선 후보 대부분의 에너지 정...</td>\n",
              "      <td>2017-05-09</td>\n",
              "      <td>2017-05</td>\n",
              "      <td>[석탄, 발전, 퇴출, 원자력발전소, 축소, 재생에너지, 확대, 대선, 후보, 대부...</td>\n",
              "    </tr>\n",
              "    <tr>\n",
              "      <th>1</th>\n",
              "      <td>1.101101e+06</td>\n",
              "      <td>20170508</td>\n",
              "      <td>한국일보</td>\n",
              "      <td>도널드 트럼프 미국 행정부 요청으로 중국이 대북 압박을 강화하는 것으로 알려졌지만,...</td>\n",
              "      <td>2017-05-08</td>\n",
              "      <td>2017-05</td>\n",
              "      <td>[도널드, 트럼프, 미국, 행정부, 요청, 중국, 대북, 압박, 강화, 중국, 국영...</td>\n",
              "    </tr>\n",
              "    <tr>\n",
              "      <th>2</th>\n",
              "      <td>1.100101e+06</td>\n",
              "      <td>20170508</td>\n",
              "      <td>경향신문</td>\n",
              "      <td>■마지막 한마디\\n\\n“저 문재인에게 당면한 나라의 위기를 극복할 힘을 주십시오. ...</td>\n",
              "      <td>2017-05-08</td>\n",
              "      <td>2017-05</td>\n",
              "      <td>[마지막, 한마디, 문재인, 당면, 나라, 위기, 극복, 힘, 개혁, 통합, 흐름,...</td>\n",
              "    </tr>\n",
              "    <tr>\n",
              "      <th>3</th>\n",
              "      <td>1.100101e+06</td>\n",
              "      <td>20170508</td>\n",
              "      <td>경향신문</td>\n",
              "      <td>■마지막 한마디\\n\\n“많은 분들이 유승민 참 좋은데 찍으면 사표 될까봐 걱정하십니...</td>\n",
              "      <td>2017-05-08</td>\n",
              "      <td>2017-05</td>\n",
              "      <td>[마지막, 한마디, 유승민, 사표, 걱정, 소신, 양심, 후보, 표, 사표, 소신,...</td>\n",
              "    </tr>\n",
              "    <tr>\n",
              "      <th>4</th>\n",
              "      <td>1.101001e+06</td>\n",
              "      <td>20170508</td>\n",
              "      <td>한겨레</td>\n",
              "      <td>주요 5개 정당 대선 후보들이 대통령에 당선되면 지방분권에 관심을 갖고 헌법 개정 ...</td>\n",
              "      <td>2017-05-08</td>\n",
              "      <td>2017-05</td>\n",
              "      <td>[주요, 정당, 대선, 후보, 대통령, 당선, 지방, 분권, 관심, 헌법, 개정, ...</td>\n",
              "    </tr>\n",
              "  </tbody>\n",
              "</table>\n",
              "</div>\n",
              "      <button class=\"colab-df-convert\" onclick=\"convertToInteractive('df-5ff962aa-c32b-4d56-a582-b3468f20f62e')\"\n",
              "              title=\"Convert this dataframe to an interactive table.\"\n",
              "              style=\"display:none;\">\n",
              "        \n",
              "  <svg xmlns=\"http://www.w3.org/2000/svg\" height=\"24px\"viewBox=\"0 0 24 24\"\n",
              "       width=\"24px\">\n",
              "    <path d=\"M0 0h24v24H0V0z\" fill=\"none\"/>\n",
              "    <path d=\"M18.56 5.44l.94 2.06.94-2.06 2.06-.94-2.06-.94-.94-2.06-.94 2.06-2.06.94zm-11 1L8.5 8.5l.94-2.06 2.06-.94-2.06-.94L8.5 2.5l-.94 2.06-2.06.94zm10 10l.94 2.06.94-2.06 2.06-.94-2.06-.94-.94-2.06-.94 2.06-2.06.94z\"/><path d=\"M17.41 7.96l-1.37-1.37c-.4-.4-.92-.59-1.43-.59-.52 0-1.04.2-1.43.59L10.3 9.45l-7.72 7.72c-.78.78-.78 2.05 0 2.83L4 21.41c.39.39.9.59 1.41.59.51 0 1.02-.2 1.41-.59l7.78-7.78 2.81-2.81c.8-.78.8-2.07 0-2.86zM5.41 20L4 18.59l7.72-7.72 1.47 1.35L5.41 20z\"/>\n",
              "  </svg>\n",
              "      </button>\n",
              "      \n",
              "  <style>\n",
              "    .colab-df-container {\n",
              "      display:flex;\n",
              "      flex-wrap:wrap;\n",
              "      gap: 12px;\n",
              "    }\n",
              "\n",
              "    .colab-df-convert {\n",
              "      background-color: #E8F0FE;\n",
              "      border: none;\n",
              "      border-radius: 50%;\n",
              "      cursor: pointer;\n",
              "      display: none;\n",
              "      fill: #1967D2;\n",
              "      height: 32px;\n",
              "      padding: 0 0 0 0;\n",
              "      width: 32px;\n",
              "    }\n",
              "\n",
              "    .colab-df-convert:hover {\n",
              "      background-color: #E2EBFA;\n",
              "      box-shadow: 0px 1px 2px rgba(60, 64, 67, 0.3), 0px 1px 3px 1px rgba(60, 64, 67, 0.15);\n",
              "      fill: #174EA6;\n",
              "    }\n",
              "\n",
              "    [theme=dark] .colab-df-convert {\n",
              "      background-color: #3B4455;\n",
              "      fill: #D2E3FC;\n",
              "    }\n",
              "\n",
              "    [theme=dark] .colab-df-convert:hover {\n",
              "      background-color: #434B5C;\n",
              "      box-shadow: 0px 1px 3px 1px rgba(0, 0, 0, 0.15);\n",
              "      filter: drop-shadow(0px 1px 2px rgba(0, 0, 0, 0.3));\n",
              "      fill: #FFFFFF;\n",
              "    }\n",
              "  </style>\n",
              "\n",
              "      <script>\n",
              "        const buttonEl =\n",
              "          document.querySelector('#df-5ff962aa-c32b-4d56-a582-b3468f20f62e button.colab-df-convert');\n",
              "        buttonEl.style.display =\n",
              "          google.colab.kernel.accessAllowed ? 'block' : 'none';\n",
              "\n",
              "        async function convertToInteractive(key) {\n",
              "          const element = document.querySelector('#df-5ff962aa-c32b-4d56-a582-b3468f20f62e');\n",
              "          const dataTable =\n",
              "            await google.colab.kernel.invokeFunction('convertToInteractive',\n",
              "                                                     [key], {});\n",
              "          if (!dataTable) return;\n",
              "\n",
              "          const docLinkHtml = 'Like what you see? Visit the ' +\n",
              "            '<a target=\"_blank\" href=https://colab.research.google.com/notebooks/data_table.ipynb>data table notebook</a>'\n",
              "            + ' to learn more about interactive tables.';\n",
              "          element.innerHTML = '';\n",
              "          dataTable['output_type'] = 'display_data';\n",
              "          await google.colab.output.renderOutput(dataTable, element);\n",
              "          const docLink = document.createElement('div');\n",
              "          docLink.innerHTML = docLinkHtml;\n",
              "          element.appendChild(docLink);\n",
              "        }\n",
              "      </script>\n",
              "    </div>\n",
              "  </div>\n",
              "  "
            ]
          },
          "metadata": {},
          "execution_count": 15
        }
      ]
    },
    {
      "cell_type": "code",
      "source": [
        "news_all['nouns']"
      ],
      "metadata": {
        "colab": {
          "base_uri": "https://localhost:8080/"
        },
        "id": "ET3pjQtNXT3h",
        "outputId": "06425bdf-dc56-4df8-d75d-0e58a9134bde"
      },
      "execution_count": null,
      "outputs": [
        {
          "output_type": "execute_result",
          "data": {
            "text/plain": [
              "0        [석탄, 발전, 퇴출, 원전, 축소, 재생, 에너지, 확대, 대선, 후보, 대부분,...\n",
              "1        [도널드, 트럼프, 미국, 행정부, 요청, 중국, 대북, 압박, 강화, 중국, 국영...\n",
              "2        [마지막, 한마디, 문재인, 당면, 나라, 위기, 극복, 힘, 개혁, 통합, 흐름,...\n",
              "3        [마지막, 한마디, 유승민, 사표, 걱정, 소신, 양심, 후보, 표, 사표, 소신,...\n",
              "4        [주요, 정당, 대선, 후보, 대통령, 당선, 지방, 분권, 관심, 헌법, 개정, ...\n",
              "                               ...                        \n",
              "31257    [한국전력, 본사, 커뮤니케이션, 실, 언론, 홍보, 팀장, 허태헌, 감사실, 일상...\n",
              "31258    [방사선, 물질, 원전, 피폭, 발암, 유전자, 변형, 부정, 이미지, 유익, 사용...\n",
              "31259    [정책, 탈, 정책, 부작용, 정책, 이해관계자, 사이, 이익, 충돌, 점, 대선,...\n",
              "31260    [울산, 유치, 타당성, 최종, 보고회, 원전, 해체, 기술, 워크숍, 지용기, 박...\n",
              "31261    [항간, 문재인, 청구서, 말, 최저, 임금, 파동, 다음, 건강, 보험료, 전기,...\n",
              "Name: nouns, Length: 31262, dtype: object"
            ]
          },
          "metadata": {},
          "execution_count": 30
        }
      ]
    },
    {
      "cell_type": "markdown",
      "source": [
        "## 텍스트 전처리 반복\n",
        "다음 과정을 **아주 많이** 반복합니다:\n",
        "\n",
        "1. 일부 아이템을 랜덤하게 추출하여 확인\n",
        "\n",
        "2. 정규화\n",
        "\n",
        "3. 커스텀 사전 추가\n",
        "\n",
        "4. 불용어 제거\n",
        "\n",
        "5. 다시 형태소분석"
      ],
      "metadata": {
        "id": "ukevRzN-cDL5"
      }
    },
    {
      "cell_type": "markdown",
      "source": [
        "**기사 랜덤추출**"
      ],
      "metadata": {
        "id": "ilQiZacQcrHY"
      }
    },
    {
      "cell_type": "code",
      "source": [
        "#카운터 리셋\n",
        "counter=0"
      ],
      "metadata": {
        "id": "5CP-gIDOacbn"
      },
      "execution_count": null,
      "outputs": []
    },
    {
      "cell_type": "code",
      "source": [
        "i = random.randint(0, 13484) #랜덤 아티클 인덱스_진주\n",
        "#i = random.randint(13484, 26968)) #랜덤 아티클 인덱스_이훈\n",
        "#i = random.randint(26968, len(news_all)) #랜덤 아티클 인덱스_석호\n",
        "print(\"article {}\".format(i)) #인덱스 번호\n",
        "print(news_all.iloc[i][['maintext','nouns']].values[0]) #기사 본문\n",
        "print(news_all.iloc[i][['maintext','nouns']].values[1]) #생성된 토큰\n",
        "counter+=1\n",
        "print('counter:{}'.format(counter))"
      ],
      "metadata": {
        "id": "4oFwAtnwadtX"
      },
      "execution_count": null,
      "outputs": []
    },
    {
      "cell_type": "markdown",
      "source": [
        "**커스텀 사전 추가**\n",
        "* 고유명사나 신조어, 한 단어로 묶여야 할 단어를 명사로 추가 지정하여 올바르게 명사로 분류될 수 있도록 해 줘야 함\n",
        "* 그 외 형태소분석이 이상하게 되는 단어도 수동으로 지정해 주면 좋음"
      ],
      "metadata": {
        "id": "YCY4zuvIahP5"
      }
    },
    {
      "cell_type": "code",
      "source": [
        "#커스텀 사전★\n",
        "word_list=['가능성','가상발전소','가스공사','가쓰노부','가짜뉴스','가처분','간나오토','간사','간사이전력','감사보고서','감사위원회','감천항','감포관광단지','갑상선암','강원개발공사','강정민',\\\n",
        "           '개인정보범죄합동수사단','갱도굴착기','검사징계위원회','검찰총장','게이츠노츠','경범죄처벌법,' '경제산업위원회','경제성','경제수석','경주환경운동연합','경진대회','계속운전',\\\n",
        "           '계획예산관실','계획예산총괄담당관','고공행진','고리','고리원자력본부','고리원전','고위공직자범죄수사처','고인곤','고전역주사업','고준위','고준위방사성폐기물','공극','공급사','공동성명',\\\n",
        "           '공동입장문','공상과학','공시가격','공직자윤리법','과거사정리위원회','과기계','과학기술정보방송통신위원회','과학기술정보통신부','관리부문장','광역자치단체','광인전략','구로다고키','구윤철',\\\n",
        "           '구입전력비','국가기후환경회의','국가보안위원회','국가수반','국가에너지기본계획','국가에너지위원회','국무조정실장','국무회의','국민의당','국민의힘','국민인식조사','국방정책실','국사편찬위원장',\\\n",
        "           '국정감사','국제외교안보팀','국제원자력위원회','국제정책대학원','국토교통부','국토안전관리원','국회의원','규제혁파로드맵','기술협력국장','기자회견','기타무라시게루','기획재정부','기획조정실'\\\n",
        "           '김강립','김관진','김균섭','김기춘','김병구','김신숙','김오수','김욱준','김종신','김회평','나그라','나노구조','나병훈','나아일반산업단지','나자르바예프','남북정상회담','노익상','노정환',\\\n",
        "           '다나카순이치','다쓰노긴고','다카하마','다핵종제거설비','단피몽두','당미디어언론상생TF','당상','당정협의','당진에코','대검찰청','대북정책특별대표','대표이사','더불어시민당','던바',\\\n",
        "           '도엘원전','도카이원전','도쿄올림픽','도쿄하계올림픽','동북아평화협력구상','동일본대지진','디젤발전기','로빈던바','리빌딩','릴레이올림픽','마이삭','메종글래드','모두발언',\\\n",
        "           '모하메드빈다이드알나흐얀','무소속','물관리위','미래먹거리','미래통합당','미세먼지','미세먼지','미학원전시리즈','민관합동','민정수석','바이오','박동일','박준수', '관리후생과장','반히데유키',\\\n",
        "           '반역죄','반핵','반핵부산시민대책위원회','방사선보건연구원','방사선보건원','방사성','방사성폐기물','방폐물','방폐장민간환경감시기구','방화댐퍼','백지화','법무부','법무실장','법제사법위원회',\\\n",
        "           '베이징동계올림픽','보건복지부','보궐선거','복심','부산반핵영화제','북한이탈주민정착지원사무소','북한인권기록센터','불구속','불합리','비상대책위원장','비세그라드','비수도권','빌게이츠','빙판길',\\\n",
        "           '사법농단','사법연수원','사쓰마센다이','사용후핵연료관리정책재검토위원회','사용후핵연료','사용후핵연료공론화위원회','사위지기자사','산업발전포럼','산업부',\\\n",
        "           '산업통상자원부','산업통상자원위원회','산업통상자원중소벤처기업위원회','삼덕회계법인','삼척화력','새누리당','샌드박스','서울시장','서한교','석유화학','석유화학산업단지','석좌교수','석탄발전소',\\\n",
        "           '석탄화력발전소','선거대책위원회','성김','성명문','성접대','세계원전사업자협회','세슘나노흡착제','세월호','센다이원전','셀프디스','셰이크칼리파','소득주도성장론','손해배상','송전선로',\\\n",
        "           '숀패트릭','수도권','수소시범도시','수소차','슬라보이지제크','시민위원회','시정역량','시진핑','시험성적서','식품의약품안전처','신고리','신고리원전','신문방송학과','신산업','신월성','신월성원전',\\\n",
        "           '신재생에너지','신치초','신한울','신한울원전','싱크홀','쓰카모토야스시','아베','안전성','알펜시아','압수수색','액화천연가스','야마기시아키히호','양산체계','양해각서','엄재식',\\\n",
        "           '에너지분권','에너지프로슈머','에너지기본계획','에너지자원실장','에너지전환','엘리자베스2세','여야정상설협의체','연료비연동제','열수력','염규진','영구처분시설','영업손실','영업외비용',\\\n",
        "           '영업이익','예비율','예산결산특별위원회','오나가와','오노마사유키','오염수','오이','오이원전','오체투지','왕이','외교통상부','요시아키','운영변경안','운영변경허가안','원내대표','원자력규제위원회',\\\n",
        "           '원자력발전소','원자력방재담','원자력시설해체기술종합연구센터','원자력안전위원','원자력안전위원장','원자력안전위원회','원자력양자공학과','원자력진흥법','원자력진흥위원회',\\\n",
        "           '원자력해체기술종합연구센터','원전게이트','원전반대그룹','원전산업정책과','원전산업정책과장','원전해체청','원전현장','월성1호기','월성원자력본부','월성원전','웨이보','위파','유동준',\\\n",
        "           '유지인트','유튜버','윤석헌','윤종진','윤핵관','이계황','이바라키현','이와시','이완구','이완근','이용률','이은철','이장섭','이적행위','이정택','이청구','이케다가쓰히코','인공태양',\\\n",
        "           '인도적지원','인력양성원','인플루언서','일본경제침략대책특별위원회','임명방','자동차산업발전포럼','자동차산업연합회','자원산업정책관','자유무역협정','자유한국당','자유한국당', '자존가',\\\n",
        "           '장기정비계약','재난지원금','재생에너지','재정개혁보고서','재정개혁특별위원회','저유가','전기사업법','전기요금','전기요금체계','전기차','전남도해양수산과학원','전달력','전력계통','전력구입비',\\\n",
        "           '전력산업기반기금','전력수급기본계획','전력시장담당','전력자원관리실','전력정채관실','전력정책과장','전원개발사업추진위원회','정무수석','정병선','정분희','정상사고','정상회담','정재훈',\\\n",
        "           '정책기획위원회','정책조정수석','정치군인','제염','제이에스','제주특별자치도지사','젠틸리','조기폐쇄','조만대장경','조사과장','조석','주거침입','주기기','주낙영','주영준','주한규',\\\n",
        "           '중국철도건설공사','중대재해','중유','즉시해체','증핵','지구온난화','지방자치단체','지방자치박람회','지소미아','집단면역','징계위원회','쯔엉떤상','찰페로','채희봉','처리수','천지원전',\\\n",
        "           '총괄분과위원회','최고위원','최고위원회의','친문','친환경차','카쿠슈인대','코엔바이오','타당성','탄소중립','탄핵소추안','탈석탄','탈원전','탈핵법률가모임','부롱','투표지분류기',\\\n",
        "           '트레이딩이코노믹스','특별공제','티한지','파이브아이즈','팔래스','패스트트랙','평가조작','평창동계올림픽','품질분임조','하기비스','하라다요시아키','하이선','한국리서치','한국전력',\\\n",
        "           '한국산업연합포럼','한국원자력산업회의','한국원전수출산업협회','한국태양광산업협회','한빛','한빛원자력본부','한빛원전','한울','한울원자력본부','한울원전','한전공대','합동작전',\\\n",
        "           '해상풍력단지','해양방류','해체기술연구부','해체기술원','핵발전소','핵안보정상회의','핵확산금지조약','행정구역','허일후','혁신원자력연구단지','형사법','형사부장','홍남기',\\\n",
        "           '환경방사선','황교안','회담지원과장','후생노동성','후쿠시마제1원전','후타바마치']"
      ],
      "metadata": {
        "id": "KCruzFIrde2-"
      },
      "execution_count": null,
      "outputs": []
    },
    {
      "cell_type": "code",
      "source": [
        "#커스텀 사전 리스트를 dataframe형태로 변환\n",
        "custom_dict = pd.DataFrame({\"word\":word_list})\n",
        "\n",
        "#품사태그는 고유명사로 지정\n",
        "custom_dict['morp']=\"NNP\"\n",
        "\n",
        "#Kiwi는 우선순위를 부여하기 위해 score개념이 존재합니다. 커스텀 단어를 우선 활용하기 위해 score값에 1을 부여.\n",
        "custom_dict['score']=1\n",
        "\n",
        "#데이터 확인\n",
        "custom_dict.head()"
      ],
      "metadata": {
        "id": "5I5HTt4YfCqJ",
        "colab": {
          "base_uri": "https://localhost:8080/",
          "height": 206
        },
        "outputId": "da6bce12-0dd8-43ae-88b3-d3de51b88795"
      },
      "execution_count": null,
      "outputs": [
        {
          "output_type": "execute_result",
          "data": {
            "text/plain": [
              "    word morp  score\n",
              "0    가능성  NNP      1\n",
              "1  가상발전소  NNP      1\n",
              "2   가스공사  NNP      1\n",
              "3   가쓰노부  NNP      1\n",
              "4   가짜뉴스  NNP      1"
            ],
            "text/html": [
              "\n",
              "  <div id=\"df-e352fa40-1305-4209-9848-f055b583f334\">\n",
              "    <div class=\"colab-df-container\">\n",
              "      <div>\n",
              "<style scoped>\n",
              "    .dataframe tbody tr th:only-of-type {\n",
              "        vertical-align: middle;\n",
              "    }\n",
              "\n",
              "    .dataframe tbody tr th {\n",
              "        vertical-align: top;\n",
              "    }\n",
              "\n",
              "    .dataframe thead th {\n",
              "        text-align: right;\n",
              "    }\n",
              "</style>\n",
              "<table border=\"1\" class=\"dataframe\">\n",
              "  <thead>\n",
              "    <tr style=\"text-align: right;\">\n",
              "      <th></th>\n",
              "      <th>word</th>\n",
              "      <th>morp</th>\n",
              "      <th>score</th>\n",
              "    </tr>\n",
              "  </thead>\n",
              "  <tbody>\n",
              "    <tr>\n",
              "      <th>0</th>\n",
              "      <td>가능성</td>\n",
              "      <td>NNP</td>\n",
              "      <td>1</td>\n",
              "    </tr>\n",
              "    <tr>\n",
              "      <th>1</th>\n",
              "      <td>가상발전소</td>\n",
              "      <td>NNP</td>\n",
              "      <td>1</td>\n",
              "    </tr>\n",
              "    <tr>\n",
              "      <th>2</th>\n",
              "      <td>가스공사</td>\n",
              "      <td>NNP</td>\n",
              "      <td>1</td>\n",
              "    </tr>\n",
              "    <tr>\n",
              "      <th>3</th>\n",
              "      <td>가쓰노부</td>\n",
              "      <td>NNP</td>\n",
              "      <td>1</td>\n",
              "    </tr>\n",
              "    <tr>\n",
              "      <th>4</th>\n",
              "      <td>가짜뉴스</td>\n",
              "      <td>NNP</td>\n",
              "      <td>1</td>\n",
              "    </tr>\n",
              "  </tbody>\n",
              "</table>\n",
              "</div>\n",
              "      <button class=\"colab-df-convert\" onclick=\"convertToInteractive('df-e352fa40-1305-4209-9848-f055b583f334')\"\n",
              "              title=\"Convert this dataframe to an interactive table.\"\n",
              "              style=\"display:none;\">\n",
              "        \n",
              "  <svg xmlns=\"http://www.w3.org/2000/svg\" height=\"24px\"viewBox=\"0 0 24 24\"\n",
              "       width=\"24px\">\n",
              "    <path d=\"M0 0h24v24H0V0z\" fill=\"none\"/>\n",
              "    <path d=\"M18.56 5.44l.94 2.06.94-2.06 2.06-.94-2.06-.94-.94-2.06-.94 2.06-2.06.94zm-11 1L8.5 8.5l.94-2.06 2.06-.94-2.06-.94L8.5 2.5l-.94 2.06-2.06.94zm10 10l.94 2.06.94-2.06 2.06-.94-2.06-.94-.94-2.06-.94 2.06-2.06.94z\"/><path d=\"M17.41 7.96l-1.37-1.37c-.4-.4-.92-.59-1.43-.59-.52 0-1.04.2-1.43.59L10.3 9.45l-7.72 7.72c-.78.78-.78 2.05 0 2.83L4 21.41c.39.39.9.59 1.41.59.51 0 1.02-.2 1.41-.59l7.78-7.78 2.81-2.81c.8-.78.8-2.07 0-2.86zM5.41 20L4 18.59l7.72-7.72 1.47 1.35L5.41 20z\"/>\n",
              "  </svg>\n",
              "      </button>\n",
              "      \n",
              "  <style>\n",
              "    .colab-df-container {\n",
              "      display:flex;\n",
              "      flex-wrap:wrap;\n",
              "      gap: 12px;\n",
              "    }\n",
              "\n",
              "    .colab-df-convert {\n",
              "      background-color: #E8F0FE;\n",
              "      border: none;\n",
              "      border-radius: 50%;\n",
              "      cursor: pointer;\n",
              "      display: none;\n",
              "      fill: #1967D2;\n",
              "      height: 32px;\n",
              "      padding: 0 0 0 0;\n",
              "      width: 32px;\n",
              "    }\n",
              "\n",
              "    .colab-df-convert:hover {\n",
              "      background-color: #E2EBFA;\n",
              "      box-shadow: 0px 1px 2px rgba(60, 64, 67, 0.3), 0px 1px 3px 1px rgba(60, 64, 67, 0.15);\n",
              "      fill: #174EA6;\n",
              "    }\n",
              "\n",
              "    [theme=dark] .colab-df-convert {\n",
              "      background-color: #3B4455;\n",
              "      fill: #D2E3FC;\n",
              "    }\n",
              "\n",
              "    [theme=dark] .colab-df-convert:hover {\n",
              "      background-color: #434B5C;\n",
              "      box-shadow: 0px 1px 3px 1px rgba(0, 0, 0, 0.15);\n",
              "      filter: drop-shadow(0px 1px 2px rgba(0, 0, 0, 0.3));\n",
              "      fill: #FFFFFF;\n",
              "    }\n",
              "  </style>\n",
              "\n",
              "      <script>\n",
              "        const buttonEl =\n",
              "          document.querySelector('#df-e352fa40-1305-4209-9848-f055b583f334 button.colab-df-convert');\n",
              "        buttonEl.style.display =\n",
              "          google.colab.kernel.accessAllowed ? 'block' : 'none';\n",
              "\n",
              "        async function convertToInteractive(key) {\n",
              "          const element = document.querySelector('#df-e352fa40-1305-4209-9848-f055b583f334');\n",
              "          const dataTable =\n",
              "            await google.colab.kernel.invokeFunction('convertToInteractive',\n",
              "                                                     [key], {});\n",
              "          if (!dataTable) return;\n",
              "\n",
              "          const docLinkHtml = 'Like what you see? Visit the ' +\n",
              "            '<a target=\"_blank\" href=https://colab.research.google.com/notebooks/data_table.ipynb>data table notebook</a>'\n",
              "            + ' to learn more about interactive tables.';\n",
              "          element.innerHTML = '';\n",
              "          dataTable['output_type'] = 'display_data';\n",
              "          await google.colab.output.renderOutput(dataTable, element);\n",
              "          const docLink = document.createElement('div');\n",
              "          docLink.innerHTML = docLinkHtml;\n",
              "          element.appendChild(docLink);\n",
              "        }\n",
              "      </script>\n",
              "    </div>\n",
              "  </div>\n",
              "  "
            ]
          },
          "metadata": {},
          "execution_count": 8
        }
      ]
    },
    {
      "cell_type": "code",
      "source": [
        "#커스텀 사전을 csv로 저장하고 불러옴★\n",
        "custom_dict.to_csv(\"/content/drive/MyDrive/dscvr_g3/custom_dict.txt\", index=False, header=False, sep=\"\\t\",encoding='UTF-8')\n",
        "\n",
        "#kiwi의 load_user_dictionary는 커스텀 사전을 변경할 경우 업데이트된 단어의 수를 반환해 줍니다.\n",
        "kiwi.load_user_dictionary('/content/drive/MyDrive/dscvr_g3/custom_dict.txt')"
      ],
      "metadata": {
        "id": "Tdwv8KqxfHQR"
      },
      "execution_count": null,
      "outputs": []
    },
    {
      "cell_type": "markdown",
      "source": [
        "**단어 정규화**\n",
        "* 정규화: 동일한 표현을 다르게 쓴 것을 모두 통일해주는 것\n",
        "\n",
        "영어 약자, 유행병 이름, 사람 이름, 한자 및 영어 표현 등 수작업으로 교체하여 분류 정확도 높이기"
      ],
      "metadata": {
        "id": "5A2zM-Cic60O"
      }
    },
    {
      "cell_type": "code",
      "source": [
        "#임시 셀\n",
        "#text_to_replace='‘123협정’:‘한미 원자력협정’,‘감사위’:’감사위원회’,‘고리’:’고리원전,‘고검’:’고등검찰’‘고법’:’고등법원’,‘공수처’:’고위공직자범죄수사처’,‘과기정통부’:’과학기술정보통신부’,‘과방위’:’과학기술정보방송통신위원회’,‘국토부’:’국토교통부,‘국편’:’국사편찬위원회’,‘국힘’:’국민의힘’,‘개인정보범죄 정부합동수사단’: ‘개인정보범죄정부합동수사단’,‘기재부’:’기획재정부’,‘대검’:’대검찰청’,‘대법’:’대법원’,‘대사’:’외교관’,‘도카이제2원전’:‘도카이원전’,‘리스크’:’위험 요인’,‘모럴 해저드’:‘도덕적 해이’,‘방폐물’:‘방사성폐기물’, ‘방사성 폐기물’:‘방사성폐기물’, ‘박 대통령’:‘박근혜 대통령’,‘산업부’:’산업통상자원부’,‘시민당’:’더불어시민당’,‘시 주석’:‘시진핑 국가주석’, ‘사용후 핵연료’:‘사용후핵연료’,‘산업자원통상부’: ‘산업통상자원부’,‘식약처’:’식품의약품안전처’‘신고리’:‘신고리원전’, ‘신한울’:‘신한울원전’,‘여수산단’:’여수국가산업단지’,‘영구저장시설’: ‘영구처분시설’,‘산업부’:‘산업통상자원부’,‘산자위’:’산업통상자원중소벤처기업위원회’,‘안전처’: ‘국민안전처’,‘영덕 원전’:‘천지원전’, ‘영덕 원전’:‘영덕 천지원전’, ‘원안위’:‘원자력안전위원회’,‘아베 신조’: ‘아베’, ‘오이’: ‘오이원전’,‘월성본부’:’월성원자력본부’,‘원전’:‘원자력발전소’, ‘원해연’:’원자력해체기술종합연구센터’,‘원자력시설 해체기술 종합연구센터’:’원자력해체기술종합연구센터’,‘공 태양’:‘인공태양’,‘즉시 해체’:’즉시해체’,‘지법’:‘지방법원’, ‘지검’:’지방검찰청’,‘지연 해체’:’지연해체’,‘체르노빌 발전소’: ‘체르노빌 원전’,‘트리튬’:’삼중수소’,‘특위’:’특별위원회’,‘핵발전소’:‘원자력발전소’,‘한수원’:‘한국수력원자력’,  ‘한빛’:‘한빛원전’,‘한울’:‘한울원전’, ‘핵폐기물’:‘방사성폐기물’,‘IAEA’:‘국제원자력기구’,‘NRC’:’원자력규제위원회’,‘UAE’:’아랍에미리트’ ‘韓’:‘한국’,‘與’:’여당’,‘野’:’야당’,‘北’:‘북한’,‘(脫)’:’’,‘(非)’:’’,‘(正常)’:’’'\n",
        "#text_to_replace.replace(\"‘\",\"'\").replace(\"’\",\"'\")"
      ],
      "metadata": {
        "colab": {
          "base_uri": "https://localhost:8080/",
          "height": 156
        },
        "id": "VNo7H1dy-EaQ",
        "outputId": "38ce2f11-ba3d-4dba-c1e8-4d20af0bf0f6"
      },
      "execution_count": null,
      "outputs": [
        {
          "output_type": "execute_result",
          "data": {
            "text/plain": [
              "\"'123협정':'한미 원자력협정','감사위':'감사위원회','고리':'고리원전,'고검':'고등검찰''고법':'고등법원','공수처':'고위공직자범죄수사처','과기정통부':'과학기술정보통신부','과방위':'과학기술정보방송통신위원회','국토부':'국토교통부,'국편':'국사편찬위원회','국힘':'국민의힘','개인정보범죄 정부합동수사단': '개인정보범죄정부합동수사단','기재부':'기획재정부','대검':'대검찰청','대법':'대법원','대사':'외교관','도카이제2원전':'도카이원전','리스크':'위험 요인','모럴 해저드':'도덕적 해이','방폐물':'방사성폐기물', '방사성 폐기물':'방사성폐기물', '박 대통령':'박근혜 대통령','산업부':'산업통상자원부','시민당':'더불어시민당','시 주석':'시진핑 국가주석', '사용후 핵연료':'사용후핵연료','산업자원통상부': '산업통상자원부','식약처':'식품의약품안전처''신고리':'신고리원전', '신한울':'신한울원전','여수산단':'여수국가산업단지','영구저장시설': '영구처분시설','산업부':'산업통상자원부','산자위':'산업통상자원중소벤처기업위원회','안전처': '국민안전처','영덕 원전':'천지원전', '영덕 원전':'영덕 천지원전', '원안위':'원자력안전위원회','아베 신조': '아베', '오이': '오이원전','월성본부':'월성원자력본부','원전':'원자력발전소', '원해연':'원자력해체기술종합연구센터','원자력시설 해체기술 종합연구센터':'원자력해체기술종합연구센터','공 태양':'인공태양','즉시 해체':'즉시해체','지법':'지방법원', '지검':'지방검찰청','지연 해체':'지연해체','체르노빌 발전소': '체르노빌 원전','트리튬':'삼중수소','특위':'특별위원회','핵발전소':'원자력발전소','한수원':'한국수력원자력',  '한빛':'한빛원전','한울':'한울원전', '핵폐기물':'방사성폐기물','IAEA':'국제원자력기구','NRC':'원자력규제위원회','UAE':'아랍에미리트' '韓':'한국','與':'여당','野':'야당','北':'북한','(脫)':'','(非)':'','(正常)':''\""
            ],
            "application/vnd.google.colaboratory.intrinsic+json": {
              "type": "string"
            }
          },
          "metadata": {},
          "execution_count": 2
        }
      ]
    },
    {
      "cell_type": "code",
      "source": [
        "#정규화 딕셔너리 ★\n",
        "dic_standardization={'123협정':'한미 원자력협정','감사위':'감사위원회','고리':'고리원전','고검':'고등검찰','고법':'고등법원','공수처':'고위공직자범죄수사처','과기정통부':'과학기술정보통신부',\\\n",
        "                     '과방위':'과학기술정보방송통신위원회','국토부':'국토교통부','국편':'국사편찬위원회','국힘':'국민의힘','개인정보범죄 정부합동수사단': '개인정보범죄정부합동수사단',\\\n",
        "                     '기재부':'기획재정부','대검':'대검찰청','대법':'대법원','대사':'외교관','도카이제2원전':'도카이원전','리스크':'위험 요인','모럴 해저드':'도덕적 해이','방폐물':'방사성폐기물',\\\n",
        "                     '방사성 폐기물':'방사성폐기물', '박 대통령':'박근혜 대통령','산업부':'산업통상자원부','시민당':'더불어시민당','시 주석':'시진핑 국가주석', '사용후 핵연료':'사용후핵연료',\\\n",
        "                     '산업자원통상부':'산업통상자원부','식약처':'식품의약품안전처','신고리':'신고리원전', '신한울':'신한울원전','여수산단':'여수국가산업단지','영구저장시설': '영구처분시설',\\\n",
        "                     '산업부':'산업통상자원부','산자위':'산업통상자원중소벤처기업위원회','안전처': '국민안전처','영덕 원전':'천지원전', '영덕 원전':'영덕 천지원전','원안위':'원자력안전위원회',\\\n",
        "                     '아베 신조': '아베', '오이': '오이원전','월성본부':'월성원자력본부','원전':'원자력발전소', '원해연':'원자력해체기술종합연구센터',\\\n",
        "                     '원자력시설 해체기술 종합연구센터':'원자력해체기술종합연구센터','인공 태양':'인공태양','즉시 해체':'즉시해체','지법':'지방법원', '지검':'지방검찰청','지연 해체':'지연해체',\\\n",
        "                     '체르노빌 발전소': '체르노빌 원전','트리튬':'삼중수소','특위':'특별위원회','핵발전소':'원자력발전소','한수원':'한국수력원자력',  '한빛':'한빛원전','한울':'한울원전',\\\n",
        "                     '핵폐기물':'방사성폐기물','IAEA':'국제원자력기구','NRC':'원자력규제위원회','UAE':'아랍에미리트','韓':'한국','與':'여당','野':'야당','北':'북한','(脫)':'','(非)':'','(正常)':''}"
      ],
      "metadata": {
        "id": "E-DBO65Mc560"
      },
      "execution_count": null,
      "outputs": []
    },
    {
      "cell_type": "code",
      "source": [
        "#정규화 딕셔너리를 활용하여 단어 교체★\n",
        "for old, new in dic_standardization.items():\n",
        "  print(\"convert {} into {}.\".format (old, new))\n",
        "  news_all['maintext'] = news_all['maintext'].progress_map(lambda x:x.replace(old, new))"
      ],
      "metadata": {
        "id": "7yd8hehMLhmj",
        "colab": {
          "base_uri": "https://localhost:8080/"
        },
        "outputId": "1889ce5e-bfce-4fd2-f59d-5224cae08d1f"
      },
      "execution_count": null,
      "outputs": [
        {
          "output_type": "stream",
          "name": "stdout",
          "text": [
            "convert 123협정 into 한미 원자력협정.\n"
          ]
        },
        {
          "output_type": "stream",
          "name": "stderr",
          "text": [
            "100%|██████████| 31262/31262 [00:00<00:00, 569146.87it/s]\n"
          ]
        },
        {
          "output_type": "stream",
          "name": "stdout",
          "text": [
            "convert 감사위 into 감사위원회.\n"
          ]
        },
        {
          "output_type": "stream",
          "name": "stderr",
          "text": [
            "100%|██████████| 31262/31262 [00:00<00:00, 601238.64it/s]\n"
          ]
        },
        {
          "output_type": "stream",
          "name": "stdout",
          "text": [
            "convert 고리 into 고리원전.\n"
          ]
        },
        {
          "output_type": "stream",
          "name": "stderr",
          "text": [
            "100%|██████████| 31262/31262 [00:00<00:00, 554742.78it/s]\n"
          ]
        },
        {
          "output_type": "stream",
          "name": "stdout",
          "text": [
            "convert 고검 into 고등검찰.\n"
          ]
        },
        {
          "output_type": "stream",
          "name": "stderr",
          "text": [
            "100%|██████████| 31262/31262 [00:00<00:00, 506363.54it/s]\n"
          ]
        },
        {
          "output_type": "stream",
          "name": "stdout",
          "text": [
            "convert 고법 into 고등법원.\n"
          ]
        },
        {
          "output_type": "stream",
          "name": "stderr",
          "text": [
            "100%|██████████| 31262/31262 [00:00<00:00, 528186.63it/s]\n"
          ]
        },
        {
          "output_type": "stream",
          "name": "stdout",
          "text": [
            "convert 공수처 into 고위공직자범죄수사처.\n"
          ]
        },
        {
          "output_type": "stream",
          "name": "stderr",
          "text": [
            "100%|██████████| 31262/31262 [00:00<00:00, 644741.32it/s]\n"
          ]
        },
        {
          "output_type": "stream",
          "name": "stdout",
          "text": [
            "convert 과기정통부 into 과학기술정보통신부.\n"
          ]
        },
        {
          "output_type": "stream",
          "name": "stderr",
          "text": [
            "100%|██████████| 31262/31262 [00:00<00:00, 264642.32it/s]\n"
          ]
        },
        {
          "output_type": "stream",
          "name": "stdout",
          "text": [
            "convert 과방위 into 과학기술정보방송통신위원회.\n"
          ]
        },
        {
          "output_type": "stream",
          "name": "stderr",
          "text": [
            "100%|██████████| 31262/31262 [00:00<00:00, 266145.83it/s]\n"
          ]
        },
        {
          "output_type": "stream",
          "name": "stdout",
          "text": [
            "convert 국토부 into 국토교통부.\n"
          ]
        },
        {
          "output_type": "stream",
          "name": "stderr",
          "text": [
            "100%|██████████| 31262/31262 [00:00<00:00, 254488.86it/s]\n"
          ]
        },
        {
          "output_type": "stream",
          "name": "stdout",
          "text": [
            "convert 국편 into 국사편찬위원회.\n"
          ]
        },
        {
          "output_type": "stream",
          "name": "stderr",
          "text": [
            "100%|██████████| 31262/31262 [00:00<00:00, 222834.58it/s]\n"
          ]
        },
        {
          "output_type": "stream",
          "name": "stdout",
          "text": [
            "convert 국힘 into 국민의힘.\n"
          ]
        },
        {
          "output_type": "stream",
          "name": "stderr",
          "text": [
            "100%|██████████| 31262/31262 [00:00<00:00, 307334.29it/s]\n"
          ]
        },
        {
          "output_type": "stream",
          "name": "stdout",
          "text": [
            "convert 개인정보범죄 정부합동수사단 into 개인정보범죄정부합동수사단.\n"
          ]
        },
        {
          "output_type": "stream",
          "name": "stderr",
          "text": [
            "100%|██████████| 31262/31262 [00:00<00:00, 280037.70it/s]\n"
          ]
        },
        {
          "output_type": "stream",
          "name": "stdout",
          "text": [
            "convert 기재부 into 기획재정부.\n"
          ]
        },
        {
          "output_type": "stream",
          "name": "stderr",
          "text": [
            "100%|██████████| 31262/31262 [00:00<00:00, 260725.16it/s]\n"
          ]
        },
        {
          "output_type": "stream",
          "name": "stdout",
          "text": [
            "convert 대검 into 대검찰청.\n"
          ]
        },
        {
          "output_type": "stream",
          "name": "stderr",
          "text": [
            "100%|██████████| 31262/31262 [00:00<00:00, 636828.40it/s]\n"
          ]
        },
        {
          "output_type": "stream",
          "name": "stdout",
          "text": [
            "convert 대법 into 대법원.\n"
          ]
        },
        {
          "output_type": "stream",
          "name": "stderr",
          "text": [
            "100%|██████████| 31262/31262 [00:00<00:00, 553023.11it/s]\n"
          ]
        },
        {
          "output_type": "stream",
          "name": "stdout",
          "text": [
            "convert 대사 into 외교관.\n"
          ]
        },
        {
          "output_type": "stream",
          "name": "stderr",
          "text": [
            "100%|██████████| 31262/31262 [00:00<00:00, 561215.25it/s]\n"
          ]
        },
        {
          "output_type": "stream",
          "name": "stdout",
          "text": [
            "convert 도카이제2원전 into 도카이원전.\n"
          ]
        },
        {
          "output_type": "stream",
          "name": "stderr",
          "text": [
            "100%|██████████| 31262/31262 [00:00<00:00, 661452.28it/s]\n"
          ]
        },
        {
          "output_type": "stream",
          "name": "stdout",
          "text": [
            "convert 리스크 into 위험 요인.\n"
          ]
        },
        {
          "output_type": "stream",
          "name": "stderr",
          "text": [
            "100%|██████████| 31262/31262 [00:00<00:00, 501117.22it/s]\n"
          ]
        },
        {
          "output_type": "stream",
          "name": "stdout",
          "text": [
            "convert 모럴 해저드 into 도덕적 해이.\n"
          ]
        },
        {
          "output_type": "stream",
          "name": "stderr",
          "text": [
            "100%|██████████| 31262/31262 [00:00<00:00, 609851.45it/s]\n"
          ]
        },
        {
          "output_type": "stream",
          "name": "stdout",
          "text": [
            "convert 방폐물 into 방사성폐기물.\n"
          ]
        },
        {
          "output_type": "stream",
          "name": "stderr",
          "text": [
            "100%|██████████| 31262/31262 [00:00<00:00, 624588.35it/s]\n"
          ]
        },
        {
          "output_type": "stream",
          "name": "stdout",
          "text": [
            "convert 방사성 폐기물 into 방사성폐기물.\n"
          ]
        },
        {
          "output_type": "stream",
          "name": "stderr",
          "text": [
            "100%|██████████| 31262/31262 [00:00<00:00, 568492.96it/s]\n"
          ]
        },
        {
          "output_type": "stream",
          "name": "stdout",
          "text": [
            "convert 박 대통령 into 박근혜 대통령.\n"
          ]
        },
        {
          "output_type": "stream",
          "name": "stderr",
          "text": [
            "100%|██████████| 31262/31262 [00:00<00:00, 546072.29it/s]\n"
          ]
        },
        {
          "output_type": "stream",
          "name": "stdout",
          "text": [
            "convert 산업부 into 산업통상자원부.\n"
          ]
        },
        {
          "output_type": "stream",
          "name": "stderr",
          "text": [
            "100%|██████████| 31262/31262 [00:00<00:00, 598918.07it/s]\n"
          ]
        },
        {
          "output_type": "stream",
          "name": "stdout",
          "text": [
            "convert 시민당 into 더불어시민당.\n"
          ]
        },
        {
          "output_type": "stream",
          "name": "stderr",
          "text": [
            "100%|██████████| 31262/31262 [00:00<00:00, 561332.98it/s]\n"
          ]
        },
        {
          "output_type": "stream",
          "name": "stdout",
          "text": [
            "convert 시 주석 into 시진핑 국가주석.\n"
          ]
        },
        {
          "output_type": "stream",
          "name": "stderr",
          "text": [
            "100%|██████████| 31262/31262 [00:00<00:00, 596588.20it/s]"
          ]
        },
        {
          "output_type": "stream",
          "name": "stdout",
          "text": [
            "convert 사용후 핵연료 into 사용후핵연료."
          ]
        },
        {
          "output_type": "stream",
          "name": "stderr",
          "text": [
            "\n"
          ]
        },
        {
          "output_type": "stream",
          "name": "stdout",
          "text": [
            "\n"
          ]
        },
        {
          "output_type": "stream",
          "name": "stderr",
          "text": [
            "100%|██████████| 31262/31262 [00:00<00:00, 554055.97it/s]\n"
          ]
        },
        {
          "output_type": "stream",
          "name": "stdout",
          "text": [
            "convert 산업자원통상부 into 산업통상자원부.\n"
          ]
        },
        {
          "output_type": "stream",
          "name": "stderr",
          "text": [
            "100%|██████████| 31262/31262 [00:00<00:00, 703189.46it/s]\n"
          ]
        },
        {
          "output_type": "stream",
          "name": "stdout",
          "text": [
            "convert 식약처 into 식품의약품안전처.\n"
          ]
        },
        {
          "output_type": "stream",
          "name": "stderr",
          "text": [
            "100%|██████████| 31262/31262 [00:00<00:00, 700234.07it/s]\n"
          ]
        },
        {
          "output_type": "stream",
          "name": "stdout",
          "text": [
            "convert 신고리 into 신고리원전.\n"
          ]
        },
        {
          "output_type": "stream",
          "name": "stderr",
          "text": [
            "100%|██████████| 31262/31262 [00:00<00:00, 633686.12it/s]\n"
          ]
        },
        {
          "output_type": "stream",
          "name": "stdout",
          "text": [
            "convert 신한울 into 신한울원전.\n"
          ]
        },
        {
          "output_type": "stream",
          "name": "stderr",
          "text": [
            "100%|██████████| 31262/31262 [00:00<00:00, 461895.14it/s]\n"
          ]
        },
        {
          "output_type": "stream",
          "name": "stdout",
          "text": [
            "convert 여수산단 into 여수국가산업단지.\n"
          ]
        },
        {
          "output_type": "stream",
          "name": "stderr",
          "text": [
            "100%|██████████| 31262/31262 [00:00<00:00, 596767.41it/s]\n"
          ]
        },
        {
          "output_type": "stream",
          "name": "stdout",
          "text": [
            "convert 영구저장시설 into 영구처분시설.\n"
          ]
        },
        {
          "output_type": "stream",
          "name": "stderr",
          "text": [
            "100%|██████████| 31262/31262 [00:00<00:00, 626875.68it/s]\n"
          ]
        },
        {
          "output_type": "stream",
          "name": "stdout",
          "text": [
            "convert 산자위 into 산업통상자원중소벤처기업위원회.\n"
          ]
        },
        {
          "output_type": "stream",
          "name": "stderr",
          "text": [
            "100%|██████████| 31262/31262 [00:00<00:00, 547771.82it/s]\n"
          ]
        },
        {
          "output_type": "stream",
          "name": "stdout",
          "text": [
            "convert 안전처 into 국민안전처.\n"
          ]
        },
        {
          "output_type": "stream",
          "name": "stderr",
          "text": [
            "100%|██████████| 31262/31262 [00:00<00:00, 583025.04it/s]\n"
          ]
        },
        {
          "output_type": "stream",
          "name": "stdout",
          "text": [
            "convert 영덕 원전 into 영덕 천지원전.\n"
          ]
        },
        {
          "output_type": "stream",
          "name": "stderr",
          "text": [
            "100%|██████████| 31262/31262 [00:00<00:00, 540416.48it/s]\n"
          ]
        },
        {
          "output_type": "stream",
          "name": "stdout",
          "text": [
            "convert 원안위 into 원자력안전위원회.\n"
          ]
        },
        {
          "output_type": "stream",
          "name": "stderr",
          "text": [
            "100%|██████████| 31262/31262 [00:00<00:00, 590862.04it/s]\n"
          ]
        },
        {
          "output_type": "stream",
          "name": "stdout",
          "text": [
            "convert 아베 신조 into 아베.\n"
          ]
        },
        {
          "output_type": "stream",
          "name": "stderr",
          "text": [
            "100%|██████████| 31262/31262 [00:00<00:00, 542249.07it/s]\n"
          ]
        },
        {
          "output_type": "stream",
          "name": "stdout",
          "text": [
            "convert 오이 into 오이원전.\n"
          ]
        },
        {
          "output_type": "stream",
          "name": "stderr",
          "text": [
            "100%|██████████| 31262/31262 [00:00<00:00, 596647.93it/s]\n"
          ]
        },
        {
          "output_type": "stream",
          "name": "stdout",
          "text": [
            "convert 월성본부 into 월성원자력본부.\n"
          ]
        },
        {
          "output_type": "stream",
          "name": "stderr",
          "text": [
            "100%|██████████| 31262/31262 [00:00<00:00, 678406.10it/s]\n"
          ]
        },
        {
          "output_type": "stream",
          "name": "stdout",
          "text": [
            "convert 원전 into 원자력발전소.\n"
          ]
        },
        {
          "output_type": "stream",
          "name": "stderr",
          "text": [
            "100%|██████████| 31262/31262 [00:00<00:00, 503543.91it/s]\n"
          ]
        },
        {
          "output_type": "stream",
          "name": "stdout",
          "text": [
            "convert 원해연 into 원자력해체기술종합연구센터.\n"
          ]
        },
        {
          "output_type": "stream",
          "name": "stderr",
          "text": [
            "100%|██████████| 31262/31262 [00:00<00:00, 541031.92it/s]\n"
          ]
        },
        {
          "output_type": "stream",
          "name": "stdout",
          "text": [
            "convert 원자력시설 해체기술 종합연구센터 into 원자력해체기술종합연구센터.\n"
          ]
        },
        {
          "output_type": "stream",
          "name": "stderr",
          "text": [
            "100%|██████████| 31262/31262 [00:00<00:00, 699009.67it/s]\n"
          ]
        },
        {
          "output_type": "stream",
          "name": "stdout",
          "text": [
            "convert 인공 태양 into 인공태양.\n"
          ]
        },
        {
          "output_type": "stream",
          "name": "stderr",
          "text": [
            "100%|██████████| 31262/31262 [00:00<00:00, 524394.94it/s]\n"
          ]
        },
        {
          "output_type": "stream",
          "name": "stdout",
          "text": [
            "convert 즉시 해체 into 즉시해체.\n"
          ]
        },
        {
          "output_type": "stream",
          "name": "stderr",
          "text": [
            "100%|██████████| 31262/31262 [00:00<00:00, 406060.86it/s]\n"
          ]
        },
        {
          "output_type": "stream",
          "name": "stdout",
          "text": [
            "convert 지법 into 지방법원.\n"
          ]
        },
        {
          "output_type": "stream",
          "name": "stderr",
          "text": [
            "100%|██████████| 31262/31262 [00:00<00:00, 598488.89it/s]\n"
          ]
        },
        {
          "output_type": "stream",
          "name": "stdout",
          "text": [
            "convert 지검 into 지방검찰청.\n"
          ]
        },
        {
          "output_type": "stream",
          "name": "stderr",
          "text": [
            "100%|██████████| 31262/31262 [00:00<00:00, 637537.47it/s]\n"
          ]
        },
        {
          "output_type": "stream",
          "name": "stdout",
          "text": [
            "convert 지연 해체 into 지연해체.\n"
          ]
        },
        {
          "output_type": "stream",
          "name": "stderr",
          "text": [
            "100%|██████████| 31262/31262 [00:00<00:00, 562544.33it/s]\n"
          ]
        },
        {
          "output_type": "stream",
          "name": "stdout",
          "text": [
            "convert 체르노빌 발전소 into 체르노빌 원전.\n"
          ]
        },
        {
          "output_type": "stream",
          "name": "stderr",
          "text": [
            "100%|██████████| 31262/31262 [00:00<00:00, 639137.88it/s]\n"
          ]
        },
        {
          "output_type": "stream",
          "name": "stdout",
          "text": [
            "convert 트리튬 into 삼중수소.\n"
          ]
        },
        {
          "output_type": "stream",
          "name": "stderr",
          "text": [
            "100%|██████████| 31262/31262 [00:00<00:00, 525795.40it/s]\n"
          ]
        },
        {
          "output_type": "stream",
          "name": "stdout",
          "text": [
            "convert 특위 into 특별위원회.\n"
          ]
        },
        {
          "output_type": "stream",
          "name": "stderr",
          "text": [
            "100%|██████████| 31262/31262 [00:00<00:00, 703272.43it/s]\n"
          ]
        },
        {
          "output_type": "stream",
          "name": "stdout",
          "text": [
            "convert 핵발전소 into 원자력발전소.\n"
          ]
        },
        {
          "output_type": "stream",
          "name": "stderr",
          "text": [
            "100%|██████████| 31262/31262 [00:00<00:00, 662752.82it/s]\n"
          ]
        },
        {
          "output_type": "stream",
          "name": "stdout",
          "text": [
            "convert 한수원 into 한국수력원자력.\n"
          ]
        },
        {
          "output_type": "stream",
          "name": "stderr",
          "text": [
            "100%|██████████| 31262/31262 [00:00<00:00, 579441.21it/s]\n"
          ]
        },
        {
          "output_type": "stream",
          "name": "stdout",
          "text": [
            "convert 한빛 into 한빛원전.\n"
          ]
        },
        {
          "output_type": "stream",
          "name": "stderr",
          "text": [
            "100%|██████████| 31262/31262 [00:00<00:00, 612870.10it/s]\n"
          ]
        },
        {
          "output_type": "stream",
          "name": "stdout",
          "text": [
            "convert 한울 into 한울원전.\n"
          ]
        },
        {
          "output_type": "stream",
          "name": "stderr",
          "text": [
            "100%|██████████| 31262/31262 [00:00<00:00, 616637.11it/s]\n"
          ]
        },
        {
          "output_type": "stream",
          "name": "stdout",
          "text": [
            "convert 핵폐기물 into 방사성폐기물.\n"
          ]
        },
        {
          "output_type": "stream",
          "name": "stderr",
          "text": [
            "100%|██████████| 31262/31262 [00:00<00:00, 586976.50it/s]\n"
          ]
        },
        {
          "output_type": "stream",
          "name": "stdout",
          "text": [
            "convert IAEA into 국제원자력기구.\n"
          ]
        },
        {
          "output_type": "stream",
          "name": "stderr",
          "text": [
            "100%|██████████| 31262/31262 [00:00<00:00, 505097.62it/s]\n"
          ]
        },
        {
          "output_type": "stream",
          "name": "stdout",
          "text": [
            "convert NRC into 원자력규제위원회.\n"
          ]
        },
        {
          "output_type": "stream",
          "name": "stderr",
          "text": [
            "100%|██████████| 31262/31262 [00:00<00:00, 619503.87it/s]\n"
          ]
        },
        {
          "output_type": "stream",
          "name": "stdout",
          "text": [
            "convert UAE into 아랍에미리트.\n"
          ]
        },
        {
          "output_type": "stream",
          "name": "stderr",
          "text": [
            "100%|██████████| 31262/31262 [00:00<00:00, 644801.56it/s]\n"
          ]
        },
        {
          "output_type": "stream",
          "name": "stdout",
          "text": [
            "convert 韓 into 한국.\n"
          ]
        },
        {
          "output_type": "stream",
          "name": "stderr",
          "text": [
            "100%|██████████| 31262/31262 [00:00<00:00, 503192.22it/s]\n"
          ]
        },
        {
          "output_type": "stream",
          "name": "stdout",
          "text": [
            "convert 與 into 여당.\n"
          ]
        },
        {
          "output_type": "stream",
          "name": "stderr",
          "text": [
            "100%|██████████| 31262/31262 [00:00<00:00, 594591.69it/s]\n"
          ]
        },
        {
          "output_type": "stream",
          "name": "stdout",
          "text": [
            "convert 野 into 야당.\n"
          ]
        },
        {
          "output_type": "stream",
          "name": "stderr",
          "text": [
            "100%|██████████| 31262/31262 [00:00<00:00, 564221.83it/s]\n"
          ]
        },
        {
          "output_type": "stream",
          "name": "stdout",
          "text": [
            "convert 北 into 북한.\n"
          ]
        },
        {
          "output_type": "stream",
          "name": "stderr",
          "text": [
            "100%|██████████| 31262/31262 [00:00<00:00, 626528.22it/s]\n"
          ]
        },
        {
          "output_type": "stream",
          "name": "stdout",
          "text": [
            "convert (脫) into .\n"
          ]
        },
        {
          "output_type": "stream",
          "name": "stderr",
          "text": [
            "100%|██████████| 31262/31262 [00:00<00:00, 579111.08it/s]\n"
          ]
        },
        {
          "output_type": "stream",
          "name": "stdout",
          "text": [
            "convert (非) into .\n"
          ]
        },
        {
          "output_type": "stream",
          "name": "stderr",
          "text": [
            "100%|██████████| 31262/31262 [00:00<00:00, 627529.70it/s]\n"
          ]
        },
        {
          "output_type": "stream",
          "name": "stdout",
          "text": [
            "convert (正常) into .\n"
          ]
        },
        {
          "output_type": "stream",
          "name": "stderr",
          "text": [
            "100%|██████████| 31262/31262 [00:00<00:00, 638322.69it/s]\n"
          ]
        }
      ]
    },
    {
      "cell_type": "markdown",
      "source": [
        "**불용어 제거**\n",
        "\n",
        "불용어는 분석에 사용되지 않을 단어를 의미합니다. 다음 유형의 단어를 제거하였습니다:\n",
        "\n",
        "1. 자연어처리 시 통용되는 불용어 리스트\n",
        "2. 너무 많이 등장하는 단어들 - 모든 문서에서 공통적으로 등장하여 분류 성능을 낮출 우려가 있음.\n",
        "3. 한 단어로 된 단어\n",
        "4. 토픽 특성상 핵심 주제어인 '원전' '원자력발전'도 제거하는 게 좋음\n"
      ],
      "metadata": {
        "id": "9xoaUAIIfIyg"
      }
    },
    {
      "cell_type": "code",
      "source": [
        "#1차 필터링: 한국어 불용어 사전 활용★\n",
        "stop_list1 = open('/content/drive/MyDrive/dscvr_g3/Korean Stopwords.txt', encoding = 'utf-8')\n",
        "stop_list2 = open('/content/drive/MyDrive/dscvr_g3/stopwords_ko.txt', encoding = 'utf-8')\n",
        "\n",
        "lines1 = stop_list1.readlines() #한 줄마다 읽어옴\n",
        "lines2 = stop_list2.readlines() #한 줄마다 읽어옴\n",
        "\n",
        "stopwords = [] #불용어 리스트\n",
        "for line in lines1:\n",
        "    a= line.split() #줄 단위 분할\n",
        "    stopwords.append(a) #한 줄마다 불용어 리스트에 추가\n",
        "for line in lines2:\n",
        "    b= line.split() #줄 단위 분할\n",
        "    stopwords.append(b) #한 줄마다 불용어 리스트에 추가\n",
        "  "
      ],
      "metadata": {
        "id": "XtRXMorYgJJj"
      },
      "execution_count": null,
      "outputs": []
    },
    {
      "cell_type": "code",
      "source": [
        "#2차 필터링: 커스텀 불용어 리스트★\n",
        "custom_stopwords = ['원전','원자력','발전소','원자력발전소','관련','한국','전력','이날','발생','이후','이번','오후','오전','가운데','기자','사진','최근','정부','일본','한국수력원자력']\n",
        "stopwords+=custom_stopwords #커스텀 불용어를 리스트에 추가"
      ],
      "metadata": {
        "id": "T4GdeP1YgXch"
      },
      "execution_count": null,
      "outputs": []
    },
    {
      "cell_type": "code",
      "source": [
        "#'불용어 리스트에 없는'형태소만 남기는 방식으로 불용어 제거★\n",
        "news_all['nouns'] = news_all['nouns'].progress_map(lambda x:[w for w in x if w not in stopwords])"
      ],
      "metadata": {
        "id": "CFts9vZHg6_d",
        "colab": {
          "base_uri": "https://localhost:8080/"
        },
        "outputId": "3d54759c-6fe7-4acc-afeb-4847a7490981"
      },
      "execution_count": null,
      "outputs": [
        {
          "output_type": "stream",
          "name": "stderr",
          "text": [
            "100%|██████████| 31262/31262 [00:30<00:00, 1032.01it/s]\n"
          ]
        }
      ]
    },
    {
      "cell_type": "code",
      "source": [
        "#3차 필터링: 한 글자 제거★\n",
        "news_all['nouns'] = news_all['nouns'].progress_map(lambda x:[w for w in x if len(w) > 1])"
      ],
      "metadata": {
        "id": "1bHWGqGwgm4n",
        "colab": {
          "base_uri": "https://localhost:8080/"
        },
        "outputId": "c80800fb-ce65-4f1e-b155-b97e4ddeb7cb"
      },
      "execution_count": null,
      "outputs": [
        {
          "output_type": "stream",
          "name": "stderr",
          "text": [
            "100%|██████████| 31262/31262 [00:00<00:00, 84006.36it/s]\n"
          ]
        }
      ]
    },
    {
      "cell_type": "code",
      "source": [
        "news_all.head()"
      ],
      "metadata": {
        "colab": {
          "base_uri": "https://localhost:8080/",
          "height": 206
        },
        "id": "7jSazWbHy59_",
        "outputId": "dc74b995-d815-4649-e499-fabeeb4d7058"
      },
      "execution_count": null,
      "outputs": [
        {
          "output_type": "execute_result",
          "data": {
            "text/plain": [
              "             id      date press  \\\n",
              "0  1.100401e+06  20170509  동아일보   \n",
              "1  1.101101e+06  20170508  한국일보   \n",
              "2  1.100101e+06  20170508  경향신문   \n",
              "3  1.100101e+06  20170508  경향신문   \n",
              "4  1.101001e+06  20170508   한겨레   \n",
              "\n",
              "                                            maintext      date1 year-month  \\\n",
              "0  석탄발전 퇴출과 원자력발전소 축소, 재생에너지 확대는 대선 후보 대부분의 에너지 정... 2017-05-09    2017-05   \n",
              "1  도널드 트럼프 미국 행정부 요청으로 중국이 대북 압박을 강화하는 것으로 알려졌지만,... 2017-05-08    2017-05   \n",
              "2  ■마지막 한마디\\n\\n“저 문재인에게 당면한 나라의 위기를 극복할 힘을 주십시오. ... 2017-05-08    2017-05   \n",
              "3  ■마지막 한마디\\n\\n“많은 분들이 유승민 참 좋은데 찍으면 사표 될까봐 걱정하십니... 2017-05-08    2017-05   \n",
              "4  주요 5개 정당 대선 후보들이 대통령에 당선되면 지방분권에 관심을 갖고 헌법 개정 ... 2017-05-08    2017-05   \n",
              "\n",
              "                                               nouns  \n",
              "0  [석탄, 발전, 퇴출, 축소, 재생에너지, 확대, 대선, 후보, 대부분, 에너지, ...  \n",
              "1  [도널드, 트럼프, 미국, 행정부, 요청, 중국, 대북, 압박, 강화, 중국, 국영...  \n",
              "2  [마지막, 한마디, 문재인, 당면, 나라, 위기, 극복, 개혁, 통합, 흐름, 대한...  \n",
              "3  [마지막, 한마디, 유승민, 사표, 걱정, 소신, 양심, 후보, 사표, 소신, 투표...  \n",
              "4  [주요, 정당, 대선, 후보, 대통령, 당선, 지방, 분권, 관심, 헌법, 개정, ...  "
            ],
            "text/html": [
              "\n",
              "  <div id=\"df-935f5932-3ac3-49f2-af36-543d7529f8b6\">\n",
              "    <div class=\"colab-df-container\">\n",
              "      <div>\n",
              "<style scoped>\n",
              "    .dataframe tbody tr th:only-of-type {\n",
              "        vertical-align: middle;\n",
              "    }\n",
              "\n",
              "    .dataframe tbody tr th {\n",
              "        vertical-align: top;\n",
              "    }\n",
              "\n",
              "    .dataframe thead th {\n",
              "        text-align: right;\n",
              "    }\n",
              "</style>\n",
              "<table border=\"1\" class=\"dataframe\">\n",
              "  <thead>\n",
              "    <tr style=\"text-align: right;\">\n",
              "      <th></th>\n",
              "      <th>id</th>\n",
              "      <th>date</th>\n",
              "      <th>press</th>\n",
              "      <th>maintext</th>\n",
              "      <th>date1</th>\n",
              "      <th>year-month</th>\n",
              "      <th>nouns</th>\n",
              "    </tr>\n",
              "  </thead>\n",
              "  <tbody>\n",
              "    <tr>\n",
              "      <th>0</th>\n",
              "      <td>1.100401e+06</td>\n",
              "      <td>20170509</td>\n",
              "      <td>동아일보</td>\n",
              "      <td>석탄발전 퇴출과 원자력발전소 축소, 재생에너지 확대는 대선 후보 대부분의 에너지 정...</td>\n",
              "      <td>2017-05-09</td>\n",
              "      <td>2017-05</td>\n",
              "      <td>[석탄, 발전, 퇴출, 축소, 재생에너지, 확대, 대선, 후보, 대부분, 에너지, ...</td>\n",
              "    </tr>\n",
              "    <tr>\n",
              "      <th>1</th>\n",
              "      <td>1.101101e+06</td>\n",
              "      <td>20170508</td>\n",
              "      <td>한국일보</td>\n",
              "      <td>도널드 트럼프 미국 행정부 요청으로 중국이 대북 압박을 강화하는 것으로 알려졌지만,...</td>\n",
              "      <td>2017-05-08</td>\n",
              "      <td>2017-05</td>\n",
              "      <td>[도널드, 트럼프, 미국, 행정부, 요청, 중국, 대북, 압박, 강화, 중국, 국영...</td>\n",
              "    </tr>\n",
              "    <tr>\n",
              "      <th>2</th>\n",
              "      <td>1.100101e+06</td>\n",
              "      <td>20170508</td>\n",
              "      <td>경향신문</td>\n",
              "      <td>■마지막 한마디\\n\\n“저 문재인에게 당면한 나라의 위기를 극복할 힘을 주십시오. ...</td>\n",
              "      <td>2017-05-08</td>\n",
              "      <td>2017-05</td>\n",
              "      <td>[마지막, 한마디, 문재인, 당면, 나라, 위기, 극복, 개혁, 통합, 흐름, 대한...</td>\n",
              "    </tr>\n",
              "    <tr>\n",
              "      <th>3</th>\n",
              "      <td>1.100101e+06</td>\n",
              "      <td>20170508</td>\n",
              "      <td>경향신문</td>\n",
              "      <td>■마지막 한마디\\n\\n“많은 분들이 유승민 참 좋은데 찍으면 사표 될까봐 걱정하십니...</td>\n",
              "      <td>2017-05-08</td>\n",
              "      <td>2017-05</td>\n",
              "      <td>[마지막, 한마디, 유승민, 사표, 걱정, 소신, 양심, 후보, 사표, 소신, 투표...</td>\n",
              "    </tr>\n",
              "    <tr>\n",
              "      <th>4</th>\n",
              "      <td>1.101001e+06</td>\n",
              "      <td>20170508</td>\n",
              "      <td>한겨레</td>\n",
              "      <td>주요 5개 정당 대선 후보들이 대통령에 당선되면 지방분권에 관심을 갖고 헌법 개정 ...</td>\n",
              "      <td>2017-05-08</td>\n",
              "      <td>2017-05</td>\n",
              "      <td>[주요, 정당, 대선, 후보, 대통령, 당선, 지방, 분권, 관심, 헌법, 개정, ...</td>\n",
              "    </tr>\n",
              "  </tbody>\n",
              "</table>\n",
              "</div>\n",
              "      <button class=\"colab-df-convert\" onclick=\"convertToInteractive('df-935f5932-3ac3-49f2-af36-543d7529f8b6')\"\n",
              "              title=\"Convert this dataframe to an interactive table.\"\n",
              "              style=\"display:none;\">\n",
              "        \n",
              "  <svg xmlns=\"http://www.w3.org/2000/svg\" height=\"24px\"viewBox=\"0 0 24 24\"\n",
              "       width=\"24px\">\n",
              "    <path d=\"M0 0h24v24H0V0z\" fill=\"none\"/>\n",
              "    <path d=\"M18.56 5.44l.94 2.06.94-2.06 2.06-.94-2.06-.94-.94-2.06-.94 2.06-2.06.94zm-11 1L8.5 8.5l.94-2.06 2.06-.94-2.06-.94L8.5 2.5l-.94 2.06-2.06.94zm10 10l.94 2.06.94-2.06 2.06-.94-2.06-.94-.94-2.06-.94 2.06-2.06.94z\"/><path d=\"M17.41 7.96l-1.37-1.37c-.4-.4-.92-.59-1.43-.59-.52 0-1.04.2-1.43.59L10.3 9.45l-7.72 7.72c-.78.78-.78 2.05 0 2.83L4 21.41c.39.39.9.59 1.41.59.51 0 1.02-.2 1.41-.59l7.78-7.78 2.81-2.81c.8-.78.8-2.07 0-2.86zM5.41 20L4 18.59l7.72-7.72 1.47 1.35L5.41 20z\"/>\n",
              "  </svg>\n",
              "      </button>\n",
              "      \n",
              "  <style>\n",
              "    .colab-df-container {\n",
              "      display:flex;\n",
              "      flex-wrap:wrap;\n",
              "      gap: 12px;\n",
              "    }\n",
              "\n",
              "    .colab-df-convert {\n",
              "      background-color: #E8F0FE;\n",
              "      border: none;\n",
              "      border-radius: 50%;\n",
              "      cursor: pointer;\n",
              "      display: none;\n",
              "      fill: #1967D2;\n",
              "      height: 32px;\n",
              "      padding: 0 0 0 0;\n",
              "      width: 32px;\n",
              "    }\n",
              "\n",
              "    .colab-df-convert:hover {\n",
              "      background-color: #E2EBFA;\n",
              "      box-shadow: 0px 1px 2px rgba(60, 64, 67, 0.3), 0px 1px 3px 1px rgba(60, 64, 67, 0.15);\n",
              "      fill: #174EA6;\n",
              "    }\n",
              "\n",
              "    [theme=dark] .colab-df-convert {\n",
              "      background-color: #3B4455;\n",
              "      fill: #D2E3FC;\n",
              "    }\n",
              "\n",
              "    [theme=dark] .colab-df-convert:hover {\n",
              "      background-color: #434B5C;\n",
              "      box-shadow: 0px 1px 3px 1px rgba(0, 0, 0, 0.15);\n",
              "      filter: drop-shadow(0px 1px 2px rgba(0, 0, 0, 0.3));\n",
              "      fill: #FFFFFF;\n",
              "    }\n",
              "  </style>\n",
              "\n",
              "      <script>\n",
              "        const buttonEl =\n",
              "          document.querySelector('#df-935f5932-3ac3-49f2-af36-543d7529f8b6 button.colab-df-convert');\n",
              "        buttonEl.style.display =\n",
              "          google.colab.kernel.accessAllowed ? 'block' : 'none';\n",
              "\n",
              "        async function convertToInteractive(key) {\n",
              "          const element = document.querySelector('#df-935f5932-3ac3-49f2-af36-543d7529f8b6');\n",
              "          const dataTable =\n",
              "            await google.colab.kernel.invokeFunction('convertToInteractive',\n",
              "                                                     [key], {});\n",
              "          if (!dataTable) return;\n",
              "\n",
              "          const docLinkHtml = 'Like what you see? Visit the ' +\n",
              "            '<a target=\"_blank\" href=https://colab.research.google.com/notebooks/data_table.ipynb>data table notebook</a>'\n",
              "            + ' to learn more about interactive tables.';\n",
              "          element.innerHTML = '';\n",
              "          dataTable['output_type'] = 'display_data';\n",
              "          await google.colab.output.renderOutput(dataTable, element);\n",
              "          const docLink = document.createElement('div');\n",
              "          docLink.innerHTML = docLinkHtml;\n",
              "          element.appendChild(docLink);\n",
              "        }\n",
              "      </script>\n",
              "    </div>\n",
              "  </div>\n",
              "  "
            ]
          },
          "metadata": {},
          "execution_count": 18
        }
      ]
    },
    {
      "cell_type": "markdown",
      "source": [
        "불용어 처리를 마쳤으면, 빈도 수 파악 후 2차 필터링할 단어 리스트를 수정하기 위해, 단어 개수를 카운트합니다."
      ],
      "metadata": {
        "id": "sZuR0Yysdy9D"
      }
    },
    {
      "cell_type": "code",
      "source": [
        "#단어 빈도 파악\n",
        "nouncounter=news_all['nouns'].sum() #형태소 목록 병합\n",
        "counts = collections.Counter(nouncounter) #병합된 목록 카운트\n",
        "print(counts) #결과"
      ],
      "metadata": {
        "id": "XTBoV3ueavrf"
      },
      "execution_count": null,
      "outputs": []
    },
    {
      "cell_type": "markdown",
      "source": [
        "카운트 결과는 여기서 보는 것보다 복사해서 메모장이나 워드로 보는게 편해요!"
      ],
      "metadata": {
        "id": "bt_FjL3JhNX9"
      }
    },
    {
      "cell_type": "markdown",
      "source": [
        "## 토픽모델링"
      ],
      "metadata": {
        "id": "fdtuEJN_hW32"
      }
    },
    {
      "cell_type": "markdown",
      "source": [
        "먼저 LDA 모델을 생성합니다."
      ],
      "metadata": {
        "id": "JWvfzhrnh75P"
      }
    },
    {
      "cell_type": "code",
      "source": [
        "# LDA Model 정의★\n",
        "def lda(k_model, iteration, text, word_remove=0):\n",
        "    \n",
        "    # 모델 설정\n",
        "    model = tp.LDAModel(k=k_model, rm_top=word_remove, seed=29672)\n",
        "    \n",
        "    # 문서 추가 \n",
        "    for n, line in enumerate(text):\n",
        "        line = ','.join(line)\n",
        "        model.add_doc(line.strip().split(','))\n",
        "    \n",
        "    model.burn_in = 100\n",
        "    model.train(0)\n",
        "    \n",
        "    print('문서 개수:', len(model.docs), ', 단어 개수:', len(model.used_vocabs), ', 단어의 총수:', model.num_words, '토픽 수:',k_model)\n",
        "    #print('제거된 단어들:', model.removed_top_words)\n",
        "    \n",
        "    print('훈련 중',flush=True)\n",
        "    for i in range(0, iteration, 50):\n",
        "        model.train(10)\n",
        "    \n",
        "    model.summary()\n",
        "    return(model)"
      ],
      "metadata": {
        "id": "ASqtCWbeh6zz"
      },
      "execution_count": null,
      "outputs": []
    },
    {
      "cell_type": "markdown",
      "source": [
        "여러 번 반복을 통해 최적의 K값을 찾습니다. 먼저 K값 후보 리스트를 생성합니다."
      ],
      "metadata": {
        "id": "uUoBe1MTisGs"
      }
    },
    {
      "cell_type": "code",
      "source": [
        "#Perplexity 값 시각화\n",
        "fig, ((ax1))= plt.subplots(nrows=1, ncols=1)   #(1,1)짜리 subplot\n",
        "fig.set_size_inches(8,8)  #사이즈 지정\n",
        "sns.lineplot(x=\"k\", y=\"model_perplexity\", data=perplexity_df, ax=ax1) #k값과 perplexity를 x, y로 하는 선 그래프"
      ],
      "metadata": {
        "id": "S5obpUlPiVh4",
        "colab": {
          "base_uri": "https://localhost:8080/",
          "height": 514
        },
        "outputId": "c292dbc9-f1a7-484e-caab-b9e76cc92101"
      },
      "execution_count": null,
      "outputs": [
        {
          "output_type": "execute_result",
          "data": {
            "text/plain": [
              "<matplotlib.axes._subplots.AxesSubplot at 0x7f5f141b6990>"
            ]
          },
          "metadata": {},
          "execution_count": 26
        },
        {
          "output_type": "display_data",
          "data": {
            "text/plain": [
              "<Figure size 576x576 with 1 Axes>"
            ],
            "image/png": "[encoded data removed]"
          },
          "metadata": {
            "needs_background": "light"
          }
        }
      ]
    },
    {
      "cell_type": "markdown",
      "source": [
        "K값 정한 후 최적의 모델을 출력합니다.\n",
        "Perplexity값이 충분히 낮아야 분류 결과의 신뢰가 있지만, K값이 너무 커지면 지나치게 상세하게 분류가 이루어지기 때문에, 적당한 수준에서 K값을 선정하였습니다."
      ],
      "metadata": {
        "id": "oIciPFqYjD7p"
      }
    },
    {
      "cell_type": "code",
      "source": [
        "  #최적화된 모델 출력\n",
        "  k = 30\n",
        "  mdl_k=lda(k, 1000, text=news_all['nouns']) #모델링"
      ],
      "metadata": {
        "id": "WdQWmBFFi_vl",
        "colab": {
          "base_uri": "https://localhost:8080/"
        },
        "outputId": "80008d8a-35e7-42f3-fe11-db7c81fec33b"
      },
      "execution_count": null,
      "outputs": [
        {
          "output_type": "stream",
          "name": "stdout",
          "text": [
            "문서 개수: 31262 , 단어 개수: 30221 , 단어의 총수: 953858 토픽 수: 30\n",
            "훈련 중\n",
            "<Basic Info>\n",
            "| LDAModel (current version: 0.12.2)\n",
            "| 31262 docs, 953858 words\n",
            "| Total Vocabs: 30221, Used Vocabs: 30221\n",
            "| Entropy of words: 8.05734\n",
            "| Entropy of term-weighted words: 8.05734\n",
            "| Removed Vocabs: <NA>\n",
            "|\n",
            "<Training Info>\n",
            "| Iterations: 200, Burn-in steps: 100\n",
            "| Optimization Interval: 10\n",
            "| Log-likelihood per word: -7.68314\n",
            "|\n",
            "<Initial Parameters>\n",
            "| tw: TermWeight.ONE\n",
            "| min_cf: 0 (minimum collection frequency of words)\n",
            "| min_df: 0 (minimum document frequency of words)\n",
            "| rm_top: 0 (the number of top words to be removed)\n",
            "| k: 30 (the number of topics between 1 ~ 32767)\n",
            "| alpha: [0.1] (hyperparameter of Dirichlet distribution for document-topic, given as a single `float` in case of symmetric prior and as a list with length `k` of `float` in case of asymmetric prior.)\n",
            "| eta: 0.01 (hyperparameter of Dirichlet distribution for topic-word)\n",
            "| seed: 29672 (random seed)\n",
            "| trained in version 0.12.2\n",
            "|\n",
            "<Parameters>\n",
            "| alpha (Dirichlet prior on the per-document topic distributions)\n",
            "|  [0.05024519 0.03307533 0.06415777 0.03474697 0.0341312  0.07285126\n",
            "|   0.02168878 0.0271563  0.03386132 0.02045727 0.02658094 0.0446539\n",
            "|   0.03331573 0.0294176  0.03302361 0.04246052 0.03879734 0.04023231\n",
            "|   0.02134183 0.01639748 0.01069756 0.02943841 0.0192596  0.02660416\n",
            "|   0.0337273  0.03968951 0.03635903 0.03796697 0.04972706 0.04144722]\n",
            "| eta (Dirichlet prior on the per-topic word distribution)\n",
            "|  0.01\n",
            "|\n",
            "<Topics>\n",
            "| #0 (37528) : 대통령 문재인 청와대 정책 감사원장\n",
            "| #1 (32857) : 아랍에미리트 사업 건설 수출 두산중공업\n",
            "| #2 (57395) : 에너지 발전 정책 환경 계획\n",
            "| #3 (40874) : 대통령 정상 회담 방문 미국\n",
            "| #4 (29857) : 월성 결정 고리 감사 폐쇄\n",
            "| #5 (46700) : 사회 경제 사람 나라 문제\n",
            "| #6 (19123) : 미국 협정 협상 개정 북한\n",
            "| #7 (36760) : 검찰 법무부 장관 수사 검찰총장\n",
            "| #8 (24865) : 중국 미국 세계 현지 프랑스\n",
            "| #9 (20288) : 유출 자료 정보 북한 해킹\n",
            "| #10 (25243) : 수산물 후쿠시마 코로나 수입 방사능\n",
            "| #11 (42208) : 주민 시민 단체 지역 투표\n",
            "| #12 (32829) : 건설 공사 신한울원전 사용 중단\n",
            "| #13 (27987) : 지진 총리 아베 규모 후쿠시마\n",
            "| #14 (25248) : 교수 과학 연구 기술 대학\n",
            "| #15 (27894) : 국민 조사 안전 세월호 결과\n",
            "| #16 (38877) : 후보 대선 선거 윤석열 국민의힘\n",
            "| #17 (38132) : 후쿠시마 사고 방사능 물질 오염수\n",
            "| #18 (28581) : 월성 산업통상자원부 수사 장관 검찰\n",
            "| #19 (17199) : 혐의 법원 기소 구속 드론\n",
            "| #20 (17677) : 과장 정책 승진 기획 본부장\n",
            "| #21 (26295) : 북한 건설 추진 대통령 문재인\n",
            "| #22 (23897) : 비리 부품 위조 업체 납품\n",
            "| #23 (33375) : 오염수 후쿠시마 방류 해양 결정\n",
            "| #24 (30715) : 가동 한빛원전 정지 원자로 발전\n",
            "| #25 (30841) : 국회 의원 대표 더불어민주당 위원회\n",
            "| #26 (28714) : 부산 태양광 서울 지역 시설\n",
            "| #27 (36033) : 요금 한전 전기 지난해 인상\n",
            "| #28 (46489) : 산업 기술 사업 해체 개발\n",
            "| #29 (29377) : 원자력안전위원회 안전 운영 신고리 가동\n",
            "|\n",
            "\n"
          ]
        }
      ]
    },
    {
      "cell_type": "markdown",
      "source": [
        "가장 높은 확률에 해당하는 토픽으로 각 문서를 분류합니다."
      ],
      "metadata": {
        "id": "1G-1tIdxlNL2"
      }
    },
    {
      "cell_type": "code",
      "source": [
        "#개별 주제에 속할 확률을 제시하는 데이터프레임\n",
        "new_df = pd.DataFrame()\n",
        "for i, line in enumerate(mdl_k.docs):\n",
        "    temp=pd.DataFrame(line.get_topic_dist()).T\n",
        "    new_df=new_df.append(temp)\n",
        "new_df = new_df.reset_index()\n",
        "new_df = new_df.drop(['index'], axis=1)\n",
        "new_df.columns = ['#'+ str(x) for x in range(1,k+1)]"
      ],
      "metadata": {
        "id": "sWlGU1kbcROb"
      },
      "execution_count": null,
      "outputs": []
    },
    {
      "cell_type": "code",
      "source": [
        "new_df.head()"
      ],
      "metadata": {
        "colab": {
          "base_uri": "https://localhost:8080/",
          "height": 299
        },
        "id": "icp23xtWcep8",
        "outputId": "61c1cb61-65f8-442f-effa-8ee942f2c568"
      },
      "execution_count": null,
      "outputs": [
        {
          "output_type": "execute_result",
          "data": {
            "text/plain": [
              "         #1        #2        #3        #4        #5        #6        #7  \\\n",
              "0  0.001394  0.000918  0.612153  0.000964  0.000947  0.002021  0.111579   \n",
              "1  0.001255  0.000826  0.001602  0.475352  0.000852  0.001819  0.000542   \n",
              "2  0.001858  0.001223  0.002372  0.001285  0.001262  0.668288  0.000802   \n",
              "3  0.319833  0.001500  0.002911  0.001576  0.001548  0.366224  0.000984   \n",
              "4  0.001167  0.000768  0.001491  0.093736  0.000793  0.048157  0.070201   \n",
              "\n",
              "         #8        #9       #10  ...       #21       #22       #23       #24  \\\n",
              "0  0.000753  0.000939  0.000568  ...  0.000297  0.000817  0.000534  0.000738   \n",
              "1  0.000678  0.400411  0.100402  ...  0.000267  0.000735  0.000481  0.000664   \n",
              "2  0.259846  0.001252  0.000756  ...  0.000396  0.001089  0.000712  0.000984   \n",
              "3  0.001232  0.001536  0.000928  ...  0.000485  0.001335  0.000874  0.001207   \n",
              "4  0.000631  0.000787  0.000475  ...  0.000249  0.000684  0.000447  0.000618   \n",
              "\n",
              "        #25       #26       #27       #28       #29       #30  \n",
              "0  0.000936  0.001101  0.001009  0.001053  0.001380  0.001150  \n",
              "1  0.000842  0.000991  0.000908  0.000948  0.001242  0.001035  \n",
              "2  0.038225  0.001468  0.001344  0.001404  0.001839  0.001533  \n",
              "3  0.001530  0.001801  0.001649  0.001722  0.002256  0.001880  \n",
              "4  0.000784  0.000922  0.000845  0.000882  0.001155  0.000963  \n",
              "\n",
              "[5 rows x 30 columns]"
            ],
            "text/html": [
              "\n",
              "  <div id=\"df-4b1401ff-500c-4838-868d-e39dda995ebe\">\n",
              "    <div class=\"colab-df-container\">\n",
              "      <div>\n",
              "<style scoped>\n",
              "    .dataframe tbody tr th:only-of-type {\n",
              "        vertical-align: middle;\n",
              "    }\n",
              "\n",
              "    .dataframe tbody tr th {\n",
              "        vertical-align: top;\n",
              "    }\n",
              "\n",
              "    .dataframe thead th {\n",
              "        text-align: right;\n",
              "    }\n",
              "</style>\n",
              "<table border=\"1\" class=\"dataframe\">\n",
              "  <thead>\n",
              "    <tr style=\"text-align: right;\">\n",
              "      <th></th>\n",
              "      <th>#1</th>\n",
              "      <th>#2</th>\n",
              "      <th>#3</th>\n",
              "      <th>#4</th>\n",
              "      <th>#5</th>\n",
              "      <th>#6</th>\n",
              "      <th>#7</th>\n",
              "      <th>#8</th>\n",
              "      <th>#9</th>\n",
              "      <th>#10</th>\n",
              "      <th>...</th>\n",
              "      <th>#21</th>\n",
              "      <th>#22</th>\n",
              "      <th>#23</th>\n",
              "      <th>#24</th>\n",
              "      <th>#25</th>\n",
              "      <th>#26</th>\n",
              "      <th>#27</th>\n",
              "      <th>#28</th>\n",
              "      <th>#29</th>\n",
              "      <th>#30</th>\n",
              "    </tr>\n",
              "  </thead>\n",
              "  <tbody>\n",
              "    <tr>\n",
              "      <th>0</th>\n",
              "      <td>0.001394</td>\n",
              "      <td>0.000918</td>\n",
              "      <td>0.612153</td>\n",
              "      <td>0.000964</td>\n",
              "      <td>0.000947</td>\n",
              "      <td>0.002021</td>\n",
              "      <td>0.111579</td>\n",
              "      <td>0.000753</td>\n",
              "      <td>0.000939</td>\n",
              "      <td>0.000568</td>\n",
              "      <td>...</td>\n",
              "      <td>0.000297</td>\n",
              "      <td>0.000817</td>\n",
              "      <td>0.000534</td>\n",
              "      <td>0.000738</td>\n",
              "      <td>0.000936</td>\n",
              "      <td>0.001101</td>\n",
              "      <td>0.001009</td>\n",
              "      <td>0.001053</td>\n",
              "      <td>0.001380</td>\n",
              "      <td>0.001150</td>\n",
              "    </tr>\n",
              "    <tr>\n",
              "      <th>1</th>\n",
              "      <td>0.001255</td>\n",
              "      <td>0.000826</td>\n",
              "      <td>0.001602</td>\n",
              "      <td>0.475352</td>\n",
              "      <td>0.000852</td>\n",
              "      <td>0.001819</td>\n",
              "      <td>0.000542</td>\n",
              "      <td>0.000678</td>\n",
              "      <td>0.400411</td>\n",
              "      <td>0.100402</td>\n",
              "      <td>...</td>\n",
              "      <td>0.000267</td>\n",
              "      <td>0.000735</td>\n",
              "      <td>0.000481</td>\n",
              "      <td>0.000664</td>\n",
              "      <td>0.000842</td>\n",
              "      <td>0.000991</td>\n",
              "      <td>0.000908</td>\n",
              "      <td>0.000948</td>\n",
              "      <td>0.001242</td>\n",
              "      <td>0.001035</td>\n",
              "    </tr>\n",
              "    <tr>\n",
              "      <th>2</th>\n",
              "      <td>0.001858</td>\n",
              "      <td>0.001223</td>\n",
              "      <td>0.002372</td>\n",
              "      <td>0.001285</td>\n",
              "      <td>0.001262</td>\n",
              "      <td>0.668288</td>\n",
              "      <td>0.000802</td>\n",
              "      <td>0.259846</td>\n",
              "      <td>0.001252</td>\n",
              "      <td>0.000756</td>\n",
              "      <td>...</td>\n",
              "      <td>0.000396</td>\n",
              "      <td>0.001089</td>\n",
              "      <td>0.000712</td>\n",
              "      <td>0.000984</td>\n",
              "      <td>0.038225</td>\n",
              "      <td>0.001468</td>\n",
              "      <td>0.001344</td>\n",
              "      <td>0.001404</td>\n",
              "      <td>0.001839</td>\n",
              "      <td>0.001533</td>\n",
              "    </tr>\n",
              "    <tr>\n",
              "      <th>3</th>\n",
              "      <td>0.319833</td>\n",
              "      <td>0.001500</td>\n",
              "      <td>0.002911</td>\n",
              "      <td>0.001576</td>\n",
              "      <td>0.001548</td>\n",
              "      <td>0.366224</td>\n",
              "      <td>0.000984</td>\n",
              "      <td>0.001232</td>\n",
              "      <td>0.001536</td>\n",
              "      <td>0.000928</td>\n",
              "      <td>...</td>\n",
              "      <td>0.000485</td>\n",
              "      <td>0.001335</td>\n",
              "      <td>0.000874</td>\n",
              "      <td>0.001207</td>\n",
              "      <td>0.001530</td>\n",
              "      <td>0.001801</td>\n",
              "      <td>0.001649</td>\n",
              "      <td>0.001722</td>\n",
              "      <td>0.002256</td>\n",
              "      <td>0.001880</td>\n",
              "    </tr>\n",
              "    <tr>\n",
              "      <th>4</th>\n",
              "      <td>0.001167</td>\n",
              "      <td>0.000768</td>\n",
              "      <td>0.001491</td>\n",
              "      <td>0.093736</td>\n",
              "      <td>0.000793</td>\n",
              "      <td>0.048157</td>\n",
              "      <td>0.070201</td>\n",
              "      <td>0.000631</td>\n",
              "      <td>0.000787</td>\n",
              "      <td>0.000475</td>\n",
              "      <td>...</td>\n",
              "      <td>0.000249</td>\n",
              "      <td>0.000684</td>\n",
              "      <td>0.000447</td>\n",
              "      <td>0.000618</td>\n",
              "      <td>0.000784</td>\n",
              "      <td>0.000922</td>\n",
              "      <td>0.000845</td>\n",
              "      <td>0.000882</td>\n",
              "      <td>0.001155</td>\n",
              "      <td>0.000963</td>\n",
              "    </tr>\n",
              "  </tbody>\n",
              "</table>\n",
              "<p>5 rows × 30 columns</p>\n",
              "</div>\n",
              "      <button class=\"colab-df-convert\" onclick=\"convertToInteractive('df-4b1401ff-500c-4838-868d-e39dda995ebe')\"\n",
              "              title=\"Convert this dataframe to an interactive table.\"\n",
              "              style=\"display:none;\">\n",
              "        \n",
              "  <svg xmlns=\"http://www.w3.org/2000/svg\" height=\"24px\"viewBox=\"0 0 24 24\"\n",
              "       width=\"24px\">\n",
              "    <path d=\"M0 0h24v24H0V0z\" fill=\"none\"/>\n",
              "    <path d=\"M18.56 5.44l.94 2.06.94-2.06 2.06-.94-2.06-.94-.94-2.06-.94 2.06-2.06.94zm-11 1L8.5 8.5l.94-2.06 2.06-.94-2.06-.94L8.5 2.5l-.94 2.06-2.06.94zm10 10l.94 2.06.94-2.06 2.06-.94-2.06-.94-.94-2.06-.94 2.06-2.06.94z\"/><path d=\"M17.41 7.96l-1.37-1.37c-.4-.4-.92-.59-1.43-.59-.52 0-1.04.2-1.43.59L10.3 9.45l-7.72 7.72c-.78.78-.78 2.05 0 2.83L4 21.41c.39.39.9.59 1.41.59.51 0 1.02-.2 1.41-.59l7.78-7.78 2.81-2.81c.8-.78.8-2.07 0-2.86zM5.41 20L4 18.59l7.72-7.72 1.47 1.35L5.41 20z\"/>\n",
              "  </svg>\n",
              "      </button>\n",
              "      \n",
              "  <style>\n",
              "    .colab-df-container {\n",
              "      display:flex;\n",
              "      flex-wrap:wrap;\n",
              "      gap: 12px;\n",
              "    }\n",
              "\n",
              "    .colab-df-convert {\n",
              "      background-color: #E8F0FE;\n",
              "      border: none;\n",
              "      border-radius: 50%;\n",
              "      cursor: pointer;\n",
              "      display: none;\n",
              "      fill: #1967D2;\n",
              "      height: 32px;\n",
              "      padding: 0 0 0 0;\n",
              "      width: 32px;\n",
              "    }\n",
              "\n",
              "    .colab-df-convert:hover {\n",
              "      background-color: #E2EBFA;\n",
              "      box-shadow: 0px 1px 2px rgba(60, 64, 67, 0.3), 0px 1px 3px 1px rgba(60, 64, 67, 0.15);\n",
              "      fill: #174EA6;\n",
              "    }\n",
              "\n",
              "    [theme=dark] .colab-df-convert {\n",
              "      background-color: #3B4455;\n",
              "      fill: #D2E3FC;\n",
              "    }\n",
              "\n",
              "    [theme=dark] .colab-df-convert:hover {\n",
              "      background-color: #434B5C;\n",
              "      box-shadow: 0px 1px 3px 1px rgba(0, 0, 0, 0.15);\n",
              "      filter: drop-shadow(0px 1px 2px rgba(0, 0, 0, 0.3));\n",
              "      fill: #FFFFFF;\n",
              "    }\n",
              "  </style>\n",
              "\n",
              "      <script>\n",
              "        const buttonEl =\n",
              "          document.querySelector('#df-4b1401ff-500c-4838-868d-e39dda995ebe button.colab-df-convert');\n",
              "        buttonEl.style.display =\n",
              "          google.colab.kernel.accessAllowed ? 'block' : 'none';\n",
              "\n",
              "        async function convertToInteractive(key) {\n",
              "          const element = document.querySelector('#df-4b1401ff-500c-4838-868d-e39dda995ebe');\n",
              "          const dataTable =\n",
              "            await google.colab.kernel.invokeFunction('convertToInteractive',\n",
              "                                                     [key], {});\n",
              "          if (!dataTable) return;\n",
              "\n",
              "          const docLinkHtml = 'Like what you see? Visit the ' +\n",
              "            '<a target=\"_blank\" href=https://colab.research.google.com/notebooks/data_table.ipynb>data table notebook</a>'\n",
              "            + ' to learn more about interactive tables.';\n",
              "          element.innerHTML = '';\n",
              "          dataTable['output_type'] = 'display_data';\n",
              "          await google.colab.output.renderOutput(dataTable, element);\n",
              "          const docLink = document.createElement('div');\n",
              "          docLink.innerHTML = docLinkHtml;\n",
              "          element.appendChild(docLink);\n",
              "        }\n",
              "      </script>\n",
              "    </div>\n",
              "  </div>\n",
              "  "
            ]
          },
          "metadata": {},
          "execution_count": 86
        }
      ]
    },
    {
      "cell_type": "code",
      "source": [
        "#idxmax 활용하여 가장 가능성 높은 확률의 토픽을 기존 데이터 끝에 붙임\n",
        "theta_df = news_all.merge(new_df, left_index=True, right_index=True)\n",
        "theta_df['topic']=theta_df[['#'+ str(s) for s in range(1, k+1)]].idxmax(axis=1)\n",
        "theta_df.head()"
      ],
      "metadata": {
        "colab": {
          "base_uri": "https://localhost:8080/",
          "height": 974
        },
        "id": "cXedw7AOcmTM",
        "outputId": "176a89bd-d579-469f-c8f2-e1b97c3e8d14"
      },
      "execution_count": null,
      "outputs": [
        {
          "output_type": "execute_result",
          "data": {
            "text/plain": [
              "             id      date press  \\\n",
              "0  1.100401e+06  20170509  동아일보   \n",
              "1  1.101101e+06  20170508  한국일보   \n",
              "2  1.100101e+06  20170508  경향신문   \n",
              "3  1.100101e+06  20170508  경향신문   \n",
              "4  1.101001e+06  20170508   한겨레   \n",
              "\n",
              "                                            maintext      date1 year-month  \\\n",
              "0  석탄발전 퇴출과 원자력발전소 축소, 재생에너지 확대는 대선 후보 대부분의 에너지 정... 2017-05-09    2017-05   \n",
              "1  도널드 트럼프 미국 행정부 요청으로 중국이 대북 압박을 강화하는 것으로 알려졌지만,... 2017-05-08    2017-05   \n",
              "2  ■마지막 한마디\\n\\n“저 문재인에게 당면한 나라의 위기를 극복할 힘을 주십시오. ... 2017-05-08    2017-05   \n",
              "3  ■마지막 한마디\\n\\n“많은 분들이 유승민 참 좋은데 찍으면 사표 될까봐 걱정하십니... 2017-05-08    2017-05   \n",
              "4  주요 5개 정당 대선 후보들이 대통령에 당선되면 지방분권에 관심을 갖고 헌법 개정 ... 2017-05-08    2017-05   \n",
              "\n",
              "                                               nouns        #1        #2  \\\n",
              "0  [석탄, 발전, 퇴출, 축소, 재생에너지, 확대, 대선, 후보, 대부분, 에너지, ...  0.001394  0.000918   \n",
              "1  [도널드, 트럼프, 미국, 행정부, 요청, 중국, 대북, 압박, 강화, 중국, 국영...  0.001255  0.000826   \n",
              "2  [마지막, 한마디, 문재인, 당면, 나라, 위기, 극복, 개혁, 통합, 흐름, 대한...  0.001858  0.001223   \n",
              "3  [마지막, 한마디, 유승민, 사표, 걱정, 소신, 양심, 후보, 사표, 소신, 투표...  0.319833  0.001500   \n",
              "4  [주요, 정당, 대선, 후보, 대통령, 당선, 지방, 분권, 관심, 헌법, 개정, ...  0.001167  0.000768   \n",
              "\n",
              "         #3  ...       #22       #23       #24       #25       #26       #27  \\\n",
              "0  0.612153  ...  0.000817  0.000534  0.000738  0.000936  0.001101  0.001009   \n",
              "1  0.001602  ...  0.000735  0.000481  0.000664  0.000842  0.000991  0.000908   \n",
              "2  0.002372  ...  0.001089  0.000712  0.000984  0.038225  0.001468  0.001344   \n",
              "3  0.002911  ...  0.001335  0.000874  0.001207  0.001530  0.001801  0.001649   \n",
              "4  0.001491  ...  0.000684  0.000447  0.000618  0.000784  0.000922  0.000845   \n",
              "\n",
              "        #28       #29       #30  topic  \n",
              "0  0.001053  0.001380  0.001150     #3  \n",
              "1  0.000948  0.001242  0.001035     #4  \n",
              "2  0.001404  0.001839  0.001533     #6  \n",
              "3  0.001722  0.002256  0.001880     #6  \n",
              "4  0.000882  0.001155  0.000963    #12  \n",
              "\n",
              "[5 rows x 38 columns]"
            ],
            "text/html": [
              "\n",
              "  <div id=\"df-ea8fd876-c2c6-4a24-b4eb-c9bced126275\">\n",
              "    <div class=\"colab-df-container\">\n",
              "      <div>\n",
              "<style scoped>\n",
              "    .dataframe tbody tr th:only-of-type {\n",
              "        vertical-align: middle;\n",
              "    }\n",
              "\n",
              "    .dataframe tbody tr th {\n",
              "        vertical-align: top;\n",
              "    }\n",
              "\n",
              "    .dataframe thead th {\n",
              "        text-align: right;\n",
              "    }\n",
              "</style>\n",
              "<table border=\"1\" class=\"dataframe\">\n",
              "  <thead>\n",
              "    <tr style=\"text-align: right;\">\n",
              "      <th></th>\n",
              "      <th>id</th>\n",
              "      <th>date</th>\n",
              "      <th>press</th>\n",
              "      <th>maintext</th>\n",
              "      <th>date1</th>\n",
              "      <th>year-month</th>\n",
              "      <th>nouns</th>\n",
              "      <th>#1</th>\n",
              "      <th>#2</th>\n",
              "      <th>#3</th>\n",
              "      <th>...</th>\n",
              "      <th>#22</th>\n",
              "      <th>#23</th>\n",
              "      <th>#24</th>\n",
              "      <th>#25</th>\n",
              "      <th>#26</th>\n",
              "      <th>#27</th>\n",
              "      <th>#28</th>\n",
              "      <th>#29</th>\n",
              "      <th>#30</th>\n",
              "      <th>topic</th>\n",
              "    </tr>\n",
              "  </thead>\n",
              "  <tbody>\n",
              "    <tr>\n",
              "      <th>0</th>\n",
              "      <td>1.100401e+06</td>\n",
              "      <td>20170509</td>\n",
              "      <td>동아일보</td>\n",
              "      <td>석탄발전 퇴출과 원자력발전소 축소, 재생에너지 확대는 대선 후보 대부분의 에너지 정...</td>\n",
              "      <td>2017-05-09</td>\n",
              "      <td>2017-05</td>\n",
              "      <td>[석탄, 발전, 퇴출, 축소, 재생에너지, 확대, 대선, 후보, 대부분, 에너지, ...</td>\n",
              "      <td>0.001394</td>\n",
              "      <td>0.000918</td>\n",
              "      <td>0.612153</td>\n",
              "      <td>...</td>\n",
              "      <td>0.000817</td>\n",
              "      <td>0.000534</td>\n",
              "      <td>0.000738</td>\n",
              "      <td>0.000936</td>\n",
              "      <td>0.001101</td>\n",
              "      <td>0.001009</td>\n",
              "      <td>0.001053</td>\n",
              "      <td>0.001380</td>\n",
              "      <td>0.001150</td>\n",
              "      <td>#3</td>\n",
              "    </tr>\n",
              "    <tr>\n",
              "      <th>1</th>\n",
              "      <td>1.101101e+06</td>\n",
              "      <td>20170508</td>\n",
              "      <td>한국일보</td>\n",
              "      <td>도널드 트럼프 미국 행정부 요청으로 중국이 대북 압박을 강화하는 것으로 알려졌지만,...</td>\n",
              "      <td>2017-05-08</td>\n",
              "      <td>2017-05</td>\n",
              "      <td>[도널드, 트럼프, 미국, 행정부, 요청, 중국, 대북, 압박, 강화, 중국, 국영...</td>\n",
              "      <td>0.001255</td>\n",
              "      <td>0.000826</td>\n",
              "      <td>0.001602</td>\n",
              "      <td>...</td>\n",
              "      <td>0.000735</td>\n",
              "      <td>0.000481</td>\n",
              "      <td>0.000664</td>\n",
              "      <td>0.000842</td>\n",
              "      <td>0.000991</td>\n",
              "      <td>0.000908</td>\n",
              "      <td>0.000948</td>\n",
              "      <td>0.001242</td>\n",
              "      <td>0.001035</td>\n",
              "      <td>#4</td>\n",
              "    </tr>\n",
              "    <tr>\n",
              "      <th>2</th>\n",
              "      <td>1.100101e+06</td>\n",
              "      <td>20170508</td>\n",
              "      <td>경향신문</td>\n",
              "      <td>■마지막 한마디\\n\\n“저 문재인에게 당면한 나라의 위기를 극복할 힘을 주십시오. ...</td>\n",
              "      <td>2017-05-08</td>\n",
              "      <td>2017-05</td>\n",
              "      <td>[마지막, 한마디, 문재인, 당면, 나라, 위기, 극복, 개혁, 통합, 흐름, 대한...</td>\n",
              "      <td>0.001858</td>\n",
              "      <td>0.001223</td>\n",
              "      <td>0.002372</td>\n",
              "      <td>...</td>\n",
              "      <td>0.001089</td>\n",
              "      <td>0.000712</td>\n",
              "      <td>0.000984</td>\n",
              "      <td>0.038225</td>\n",
              "      <td>0.001468</td>\n",
              "      <td>0.001344</td>\n",
              "      <td>0.001404</td>\n",
              "      <td>0.001839</td>\n",
              "      <td>0.001533</td>\n",
              "      <td>#6</td>\n",
              "    </tr>\n",
              "    <tr>\n",
              "      <th>3</th>\n",
              "      <td>1.100101e+06</td>\n",
              "      <td>20170508</td>\n",
              "      <td>경향신문</td>\n",
              "      <td>■마지막 한마디\\n\\n“많은 분들이 유승민 참 좋은데 찍으면 사표 될까봐 걱정하십니...</td>\n",
              "      <td>2017-05-08</td>\n",
              "      <td>2017-05</td>\n",
              "      <td>[마지막, 한마디, 유승민, 사표, 걱정, 소신, 양심, 후보, 사표, 소신, 투표...</td>\n",
              "      <td>0.319833</td>\n",
              "      <td>0.001500</td>\n",
              "      <td>0.002911</td>\n",
              "      <td>...</td>\n",
              "      <td>0.001335</td>\n",
              "      <td>0.000874</td>\n",
              "      <td>0.001207</td>\n",
              "      <td>0.001530</td>\n",
              "      <td>0.001801</td>\n",
              "      <td>0.001649</td>\n",
              "      <td>0.001722</td>\n",
              "      <td>0.002256</td>\n",
              "      <td>0.001880</td>\n",
              "      <td>#6</td>\n",
              "    </tr>\n",
              "    <tr>\n",
              "      <th>4</th>\n",
              "      <td>1.101001e+06</td>\n",
              "      <td>20170508</td>\n",
              "      <td>한겨레</td>\n",
              "      <td>주요 5개 정당 대선 후보들이 대통령에 당선되면 지방분권에 관심을 갖고 헌법 개정 ...</td>\n",
              "      <td>2017-05-08</td>\n",
              "      <td>2017-05</td>\n",
              "      <td>[주요, 정당, 대선, 후보, 대통령, 당선, 지방, 분권, 관심, 헌법, 개정, ...</td>\n",
              "      <td>0.001167</td>\n",
              "      <td>0.000768</td>\n",
              "      <td>0.001491</td>\n",
              "      <td>...</td>\n",
              "      <td>0.000684</td>\n",
              "      <td>0.000447</td>\n",
              "      <td>0.000618</td>\n",
              "      <td>0.000784</td>\n",
              "      <td>0.000922</td>\n",
              "      <td>0.000845</td>\n",
              "      <td>0.000882</td>\n",
              "      <td>0.001155</td>\n",
              "      <td>0.000963</td>\n",
              "      <td>#12</td>\n",
              "    </tr>\n",
              "  </tbody>\n",
              "</table>\n",
              "<p>5 rows × 38 columns</p>\n",
              "</div>\n",
              "      <button class=\"colab-df-convert\" onclick=\"convertToInteractive('df-ea8fd876-c2c6-4a24-b4eb-c9bced126275')\"\n",
              "              title=\"Convert this dataframe to an interactive table.\"\n",
              "              style=\"display:none;\">\n",
              "        \n",
              "  <svg xmlns=\"http://www.w3.org/2000/svg\" height=\"24px\"viewBox=\"0 0 24 24\"\n",
              "       width=\"24px\">\n",
              "    <path d=\"M0 0h24v24H0V0z\" fill=\"none\"/>\n",
              "    <path d=\"M18.56 5.44l.94 2.06.94-2.06 2.06-.94-2.06-.94-.94-2.06-.94 2.06-2.06.94zm-11 1L8.5 8.5l.94-2.06 2.06-.94-2.06-.94L8.5 2.5l-.94 2.06-2.06.94zm10 10l.94 2.06.94-2.06 2.06-.94-2.06-.94-.94-2.06-.94 2.06-2.06.94z\"/><path d=\"M17.41 7.96l-1.37-1.37c-.4-.4-.92-.59-1.43-.59-.52 0-1.04.2-1.43.59L10.3 9.45l-7.72 7.72c-.78.78-.78 2.05 0 2.83L4 21.41c.39.39.9.59 1.41.59.51 0 1.02-.2 1.41-.59l7.78-7.78 2.81-2.81c.8-.78.8-2.07 0-2.86zM5.41 20L4 18.59l7.72-7.72 1.47 1.35L5.41 20z\"/>\n",
              "  </svg>\n",
              "      </button>\n",
              "      \n",
              "  <style>\n",
              "    .colab-df-container {\n",
              "      display:flex;\n",
              "      flex-wrap:wrap;\n",
              "      gap: 12px;\n",
              "    }\n",
              "\n",
              "    .colab-df-convert {\n",
              "      background-color: #E8F0FE;\n",
              "      border: none;\n",
              "      border-radius: 50%;\n",
              "      cursor: pointer;\n",
              "      display: none;\n",
              "      fill: #1967D2;\n",
              "      height: 32px;\n",
              "      padding: 0 0 0 0;\n",
              "      width: 32px;\n",
              "    }\n",
              "\n",
              "    .colab-df-convert:hover {\n",
              "      background-color: #E2EBFA;\n",
              "      box-shadow: 0px 1px 2px rgba(60, 64, 67, 0.3), 0px 1px 3px 1px rgba(60, 64, 67, 0.15);\n",
              "      fill: #174EA6;\n",
              "    }\n",
              "\n",
              "    [theme=dark] .colab-df-convert {\n",
              "      background-color: #3B4455;\n",
              "      fill: #D2E3FC;\n",
              "    }\n",
              "\n",
              "    [theme=dark] .colab-df-convert:hover {\n",
              "      background-color: #434B5C;\n",
              "      box-shadow: 0px 1px 3px 1px rgba(0, 0, 0, 0.15);\n",
              "      filter: drop-shadow(0px 1px 2px rgba(0, 0, 0, 0.3));\n",
              "      fill: #FFFFFF;\n",
              "    }\n",
              "  </style>\n",
              "\n",
              "      <script>\n",
              "        const buttonEl =\n",
              "          document.querySelector('#df-ea8fd876-c2c6-4a24-b4eb-c9bced126275 button.colab-df-convert');\n",
              "        buttonEl.style.display =\n",
              "          google.colab.kernel.accessAllowed ? 'block' : 'none';\n",
              "\n",
              "        async function convertToInteractive(key) {\n",
              "          const element = document.querySelector('#df-ea8fd876-c2c6-4a24-b4eb-c9bced126275');\n",
              "          const dataTable =\n",
              "            await google.colab.kernel.invokeFunction('convertToInteractive',\n",
              "                                                     [key], {});\n",
              "          if (!dataTable) return;\n",
              "\n",
              "          const docLinkHtml = 'Like what you see? Visit the ' +\n",
              "            '<a target=\"_blank\" href=https://colab.research.google.com/notebooks/data_table.ipynb>data table notebook</a>'\n",
              "            + ' to learn more about interactive tables.';\n",
              "          element.innerHTML = '';\n",
              "          dataTable['output_type'] = 'display_data';\n",
              "          await google.colab.output.renderOutput(dataTable, element);\n",
              "          const docLink = document.createElement('div');\n",
              "          docLink.innerHTML = docLinkHtml;\n",
              "          element.appendChild(docLink);\n",
              "        }\n",
              "      </script>\n",
              "    </div>\n",
              "  </div>\n",
              "  "
            ]
          },
          "metadata": {},
          "execution_count": 22
        }
      ]
    },
    {
      "cell_type": "code",
      "source": [
        "#토픽별로 최빈 단어 파악하기 위한 데이터프레임\n",
        "topic_df = pd.DataFrame()\n",
        "for i in range(0, k):\n",
        "  temp = pd.DataFrame()\n",
        "  temp = pd.DataFrame(mdl_k.get_topic_words(i, top_n=10))\n",
        "  temp.columns = [\"#\"+str(i+1),\"probs\"+str(i+1)]\n",
        "  temp = temp.reset_index()\n",
        "  if (i==0):\n",
        "      topic_df = topic_df.append(temp, ignore_index=True)\n",
        "  else:\n",
        "      topic_df = topic_df.merge(temp, left_on=\"index\", right_on=\"index\")"
      ],
      "metadata": {
        "id": "F32WaeaBsnLK"
      },
      "execution_count": null,
      "outputs": []
    },
    {
      "cell_type": "markdown",
      "source": [
        "최종 토픽 확인"
      ],
      "metadata": {
        "id": "hopgLuk7nFy4"
      }
    },
    {
      "cell_type": "code",
      "source": [
        "#토픽 확인하기\n",
        "for i in range(1,31):\n",
        "  cnt = len(theta_df[theta_df['topic']=='#'+str(i)])\n",
        "  print(\"토픽 {:8}: 토픽 개수 {:8}, 전체 퍼센트 {:8.3f}%\".format(i, cnt, cnt/len(news_all)*100)) # 해당 토픽의 정보 \n",
        "  print(topic_df['#'+str(i)]) # 해당 토픽에서 가장 많이 나오는 단어 \n",
        "  print(theta_df[theta_df['topic']=='#'+str(i)]['maintext'].sample(n=20).values) # 임의로 선택 20(n)개의 문서 \n",
        "  print(\"\\n\\n==================================================================================\\n\\n\")"
      ],
      "metadata": {
        "id": "-q-3E6L_lZJP",
        "colab": {
          "base_uri": "https://localhost:8080/"
        },
        "outputId": "b7c50a1e-aac8-45e6-d630-e0bdbe4cea50"
      },
      "execution_count": null,
      "outputs": [
        {
          "output_type": "stream",
          "name": "stdout",
          "text": [
            "토픽        1: 토픽 개수     1103, 전체 퍼센트    3.528%\n",
            "0     대통령\n",
            "1     문재인\n",
            "2     청와대\n",
            "3      정책\n",
            "4    감사원장\n",
            "5     박근혜\n",
            "6     최재형\n",
            "7      정치\n",
            "8      원장\n",
            "9      감사\n",
            "Name: #1, dtype: object\n",
            "['<!-- SUB_TITLE_START-->ㆍ“MB 뜻” 취임 뒤 무리한 M&A 철강 불황 겹쳐 ‘추락’ㆍ“천신일 박영준이 민다” 의혹 속 이구택 전격 퇴진시키고 취임<strong style..'\n",
            " '윤석열 검찰총장이 4일 사임했습니다. 7월 임기 만료를 4개월 앞두고 전격적으로 사퇴한 겁니다. 그의 사퇴문은 날선 표현들로 가득했습니다. “헌법정신과 법치시스템이 파괴되고 있다. 그 피해는 고스란히 국민에게 돌아갈 것”이라며 자신이 몸 담았던 문재인 정부와 여권을 맹비난했습니다. 요 며칠 언론 인터뷰 등을 통해 여권의 ‘중대범죄수사청’ 추진에 대해 “..'\n",
            " '문재인 대통령이 탈원자력발전소을 선언한 직후 산업통상자원부가 신규 원자력발전소 계획을 백지화하는 수순에 들어간 것으로 알려지자 경북 영덕군이 술렁이고 있다. 경북 울진군과 경주시는 기존 원자력발전소시설이 들어선 곳이라 충격이 덜하지만, 영덕은 원자력발전소유치를 둘러싸고 찬반논란으로 홍역을 치른 곳이다. \\n \\n영덕군 관계자는 21일 \"일단 6월말 확정될 정부의 100대 국정기획과제와..'\n",
            " '문재인 대통령이 3일 내각과 청와대 수석급 이상 참모진의 인선을 마무리했다. 문 대통령은 이날 산업통상자원부 장관에 백운규(53) 한양대 제3공과대학 학장을, 보건복지부 장관에 박능후(61) 경기대 사회복지학과 교수를 각각 지명했다. 장관급으로 국회 인사청문회에 거쳐야하는 방송통신위원장에는 이효성(66) 전 방송위원회 부위원장이, 금융위원장에는 최종구(..'\n",
            " '야당의 비토권(거부권)을 무력화하는 고위공직자범죄수사처(고위공직자범죄수사처)법 개정안이 10일 야당 반대 속에 국회 본회의를 통과했다. 문재인 대통령이 지난 7일 “고위공직자범죄수사처가 출범되길 희망한다”고 말한 지 3일 만이다. 문 대통령은 법 통과 직후 “2021년 새해 벽두에는 고위공직자범죄수사처가 정식 출범할 수 있기를 기대한다”고 말했다. 후보 추천 및 지명, 국회 인사청문회 등 ..'\n",
            " '문재인 대통령이 30일 장관 5명을 교체하는 2기 개각을 단행했다. 정부 출범 1년 동안 성과를 내지 못했거나 각종 논란이 불거졌던 부처 장관들이 주로 교체됐다. 경제 분야에서는 교수 대신 관료가 발탁됐다는 점이 특징적이다. 더불어민주당 여성 의원들의 입각도 두드러진다. \\n \\n사회부총리 겸 교육부 장관에는 유은혜(56) 민주당 의원이 발탁됐다. 김상곤 ..'\n",
            " '이해찬 더불어민주당 대표는 13일 “올해 가장 중요한 과제는 민생 안정과 경제 활력이 될 것”이라고 밝혔다. 이 대표는 이날 국회에서 신년 기자회견을 열고 “올해 화두를 ‘평화ㆍ경제 그리고 새로운 100년’으로 정했다”며 이같이 말했다. \\n \\n 문재인 대통령이 지난 10일 신년 기자회견에서 올해 국정 우선 과제가 경제정책 성과의 체감이라고 한 것에 대해..'\n",
            " '윤석열 “(혹시 사람에 충성하는 것은 아니에요?) 저는 사람에 충성하지 않기 때문에 제가 오늘도 이런 말씀을 드리는 겁니다.” - 2013년 10월 21일 국정감사.\\n \\n 최재형 \"정치적 중립성과 독립성을 지킬 수 있는 인물을 제청하라는 감사원장에 주어진 헌법상 책무를 다하기 위해 노력하고 있습니다.\" - 2020년 8월 24일 예산결산특별위원회 \\n 대..'\n",
            " '일본 아베(安倍晋三) 정권의 장관이나 집권 자민당 간부의 막말이 끊이지 않고 있다. ‘아베 1강’ 체제가 장기화하면서 집권 세력의 독선과 그릇된 인식이 그대로 드러나는 것이라는 지적이 나온다. ‘아베 1강’ 체제가 사회 전반을 통제하는 ‘판 옵티콘’과 닮았다는 비판까지 제기되고 있다. \\n\\n■아베 정권 인사들의 ‘막말 퍼레이드’\\n\\n19일 아사히신문 ..'\n",
            " '국정기획자문위원회가 정부에 문재인 대통령의 공약인 ‘탈원자력발전소’를 실현시킬 구체 방안을 가져오라고 주문했다. 석탄화력발전소 주변 지역 주민들에게 전기료를 할인해주는 방안도 탈원자력발전소 정책과 함께 추진된다. \\n \\n 국정기획위는 29일 서울 종로구 금융감독원 연수원에서 원자력안전위원회 업무보고를 받은 뒤 이같이 요구했다. 이개호 국정기획위 경제2분과위..'\n",
            " '■ 금주의 인물\\n\\n\\n\\n1. 여당야당 사퇴 요구에도 침묵 김외숙 청와대 인사수석\\n\\n\\n\\n거듭된 인사 참사에 청와대에서 인사를 책임지는 김외숙 인사수석의 ‘책임론’이 야권은 물론 여권에서도 터져 나왔다. 하지만 김 수석에 대한 경질 요구에도 청와대는 엄호하고 나섰고 문재인 대통령은 여전히 굳은 신뢰를 보냈다. 하지만 인사 관련 잡음이 끊이지 않음에도 누구도 책임..'\n",
            " '전 세계에 확진자 2천만 명을 넘어서는 코로나19 사태, 그 끝은 어디인가, 그리고 이번 주말까지 비 소식이 계속되는 사상 최장(最長)의 장마와 그 피해, 온 국민의 분노 게이지를 한껏 높이고 있는 문 정부의 부동산 정책 실패, 윤석열 검찰총장을 완전 고립무원 속에 가둬두려는 청와대와 법무부의 인사 횡포, 이런 뉴스를 전달하고 해석하느라 정말 8월이 어..'\n",
            " '김수현 신임 청와대 정책실장이 12일 국회에서 “경제부총리가 중심이 돼 우리나라 경제운영과 고용 확대 등에 나설 수 있게 잘 뒷받침하겠다”고 말했다. 전날 취임 후 첫 기자간담회에서 “홍남기 경제부총리 후보자가 경제사령탑”이라고 한 데 이어 이틀째 몸을 낮췄다. \\n \\n 김 실장은 이날 국회 예산결산특별위원회에서 국회 데뷔전을 치렀다. 김 실장은 박영선 ..'\n",
            " '민주화운동 성과 돈 권력으로 사유화하는 사람들 있어 \\n 文 대통령, 원칙도 중요하지만 실사구시 놓치면 안 돼 \\n \\n \"요즘 대통령의 발언이 사려 깊지 못하다는 우려가 있다.” \\n \\n \\n 김성재 전 청와대 민정수석은 문재인 대통령의 화법(話法)이 근래 부쩍 거칠어졌다며 이렇게 말했다. 대통령의 자리는 가급적 특정 현안에 대한 직접 언급을 삼가고, 특히 정..'\n",
            " '\"원자력발전소 기술력 국제경쟁력 떨어지지 않게 지원할 것\" \\n \\n문재인 대통령은 15일 신한울원전원자력발전소 원자력발전소 3 4호기 공사 재개 요구와 관련 \"에너지 정책 전환의 흐름이 중단되지는 않을 것\"이라고 말했다. \\n \\n문 대통령은 이날 청와대 영빈관에서 열린 ‘2019 기업인과의 대화’에서 참석자들에게 신한울원전원자력발전소 3 4호기 공사 재개 요청을 받은 뒤 이에 대한 답변 과정에서 \"..'\n",
            " '“그게 필요하다고 생각하세요?”\\n\\n1월 12일 신년 기자회견에서 박근혜 대통령은 각 부처 장관들을 돌아보며 말했다. 장관들의 대면보고가 적은 게 아니냐는 기자의 질문에 대한 답이었다. 남재희 전 노동부 장관은 대면보고를 기피하는 것으로 “박근혜 대통령의 통치방식의 문제점과 그에 따른 부작용을 거의 풀이할 수 있다”고 말했다. 대면보고를 피하고 보고서만 신뢰..'\n",
            " '\"문재인 대통령은 \\'착한 정치 콤플렉스\\'에 빠져 있다.\" 지난 14일 최저임금 두 자릿수 인상이 결정되자 김관영 바른미래당 원내대표가 한 말이다. 경제에 악영향이 미칠 줄 알면서도 \\'최저임금 1만원\\' 공약을 거둬들이지 못해서 문제라는 지적이다.그는 예멘 난민 문제에 정부가 침묵할 때도 \"문 대통령은 \\'착한 정치\\'의 장막 뒤에 숨지 말고 악역을 맡으라\"고..'\n",
            " '“국회가 감사를 요구한 사항에 대한 감사원의 감사 결과를 난센스라고 하는 것은 이해하기 어렵습니다.” \\n \\n 최재형 감사원장은 월성 원자력발전소 1호기의 조기 폐쇄와 관련한 감사를 “난센스”라고 폄훼한 노영민 대통령비서실장의 발언을 최근 국회에서 강하게 비판했다. 감사원은 원자력발전소 감사를 왜 시작했을까. \\n \\n 지난해 9월 30일 국회 본회의장. 월성 1호..'\n",
            " '2003년 노무현 대통령, 2017년 문재인 대통령의 취임 일성은 같았다. 검찰 개혁이었다. 방법이 달랐다. 노무현은 취임 12일 뒤 전국에 생중계되는 ‘검사와의 대화’ 자리를 마련해 직접 대화를 시도했다. 정공법을 택했다. 현장의 젊은 검사들은 브레이크가 없었다. 제왕적 권력을 막 손에 쥔 선출된 권력 앞에서 한 마디도 지지 않았다. 급기야 대통령 입..'\n",
            " '신현수 민정수석이 열일했다. 일제시대 애국지사 폭탄 투척하듯, 청와대 한복판에서 사표를 투척함으로써 정권 핵심부의 음모를 백일하에 노출시켰다. \\n \\n \\n \\n적지 않은 국민이 지금껏 문재인 대통령만은 선하고 정의롭다고 믿었다. 대통령은 선하고 공정한데 일신의 영달과 장기집권을 노리는 ‘운동권 청와대’가 대통령의 눈과 귀를 가리는 줄 알았다. 윤석열 검찰총..']\n",
            "\n",
            "\n",
            "==================================================================================\n",
            "\n",
            "\n",
            "토픽        2: 토픽 개수     1135, 전체 퍼센트    3.631%\n",
            "0    아랍에미리트\n",
            "1        사업\n",
            "2        건설\n",
            "3        수출\n",
            "4     두산중공업\n",
            "5        해외\n",
            "6        수주\n",
            "7        기업\n",
            "8        업체\n",
            "9        계약\n",
            "Name: #2, dtype: object\n",
            "['한전이 최근 태양광발전소를 인수하며 세계 최대 전력 시장인 미국시장에 진출했다. 해외사업을 시작한 지 22년 만이다. 한전은 국내 전력시장 독점을 발판으로 성장했다는 비판을 받고 있기도 하지만 해외시장 진출에도 꾸준히 관심을 기울여 왔다. 그 결과 한전은 현재 건설이 진행 중인 아랍에미리트(아랍에미리트) 원자력발전소를 비롯해 세계 23개국에서 38개 프로젝트..'\n",
            " '광 응용기기용 전자기계 엑츄에이터(Actuator) 시스템 전문기업 ㈜지투하이소닉 (前 ㈜알비케이이엠디, 대표 곽병현)은 지난 18일 Beyond Energy 사와 아랍에미리트(아랍에미리트) 합작법인 설립을 위한 조인식을 가졌다고 19일 밝혔다. \\n \\n ㈜지투하이소닉은 지난 2001년 3월 설립해 2010년 코스닥 시장에 상장된 모바일 디바이스용 액츄에이터 ..'\n",
            " '극심한 자금난에 빠진 두산중공업이 친환경 에너지로 사업을 전환하는 등 경영정상화 방안을 내놨다. 채권단은 1조원 가량을 추가지원하는 방안 등을 다음주께 최종 확정해 두산중공업의 재무구조를 개선할 계획이다. \\n\\n\\n\\n 정부는 27일 정부서울청사에서 ‘산업경쟁력강화 관계장관회의’를 열어 두산중공업의 경영정상화 관련 진행상황에 대해 점검하고 논의했다고 밝혔다...'\n",
            " '박근혜 대통령은 20일 아랍에미리트(아랍에미리트) 현지에서 바라카 원자력발전소 1호기 원자로 설치 행사에 참석했다. 이 원자로는 한국 기술로 개발해 해외에 수출한 첫 원자로다. 박근혜 대통령은 원자로 벽면에 ‘바라카에서 시작된 협력의 불꽃이 양국의 미래 희망이 되길 바랍니다’라는 친필 메시지를 남겼다. \\n \\n 이 원자로는 3월 17일 경남 마산항을 출발해 지난달 30일..'\n",
            " '알려왔습니다 본지가 지난 7월 4일자 6면에 보도한 ‘확률 0% 계약 따냈다더니 한국수력원자력, 운영 정비 사전조율’ 제목의 기사와 관련, 한국수력원자력 측은 아랍에미리트(아랍에미리트) 바라카원자력발전소과 원자력발전소 운영과 정비 문제를 사전조율한 바 없으며 아랍에미리트 원자력발전소 운영사인 Nawah와 한전KPS 간의 정비사업계약 단독수주 협상은 이미 2017년 2월 이후 사실상 중단됐고 ..'\n",
            " '한국수력원자력이 러시아 기업의 이집트 엘다바 원자력발전소 건설 사업에 참여하기 위해 현지 파트너와 협력을 본격화한다. 엘다바 원자력발전소사업의 규모는 300억 달러로, 상업 운전 가동 시점은 2028년이다.\\n17일 한국수력원자력에 따르면 정재훈 한국수력원자력 사장은 16일(현지시간) 이집트 카이로 페트로젯 본사를 방문해 페트로젯과 협력합의서를 체결했다. 정 사장의 해외 출장은 지난..'\n",
            " '일본이 2013년 한국을 꺾고 수주한 터키 원자력발전소 건설을 포기할 방침이라는 보도가 나왔다. 4일 일본 니혼게이자이신문은 일본 정부와 미쓰비시(三菱)중공업이 지난 2013년부터 뛰어든 터키 흑해 연안의 시노프의 원자력발전소 4기 건설 사업을 중단하는 방향으로 가닥을 잡았다고 전했다. \\n \\n 이 원자력발전소 수주전에는 한국 컨소시엄 코리아팀도 뛰어든 바 있다. 그러..'\n",
            " '한화케미칼이 13일 석유화학회사 케이피엑스(KPX)화인케미칼을 인수하기로 하고 본계약을 맺었다. 케이피엑스화인케미칼은 가구 자동차 페인트 등에 사용되는 폴리우레탄 원료인 티디아이(TDI)를 국내 최초로 생산했고 매출의 75%를 수출하는 중견 업체다.\\n 이번 인수는 한화그룹이 일부 계열사 매각과 신규 사업 인수를 통해 제조 분야에서 핵심 역량을 강화하기 ..'\n",
            " '아랍에미리트(아랍에미리트)가 바라카 원자력발전소 1호기의 운영허가를 승인했다. 바라카 원자력발전소은 한국이 수출한 첫 원자력발전소이자 아랍에미리트의 유일한 원자력발전소이다. 17일 외신과 원자력업계에 따르면 아랍에미리트 원자력 규제청(FANR)은 바라카 원자력발전소 1호기의 운영 허가를 승인했다. 하마드 알카비 국제원자력기구(국제원자력기구) 주재 아랍에미리트 대표는 이날 아부다비에서 연 기자회견에서 “오늘은..'\n",
            " '지난해 사업 자산 매각 등 3조원대 구조조정을 거친 두산이 모처럼 호재를 만났다. 지난주 한 미 정상회담에서 해외 원자력발전소시장 공동 진출 합의문이 발표되면서 두산중공업에 새 사업 기회가 열릴 가능성이 커졌기 때문이다. 두산중공업은 이전까지 회사 매출의 13~15%를 원자력발전소 설비 제작 유지 보수 사업을 통해 거뒀지만, 문재인 정부의 탈원자력발전소 정책으로 사업에 타격..'\n",
            " \"한국수력원자력(사장 정재훈)은 22일 아랍에미리트(아랍에미리트) 원자력공사(ENEC)와 'R&D 협력 양해각서(MOU)'를 체결했다고 밝혔다. 아랍에미리트에 수출한 한국형 신형경수로(APR1400)의 연구개발 기술교류가 주 내용이다. \\n \\n이날 서면으로 체결된 양해각서를 통해 두 기관은 앞으로 3년간 원자력발전소 기자재, 방사화학 등 9개 분야의 R&D에 협력하고, 이를..\"\n",
            " '해외 원자력발전소 해체 현장에 첫 진출 \\n \\n한국수력원자력이 캐나다 원자력 해체 시장에 진출한다. \\n \\n한국수력원자력은 최근 캐나다 원자력엔지니어링 업체 키넥트릭스(Kinectrics)와 ‘캐나다 해체엔지니어링 지원 계약’을 맺고 캐나다 원자력발전소 해체 현장에 국내 전문 인력을 파견하기로 했다고 7일 밝혔다. 국내 원자력발전소 해체 인력이 해외로 파견되는 것은 이번이 처음이다. ..'\n",
            " '현대건설과 대우인터내셔널 컨소시엄이 우즈베키스탄에서 8억1900만 달러(약 8991억 원) 규모의 복합화력발전소 건설 사업을 수주했다.\\n\\n\\n\\n현대건설 대우인터내셔널 컨소시엄은 우즈베크 국영 전력청으로부터 8억1900만 달러 규모의 우즈베크 탈리마잔 지역 복합화력발전소 건설사업을 수주했다고 20일 밝혔다. \\n\\n\\n\\n두 회사는 지난 19일 우즈베크 수도 타슈..'\n",
            " '\\'원자력발전소폐쇄 반대\\' 마이클 셸런버거, 文정부 비판 \\n\"국내선 탈원자력발전소, 해외에는 원자력발전소 수출? 그럼 해외에서 누가 현대차 사나\" \\n \\n미국 환경단체 \\'환경진보\\'의 마이클 셸런버거(Shellenberger 사진)는 21일 \"문재인 대통령은 국내에서는 탈원자력발전소하면서 해외에서 원자력발전소을 수출하겠다고 하는 것은 말이 안되는 이야기\"라고 말했다. \\n \\n셸런버거는 미국에서 ..'\n",
            " '한국형 원자로의 핵심 기술이 해외로 유출돼 국가정보원과 원자력안전위원회가 진상 조사에 나섰다. 한국수력원자력 등 원자력발전소 공기업 출신 이직자들이 아랍에미리트(아랍에미리트)와 미국 등 외국 기업에 한국 원자력발전소 기술을 무단 유출한 것으로 알려졌다. 원자력발전소 기술의 유출이 정부 탈원자력발전소 정책의 후폭풍이라는 지적도 나온다. \\n \\n 17일 정부 당국자는 “한국수력원자력 출신 전직 간부..'\n",
            " '수주 부진으로 경영 위기를 겪는 두산중공업이 명예퇴직에 이어 휴업까지 검토하고 있다. 사진은 11일 오후 경남 창원시 성산구 두산중공업 정문 안으로 오토바이가 들어가는 모습. 연합뉴스 수주 부진으로 경영위기를 겪고 있는 두산중공업[034020]이 명예퇴직에 이어 휴업을 검토하고 있다. \\n \\n 그러나 노동조합이 고용 불안정을 이유로 반대하면서 휴업 강행 ..'\n",
            " '버락 오바마 행정부가 민간 원자력발전소 건설사업에 65억 달러(약 6조9693억원)의 지급보증을 결정하고 원자력발전소 건설 지원에 본격적으로 나섰다. \\n\\n19일 어니스트 모니즈 에너지부 장관은 워싱턴DC의 내셔널프레스클럽(NPC)에서 가진 연설에서 “조지아주 웨인즈버로의 원자력발전소 건설에 65억달러의 정부 지급보증을 결정했다”라면서 “원자력발전소 기술 발전과 상업화를 위해..'\n",
            " '우리나라와 일본은 액화천연가스(LNG) 수입 규모에서 각각 세계 2위와 1위다. 우리는 한국가스공사만이 LNG를 독점 수입하지만 일본은 40여개 민간 기업이 경쟁하면서 수입을 한다. 따라서 가스업계의 세계 최대 큰손인 한국가스공사가 일본 업체보다 싸게 수입해야 하는 것이 당연하지만, 실상은 그렇지 못하다.\\n\\n일본 대지진으로 원자력발전소이 멈추면서 일본의 가스 ..'\n",
            " '현지 왕립원자력원장 등 면담 \\n\\n신재생 분야 협력방안도 논의\\n\\n\\n\\n한국전력공사가 사우디아라비아 원자력발전소 수주를 위한 본격적인 현지 설득작업에 돌입했다.\\n\\n\\n\\n2일 한전에 따르면 김종갑 사장은 1일(현지시간) 사우디 리야드에서 알 술탄 왕립원자력 신재생에너지원(K.A.CARE) 원장 등과의 면담(사진)을 통해 신규 원자력발전소 건설사업 수주활동을 전개했다. 김 사장..'\n",
            " '유동성 위기 산업군 ‘3단계 대응책’  현재 2단계 시행, 마지막 카드만 남아\\n\\n\\n금융당국은 기존 경영난에 더해 최근 신종 코로나바이러스 감염증(코로나19)으로 인한 유동성 위기까지 겹친 산업군에 대해 최악의 경우 구조조정에 돌입하는 시나리오까지 대비하고 있다. 다만 당장은 채권은행의 지원과 채권 발행 등으로 위기에 대응하는 게 우선이라는 입장이다. ..']\n",
            "\n",
            "\n",
            "==================================================================================\n",
            "\n",
            "\n",
            "토픽        3: 토픽 개수     2119, 전체 퍼센트    6.778%\n",
            "0    에너지\n",
            "1     발전\n",
            "2     정책\n",
            "3     환경\n",
            "4     계획\n",
            "5     기후\n",
            "6     비중\n",
            "7     석탄\n",
            "8     탄소\n",
            "9     변화\n",
            "Name: #3, dtype: object\n",
            "['오바마 미국 대통령은 온실가스 저감을 명분으로 많은 반대를 무릅쓰고 석탄발전을 대폭 줄이고 가스발전을 확대하는 조치를 취했다. 미 연방법원도 행정부의 손을 들어주었다. 한국도 얼마 전 37%라는 의욕적인 온실가스 감축 목표를 발표했다. 그 목표가 합리적인 수준인지 의구심이 적지 않지만, 이제는 그 결과를 국제사회에 보여줘야 한다.\\n\\n 현실적으로 목표 달..'\n",
            " '재생에너지 발전비율을 2030년까지 20%로 끌어올리겠다는 정부의 에너지전환 3020계획이 계획대로 \\'착착\\' 진행되고 있다. \\n \\n산업통상자원부는 25일 올해 첫 \\'재생에너지 민 관 공동 협의회\\'를 개최하고 \"재생에너지 3020 이행계획 발표 이후 2018년 1월부터 올 6월까지 보급된 재생에너지 발전설비 규모는 4583MW\"라며 \"같은 기간 보급목표인..'\n",
            " '송전탑이나 발전소 터를 둘러싸고 전국에서 불거지는 갈등만 봐도 전기를 대량으로 생산해 먼 거리까지 수송하는 일이 한계에 부딪혔음은 쉽게 확인된다. ‘로컬푸드’와 마찬가지로 에너지도 가까운 곳에서 생산해 소비하는 ‘로컬에너지’가 대안으로 떠오르고 있다.\\n 태양광, 풍력, 소수력, 지열 등 지역의 자연자원을 활용해 큰 발전회사에 기대지 않고 에너지 자립을 ..'\n",
            " '이르면 2035년부터 휘발유 경유차 등 내연기관차 판매가 전면 금지될 전망이다. 정부는 2050년 무공해차 100% 전환 방안을 확정하고, 올 하반기 중 내연기관차 판매 금지 시점을 구체화하기로 했다. \\n \\n환경부는 2일 이런 내용의 탄소중립 이행계획을 발표했다. 지난해 10월 문재인 대통령이 2050 탄소중립을 선언한 이후 처음 나온 계획이다. 황석태..'\n",
            " 'ESG에 대한 생각 \\n\\n\\n\\n“친환경, 재생에너지가 좋다고 해서 모든 기업이, 모든 나라가 다 할 수는 없다. 부존자원 차이를 반영해 속도 조절이 이뤄져야 한다.”\\n\\n\\n\\n환경 사회 지배구조(ESG Environment, Social, Governance) 선구자로 불리는 전광우 세계경제연구원 이사장은 지난 13일 문화일보 인터뷰에서 “ESG에 조심스럽게,..'\n",
            " '한전의 발전 자회사가 환경설비에 수십억원을 쓰고도 성능과 운영 부실로 폐수 처리율이 8%에 그칠 정도로 헛돈을 쓰고 있었던 것으로 드러났다. 게다가 이 회사가 발급한 설비 실적 보증서를 기반으로 또다른 발전 자회사는 수백억원대의 유사한 환경설비를 도입하려 했으나 성능 보증 논란이 빚어지자 취소하는 방안을 검토하고 나섰다. 지난해 원자력발전소에서도 부품의 허위 ..'\n",
            " '정부가 2030년까지 온실가스 배출량을 배출전망(BAU) 대비 15~30%가량 감축하는 내용의 첫 공식안을 내놨다.환경부 등 관계부처는 11일 2030년 온실가스 배출전망치를 8억560만t으로 산정하고, 이중 14.7%에서 31.3%까지 줄이는 4가지 시나리오를 제시했다.부문별 배출전망은 2030년을 기준으로, 에너지 부문이 86.9%, 비에너지 부..'\n",
            " '[내일신문] \\n에너지 효율 높고 경제적  해외조림 통한 원자재 확보가 관건 \\n \\n\\n \\n\\n \\n\\n\\n\\n \\n\\n\\n<사진:우드펠릿(Wood Pellet). 나무자재를 기계에 넣어 톱밥처럼 분쇄한 후 접착제를 집어넣어 가래떡처럼 만든 후 일정한 크기로 잘라내면 사진과 같은 나무 알갱이가 된다. 사진 우림엔알 제공> \\n\\n\\n \\n\\n\\n기후변화 현상으로 인한 갖가지 자연재..'\n",
            " '우리나라는 현 정부 들어 원자력 발전을 점차 줄이겠다는 탈원자력발전소 정책으로 돌아섰다. 하지만 반대로 중국은 진작부터 대대적인 원자력발전소 확대정책을 추진하고 있다. 더 나아가 지난 9일엔 원자력발전소 기술 세계 1위를 목표로 한 ‘원자력발전소 표준화 업무 강화와 관련한 지도의견’을 발표, ‘원자력발전소굴기’까지 선언하기에 이르렀다. 골자는 2022년까지 국제 원자력발전소사업에서 중국 표..'\n",
            " '경유차 대부분 생계형 화물차 \\n\\n감축 로드맵은 언급조차 못해 \\n\\n저유황탄 사용, 근본대책 아냐 \\n\\n가로막힌 원자력 발전이 대안 \\n\\n\\n\\n‘中 경유 석탄탓’단순화 말고 \\n\\n정책 수정 필요성 등 인정해야\\n\\n\\n\\n연일 계속되는 고농도 미세먼지가 국민 생활 전반에 심각한 악영향을 미치면서 정부의 ‘탈원자력발전소’ ‘친(親)서민’ 정책과도 충돌하고 있다. 정부가 제대..'\n",
            " '73.2%. 지난해 경제협력개발기구(OECD) 국가들의 신규 발전설비 투자 중 재생에너지 비중이다. 국제에너지기구(IEA)가 발표한 ‘2017년 전 세계 에너지 투자 현황’을 보면 경제협력개발기구 국가들은 지난해 1390억달러(157조7천억원)를 재생에너지에 투자했다. 화력은 22.6%, 원자력은 4.2%다. 지속 가능한 미래를 위해 이산화탄소를 줄여야..'\n",
            " '현재 전 세계는 코로나 팬데믹 상황 극복과 이후 기후변화를 중심으로 한 세계적 이슈 대응에 관심이 뜨겁다. 국제에너지기구(IEA) 올해 3월 보고에 따르면 2018년 전 세계 에너지 분야 이산화탄소(CO2) 배출량은 331억t으로 최고치를 경신했다. 세계경제가 1% 성장할 때마다 CO2 배출량이 0.5%씩 증가한다는 점을 감안할 때 배출량 증가세는 당분..'\n",
            " '- ‘제3차 에너지기본계획’ 전문가 좌담\\n\\n\\n\\n“성장 따져 수요전망치 제시 낭비 요인을 없애자는 의지\\n\\n국가에너지종합센터 만들어 모든 에너지원 한곳서 관리\\n\\n전기가 원가보다 낮은 가격 발전사업자 등 赤字 비정상\\n\\n전기도매가격연동制 도입을 OECD國중 한국만 채택안해\\n\\n\\n\\n정확한 사회적 비용 반영되면 電源 믹스가 자연스럽게 조정\\n\\n‘전기料인상’ 정치화..'\n",
            " '장관이 “너 죽을래?”라는 말까지 하며 탈원자력발전소 총대를 멨다는 산업통상자원부에서 지난해 10월 한국 원자력발전을 극찬하는 보고서가 만들어졌다고 한다. 탈원자력발전소 실행 기관이나 다름없는 한국수력원자력도 최근 탈원자력발전소 논리를 조목조목 부정하는 보고서를 국회에 제출했다. 이쯤 되면 문재인 대통령의 탈원자력발전소은 자가당착이나 표리부동이라는 표현조차 미흡할 정도의 정신분열 ..'\n",
            " '기후변화와 폭염, 누진세 논란, 원자력발전 안전 논란 등 에너지에 대한 다양한 이슈가 있었던 올해 에너지 생산에서 시민의 역할과 나아갈 길을 모색하는 자리가 마련된다. \\n \\n서울시는 ‘제4회 서울 국제 에너지 콘퍼런스’를 다음달 1일 시청에서 개최한다고 10일 밝혔다. ‘에너지 프로슈머의 시대’를 주제로 열리는 이번 회의에서는 에너지 생산에서 능동적 주..'\n",
            " '산업통상자원부는 24일 기업에 수요감축(DR)을 요청하지 않을 것이라고 밝혔다. 전력수급 상황이 관리 가능하다는 판단에서다.산업통상자원부는 24일 12시 40분께 “산업통상자원부와 전력거래소는 DR(수요감축요청)을 실시하지 않기로 결정했다”고 발표했다. 산업통상자원부는 “수요는 어제(23일)과 비슷하거나 또는 다소 증가할 전망”이라며 “공급 측면에서 대응이 가능한 수준”이라..'\n",
            " '━\\n 24회 세계에너지총회 개막 \\n \\n \\n “우리는 탄소 함유량을 축소하는 방향으로 에너지 전환을 추진 중이다. 신재생에너지와 원자력에너지가 바로 깨끗한 에너지(clean energy)를 생산하는데 거대한 기여를 하게 될 것이다.” \\n \\n 수하일 알-마즈루이 아랍에미레이트(아랍에미리트) 에너지 산업통상자원부 장관이 제24회 세계에너지총회를 개막하는 자리에서 언급한 ..'\n",
            " '“힘들게 확보한 친환경 에너지로 원자력 발전소의 공백을 메꾸는 건 오히려 후퇴하는 것이 아닐까?” \\n 네덜란드 흐로닝언대학교에서 과학철학을 연구하는 사이먼 프리드리히 교수의 고민이다. 그는 녹색당을 지지하는 가정에서 자란 환경론자로, 1980년대 이후 독일의 탈핵 기조를 지지해온 중심 세대다. 어린 시절 체르노빌의 참상을 담은 책을 보며 원자력 에너지에..'\n",
            " '서울시와 제주도의 에너지 절약 정책이 프랑스 파리 기후변화 대응 관련 회의에서 주목을 받고 있다.\\n서울시는 박원순 시장이 지난 5일 오후(현지시간) 파리에서 열린 유엔기후변화협약 주최 ‘액션데이’에서 원자력발전소하나줄이기 등 시민참여형 기후정책을 소개했다고 6일 밝혔다. 원자력발전소하나줄이기는 신재생 에너지 생산과 절약으로 원자력발전소 1기분의 에너지(200만TOE)를 절감..'\n",
            " '제20대 대통령 선거를 한달여 앞두고 대선후보들의 기후정책에 대한 비판이 쏟아져 나오고 있다. 종전보다는 기후에 대한 언급은 많아졌지만 진정성과 적극성이 떨어진다는 평가다. \\n \\n기후위기비상행동은 27일 서울 청계광장에서 20대 대선 기후정책 평가 기자회견을 열었다. 기후위기비상행동은 \"후보마다 유의미한 기후정책 차이를 확인했지만 주요 후보들의 기후정책..']\n",
            "\n",
            "\n",
            "==================================================================================\n",
            "\n",
            "\n",
            "토픽        4: 토픽 개수     1328, 전체 퍼센트    4.248%\n",
            "0    대통령\n",
            "1     정상\n",
            "2     회담\n",
            "3     방문\n",
            "4     미국\n",
            "5    박근혜\n",
            "6     총리\n",
            "7     장관\n",
            "8     외교\n",
            "9     협력\n",
            "Name: #4, dtype: object\n",
            "['미국 동유럽과 러시아가 연일 ‘외교관 추방 전쟁’을 치르고 있다. 조 바이든 미국 대통령 취임 직후 러시아에 대한 외교적 압박 수위가 높아지면서 안보동맹 관계인 동유럽 국가들도 ‘대(對) 러시아 압박전선’에 동참하는 모양새다. \\n \\n미국 월스트리트저널(WSJ)은 19일(현지시간) 동유럽 국가들의 대 러시아 기조가 강경해지고 있다고 보도했다. 미국 정부는..'\n",
            " '아베(安倍晋三) 일본 정권이 한국과 일본의 일본군 위안부 문제 합의 내용을 이행하기 위한 후속 조치에 들어갔다.\\n\\n아베 총리는 29일 도쿄(東京)도내 한 호텔에서 기시다 후미오(岸田文雄) 외무상으로부터 전날 끝난 한국과의 회담 결과에 대해 보고를 받은 뒤 “합의 사항의 ‘팔로우업(follow up, 후속조치)’을 확실하게 해달라”고 지시했다고 교도..'\n",
            " '영국을 국빈 방문 중인 박근혜 대통령은 6일(현지시간) 런던 다우닝가 10번지 총리관저에서 데이비드 캐머런 총리와 정상회담을 갖고 양국 간 ‘포괄적 창조 동반자 관계’ 확대와 비전을 담은 공동성명을 채택했다.\\n\\n두 정상은 공동성명에서 ▲양국 외교부 간 전략대화의 장관급 격상 등 양자관계 강화 ▲문화산업 과학기술 등 창조경제 협력 ▲북한 비핵화와 한반도 ..'\n",
            " '관계 개선 돌파구 마련 주목 일각 “경제-역사 문제 분리, 정면돌파 원칙론 담을 수도”\\n\\n문재인 대통령이 광복절을 앞두고 대일 메시지 수위조절에 나서면서 일본의 대(對) 한국 수출규제로 촉발된 한일 경제전쟁이 휴전 국면으로 돌입할 수 있을지 주목된다. 8ㆍ15 경축사의 키워드가 ‘미래’인 것으로 알려지면서 파국으로 치닫고 있는 한일관계를 정상화하는 극..'\n",
            " \"외국으로 나갔던 미국 기업이 미국으로 돌아가는 '리쇼어링'이 본격화한 건 '일자리 늘리기'에 몰두하는 도널드 트럼프 정부 때가 아닌 전임 버락 오바마 대통령 때다. 2010년부터 오바마가 임기를 마치던 2016년 1월까지, 1600여 기업이 미국으로 복귀했다. 보스턴컨설팅그룹(BCG)은 이 기간 미국에 제조업 일자리 약 80만개와 간접 고용 240만명이..\"\n",
            " '한국과 중미 8개국이 일본의 후쿠시마 원자력발전소 오염수 방류 결정에 대해 우려를 표명하고 공동대응의 필요성을 촉구했다.\\n최종건 외교부 1차관은 22일(현지시간) 코스타리카에서 한-중미통합체제(SICA) 외교차관회의를 열고 한-SICA 공동성명을 발표했다. SICA는 1991년 발족된 지역기구로 벨리즈, 과테말라, 엘살바도르, 온두라스, 코스타리카, 파나마, ..'\n",
            " '문재인 대통령이 21일 오후(현지시간) 백악관 국빈만찬장에서 조 바이든 미국 대통령과 확대회담을 하고 있다. 워싱턴=연합뉴스 21일(현지시간) 한 미 정상회담에서 4 27 판문점선언과 한 미 미사일지침 해제, 한 미 원자력발전소산업 협력 문제가 논의된 것으로 알려지면서 관심이 모아지고 있다. 북 미, 남북 대화를 촉진하고 한 미동맹을 더욱 강화하는 데 기여할 ..'\n",
            " '모디 총리 \"달 탐사를 위해 찬드라얀 프로젝트 협력하자\" \\n文대통령 \"인도에게 가장 원하는 협력 분야가 우주분야\" \\n \\n김의겸 청와대 대변인은 22일 한 인도 확대정상회담에서 인도 측이 우리나라에 원자력발전소 건설 사업에 참여해달라고 요청했고, 문재인 대통령은 \"기회를 달라\"고 답했다고 밝혔다. \\n \\n비제이 케샤브 고케일 인도 수석차관은 이날 정상회담에 배석해..'\n",
            " '중국 항저우에서 4 5일 열리는 주요 20개국(G20) 정상회의가 임박하면서 각국 정상의 양자회담 일정이 구체화되고 있다. \\n \\n 버락 오바마 미국 대통령과 시진핑 중국 국가주석의 미 중 정상회담이 3일 열린다. 러시아 크렘린궁도 블라디미르 푸틴 대통령과 시진핑 국가주석이 4일 정상회담을 갖는다고 밝혔다. 푸틴 대통령은 3일 터키, 4일 영국, 5일 이집트 정..'\n",
            " '아베(安倍晋三 사진) 일본 총리가 유엔총회에서 일본군 위안부 문제는 언급하지 않은 채 “분쟁지역 성폭력을 막는 데 노력하겠다”고 밝혔다. 한 일 외교장관 회담에서 일본은 위안부 문제에 대한 사죄와 배상을 거부해 아베 정권이 한 일관계 개선 의지가 없음을 여실히 드러냈다.\\n아베 총리는 26일 오후(현지시간) 유엔총회 기조연설에서 “(일본은) 여성이 ..'\n",
            " '문재인 대통령이 26일 오후 청와대에서 무함마드 빈 살만 사우디아라비아 왕세자 겸 부총리를 만나 반갑게 악수를 하고 있다. 26일 방한한 무함마드 빈 살만 사우디아라비아 왕세자 겸 부총리에 대해 청와대와 정부는 각별한 예우를 했다. 원자력발전과 석유, 건설 분야 등의 협력을 통해 두 나라가 구축한 돈독한 관계를 더욱 발전시키려는 전략에서다. 빈 살만 왕..'\n",
            " '미국을 방문 중인 문승욱 산업통상자원부 장관은 10일(현지시간) 한 미가 국장급 반도체 파트너십 대화를 신설하는 등 반도체 협력을 강화하기로 합의했다고 밝혔다. 또 미국과 해외 원자력발전소 시장 공동 진출에 대한 관심을 서로 확인했다고 전했다. \\n \\n 문 장관은 이날 특파원 간담회에서 전날 지나 러몬도 미국 상무장관과 회담에서 \"한 미 양국이 반도체 협력을 통..'\n",
            " '체코 총리 회담서 ‘원자력발전소 세일즈’\\n “해외 언론이 인지할만한 큰 규모 사고 없었다는 의미” 청와대 해명\\n\\n아르헨티나 주요 20개국(G20) 정상회의 참석을 위해 체코를 경유 중인 문재인 대통령은 28일(현지시간) 안드레이 바비시 체코 총리와 회담을 갖고 양국 관계 발전 방안을 논의했다.\\n\\n특히 문 대통령은 회담에서 체코가 검토해온 신규 원자력발전소 건설 ..'\n",
            " '21일(현지시간 한국시간 22일 오전) 한미 정상회담 직후 발표될 공동성명에 2018년 4월 남북 정상이 발표했던 판문점 선언을 존중한다는 내용이 포함될 것으로 알려졌다. 한반도 평화 문제에 있어 한국 정부의 역할과 남북 간 합의를 존중하는 의미로, 조 바이든 행정부의 대북 정책 방향에 촉각을 곤두세우고 있는 북한에도 긍정적인 메시지로 작용할 것으로 보..'\n",
            " '체코를 방문 중인 문재인 대통령이 안드레이 바비쉬 체코 총리와 정상회담을 갖고 체코 원자력발전소 수주 문제를 논의했다. 특히 바비쉬 총리가 한국 기업의 원자력발전소 기술력을 높게 평가해 수주 기대감이 커지고 있다. 정부는 향후 입찰 경쟁자를 면밀히 분석해 신중하게 대응하겠다는 입장이다. \\n \\n윤영찬 국민소통수석은 28일(현지시간) 프라하 프레스센터 브리핑에서 “양 정..'\n",
            " '인도를 방문한 버락 오바마 미국 대통령이 인도의 상임이사국 진출을 포함한 유엔 안전보장이사회 개혁을 지지한다는 의사를 밝혔다. \\n \\n 오바마 대통령은 25일(현지시간) 오후 나렌드라 모디 인도 총리와 정상회담을 가진 후 공동 기자회견에서 이같이 밝히며 “양국은 아시아 태평양지역의 새로운 비전에도 합의했다”고 말했다. 더불어 “인도와의 유대강화는 우리 정..'\n",
            " '박근혜 대통령은 2일(이하 현지시각) 체코 프라하에서 밀로시 제만 체코 대통령과 정상회담을 열어 한국의 체코 원자력발전소시장 진출을 위한 협력방안을 논의했다. 한국 대통령이 체코를 방문한 것은 1995년 당시 김영삼 대통령 이후 20년 만으로, 양국 정상은 지난 2월 체결한 ‘전략적 동반자 관계’를 경제 문화 분야 등에서 심화 발전시키는 데 의견을 모았다.\\n\\n..'\n",
            " '박근혜 대통령과 밀로시 제만 체코 대통령은 2일(현지시간) 체코 프라하성에서 정상회담을 갖고 양국간 전략적 동반자 관계를 구체적으로 발전시키기 위한 행동 계획(Action Plan)을 채택했다. \\n \\n행동 계획은 양자협의 강화 및 외교부간 정무 대화 활성화, 원자력발전소을 포함한 에너지 인프라 연구개발(R&D) 분야 협력 강화, 워킹홀리데이 프로그램 등을 통한..'\n",
            " '중국이 공을 들인 영국 힝클리포인트 원자력발전소 건설 계약을 테레사 메이 신임 정부가 재검토 의사를 밝히자 중국이 관계 악화를 예고하며 강력히 반발했다. \\n \\n 류샤오밍 영국 주재 중국외교관는 8일(현지시간) 파이낸셜타임스(FT)에 서한을 보내 “양국 관계는 역사적으로 중대한 기로에 섰다”며 “힝클리포인트 원자력발전소 사업을 계속 지원하고 가능한 한 빨리 진행될..'\n",
            " '유엔 총회 참석차 미국 뉴욕을 방문 중인 정의용 외교부 장관이 23일(현지시간) 모테기 도시미쓰 일본 외무상과 회담을 했다. 영국 런던에서 만난 이후 4개월 만에 진행된 한일 외교장관 회담이었으나 주요 현안에 대한 입장 차이만 재확인한 것으로 전해졌다.\\n외교부에 따르면 양국 외교장관은 이날 오전 10시부터 50여분 동안 양국간 현안 해결과 미래지향적 관..']\n",
            "\n",
            "\n",
            "==================================================================================\n",
            "\n",
            "\n",
            "토픽        5: 토픽 개수     1006, 전체 퍼센트    3.218%\n",
            "0          월성\n",
            "1          결정\n",
            "2          고리\n",
            "3          감사\n",
            "4          폐쇄\n",
            "5         감사원\n",
            "6          수명\n",
            "7          가동\n",
            "8    원자력안전위원회\n",
            "9          연장\n",
            "Name: #5, dtype: object\n",
            "['월성 원자력발전소 1호기 조기 폐쇄에 대한 감사 결과를 놓고 정치권 공방(攻防)이 이어지고 있는 가운데 ‘감사원이 대통령 소속 기관이라 직무 독립성이 취약하다’는 감사원 내부 연구 결과가 나왔다. \\n \\n23일 한국사회과학협의회는 감사원 산하 감사연구원 의뢰로 제출한 ‘적극행정을 위한 법체계와 감사원의 역할에 관한 연구’ 보고서에서 \"감사원은 헌법상 직무의 독립..'\n",
            " '‘잘가라 고리원자력발전소 1호기.’\\n19일 오전 0시를 기점으로 영구정지된, 국내 첫 원자력발전소(원자력발전소)인 고리원자력발전소 1호기 건물 벽면에 투사된 메시지다. 국제환경단체 그린피스의 작품이다.그린피스는 이날 고리원자력발전소 1호기가 영구정지에 들어간 것을 환영하는 행사를 열었다. 고리원자력발전소 1호기에서 직선거리로 800m가량 떨어진 길천마을에서 고리원자력발전소 1호기의 영구정지를 환영하고 탈핵을 촉구..'\n",
            " '감사원이 월성 원자력발전 1호기 조기 폐쇄 경제성에 대한 타당성 감사를 19일 장고 끝에 마무리했다. 국회 요구로 지난해 10월 감사에 착수한지 1년 만이자, 법정 감사 시한(올해 2월 말)을 넘긴 지 8개월 만이다. \\n감사원은 최재형 감사원장과 감사위원회원 5명이 참석한 가운데 비공개 감사위원회원회를 열어 감사보고서를 의결했다. 감사위원회 최종 심의는 이달 7일..'\n",
            " '국회 토론회 조성진교수 주장\\n\\n“탈원자력발전소 목적에 맞게 조정한것”\\n\\n\\n\\n한국수력원자력(한국수력원자력)의 월성 원자력발전소 1호기 조기 폐쇄 결정 당시 이사회에서 “조기 폐쇄는 경제적으로나 기술적으로나 모순”이라는 언급이 나왔지만 폐쇄가 이뤄졌고 이사회에 제출된 보고서도 원래 50페이지에서 2페이지로 축소됐다는 증언이 나왔다.\\n\\n\\n\\n6일 이채익 미래통합당 의원 등의..'\n",
            " '가동 중단 요구한 고리원자력발전소1호기와 3호기 자칭 `원자력발전소반대그룹`이 원자력발전소가동 중단을 요구한 고리원자력발전소원자력 발전소 1호기(맨오른쪽)과 3호기(맨왼쪽)가 25일 별다른 이상징후 없이 정상가동되고 있다.정부가 12일 국내 최고령 원자력발전소인 고리원자력발전소1호기 사업주체인 한국수력원자력(한국수력원자력)에 영구정지를 권고했다.고리원자력발전소1호기가 1978년 상업운전을 시작한 지 38년 만이다.원자력 안..'\n",
            " '산업통상자원부, 감사결과 사실상 불복 \\n\\n\\n\\n고리원자력발전소2호기 2023년 수명 만료 \\n\\n폐로 등 놓고‘월성’ 재연 가능성 \\n\\n신규원자력발전소 사업재개 여론 비등\\n\\n\\n\\n산업통상자원부가 21일 감사원의 ‘월성 1호기 감사결과’(20일 발표)에 사실상 불복하고 탈원자력발전소 정책을 강행하겠다는 입장을 굽히지 않으면서 문재인 대통령 임기 내내 에너지 정책을 둘러싼 혼란과 잡음이 되풀..'\n",
            " '“터질 게 터졌다.” \\n 경북 월성 원자력발전소 1호기 조기 폐쇄에 적용된 경제성 평가가 타당하지 않다는 감사원 감사 결과에 대한 원자력발전소업계 관계자의 반응이다. 문재인 대통령의 공약이었던 탈원자력발전소 정책을 무리하게 밀어붙이는 과정에서 나온 ‘예고된 사고’라는 지적이다. \\n \\n 잘못된 경제성에 근거해 폐쇄된 월성1호기의 경제적 손실은 이미 크다. 한국수력원자력..'\n",
            " '27일 새벽 원자력안전위원회의 월성 원자력발전소 1호기 수명연장 결정에 대해 야당과 시민단체의 반발이 잇따르고 있다.\\n\\n국회의원 19명으로 구성된 ‘탈핵 에너지 전환을 위한 국회의원 모임’은 27일 성명을 내고 “국회에서 월성 1호기의 안전성 검증은 물론 경제성과 수용성을 포함해 노후원자력발전소에 대한 종합적인 검증을 실시하겠다”고 밝혔다.\\n\\n이들은 “원자력안전위원회가..'\n",
            " '신한울원전원자력발전소 원자력발전소 1호기 운영허가가 일단 불발됐다.\\n원자력안전위원회는 11일 제140회 원자력안전위원회(원자력안전위원회)를 열고 경북 울진군 ‘신한울원전원자력발전소 1호기’ 운영허가안을 논의했지만 결론을 내지 못하고 이후 회의에 재상정키로 했다. 이날 논의된 신한울원전원자력발전소 1호기 운영허가안은 지난해 11월 원자력안전위원회가 심의에 착수한 지 7개월 만에 심의 의결 안건으로 상정됐다. 원자력안전위원회..'\n",
            " '“한국의 월성 원자력발전소 1호기와 똑같은 모델의 캐나다 젠틸리 2호기는 안전성 문제와 막대한 수명연장 비용 때문에 폐쇄가 결정됐다.” 그린피스 캐나다의 원자력 전문가인 숀패트릭 스텐실은 지난해 말 월성원자력발전소 가동 중단 직후 한국 환경단체와의 화상회의에서 이렇게 말했다. \\n \\n 퀘벡 주 베캉쿠르에 있는 젠틸리 2호기는 지난해 말 설계수명(30년) 종료로 가동이 ..'\n",
            " \"7000억원을 들여 안전성 강화 조치를 마쳤음에도 조기 폐쇄키로 해 논란이 일고 있는 월성 원자력발전소 1호기에 대해 원자력안전위원회(원자력안전위원회)가 오는 11일 '영구 정지안'을 심의할 것이라고 7일 밝혔다. \\n \\n원자력발전소 운영 허가권을 가진 원자력안전위원회가 영구 정지안을 확정하면 월성 1호기는 최종적으로 폐쇄된다. 앞서 국회는 지난달 30일 한국수력원자력(한국수력원자력)의 월성 ..\"\n",
            " '“월성 1호기 계속운전에 따른 지원금 1310억원을 어디에, 어떻게 사용할까” \\n \\n경북 경주 월성1호기(가압중수로 67만9000㎾급)의 계속운전과 관련해 한국수력원자력㈜과 경주시, 동경주대책위의 지역발전 상생협력 합의에 따라 확보된 주민 보상금 1310억원의 사용을 놓고 관심이 집중되고 있다. 지원금을 종잣돈으로 해 어떻게 사용하느냐에 따라 월성원자력발전소 ..'\n",
            " '최재형 감사원장은 15일 월성 원자력발전소 1호기 조기 폐쇄 타당성에 관한 감사 결과 발표가 지연되는 것과 관련해 “감사 저항이 이렇게 심한 감사는 재임하는 동안 처음”이라고 작심 발언을 했다. 그러면서 “빠르면 월요일(19일) 늦어도 화요일(20일)까지는 (결과) 공개가 가능하다고 본다”고 밝혔다.\\n최 원장은 이날 국회 법제사법위원회의 감사원 국정감사..'\n",
            " '2022년까지 재가동이 결정된 경북 경주 월성 1호기 전경. \\n세계일보 자료사진원자력안전위원회(원자력안전위원회)가 27일 설계수명(30년)이 끝나 3년째 멈춘 경북 경주의 월성 1호기를 2022년까지 가동할 수 있도록 허가함에 따라 원자력발전소 운영당국이 후속조치 마련에 나섰다. \\n \\n산업통상자원부와 한국수력원자력(한국수력원자력)은 이날 서울 삼성동 한국수력원자력 본사에서 월성 1호..'\n",
            " '닷새 뒤인 19일 0시가 되면 국내 첫 상업용 원자력발전소(원자력발전소) 고리원자력발전소 1호기가 40년 동안의 가동을 마치고 영구 정지된다. 고리원자력발전소 1호기는 1978년 4월 상업운전을 시작했다. 2007년 6월 수명이 만료됐으나 정부의 재가동 결정으로 10년간 더 가동됐다. 그러나 ‘사고 전문 원자력발전소’이라는 오명을 얻었고, 영구정지는 예상된 수순이었다.고리원자력발전소 1호기의 영구정..'\n",
            " '원자력안전위원회는 9일 회의를 열어 고리원자력발전소원자력발전소 1호기의 ‘18일 24시 이후 영구정지안’을 심의 의결했다. 고리원자력발전소 1호기의 영구정지(폐로)는 2015년 관리감독기관인 산업통상자원부의 폐로 권고에 따른 것이다. 1977년 6월19일 이후 10년의 수명연장을 거쳐 40년간 전력을 생산했던 국내 첫번째 원자력발전소의 ‘퇴역’이라는 점에서 시사하는 바가 크다. 시민사회단..'\n",
            " \"문재인 대통령이 대한민국을 '탈핵 국가'로 만들겠다는 의지를 공식 선언했다. \\n \\n\\n\\n\\n\\n 고리원자력발전소원자력발전소 1호기 영구정지 선포│ 문재인 대통령이 19일 오전 부산 기장군 장안읍 해안에 있는 고리원자력발전소원자력발전소 고리원자력발전소1호기 영구정지 선포식에서 발언하고 있다. 부산=연합뉴스 배재만 기자\\n\\n\\n\\n \\n\\n\\n문 대통령은 19일 오전 부산 기장군 한국수력원자력 고리원자력발전소원자력본부에서 열린 ..\"\n",
            " '원자력안전위원회 운전 허가 여부 회의\\n\\n폐로 지지 현직 국회의원 참석 \\n\\n“입법부가 결정 압박” 논란도\\n\\n\\n\\n원자력안전위원회(원자력안전위원회)가 지난 2012년에 설계수명 30년이 끝나 3년째 가동이 중단되고 있는 월성1호기의 계속운전 허가 여부를 논의 중이어서 그 결과가 주목된다. \\n\\n\\n\\n정부는 그동안 일본 후쿠시마(福島) 사태와 원자력발전소비리 등으로 여론이 악화되고 계속운..'\n",
            " '한국당 탈원자력발전소특별위원회 간사 밝혀\\n\\n주민들도 피해보상 소송 검토\\n\\n\\n\\n자유한국당은 원자력안전위원회가 지난 24일 월성 원자력발전소 1호기 폐기를 의결한 것과 관련, 엄재식 원자력안전위원회원장과 원자력안전위원회원들을 직권남용 등 혐의로 검찰에 고발하고, 법원에 월성 1호기 폐기 효력 정지 가처분 신청을 하겠다고 26일 밝혔다. \\n\\n\\n\\n한국당 탈원자력발전소대책특별위원회 총괄간사인 최연혜..'\n",
            " '한국수력원자력은 원자력발전소 고리원자력발전소 1호기에 대해 2017년까지 계속 운전하도록 원자력안전위원회로부터 승인을 받는 과정에서 대부분의 설비를 교체하는 등 안전성을 강화했다. 그럼에도 설계수명이 지났다는 이유로 고리원자력발전소1호기를 폐쇄하라는 일부 주장은 설계수명에 대한 이해부족에서 비롯됐다는 게 한국수력원자력의 설명이다. \\n \\n설계수명이란 원자력발전소 설계시 경제성 등을 고려해 설정한 ..']\n",
            "\n",
            "\n",
            "==================================================================================\n",
            "\n",
            "\n",
            "토픽        6: 토픽 개수     1579, 전체 퍼센트    5.051%\n",
            "0    사회\n",
            "1    경제\n",
            "2    사람\n",
            "3    나라\n",
            "4    문제\n",
            "5    국가\n",
            "6    세계\n",
            "7    정치\n",
            "8    국민\n",
            "9    생각\n",
            "Name: #6, dtype: object\n",
            "['자유한국당이 지난 17일 ‘정책저항 운동’ 1호로 발표한 ‘탈원자력발전소 반대, 신한울원전원자력발전소 3ㆍ4호 건설재개 촉구를 위한 범국민서명운동’이 1주일만에 10만명을 돌파했다. 정용기 정책위의장은 25일 “졸속 탈원자력발전소 정책 1년 만에 원자력발전소산업은 고사되고 지역경제는 붕괴되는 상황을 두고 볼 수 없는 상황”이라며 “예상보다 빠른 속도로 10만명을 돌파했다. 지역에서 호응이..'\n",
            " '원자력, 대안은 없다\\n클로드 알레그르 도미니크 드 몽발롱 지음\\n이소영 번역, 흐름출판 펴냄, 2011년\\n\\n원자력의 거짓말\\n고이데 히로아키 지음, 고노 다이스케 번역\\n녹색평론사 펴냄, 2012년\\n\\n이 두 책에서 글쓴이들은 원자력에 대해 격렬하게 찬성과 반대 의견을 낸다. 두 책을 동시에 보면, 같은 사안을 두고 서로 논박이 오가는 느낌이 든다. 원자력에 ..'\n",
            " '“핵과 인류는 공존할 수 없습니다. 그것이 ‘후쿠시마’의 교훈입니다.” \\n \\n일본의 탈핵(脫核) 시민단체 ‘원자력발전소 안녕! 후쿠오카’의 아오야기 유키노부(靑柳行信 68) 대표는 지난 22일 오전 서울 마포구 서강대 정하상관에서 기자간담회를 열고 “하늘과 바다에는 국경이 없다. 어느 한 곳에서 원자력발전소 사고가 나면 동아시아는 심각한 문제에 빠진다”고 강조했다. ..'\n",
            " '대중에게 과학을 알기 쉽게 설명해 주는 이른바 ‘과학 커뮤니케이터’의 책들이 인기를 끌고 있다. 복잡한 과학 개념을 쉽게 풀어쓴 시리즈나 과학계 뒷이야기를 다룬 에세이 등이 대표적이다. 신종 코로나바이러스 감염증(코로나19) 팬데믹과 후쿠시마 원자력발전소 사태 등을 거치며 일상에 파고든 과학의 영향력을 대중이 실감하고 있는 데 따른 것이다. \\n \\n 과학 전문 ..'\n",
            " '후쿠시마 사태 이후, 많은 일본 시민들은 ‘핵 없는 세상’을 절규하며, 정부에 원자력 정책의 변경을 요구하는 크고 작은 시위를 계속해왔다. 그 시위에 참여한 시민들의 발언 중에서 가장 인상적인 것의 하나는 노벨상 수상 작가 오에 겐자부로의 말이었다. 그는 엄청난 원자력 재해를 겪고도 기존 원자력 정책을 완고하게 밀고 가려는 정부와 지배층의 태도에 절망하..'\n",
            " '이대영 서울 무학여고 교장 우리 인간은 생태계의 한 구성 요소다. 그런 인간의 이기심이 자신들이 속한 생태계를 교란하고 파괴하는 주범이라는 것도 피할 수 없는 사실이다. 그나마 최근 들어 환경 오염의 심각성과 자연환경 보전의 중요성에 대한 인식이 확산되고 환경 감수성이 높아지고 있어 다행이다. \\n \\n학교 교육과정에 환경교육이 포함된 지도 여러 해가 지났..'\n",
            " '■ 김명자 서울국제포럼 회장 (前환경부장관)\\n\\n\\n\\n소행성 충돌 화산폭발 등 \\n\\n수차례 대위기 겪어온 지구 \\n\\n이젠 환경파괴 탓 멸종 올수도 \\n\\n\\n\\n분명히 진행 중인 온난화 \\n\\n자연적 요인만으론 설명 안돼 \\n\\n반드시 대응 필요한 인류의 과제 \\n\\n\\n\\n코로나도 결국 기후변화 탓 \\n\\n기온상승, 병원체의 변종 유발 \\n\\n알지못했던 신종 바이러스 출현\\n\\n\\n\\n‘코로나..'\n",
            " '“지난 1년은 제 인생에서 가장 빠르고, 가장 강렬하고, 가장 열정적인 시간이 아니었나 생각합니다.” \\n \\n 송철호(사진) 울산시장은 20일 민선 7기 1주년을 맞아 울산시청에서 기자간담회를 갖고 “시장 자리가 이렇게 바쁜 자리인 줄 미처 몰랐다. 책임이 엄청나다는 것도 깨달은 1년이었다”고 소회를 밝혔다. 이어 “경험 부족으로 시행착오, 좌충우돌하는 ..'\n",
            " '일본 헌법 9조를 사실상 변경하는 내용을 담은 아베 정권의 안보법제가 논의되는 한가운데서 맞는 8월15일은 어쨌든 큰 의미가 있다. 전쟁이 실제로 어떤 것인지를 아는 세대가 점점 줄어드는 상황에서 10년씩 단락을 지어 전후의 역사를 둘러보는 것도 이번 70년이 마지막이 되지 않을까 싶다. 신문 등에 실리는 전쟁세대의 체험담 등을 읽어 보면, 자신이 직접..'\n",
            " '사고 발생 2년을 맞아 ‘후쿠시마’에 대한 책 세 권이 나란히 출간됐다.\\n\\n2011년 3월 11일, 대지진으로 발생한 쓰나미와 연이은 후쿠시마 제1원자력발전소 붕괴로 일본 동북부 후쿠시마 지역은 체르노빌 이후 최악으로 기록된 대참사를 겪었다. 통칭해서 ‘3 11’이라고도 불리는 이 사건은 전 세계적인 탈원자력발전소 바람을 몰고 왔다. 사고 발생 2년을 맞아 ‘..'\n",
            " 'ㆍ금서의 문화정치사\\n\\n\\n\\n■ 빨간 책\\n\\n아직 그 계보학이나 문화정치사가 정밀하고도 총체적으로 정리되지는 못했지만, 금서와 출판 검열에 관한 많은 사회적 논의와 학술적 검토가 있었다. 이 문제는 기본적으로 헌법에 규정된 “자유민주적 기본질서”에 관한 것이자 민주사회에서 언제나 뜨거운 논쟁거리인 표현의 자유에 관한 것이다.\\n\\n한국 근 현외교관에서는 두 가지 ..'\n",
            " \"간신을 분별하는 가장 간단한 방법은 아첨인지 아닌지를 가리면 된다. 상급은 남들이 안 보는 데서 하고 하급은 남들이 다 보는 데서 노골적으로 한다는 차이가 있다. 아첨(阿諂)이라고는 하지만 사실 아(阿)는 그냥 빌붙는다는 뜻이고 혓바닥을 놀려 살살거리는 것이 첨(諂)이다. ‘諂'은 글자 모양대로 말재주를 부려 군주를 함정에 끌어들인다는 뜻이다. 반면에 ..\"\n",
            " '다시 한반도가 주목을 받고 있다. 북한의 3차 핵실험과 장거리 미사일 발사 성공에 따라 고조되는 남북 충돌 위험 탓이다. 엊그제는 후쿠시마 원자력발전소 폭발 2주년이었다. 후쿠시마의 잔해는 인류 종말의 묵시록적 경고로 남아 있다. 군사적이건 평화적 목적이건 핵 기술은 인간 생존과 지구의 지속가능성을 위협한다. 인류에게 기술의 적정한 수준이란 무엇인지 고민하게 ..'\n",
            " '“김일성 장군님의 위대성을 알고 있니.” “잘 모르겠는데 그런데 왜 그따위 얘기를 하지.” “그것도 모르면서 어떻게 정치부 기자가 됐냐.” “너 돌았냐.” 정치부 기자로 국회에 출입하던 1986년, 고교 졸업 후 10여 년 만에 모교 행사에서 만나 술자리를 함께한 친구와 주고받은 대화다. 우리 사회를 뒤흔들고 있는 ‘이석기 사태’를 보면서 27년 전..'\n",
            " '정치적 생명을 잃은 대통령 앞에서 국정을 장악한 총리가 목소리를 높인다. “정부가 할 일은 한마음 한뜻으로 무너진 경제를 살리는 것입니다.” 국정 안정과 경제 회복을 강조하는 총리에게 질서는 강력한 무기가 된다. 그러나 그 질서는 국민 1만5000명의 희생을 감춰야 가능했다. 탄핵소추 이틀 전 개봉한 원자력발전소 사고를 다룬 재난 영화 <판도라>는 극장..'\n",
            " '2011년 한 출판사의 <화학1> 고등학교 교과서에는 대기오염을 줄이기 위한 방법으로 ‘풍력의 이용’ 대신 ‘원자력의 이용’이 제시됐다. 다른 출판사가 낸 <경제지리> 교과서에서도 우리나라의 대표적인 공업의 사례가 ‘조선공업’에서 ‘원자력발전’으로 교체됐다. 이런 교과 내용 수정은 모두 한국원자력문화재단의 요청에 따라 이루어졌다. 이 재단의 예산은 국민..'\n",
            " '이탈리아의 이론물리학자 카를로 로벨리는 저서 『시간은 흐르지 않는다』에서 바닷가보다 산꼭대기에서 시간이 아주 미세하지만 빨리 간다는 사실을 상기시킨다. 로벨리에 따르면 절대적이고 유일한 시간의 흐름은 존재하지 않는다. 그는 시간의 흐름이 사건들의 상호작용 안에서 세상이 변하는 과정을 멀리서 흐릿하게 본 결과라고 설명한다. \\n \\n 전 지구적으로 에너지 분..'\n",
            " '▶▶생각 질문 \\n \\n1. 위 사진을 보고 각자의 느낌이나 생각을 아래 칸에 V표 해 봅시다. \\n \\n안전하다 ----------- ----------- 안전하지 않다 \\n \\n   0   5   10 \\n \\n필요하다 ----------- ----------- 필요하지 않다 \\n \\n   0   5   10 \\n \\n사용해야 한다 ---..'\n",
            " '11일은 동일본대지진과 후쿠시마 원자력발전소 사고가 일어난 지 3년이 되는 날이다. 방사능 오염수 유출 등 고통이 여전한데도 지난달 도쿄 도지사 선거는 ‘즉시 탈핵’ 세력의 패배로 끝났다. 그렇더라도 탈핵을 향한 일본 사회의 도전이 끝난 건 아니다. <한겨레>가 ‘원자력발전소에 의존하지 않는 도시 만들기’ 기치를 내건 후쿠시마현 미나미소마시의 노력과 손정의 소프트뱅크..'\n",
            " '“지난 10일 밤 충남 당진 복합화력발전소 3호기가 고장 났다는 보고를 들은 뒤 잠이 안 오더라. 온 국민이 절전에 동참해도 전력수급경보 ‘경계경보’가 불가피하다는 생각이 들어 속이 새까맣게 탔다. 하지만 예상과 달리 최악의 전력대란을 피할 수 있었다. 다시 한번 나라를 위한 저력을 발휘한 국민과 기업에 진심으로 감사했다.” 전력난에 대한 우려가 컸던 ..']\n",
            "\n",
            "\n",
            "==================================================================================\n",
            "\n",
            "\n",
            "토픽        7: 토픽 개수      591, 전체 퍼센트    1.890%\n",
            "0     미국\n",
            "1     협정\n",
            "2     협상\n",
            "3     개정\n",
            "4     북한\n",
            "5     로봇\n",
            "6     처리\n",
            "7    우라늄\n",
            "8     이란\n",
            "9    핵연료\n",
            "Name: #7, dtype: object\n",
            "['한-미 원자력협정 개정 문제가 ‘발등의 불’이 됐다. 내년 3월이 협정 만기이기 때문에 미국 의회의 동의에 필요한 시간을 고려하면 올해 상반기까지는 협정을 개정해야 한다. 협정이 개정되지 않으면 안정적인 핵연료 확보가 어려워지고, 원자력발전소 수출에도 악영향을 받게 된다. 우리나라는 원자력발전소에 사용하고 있는 핵연료를 100% 수입하고 있는데, 이 중 미국이 20~..'\n",
            " '한국이 제한적인 방식이지만 우라늄 농축과 재처리를 할 수 있는 길이 열렸다. 또 미국산 핵물질 등을 제3국에 이전하는 문제에도 포괄적인 동의를 받아 원자력발전소 수출이 더 활발해질 것으로 전망된다. \\n \\n 박노벽 원자력협정 협상대표와 마크 리퍼트 주한 미국외교관는 22일 정부서울청사에서 양국을 대표해 이 같은 내용이 담긴 한미 원자력협력협정에 가서명했다. 한미가..'\n",
            " '주한미군기지 이전하는 평택 \\n\\n美측 자기방어 명분 배치 1순위 \\n\\n朴정부 임기내 매듭짓기 원해\\n\\n\\n\\n 지난해 상반기 미군 당국이 고고도미사일방어체계(THAAD 사드) 한국 배치에 필요한 부지 선정을 위해 5곳을 실사한 뒤 예비후보지로 검토한 경기 평택, 강원 원주, 부산 기장 인근(또는 김해공항) 등 3곳은 군사전략요충지, 국가전략시설, 인구밀집지역과 ..'\n",
            " '훈련중인 북한 포병부대원(자료사진) \\n국방부가 연내 발간 예정인 ‘2014 국방백서’에 ‘북한은 주적’이라는 의미의 표현을 유지하기로 결정한 것으로 알려졌다. \\n \\n김민석 국방부 대변인은 23일 브리핑에서 “‘북한은 2010년부터 대규모 재래식 군사력, 핵미사일 등 대량살상무기의 개발과 증강, 천안함 공격, 연평도 포격과 같은 지속적인 무력도발을 통해 ..'\n",
            " '미국 해군 구축함 ‘USS 존 매케인’. 미국 해군 제7함대 소속으로 무려 24년 동안 인도 태평양 지역에서 활약한 구축함 ‘USS 존 매케인’함이 7함대에서의 임무를 끝내고 미 본토로 귀환했다. 이 함정은 동일본 대지진 당시 피해 지역의 일본인 구호작전에 투입돼 맹활약을 펼쳐 미 일 우정의 상징으로 통한다. 지난 2018년 작고한 존 매케인 전 상원의..'\n",
            " '정부가 스텔스 기능을 갖춘 F-35A를 차기 전투기로 최근 확정했다. 스텔스는 적의 레이더가 아군을 발견하지 못하게 하는 기술이다. 스텔스 기능을 가진 군용기는 적의 레이더에서 비둘기만한 작은 새처럼 보인다. 웬만한 레이더로는 전투기인지 새인지 구별해낼 재간이 없다. \\n\\n과학자들은 이 스텔스 기능이 머지않아 한 차원 업그레이드 될 것으로 내다본다. 레이..'\n",
            " '요즘 한국에서 ‘농축 및 재처리’가 뜨거운 이슈로 급부상하고 있다. 농축은 원자력발전소 핵연료 제조를 위한 우라늄 농축활동을 뜻하는 말이고, 재처리는 사용후핵연료에서 플루토늄을 추출하는 작업을 의미한다.\\n\\n농축 재처리는 현재 한 미 간 최대 현안인 원자력협정 개정 협상에서 가장 핵심적인 사안으로 인식된다. 한국은 1974년 체결된 현행 협정에 따라 농축 재처..'\n",
            " '최근 중국을 방문한 조 바이든 미국 부통령은 시진핑(習近平) 중국 국가주석에게 핵 문제 해결을 위해 최근 협상했던 이란이 북한에 중요한 신호가 될 수 있다고 말한 것으로 보도됐다. 협상 내용은 이렇다. P5+1(유엔안전보장이사회 상임이사국+유럽연합(EU)을 대표한 독일)은 이란의 우라늄 농축을 동결하고 핵 시설 3곳에 대한 미국 사찰을 허용하며 궁극적으..'\n",
            " '우라늄 농축과 사용후핵연료를 재처리할 수 있는 길을 실낱같이 열어뒀다. 하지만 빗장은 여전히 견고하다. 한 미 양국은 우라늄 농축과 핵연료 재처리를 앞으로 ‘합의할’ 사항으로 남겨놨다. 그래서 미국의 동의가 없을 경우 농축과 재처리는 불가능하다. 다만 명시적으로 금지하는 ‘골드 스탠더드 조항’은 협정문에 포함되지 않았다. 농축과 재처리는 정부가 원자력..'\n",
            " '한국과 미국이 42년 만에 개정한 새로운 원자력협정안에 공식 서명했다. 미 의회 심의 절차가 끝나면 연내 협정이 발효될 것으로 전망된다.\\n\\n미국을 방문 중인 윤병세 외교부 장관과 어니스트 모니즈 미 에너지부 장관은 15일 오후(현지시간) 워싱턴DC 에너지부 청사에서 한 미 원자력협정 서명식을 가졌다. 이로써 한 미 양국은 지난 4월 22일 서울에서 협상..'\n",
            " '일본이 추가 보복 나설 경우 미뤄둔 독도훈련 즉시 재개 유력\\n\\n\\n청와대가 한일 군사정보보호협정(GSOMIAㆍ지소미아) 종료 결정을 내리며 한일관계가 ‘강(强)대 강(强)’ 대치 국면으로 접어들 것이란 관측이 유력해지면서 향후 예상되는 일본의 보복 조치에 대한 우리 정부의 대응 카드가 무엇이 될 것인지 관심이 쏠리고 있다. \\n지소미아 종료 결정으로 한일 ..'\n",
            " '북 미 양국은 제2차 정상회담의 세부사항을 도출하기 위해 다음달 4일쯤부터 판문점에서 실무협상을 시작할 것으로 보인다고 미국 정치전문매체 폴리티코가 29일(현지시간) 보도했다. \\n \\n폴리티코는 이 사안을 잘 아는 익명의 소식통을 인용해 이번 실무협상에서 스티븐 비건 미 대북정책특별대표와 그의 새 카운터파트로 알려진 김혁철 전 주스페인 북한외교관 간 ‘비건..'\n",
            " '한국과 미국이 내년 3월 만료되는 한 미 원자력협정 시한을 2년 더 연장하는 방안에 합의한 것으로 알려졌다.한 미 양국은 17일(현지시간) 워싱턴에서 박노벽 에너지자원 외교관와 로버트 아인혼 미 국무부 비확산 군축담당 특보가 각각 수석 대표로 참석한 가운데 원자력협정 개정 6차 본협상을 갖고 이 같은 결론에 도달했다고 외교 소식통이 전했다.미국은 협상 과..'\n",
            " '북핵 동결을 조건으로 제공하기로 했던 ‘북한 경수로 건설 사업’이 북한의 핵 개발로 2006년 종료된 이래 지금까지 이자 지급에만 7561억원의 정부 예산이 투입된 것으로 확인됐다. 앞으로도 정부는 매년 수백억원의 이자를 지급해야 하고, 원금을 포함해 총 2조2995억원을 상환해야 한다. 한국, 미국, 일본, 유럽연합(EU)은1994년 미 북 제네바 합..'\n",
            " '최근 파주 백령도, 삼척 등에서 발견된 소형 무인항공기가 군사분계선(MDL)에서 15 20㎞ 떨어진 북한군 전방부대에서 날려 보낸 것으로 분석됐다. \\n \\n8일 무인기 중앙합동조사에 참여한 관계자는 \"파주와 백령도, 삼척에 떨어진 소형 무인기는 MDL에서 15 20㎞ 떨어진 북한지역에서 날아왔다는 종합적인 평가가 내려졌다\"고 밝혔다. \\n \\n이 관계자는 \"..'\n",
            " '미국 마이크로소프트(MS) 창업자인 빌 게이츠 ‘빌 앤드 멀린다 게이츠 재단’ 이사장이 한국의 차세대 원자력발전소 개발 파트너로 급부상하고 있다. \\n\\n게이츠 이사장은 앞으로 3 6개월간 한국과 함께 4세대 원자로 개발을 공동연구하겠다고 합의했다. 현재 한 미가 진행하고 있는 한미원자력협정 개정 협상의 쟁점인 ‘파이로프로세싱(건식재처리)’ 공정을 거친 사용후핵연..'\n",
            " '미 공군의 핵 탐지 전문 특수정찰기 ‘콘스턴트 피닉스’(WC-135W)가 동해 상공을 비행했다. \\n \\n 22일 민간항공추적 사이트 ‘에어크래프트 스폿’에 따르면 콘스턴트 피닉스는 21일 오전 8시 25분 오키나와 가데나(嘉手納) 주일 미군기지에서 이륙해 동해 상공을 비행했다. \\n \\n 세계 유일의 방사성 물질 포집 특수정찰기인 콘스턴트 피닉스는 1986년..'\n",
            " '한 미 원자력협정 협상에서 과연 ‘재처리’ 권리 확보가 한국의 최우선 목표여야 하는가. 다른 대안은 전혀 없는 것인가. \\n원자력발전소와 지역경제의 관계를 전공한 장정욱 마쓰야마대 경제학과 교수(사진)는 핵 공학자는 아니지만 지난 20년간 사용후핵연료 재처리를 연구해왔다. 한 미 원자력협정 개정 협상을 두고 발언을 쏟아내고 있는 웬만한 전문가들보다 이 ..'\n",
            " '박근혜정부가 내년 3월19일로 만료되는 한 미 원자력협정 개정을 위해 이달 중 미국과 협상에 들어가기로 했다고 한다. 박근혜 대통령은 지난달 초 에드 로이스 미 하원 외교위원장을 만난 자리에서 협정 개정에 협력해 달라고 요청했다. 미 정부는 개정 협상에 나서기로 한 것으로 알려졌다. \\n \\n이번 협상에서 가장 중요한 점은 ‘평화적 핵주권’을 확보하는 일이다...'\n",
            " '<!-- SUB_TITLE_START-->ㆍ‘원자력협정’ 한국 전략<!-- SUB_TITLE_END-->\\n\\n한 미 양국은 16일(현지시간)부터 이틀간 미국 워싱턴에서 원자력협정 개정협상 수석대표 회담을 갖는다. 양국은 2010년 10월부터 지난해 2월까지 5차례 회담을 하며 협정 ..']\n",
            "\n",
            "\n",
            "==================================================================================\n",
            "\n",
            "\n",
            "토픽        8: 토픽 개수     1156, 전체 퍼센트    3.698%\n",
            "0      검찰\n",
            "1     법무부\n",
            "2      장관\n",
            "3      수사\n",
            "4    검찰총장\n",
            "5     윤석열\n",
            "6      인사\n",
            "7      총장\n",
            "8      검사\n",
            "9      징계\n",
            "Name: #8, dtype: object\n",
            "['서울 서초구 대검찰청찰청에서 직원들이 걸어가고 있다. 연합뉴스 문재인 대통령이 4일 윤석열 검찰총장의 사의를 전격 수용하면서 윤 총장이 지휘해온 주요 권력형 비리 의혹 사건 수사가 흐지부지될 수 있다는 우려도 나온다. \\n \\n 대전지방검찰청이 맡은 월성 원자력발전소 1호기 경제성평가 조작 의혹 사건 수사가 대표적이다. 대전지방검찰청은 지난달 백운규 전 산업통상자원부 장관의 구..'\n",
            " '윤석열 검찰총장이 10일 법무부 징계위원회에 참석 예정인 이용구 법무부 차관에 대해 기피 신청을 할 예정이라고 6일 밝혔다. \\n \\n 윤 총장의 법률대리인인 이완규 변호사는 이날 동아일보와의 통화에서 “이 차관은 검찰의 조국 전 법무부 장관 일가 수사에 반대한 것으로 알려졌고, 최근 텔레그램 사건 등으로 미루어 정치적 색채가 너무 짙어 조만간 기피 신청을..'\n",
            " '1.\\n \\n ‘역사는 되풀이된다.’\\n \\n 2500년전 그리스 역사학자(투키디테스) 말입니다. \\n \\n 윤석열 총장이 쫓겨나고 있는 과정을 보면 2500년전 예지에 소름 돋습니다. \\n 윤석열 사건은 불과 7년전 박근혜 정권에서 채동욱 검찰총장이 쫓겨나던 상황의 반복입니다. \\n \\n 2.\\n \\n 원인은 같습니다. \\n 검찰이 ‘살아있는 권력’을 직접 건드렸기 때문입..'\n",
            " '“뼈를 깎아야 하는 시기다. 미봉책으로 얼렁뚱땅 넘어가면 큰일난다.” \\n 25일 친문 성향의 여권 관계자가 전날 법원의 윤석열 검찰총장 징계 효력정지 결정에 대해 한 말이다. 문재인 대통령이 직접 재가(16일)한 현직 검찰총장에 대한 징계 결정이 8일 만에 뒤집히면서, 이날 여권은 충격에 휩싸인 모습이었다. 현 정부가 임기 3년 7개월여 중 1년 반 이..'\n",
            " '국민의힘 인천시당은 6일 논평을 통해 “태풍 대응 부실 등의 이유로 해임된 뒤 행정소송을 통해 복귀한 구본환 인천공항공사 사장에 대해 법원이 다시 한 번 손을 들어줬다”며 정부에 대책을 촉구했다. \\n \\n구 사장에 대한 해임 처분 집행 정지 신청을 인용한 1심 판단에 불복해 정부가 항고한 사건을 서울고등법원이 최근 기각한 것이다. \\n \\n국민의힘 인천시당은 같..'\n",
            " '“내가 아는 검사장 출신 변호사는 손쉽게 그것도 아주 많이 돈을 번다. 검찰청을 제 집 드나들 듯하며 검사들을 만나 자신이 맡은 사건에 대해 이야기한다. 현직 후배 검사와 통화할 때는 여전히 상관인 것처럼 행세한다. 학연과 지연, 근무 인연 등을 구실로 정기적으로 선후배 검사들을 만나 술과 식사를 대접하고 골프도 친다. 수사 비용이나 회식비 명목으로 후..'\n",
            " '윤석열 검찰총장이 ‘정직 2개월’ 처분에 대해 “법치수호 기관 수장의 직무를 정지하는 것은 받아들일 수 없다”며 법적 대응에 나섰다. \\n윤 총장 특 특별변호인단은 17일 오후 9시20분쯤 전자소송을 통해 서울행정법원에 징계 처분의 취소를 구하는 소송과 징계 효력을 중단해 달라는 집행정지 신청을 함께 냈다고 밝혔다. 앞서 윤 총장 측은 지난 15일 법무부..'\n",
            " '민주당 김두관 의원이 ‘윤석열 탄핵’을 선창하자 열린민주당 최강욱 의원이 ‘재청’, 민주당 황운하 의원이 ‘삼청’을 외쳤다. 친문 진영이 집단으로 앓고 있는 ‘정신 출타 증후군’ 확진자 중에서도 중증인 삼인방이다. \\n \\n추미애 법무장관이 “윤석열 검찰총장을 해임해 달라”며 엄선한 징계위원들이 억지로 짜낸 ‘형량’이 고작 정직 2개월이었다. 법원은 그마저..'\n",
            " '신현수 청와대 민정수석이 지난주 청와대에 사의를 표명한 것으로 16일 알려졌다. 지난달 1일 취임한지 불과 한달 반만이다. \\n \\n 신 수석의 급작스러운 사의 표명은 지난 7일 이뤄진 검사장 인사 과정에서 이뤄졌다고 한다. 박범계 법무부장관은 검사장 인사를 앞둔 지난 2일과 5일 윤석열 검찰총장과 두차례 인사협의를 했다. 그러나 박 장관은 이성윤 서울중앙..'\n",
            " '추미애 법무부 장관이 장관직에서 물러나기 전 사실상 마지막 검찰 인사를 단행했다. 지난해 인사 기조와 달리 정권에 민감한 수사를 진행하는 수사팀에 대한 이른바 ‘학살’ 인사는 없었다는 게 대체적인 평가다. \\n \\n \\n ━\\n 김학의 원자력발전소 울산 등 주요 사건 수사팀 소폭 변화 \\n 법무부는 고등검찰검사급 검사 11명과 일반검사 531명 등 542명에 대한 인사를 ..'\n",
            " '백운규 전 장관 등 ‘윗선’ 수사 가속도 \\n법조계 “尹, 외풍 막고 수사 이어갈 것”\\n24일 법원 결정에 따라 윤석열 검찰총장의 징계 처분의 효력이 일시 중단되면서 윤 총장은 업무에 다시 복귀하게 됐다. 이달 초 직무배제에서 복귀할 당시 검찰 조직의 ‘든든한 버팀목’이 되겠다고 공언한 윤 총장의 귀환으로 정권을 겨냥한 주요 수사들이 탄력을 받을 것으로 ..'\n",
            " '“윤석열은 문재인 정부의 검찰총장이다.” 문재인 대통령은 18일 신년 기자회견에서 윤석열 검찰총장을 두고 이렇게 말하자 대검찰청찰청은 일단 안도하는 분위기가 나왔다. 지난해 추미애 법무부 장관의 직무배제 및 징계 추진으로 여권과 극한 갈등을 빚어온 윤 총장에 대해 대통령이 직접 재신임하는 취지의 발언을 했기 때문이다. 검찰 관계자는 \"극도의 혼란을 겪었던 ..'\n",
            " '인디언들이 기우제를 지내면 반드시 비가 온다. 신통력이 있어서가 아니라 비가 올 때까지 제사를 지내기 때문이다. 일부이긴 하지만 ‘나쁜’ 수사도 마찬가지다. 죄가 나올 때까지 탈탈 털어서 범죄자로 만든다. 별건 수사와 피의사실 흘리기가 동원된다. \\n \\n 모욕과 낙인에 산 송장이 된 피의자는 ‘저승사자’인 검사와 선이 닿는 전관(前官) 변호사에게 운명을 ..'\n",
            " '- 이용구 사의 표명\\n\\n\\n\\n“새로운 일꾼 필요하다 생각”\\n\\n법무부 통해 사퇴소회 전해\\n\\n檢관계자 “폭행 책임은 빠져”\\n\\n\\n\\n지난해 12월 윤석열 전 검찰총장 징계 과정에 추미애 전 법무부 장관을 대리해 사실상 법무부 검사징계위원회를 주도하는 등 법무부 내에서 실세로 불린 이용구(사진) 법무부 차관이 취임 178일 만인 28일 사의를 표명한 것을 두고 검..'\n",
            " '법무부 징계위원회가 윤석열 검찰총장의 정직 2개월 징계 처분을 의결할 당시 위원장 대행을 맡았던 정한중 한국외국어대 법학전문대학원 교수가 고위공직자범죄수사처(고위공직자범죄수사처)에 반대했다는 발언으로 논란이 일자 해명에 나섰다. \\n \\n 정 교수는 5일 자신의 페이스북을 통해 “저는 (4일 JTBC의 신년 토론회에서) 고위공직자범죄수사처를 반대한 적이 없고, 통제장치는 필요하다면..'\n",
            " '이용구 신임 법무부 차관이 3일 경기도 과천 정부과천청사로 출근하고 있다. 과천=연합뉴스 이용구(56 사법연수원 23기) 신임 법무부 차관이 취임하자마자 이해충돌과 전관예우 논란에 휩싸였다. 윤석열 검찰총장 징계위원회의 당연직 위원으로 참여하는 이 차관이 징계위에 참가하는 것은 물론 차관직을 수행하기에 부적절한 인물이 아니냐는 의견이 나온다. \\n \\n 3..'\n",
            " '문재인 대통령은 지난해 12월 16일 윤석열 검찰총장에 대한 정직 2개월의 징계처분을 재가했다. 윤 총장이 징계가 부당하다며 서울행정법원에 소송을 제기하자 여권은 검찰총장의 법적 대응에 대해 “징계를 재가한 대통령과의 전쟁”이라고 규정하고, 국민이 선출한 대통령에게 항명했다면서 ‘대통령 지키기’ 검찰 개혁의 칼을 또다시 꺼냈다. 같은 달 24일 법원이 ..'\n",
            " '여당이 ‘검찰개혁 시즌2’를 시작한다고 한다. 이번에는 제도개혁에 집중하겠다니 다행이다. 누구나 동의하는 검찰개혁의 대의는 비대한 검찰권력을 분산시키고 적절히 통제하는 것에 있다. 이때 “세계 최대 권한을 가진 한국 검찰”이라는 점이 개혁의 근거로 제시되곤 한다. 그런데 한국 검찰이 왜 그렇게 강력한 권한을 가지고 대한민국을 들었다 놨다 하는지, 그 이..'\n",
            " '박범계 법무부 장관 후보자가 25일 오전 서울 여의도 국회 법제사법위원회 인사청문회에서 답변하고 있다. 연합뉴스 박범계 법무부 장관 후보자에 대한 국회 인사청문회가 종료되며 신임 법무장관이 단행할 첫 검찰 간부 인사에 눈길이 모인다. \\n \\n 26일 법조계와 뉴스1 등에 따르면 국회 법제사법위원회는 전날(25일) 박 후보자에 대한 청문회를 진행한 뒤 인사..'\n",
            " 'ㆍ내부 통신망엔 “절대 왕정” “납득하기 어렵다” 비판 쏟아져 \\nㆍ직무 대행 조남관 차장 “초유 상황 어깨가 무겁고 안타깝다”\\n\\n\\n\\n윤석열 검찰총장의 직무집행이 정지된 25일 검찰 내부에서는 검사들의 반발하는 목소리가 이어졌다. 일부 검사들은 회의를 한 뒤 입장문을 내는 등 집단행동도 했다.\\n\\n조남관 대검찰청찰청 차장검사(55 사법연수원 24기)는 이날 “..']\n",
            "\n",
            "\n",
            "==================================================================================\n",
            "\n",
            "\n",
            "토픽        9: 토픽 개수      732, 전체 퍼센트    2.342%\n",
            "0      중국\n",
            "1      미국\n",
            "2      세계\n",
            "3      현지\n",
            "4     프랑스\n",
            "5      시간\n",
            "6      영국\n",
            "7     러시아\n",
            "8    체르노빌\n",
            "9      보도\n",
            "Name: #9, dtype: object\n",
            "['“아프리카는 지금 첩보원들의 엘도라도(황금의 나라)다.”\\n\\n 영국 <가디언>이 <알자지라>와 공동으로 입수한 남아프리카공화국안보국(SSA) 비밀문서를 토대로 아프리카 대륙이 21세기 세계 각국 스파이들의 주요 활동무대가 되고 있다고 24일 보도했다. 아프리카의 천연자원 등을 놓고 영향력을 확대하려는 중국과 전통적으로 영향력을 갖고 있던 미국과 유럽 등이..'\n",
            " '<문화방송>(MBC)이 최근 2020 도쿄올림픽 개막식과 남자 축구 예선전 중계방송에서 부적절한 사진과 자막을 사용한 데 대해 박성제 문화방송 사장이 사과했다. 이 방송사의 중계 문제는 주요 외신들이 잇따라 비판적인 보도를 내놓으면서 관련 국가는 물론 전세계적 논란으로 번지는 모양새다. 특히 <시엔엔>(CNN)은 26일 오전(한국시각) 이 사안을 인터넷..'\n",
            " '빌 게이츠(왼쪽), 워런 버핏 마이크로소프트(MS) 창업자 빌 게이츠와 ‘투자의 귀재’ 워런 버핏 버크셔해서웨이 회장이 손잡고 나트륨을 이용한 소형 원자력발전소 건설에 나선다. 이들은 나트륨이 에너지 산업 판도를 바꿀 ‘게임체인저’가 될 것이란 입장이다. \\n \\n 게이츠는 2일(현지시간) 마크 고든 미국 와이오밍 주지사 주재로 열린 화상회의에서 자신이 설..'\n",
            " '중국 핵무기 개발에 참여했던 원로 물리학자가 중국의 무분별한 원자력발전소 건립 계획에 대해 대놓고 “미쳤다”고 비판하고 나섰다. \\n \\n 중국과학원 이론물리학연구소의 허쭤슈(何祚휴 88 사진) 원사(선임연구원)는 25일 영국 일간지 가디언과의 인터뷰에서 “중국이 세계 최대 원자력발전국가가 되겠다는 막연한 목표의식만으로 충분한 안전장치 없이 무리한 원자력발전소 건..'\n",
            " '포르투갈 스페인뿐 아니라 폭염으로 유럽 전역이 몸살을 앓고 있다. 유럽 최북단 국가 노르웨이와 핀란드는 7월부터 낮 최고 기온이 32도에 이르고 있다. 예년보다 10도가량 높은 기록적인 더위다. 산타클로스 마을로 유명한 핀란드 북부 로바니에미에서는 사슴 떼가 더위를 식히려고 강물에 뛰어드는 광경이 벌어지고 있다. 노르웨이에서는 더위를 피하려는 순록 떼가..'\n",
            " \"지난 9일(현지시간) 눈 내리는 러시아 상트페테르부르크에서 한 남성이 거리에 전시된 '여자 잠수부' 조각상 앞을 지나고 있다. 상트페테르부르크=AP뉴시스 유럽에 본격적 겨울 추위가 닥치면서 가스 수요가 늘고 있지만 러시아가 대유럽 가스 공급을 제한해 가스 가격이 다시 치솟고 있으며, 최악의 경우 유럽 주요 도시들에서 정전 사태가 벌어질 것으로 예상된다고..\"\n",
            " '러시아 과학연구선 ‘아카데미크 켈디시’에 탄 국제 연구진은 최근 러시아 북쪽 랍테프해(海) 350m 깊이 대륙붕에서 ‘북극의 방귀’를 발견했다. 오래전 퇴적된 동식물 사체가 분해되면서 발생한 메탄가스가 저온, 고압의 물속에 얼어붙어 있다가 수온이 높아지자 미지근한 사이다 병마개를 딸 때처럼 뿜어져 나오고 있었다. 인간이 배출한 온실가스 때문에 높아진 기..'\n",
            " '러시아가 이란에 새 원자로 8기를 추가 건설하기로 합의했다. 마감시한(24일)이 2주도 남지 않은 이란 핵협상에 어떤 영향을 미칠지 주목된다. \\n \\n 12일 뉴욕타임스(NYT)에 따르면 세르게이 키리옌코 러시아 국영 원자력기업 로스아톰 최고경영자(CEO)와 알리 악바르 살레히 이란원자력청(AEOI) 청장은 전날 모스크바에서 이 같은 내용의 협정에 서명했..'\n",
            " '최근 일본 젊은이들 사이에서 ‘키리미(きりみ)상’이라는 캐릭터에 대한 인기가 높다. 키리미는 생선 토막을 뜻하는 일본어로 스시(초밥) 위에 얹어진 연어 살코기 모양을 하고 있다. 이 캐릭터의 트위터 팔로어는 23만5000명에 달한다. 그러나 26일(현지시간) 영국 일간 파이낸셜타임스(FT)가 소개한 이 캐릭터의 탄생 배경에는 ‘스시 종주국’ 일본의 남모..'\n",
            " '★ “대만을 팔아먹는 민진당(대만 집권당)의 행태가 끝이 없다.” () ★\\n\\n중국 관영 환구시보는 9일 이렇게 비판했다. 전날 대만이 일본 후쿠시마 농수산물 수입을 11년 만에 허용하자 격한 어조로 반발했다. 이처럼 날 선 반응은 대만인의 건강을 걱정하는 ‘동포애’ 때문이 아니다. 중국은 대만의 ‘변심’으로 인해 동북아에서 주도권을 쥐려는 구상에 균열이..'\n",
            " \"체르노빌 야생동물은 현재 사고 지역 주변에서 살아가고 있다.\\n\\n29년 전 발생한 체르노빌 원 사고로 사람이 떠나 황폐해진 지역에 야생동물이 번성하고 있는 것으로 밝혀졌다.\\n\\n영국 포츠머스대 짐 스미스 교수 연구진은 5일(현지시각) 국제 학술지 '커런트 바이올로지'를 통해 체르노빌 원자력발전소 사고 지역에 야생동물이 번성하고 있는 것으로 확인됐다고 전했다.\\n\\n스..\"\n",
            " '빌 게이츠가 세운 원자력발전소기업 테라파워 \"소형원자력발전소 수백개 건설 목표\" \\n소형원자력발전소에 전력 저장했다가 태양광 풍력 불안정할 때 전기 공급 \\n \\n빌 게이츠 마이크로소프트 창업자가 설립한 원자력 발전회사 테라파워(TerraPower)가 소형 원자력 발전소를 미국에 전역에 건설할 계획이라고 로이터통신이 27일(현지시각) 보도했다. 태양광 풍력 등 재생에너지의 간헐성..'\n",
            " '어느 분야든 생태계가 있다. 한국의 ‘소프트 파워’인 한류 역시 그 경쟁력은 탄탄한 생태계로부터 나온다. 춤과 노래에 능한 걸그룹 보이그룹을 다년간 키워온 연예기획사가 도처에 있고, 여기에 들어가려는 스타 지망생들이 넘쳐난다. 방탄소년단(BTS)의 등장도 하루아침에 가능한 일이 아니었다. 한류 인프라와 예비 스타를 버무려 글로벌 스타로 만들어내는 한국만..'\n",
            " '세계적인 샌드위치 프랜차이즈 써브웨이의 공동창업자 피터 벅 박사가 별세했다. 90세. \\n \\n 21일(현지시간) 블룸버그통신 월스트리트저널(WSJ) 등에 따르면 써브웨이는 벅 박사가 지난 18일 숨을 거뒀다면서도 구체적인 사망 경위는 밝히지 않았다. \\n \\n 존 치드시써브웨이 CEO는 성명을 통해 \"벅 박사는 솔선수범의 표상이었고, 써브웨이 가족의 핵심 일..'\n",
            " '박현수 조사팀장\\n\\n\\n\\n한국 최초의 우주 공상과학(SF) 영화 ‘승리호’가 흥행 가도를 달리고 있다. 코로나19로 극장 개봉 대신 넷플릭스를 통해 지난 5일 세계 190여 개국 안방에 공개되면서 세계 관객들로부터 주목받고 있다. 세계 각국의 온라인 스트리밍 순위를 집계하는 한 사이트에서 개봉 첫 주 28개국에서 1위를 차지했다. 오로지 한국의 기술력으로 ..'\n",
            " '우크라이나 체르노빌 인근에서 발생한 산불. 연합뉴스 우크라이나 체르노빌 원자력발전소 사고 현장 근처에서 발생한 산불이 열흘째 지속되면서 방사능 유출 우려가 커지고 있다. \\n \\n 13일(현지시간) 영국 일간 가디언에 따르면 현지 활동가들은 산불이 폐원자력발전소 및 방사성폐기물 처리장에서 불과 1마일(약 1.6㎞)여 떨어진 곳까지 접근했다고 주장했다. 체르노빌 투어 전..'\n",
            " '러시아가 북방 확장 계획의 중요한 사업으로 바다 위에 띄우는 원자력발전소 가동 준비를 마쳤다. 영국 일간 가디언은 4일(현지시간) 이를 ‘떠다니는 체르노빌’이라며 환경재앙을 우려하는 목소리가 커지고 있다고 보도했다.\\n해상원자력발전소 ‘아카데믹 로모노소프’는 대형 바지선에 원자로 2기를 설치한 형태로 러시아의 북방 계획 항로 약 6437㎞를 이동할 계획이다. 지..'\n",
            " '‘모든 인간의 가치는 동등하다(All lives have equal value).’ \\n \\n 마이크로소프트(MS) 창업자인 빌 게이츠 부부가 운영하는 ‘빌 앤드 멀린다 게이츠 재단’ 홈페이지 대문에 걸린 캐치 프레이즈다. 그 밑에 ‘우리는 불평등을 줄이기 위해 일하는 성미 급한 낙관주의자’라는 작은 글씨가 달렸다. 매년 50억 달러(5조 5000억원) 이..'\n",
            " '신종 코로나바이러스 감염증(코로나19) 발병 초기 중국 우한시 관리들이 사태의 심각성을 중국 중앙정부에 알리지 않고 숨겼다고 미국 정보당국이 판단하고 있다는 보도가 나왔다. 또 중국 정부 역시 이후 바이러스 정보를 제때 국제사회와 공유하지 않는 등 팬데믹(세계적 대유행)을 초래한 책임에서 자유롭지 않다는 결론도 내린 것으로 전해졌다. \\n 19일(현지시간..'\n",
            " '민선 7기 광역단체장에게 듣는다 3선 국회의원에서 경북의 새 도백(道伯)이 된 이철우(63 자유한국당) 경북도지사는 인터뷰 시작에 앞서 대뜸 신고 있던 운동화부터 들어 보였다. \\n \\n “도청 직원들이 선물해 준 운동화입니다. 열심히 뛰어 달라는 이야기죠.” 취임식 때부터 신었으니 이 운동화는 이제 그의 트레이드 마크나 다름없다. 이 지사는 신발이 다 닳..']\n",
            "\n",
            "\n",
            "==================================================================================\n",
            "\n",
            "\n",
            "토픽       10: 토픽 개수      657, 전체 퍼센트    2.102%\n",
            "0     유출\n",
            "1     자료\n",
            "2     정보\n",
            "3     북한\n",
            "4     해킹\n",
            "5    사이버\n",
            "6     공개\n",
            "7     해커\n",
            "8     공격\n",
            "9     보안\n",
            "Name: #10, dtype: object\n",
            "['지난해 12월 SNS에 국내 원자력발전소 도면 등을 공개하면서 원자력발전소 파괴를 협박한 해커가 3개월 만에 활동을 재개했다. 이번에 공개한 자료 12개 가운데 지난해 1월 박근혜 대통령과 반기문 유엔 사무총장 간 전화통화 녹취록도 포함된 것으로 알려져 파장이 만만치 않을 전망이다. \\n \\n해커가 공개한 자료 가운데 눈길을 끄는 것은 미 뉴욕시간 2014년 1월..'\n",
            " '원자력발전소 도면 등 잇따른 자료 공개 이전에 한국수력원자력 직원들에게 다량의 악성 이메일이 발송된 것으로 드러났다. 이메일은 전직 한국수력원자력 직원 명의로 발송됐다. 수사 당국은 악성 이메일을 유포한 자와 유출 자료를 게시한 범인 추정 인물이 동일인 내지 동일그룹일 가능성이 크다고 판단하고 수사력을 모으고 있다. \\n \\n이 사건을 수사 중인 개인정보범죄 합동..'\n",
            " '“인터넷에 떠도는 유출문건은 핵심기술이 아닙니다. 만일의 사태는 일어나지 않을 것입니다.” \\n \\n기자는 26일 사이버테러에 대한 한국수력원자력의 대응태세를 문의했다. “만일의 사태가 일어나지 않을 것”이라는 앵무새 답변만 돌아왔다. 성탄절 이후 사이버 테러에 대한 공포는 여전히 남아 있었지만 한국수력원자력은 문건의 중요성을 평가절하하며 자기변명에 급급한 모습이..'\n",
            " '정부는 31일 박근혜 대통령 주재로 국무회의를 열고 ‘사이버안보비서관실’을 청와대 국가안보실에 두는 ‘국가안보실 직제 일부개정령안’을 의결했다. \\n\\n\\n사이버안보비서관실의 신설은 소니픽처스 해킹 사건이나 한국수력원자력 원자력발전소 해킹 등 북한의 사이버 테러가 큰 위협이 되고 있어 이에 대한 대응 대비를 청와대가 총괄 지휘하도록 하기 위한 것이다. 박근혜 대통령은 지난달 ..'\n",
            " '원자력발전소도면 또 공개 \\n\\n원자력발전소도면 또 공개 “지방 모처 수사관 급파” 정체 밝혀졌나\\n\\n개인정보범죄정부합동수사단(단장 이정수 부장검사)은 21일 한국수력원자력의 원자력발전소 도면 등 주요 정보가 외부로 빠져나간 사건과 관련해 유출 경로를 따라가며 범인 추적에 나섰다. \\n\\n합수단은 범인이 사용한 것으로 추정되는 IP의 위치가 지방 모처로 파악됨에 따라 이날 현장에 ..'\n",
            " '검찰은 25일 ‘원자력발전소반대그룹(Who Am I)’이란 이름의 해커가 수년 전부터 치밀하게 한국수력원자력 해킹을 계획해 온 것으로 파악됐다고 밝혔다. 수년 전 퇴직한 직원 명의로 지난 9일 한국수력원자력 임직원에게 대량으로 이메일을 뿌렸는데, 일종의 ‘미끼’인 이 메일에 악성코드 300여종이 들어 있었다는 것이다. 산업통상자원부와 한국수력원자력은 우려했던 해커의 ‘크리스..'\n",
            " '검찰이 청와대 문건을 공개한 ‘원자력발전소반대그룹’의 사회관계망서비스(SNS) 계정에 대해 국내 누리꾼들의 접속을 차단했다. 이 같은 조치는 지난해 12월 이 해커 집단이 원자력발전소도면 등을 공개해온 후 6개월 만에 처음이다. \\n그러나 복수의 정부기관이 해킹 공격을 받았을 가능성이 제기되는 등 1차 수사결과에서 벗어나는 내용이 불거진 상태여서 원점에서의 재수사가 불..'\n",
            " '2016년 초 인천공항에 비상이 걸렸습니다. 입국장에 있는 남자 화장실에서 폭발물로 의심되는 물체와 아랍어로 된 협박성 메모지가 발견됐기 때문인데요. \\n \\n 수사에 나선 경찰은 닷새 만에 30대 한국인 남성을 범인으로 체포했습니다. 비교적 빨리 범인을 잡을 수 있었던 건 공항 내 CCTV(폐쇄회로TV) 영상 덕분이었는데요. \\n \\n 당시 경찰은 CCTV ..'\n",
            " '검찰이 한국수력원자력의 원자력발전소 도면 해킹은 북한 해커조직의 소행이라고 결론냈다. 범인이 온라인 공간에 유포한 한국수력원자력의 원자력발전소 관련 자료들은 한국수력원자력 내부 전산망에서 직접 빼낸 것이 아니라 전 현직 임직원과 협력사 관계자 등의 이메일이나 인터넷 커뮤니티를 해킹해 유출한 것으로 조사됐다. 유출된 자료들은 원자력발전소을 운용하는 데 있어 핵심 자료가 아니어서 원자력발전소 수출 ..'\n",
            " '한국수력원자력 원자력발전소 도면을 유출한 해커가 사이버 공격에 사용한 가상사설망(VPN) 이용료를 평범한 시민이 대신 내고 있었던 것으로 확인됐다. 해커는 스미싱(문자메시지를 통한 악성코드 전이) 방식으로 공인인증서를 탈취해 매달 몇 만원씩 몰래 빼냈다. 대납자는 검찰 수사가 이뤄지기까지 자기 돈이 해커의 ‘소액결제’에 동원됐다는 사실을 몰랐던 것으로 알려졌다..'\n",
            " '최근 원자력발전소를 해킹했다고 주장하는 ‘원자력발전소 해커’가 수차례 원자력발전소 도면을 공개해 사이버 보안에 대한 관심이 높아진 가운데 국내 연구진이 전력거래소나 정수장 등 사회 기반시설의 해킹을 원천 봉쇄할 수 있는 기술을 개발했다. \\n \\n 나중찬 한국전자통신연구원(ETRI) 제어시스템보안연구실장은 “산업용 기기 제어시스템을 보호할 수 있는 방화벽 장비를 새롭게 ..'\n",
            " '<!-- SUB_TITLE_START-->ㆍ‘원자력발전소반대그룹’ 협박에 불안 확산 검, 수사 착수ㆍ글 머리에 북한식 표현 사용 IP 위치 국내 파악<!-- SUB_TITLE_END-->\\n\\n‘원자력발전소반대그룹’을..'\n",
            " '박근혜 대통령이 “이적행위”라고 지목한 방위산업 비리를 수사하기 위해 사정기관들이 총동원되다시피 한 대규모 합동수사단이 출범한다.\\n\\n 대검찰청찰청은 19일 “방위산업 비리 합동수사단이 서울중앙지방검찰청에 설치돼 21일 현판식을 하고 본격 활동에 들어간다”고 밝혔다. 합수단에는 검찰 군검찰 경찰 국세청 관세청이 참여하고, 자금 추적 지원을 위해 금융감독원과 예금보..'\n",
            " '전남 영광의 한빛원전원자력발전소(옛 영광원자력발전소)을 운영하는 한국수력원자력 직원이 방사성폐기물 관리 용역업체 직원에게 원자력발전소 내부 전산망에 접속할 수 있는 아이디(ID)와 패스워드를 알려주고 무단 접근을 허용한 사실이 뒤늦게 드러났다. 한국수력원자력 직원 명의로 전산망에 접속하면 국가 핵심 보안시설인 원자력발전소의 설계도면까지 조회할 수 있다. 원자력발전소 관리에 또 심각한 구멍이 드러났다..'\n",
            " '국내 원자력발전소의 도면과 매뉴얼 등 한국수력원자력의 내부 문서가 또다시 인터넷에 공개됐다. 지난 15일에 이은 4번째 유출이지만 한국수력원자력과 정부는 “원자력발전소 안전에는 이상이 없다”는 말만 반복하고 있다. \\n\\n21일 오전 1시 30분쯤 자신을 ‘원자력발전소반대그룹 회장’이라고 밝힌 해킹용의자는 자신의 트위터에 다시 한국수력원자력을 조롱하는 글과 함께 4개의 압축파일을 공개..'\n",
            " '원자력발전소 자료 유출로 논란을 빚는 한국수력원자력이 사이버보안과 직결된 정보시스템 유지 관리 업무를 외부 업체에 맡기면서 계약을 제때 갱신하지 않아 넉 달 가까이 관리 주체 공백 상태를 가져온 것으로 드러났다.\\n\\n\\n30일 한국수력원자력이 국회 산업통상자원위원회 소속 이채익 새누리당 의원에게 제출한 내부 감사 자료에 따르면 한국수력원자력은 정보시스템 유지 관리 업무를 맡은 ..'\n",
            " '검찰이 원자력발전소해커를 수사중인 개인정보범죄정부합동수사단 사이버상황실을 22일 언론에 공개했다. 상황모니터에 개인정보등록 키워드, 개인정보 인터넷 및 트위터 모니터링 상황이 조회되고 있다.\\n\\n<김창길 기자 cut@kyunghyang.com>'\n",
            " '산업통상자원부, 40개 공공기관 점검\\n\\n\\n\\n박진규 산업통상자원부 차관은 26일 “최근 해외 에너지 인프라를 인질로 삼거나 국내 핵심기술을 탈취하려는 사이버공격이 지속해서 발생하고 있다”며 “원자력발전소 전력 가스 등 에너지 핵심 기반시설을 관리하는 기관은 사이버보안에 전력을 기울여달라”고 강조했다.\\n\\n\\n\\n박 차관은 이날 40개 산하 공공기관의 사이버보안 총괄 책임자들..'\n",
            " '한국수력원자력 지난 5월 자체점검서 USB 무단사용 흔적 발견 ‘문건유출’ 내부인 개입 가능성\\n\\n박근혜 대통령은 23일 한국수력원자력의 원자력발전소 도면 자료 등의 유출 사건과 관련, “국가안보 차원에서 한치의 빈틈 없이 철저히 관리가 되어야 하는데 있어서는 안 될 심각한 상황이 발생했다”고 지적했다.\\n\\n박근혜 대통령은 이날 정부세종청사에서 국무회의를 주재하고, “검찰과..'\n",
            " '원자력 발전소 가동 중단과 원자력발전소 추가 건설 계획 백지화를 요구하고 있는 원자력발전소반대그룹이 최근 자신들의 SNS 계정에 우리 군 비밀문서 내용을 공개했다. 이 문서에는 북한 정권 붕괴 등 급변사태가 발생했을 경우 중국과 러시아, 미국, 한국 등 4개국이 북한을 분할 통치하자는 내용이 들어 있었고, 이러한 제안을 한 국가는 중국이었던 것으로 확인됐다.\\n중국 측..']\n",
            "\n",
            "\n",
            "==================================================================================\n",
            "\n",
            "\n",
            "토픽       11: 토픽 개수      922, 전체 퍼센트    2.949%\n",
            "0     수산물\n",
            "1    후쿠시마\n",
            "2     코로나\n",
            "3      수입\n",
            "4     방사능\n",
            "5     올림픽\n",
            "6      식품\n",
            "7      도쿄\n",
            "8      금지\n",
            "9      조치\n",
            "Name: #11, dtype: object\n",
            "['월성원자력발전소보부 청경 1명도 확진 \\n\\n \\n\\n한국수력원자력 본사 직원 1명이 신종 코로나바이러스 감염증(코로나19) 확진 판정을 받음에 따라 상황실을 제외한 본사가 일시 폐쇄된다.\\n\\n\\n\\n26일 한국수력원자력에 따르면 한국수력원자력 본사 근무자 A(여 32) 씨가 25일 오후 11시 코로나19 확진 판정을 받았다. 이에 따라 한국수력원자력은 본사 직원 가운데 100여 명을 자가격리..'\n",
            " '문재인 대통령이 1일 오후 2시 청와대 여민관에서 수석 보좌관회의를 주재한다. \\n \\n 이날 회의에서 문 대통령은 재차 연장된 신종 코로나바이러스 감염증(코로나19) 사회적 거리두기 및 방역기준 등에 동참해줄 것을 당부할 것으로 보인다. \\n \\n 전날 정부는 지난 연말부터 시행해온 5인 이상 사적모임 금지와 식당 등에 대한 오후 9시 이후 영업제한 등 조처..'\n",
            " '유통업체들은 일본 8개 현(縣) 수산물의 수입이 전면 금지돼도 크게 달라지는 건 없을 것으로 내다봤다. 2011년 3월 후쿠시마 원자력발전소 사고 이후 일본산 수산물을 판매하지 않고 있기 때문이다. 다만 수산물에 대한 소비자들의 불안감이 커져 매출이 줄어들지 않을까 우려하는 분위기다. \\n \\n이마트 관계자는 6일 “정부가 일본산 수산물 수입을 전면 금지했지만 이..'\n",
            " '일본에서 들여오는 수산물이란 명태와 횟감 정도라고 생각했다. 동태가 아닌 생태는 일본산이 많다는 것을 알고 있었고, 원산지 표시가 일본으로 된 돌돔, 참돔, 벵에돔을 본 적이 있기 때문이다. 그런데 지난달 수입 수산물 목록을 보니 아니었다. 명태는 물론 고등어와 갈치, 낙지, 장어, 홍어, 꼴뚜기, 마른새우, 왕게, 가리비까지 다양했다. 횟감으로도 다랑..'\n",
            " '日부흥상, 기자회견서 후쿠시마 식자재 발언 \\n“한국 식재료의 방사능 수치도 알고 있다”\\n일본의 고위 당국자가 후쿠시마현을 포함한 인근 8개 현의 수산물 수입을 규제하고 있는 한국을 겨냥해 “일본은 ‘그 나라’보다 훨씬 안전하고 깨끗하다”고 말했다.\\n다나카 가즈노리 부흥상은 18일 기자회견에서 2011년 동일본 대지진 여파로 원자력발전소가 폭발한 후쿠시마..'\n",
            " '2011년 3월 동일본 대지진으로 후쿠시마 원자력발전소 사고가 일어난 이후에도 10만t이 넘는 일본산 수산물이 국내에 들어온 것으로 확인됐다. \\n \\n21일 관세청 수출입무역통계에 따르면 후쿠시마 원자력발전소사고가 발생한 2011년 3월부터 지난달까지 약 4년간 수입한 일본산 어류는 모두 13만973t에 이른다. 금액으로 환산하면 4억2008만8000달러어치다. 다만 ..'\n",
            " 'ㆍWTO 제소 1심 한국 패소 11일 최종 결과 발표\\n\\n일본 후쿠시마현 주변에서 잡힌 수산물에서 여전히 방사성물질이 검출되고 있는 것으로 나타났다. 한국이 일본이 제기한 세계무역기구(WTO) 분쟁에서 패하면 후쿠시마산 수산물 수입이 재개될 것이라는 우려가 커지고 있다.\\n\\n환경운동연합과 시민방사능감시센터는 2018년 일본 후생노동성의 ‘농 수 축산물 방사..'\n",
            " '[단독] 대한체육회가 오는 20일부터 사흘간 일본에서 열리는 2020도쿄올림픽 선수단장회의에서 방사능 안전 문제를 공식 제기할 계획인 것으로 확인됐다. 대한체육회는 문화체육관광부 등 관련 기관과 구체적 대응 계획도 협의 중인 것으로 나타났다. 대한체육회는 국제올림픽위원회(IOC) 한국 회원 자격인 대한올림픽위원회(KOC)를 겸하고 있다. \\n \\n대한체육회..'\n",
            " '2011년 일본 후쿠시마 원자력발전소 방사능 누출 사고 이후 국내로 수입된 후쿠시마산 식품이 400t 이상인 것으로 나타났다.\\n\\n중국과 대만 등이 일본 후쿠시마에서 생산된 모든 식품에 대한 수입금지를 한 것과 달리 우리 정부는 농산물과 사료 등 일부 식품에 대해서만 수입을 중지했기 때문이다.\\n\\n19일 국회 보건복지위원회 최도자 의원(국민의당)은 식품의약품국민안전처..'\n",
            " '원자력 안전관리를 위해 방사능 방재 기능을 실무적으로 총괄 조정하는 국무총리 소속 원자력안전규제정책 조정회의가 신설된다. 방사능에 대한 국민 불안감을 덜기 위해 일본산 식품의 방사능 검사 결과가 매일 식품의약품국민안전처 홈페이지에 공개된다. \\n \\n안전행정부는 27일 경북 경주시 월성원자력본부에서 제8차 안전정책조정회의를 열고 이 같은 내용의 ‘원자력 안전관..'\n",
            " '일본 도쿄가 8일 아르헨티나 부에노스아이레스에서 열린 국제올림픽위원회(IOC) 총회에서 2020년 하계올림픽 개최권을 따냄으로써 일본은 통산 네 번째 올림픽을 개최하게 됐다. 이는 미국(8회)과 프랑스(5회)에 이어 세 번째로 올림픽을 많이 개최하는 것이다.\\n도쿄의 개최권 획득은 IOC가 개최국 선정에서 큰 변화를 보이고 있다는 것을 보여준다. 그동안 ..'\n",
            " '김익중 전 동국대학교 의대 교수는 일본 정부가 “후쿠시마 원자력발전소 사고 이후 방사성 물질 기준치를 올려 쌀농사를 허용했다”고 밝혔다. 도쿄올림픽조직위원회가 전세계 선수단에 후쿠시마산 농수산물이 식사로 제공하겠다고 밝힌 데 대해서는 “암과 유전병 등을 유발할 수 있다”고 우려를 표명했다.\\n\\n원자력안전위원회 출신인 김 전 교수는 23일 CBS라디오 <김현정의 ..'\n",
            " '일본 도쿄(東京)가 후쿠시마(福島) 원자력발전소 오염수 유출 사고에도 불구하고 2020년 올림픽 개최지로 선정된 것과 관련해 프랑스의 한 언론이 팔다리가 3개인 기형 스모 선수를 그린 풍자 만화(사진)를 게재해 논란이 일고 있다.\\n\\n12일 NHK 등 일본 언론에 따르면 프랑스의 풍자 전문 주간지 ‘르 카나르 앙세네’는 11일자 신문에 팔과 다리가 3개이..'\n",
            " '한국 일부 언론이 올림픽 메달리스트에게 주는 꽃다발인 ‘빅토리 부케’가 후쿠시마에서 재배돼 방사능 우려가 있다고 보도한 것과 관련, 일본 정부 관계자가 한국 메달리스트에게는 꽃다발을 주지 말자고 한 사실이 알려졌다. \\n \\n26일 일본 아사히신문 계열 주간지 ‘아에라(AERA)’에 따르면, 익명의 일본 정부 관계자는 “특별한 정성으로 만든 빅토리 부케를 ..'\n",
            " '2020 도쿄올림픽 메달리스트에게 주는 후쿠시마산 꽃다발에 대해 한국 언론이 방사능 우려를 제기한 것과 관련, 일본 정부 관계자가 “한국 메달리스트에게는 앞으로 빅토리 부케(꽃다발)를 건네주지 않는 게 좋다”고 언급했다. \\n \\n 일본 시사주간지 ‘아에라’(AERA)는 지난 26일 익명의 한 일본 정부 관계자의 발언을 인용해 “정부는 국제올림픽위원회(IO..'\n",
            " '일본의 식도락 문화를 다룬 인기 연재 만화 <맛의 달인> 최신판에 후쿠시마 제1원자력발전소 인근 마을을 방문한 주인공 일행의 코피 흘리는 장면이 묘사돼 논란이 거세다. \\n\\n\\n\\n 28일 발매된 주간지 <빅코믹스피리츠>에 게재된 이 만화에는 주인공 일행이 후쿠시마를 취재한 뒤 코피 흘리고 피로감을 호소하는 내용을 담았다. 후쿠시마 제1원자력발전소이 있는 후타바마을 촌장이..'\n",
            " '14일 한국수력원자력 월성원자력본부가 경주 양남 주성전리 전통시장에서 추석맞이 전통시장 장보기 행사를 갖고 구입한 물품을 소외계층에 전달하고 있다.월성원자력본부 제공 한국수력원자력㈜ 월성?한울원전원자력본부 직원들이 추석을 앞두고 지역 내 불우한 이웃을 위해 제수용품을 전달하는 등 온정을 베풀었다. \\n \\n 한국수력원자력 한울원전원자력발전소 임직원들은 추석을 앞둔 14일 전통시장에서 ..'\n",
            " '일본 정부가 오는 6월 1일부터 한국으로부터 수입하는 넙치(광어)와 생식용 냉장 조개류 등에 대한 검사를 강화할 것이라고 산케이신문이 30일 보도했다. \\n \\n 극우 성향의 산케이는 \"특정국의 수산물 규제를 강화하는 것은 매우 이례적\"이라며 \"한국이 후쿠시마 제1원자력발전소 사고 후 후쿠시마 등 8개현의 수산물 수입규제를 계속하고 있는 데 따른 사실상 대응조치가..'\n",
            " '정부가 일본 후쿠시마(福島) 주변 8개 현에서 나온 모든 수산물을 전면 수입금지하기로 했다. 후쿠시마 주변 8개 현 이외 지역의 일본산 수산물에도 세슘이 미량이라도 검출되면 농축산물과 마찬가지로 기타 핵종에 대한 검사증명서를 추가로 요구할 방침이다. \\n\\n정부는 5일 정홍원 국무총리 주재로 외교부, 안전행정부, 농림축산식품부, 해양수산부, 원자력안전위원회..'\n",
            " '일본 내 코로나19 확산이 진정세를 보이지 않는 가운데 도쿄올림픽 성화 봉송 행사가 25일 시작됐다. 도쿄올림픽 개막일인 7월 23일까지 121일 동안 약 1만명의 봉송 주자가 일본 전역을 순회할 예정이다. 일본 보건당국은 봉송 행사가 코로나19 재확산을 촉발하지 않도록 시민들에게 밀집 응원을 자제하고 인터넷 중계 영상 시청을 권고하는 등 방역 대책을 ..']\n",
            "\n",
            "\n",
            "==================================================================================\n",
            "\n",
            "\n",
            "토픽       12: 토픽 개수     1320, 전체 퍼센트    4.222%\n",
            "0    주민\n",
            "1    시민\n",
            "2    단체\n",
            "3    지역\n",
            "4    투표\n",
            "5    반대\n",
            "6    건설\n",
            "7    부산\n",
            "8    환경\n",
            "9    경북\n",
            "Name: #12, dtype: object\n",
            "['환경운동연합은 24일 19대 국회에서 반환경 정책을 추진했던 ‘반환경 국회의원’ 17명을 선정해 발표했다. \\n\\n 이들 의원에는 원자력발전소 확대와 핵무장을 주장한 김동완(새누리당 충남 당진시) 김상훈( 대구 서구) 김한표( 경남 거제시) 이강후( 강원 원주시 을) 이채익( 울산 남구 갑) 정수성( 경북 경주시) 조원진( 대구 달서구 병) 의원, 4대..'\n",
            " '경북 울진군의회는 19일 의회 본회의장에서 11월 20일~12월 19일 열린 제229회 울진군의회 제2차 정례회를 모두 마무리했다. \\n \\n이번 회기에는 2019년 예산안, 2018년도 제2회 추경예산안, 신한울원전원자력발전소 3 4호기 약속원자력발전소 건설재개 촉구 결의문과 조례안 10건이 의결됐다. \\n \\n또 예산결산특별위원회는 내년도 예산의 효율적 운용을 위해 집행부의 2..'\n",
            " '새 원자력발전소 건설 예정지로 지정된 삼척뿐 아니라 강원지역 모든 시장 군수가 ‘삼척 원자력발전소 백지화’를 요구하고 나섰다. 최문순 강원지사와 지역구 국회의원, 시 군의회에 이어 여야 소속 모든 단체장들까지 삼척 원자력발전소 반대 대열에 가세하면서 정부의 일방적 원자력발전소 확대 정책에 적지 않은 부담이 될 것으로 보인다.\\n\\n 강원지역 시 군 18곳의 단체장이 참여하는 강원도 시..'\n",
            " '국내 원자력발전소 인근 지역 주민들의 갑상선암 발병이 원자력발전소과는 무관하다는 조사 결과가 제시됐다. 대한방사선과학회와 대한방사선방어학회 등 유관 단체들은 이같은 내용을 담은 성명을 발표했다.\\n 대한방사선과학회와 대한방사선방어학회, 대한방사선종양학회, 대한핵의학회 등 13개 유관단체는 28일 성명을 통해 “객관적인 사실에 입각해 정상적으로 운영되는 원자력발전소과 ..'\n",
            " '고리원자력발전소 원자력발전소의 안전 문제가 핵심 현안인 부산 기장군수 선거에서는 여야 후보들이 한목소리로 원자력발전소 폐쇄를 주장하고 있다.\\n\\n 홍성률(67) 새누리당 후보는 군청 안에 갈등조정위원회를 구성하겠다는 공약을 첫 번째로 내세웠다. 홍 후보는 기장군에 원자력발전소와 765㎸송전선로, 산업폐기물 등 각종 현안이 많아 주민 갈등이 커지고 행정 불신으로 이어지고 있다고 진..'\n",
            " '울산 구청장 군수협의회가 사용후핵연료 정책과 관련한 의견수렴 과정에서 산업통상자원부가 울산 구청장 군수가 동의한 것처럼 호도했다며 반발했다. \\n \\n울산 구청장 군수협의회는 15일 입장문을 통해 “최근 울산지역은 잦은 지진, 원자력발전소 공극 발생, 월성원자력발전소 맥스터 건설, 태풍으로 인한 원자력발전소 6기 셧다운 사태 발생 등으로 지역민들이 극도의 불안감에 시달리고 있지..'\n",
            " \"8일 전국 80여 개 단체가 참가한 '핵없는 사회를 위한 공동행동'이 서울 세종문화회관 앞에서 정부에 탈핵약속 실현을 요구하는 기자회견을 열고 있다. 이날 선언에는 노동 교육 법조 협동조합 시민단체 정당 종교 학계 등에서 활동하는 3600명이 참가했다. 환경운동연합 제공문재인 대통령의 탈핵 정책에 따라 현재 공사가 진행 중인 신고리원자력발전소원자력발전소 5 6호기를 두고 찬..\"\n",
            " '정부 원자력발전소 정책 반대, 신재생에너지 관심 촉구\\n \\n\\n 신고리원자력발전소원자력발전소 3호기 운영허가 심사를 앞두고 오는 9일 국제 환경단체인 그린피스의 환경감시선이 2년여 만에 부산항을 다시 찾는다. 정부의 원자력발전소 신규건설을 반대하기 위해서다. \\n 그린피스 환경감시선인 ‘레인보우 워리어호’는 오는 9일 부산항에 입항해 20일까지 머물다가 오는 22일 인천에 도착해 27일까지 캠..'\n",
            " '구의원 15명보다 예산을 허투루 쓰지 않길 바라는 주민들 힘이 더 셌다. 3억4600만원을 들여 개인 사무실을 만들기로 했던 서울시 구로구의회가 줄기찬 반대운동에 계획을 백지화한 사실이 뒤늦게 알려졌다. 이 돈은 어린이 보육과 안전한 학교급식 예산으로 돌아가게 됐다.\\n\\n 구로구의회가 개별 의원실 설치를 추진한 것은 지난 7월부터다. 구의원들은 의원총회를..'\n",
            " '국제적인 환경단체 ‘그린피스’의 활동가들이 18일 원자력발전소 안전대책을 촉구하는 시민 서명 명부를 부산시에 전달했다. 송준권(41)씨 등 한국 미국 대만 인도네시아 국적의 그린피스 활동가 4명은 이날 부산시를 찾아 원자력발전소 안전 대책을 촉구하는 전국의 시민 4천여명이 온라인과 거리에서 서명한 명부를 건넸다.\\n 지난 5일 상징적인 환경감시선 ‘레인보 워리어 3’호..'\n",
            " '신규 원자력발전소 건설 후보지에서 강원 삼척시가 빠질 가능성이 높은 것으로 알려졌다. 주민투표 등을 통한 삼척의 강한 반대가 그 배경이 된 것으로 전해졌다.\\n\\n또 다른 신규 원자력발전소 후보지인 경북 영덕군도 오는 11월 원자력발전소 유치의 찬반을 묻는 주민투표를 실행키로 했다. 영덕에서도 원자력발전소 유치 반대 여론이 높은만큼 정부가 삼척과 같은 논리를 적용해 영덕을 원자력발전소..'\n",
            " '‘원자력발전소 소재기 인근 지자체를 위한 원자력 안전교부세 즉각 신설하라.’\\n전국 원자력발전소 인근지역 동맹(이하 전국원자력발전소동맹)은 19일 올해 첫 임시총회를 화상으로 열고 이런 내용을 담은 대정부 국회 결의문을 만장일치로 채택했다. 전국원자력발전소동맹은 울산 중구와 전북 부안군, 부산 금정구 등 전국 원자력발전소 인근 지역 16개 지자체 모임이다.\\n전국원자력발전소동맹은 결의문에서 “원자력발전소이..'\n",
            " '강원도 내 100여개 단체가 2일 ‘삼척 원자력발전소 유치 찬반 주민투표’ 지지를 선언하면서 정부도 주민 투표 결과를 받아들일 것을 촉구했다. 강원 지역에서 100개가 넘는 종교 시민 사회단체가 한목소리를 내며 연대 의사를 밝힌 것은 이례적이다.\\n\\n강원기독교교회협의회, 강원생명평화회의, 강원시민사회단체연대회의, 강원여성연대 등 100여개 단체들은 이날 오전 강..'\n",
            " '민주 21석 한국 21석 정의 2석 \\n\\n전원 투표해 23명 결의안 찬성 \\n\\n\\n\\n원자로 제작 두산重 협력업체 \\n\\n脫원자력발전소 타격에 창원 경제 휘청\\n\\n\\n\\n더불어민주당과 정의당 등 범여권이 과반인 경남 창원시의회에서조차 정부의 탈원자력발전소 정책 폐기를 촉구하는 결의안이 채택됐다. 탈원자력발전소 반대 및 신한울원전원자력발전소 3 4호기 건설재개를 위한 범국민 서명운동도 시작된다. 업계에서는..'\n",
            " '<!-- SUB_TITLE_START-->ㆍ마리오 다마토 그린피스 동아시아지부 사무총장<!-- SUB_TITLE_END-->\\n\\n“원자력은 절대 값싼 에너지가 아닙니다. 한국도 원자력발전소(원자력발전소)를 더 이상 짓지 말고 점차 ‘탈핵’으로 가야 합니다.”\\n\\n그린피스 동아시아지부 마리오 ..'\n",
            " '경주 월성원자력발전소 사용후핵연료 저장시설(맥스터) 추가건설 찬반을 묻는 울산북구 민간주도 주민투표의 본투표가 5일 시작됐다. 투표는 6일 오후 8시까지 계속된다.\\n\\n울산북구 주민투표관리위원회(이하 관리위원회)는 투개표 사무원과 현장지원팀 등 연인원 1600명을 투입해 이날 오전 6시부터 북구지역 34개 투표소에서 주민투표에 들어갔다. 유권자는 만 18세 이상..'\n",
            " '원자력 발전 확대 정책에 동의해온 새누리당에서 원자력발전소에 ‘브레이크’를 거는 입법과 목소리가 이어지고 있다.\\n새누리당 이이재 의원(강원 동해 삼척)은 지난 26일 원자력발전소 유치 시 주민투표 절차를 의무화하는 ‘전원개발촉진법’ 개정안을 대표발의했다. 또 원자력발전소 주변 지역에 대한 지원 범위를 방사선 비상계획 구역까지 확대하는 내용을 담은 ‘발전소 주변지역 지원법’ ..'\n",
            " '국제환경단체 그린피스 회원과 더불어민주당 부산 당원들이 7일 오후 부산역 광장에서 신고리원자력발전소원자력발전소 5ㆍ6호기 등 신규 원자력발전소 건설 허가를 규탄하며, 원자력발전소 사고로 직접 피해를 입게 될 시민들의 모습을 표현하는 퍼포먼스를 펼치고 있다. 전혜원 기자 iamjhw@hankookilbo.com'\n",
            " '부산 기장군 고리원자력발전소원자력발전소에서 반지름 30㎞까지 방사선 비상계획구역 확대를 촉구하는 만민공동회가 부산에서 열렸다. 방사선 비상계획구역에 포함되면 원자력발전소 사고가 났을 때 주민들이 대피할 공간과 방호약품, 보호복 등을 준비해야 한다. 반핵부산시민대책위원회, 탈핵울산시민공동행동, 김해 양산환경운동연합, 고리원자력발전소원자력발전소 1호기 폐쇄 양산시민행동은 26일 부산시의회 회의실에서..'\n",
            " '원자력발전소 건설 백지화에 앞장서고 있는 김양호(53 무소속) 강원 삼척시장이 주민투표 동의안을 시의회에 제출했다.\\n\\n 삼척시는 원자력발전소건설 신청 철회를 위한 주민투표 동의안을 시의회에 제출했다고 20일 밝혔다. 삼척은 경북 영덕과 함께 2012년 9월 정부의 신규 원자력발전소 예정지로 지정 고시된 지역으로, 김 시장은 원자력발전소 찬반 주민투표 실시를 대표 공약으로 세워 지난..']\n",
            "\n",
            "\n",
            "==================================================================================\n",
            "\n",
            "\n",
            "토픽       13: 토픽 개수     1106, 전체 퍼센트    3.538%\n",
            "0        건설\n",
            "1        공사\n",
            "2     신한울원전\n",
            "3        사용\n",
            "4        중단\n",
            "5       핵연료\n",
            "6       신고리\n",
            "7        시설\n",
            "8    방사성폐기물\n",
            "9        공론\n",
            "Name: #13, dtype: object\n",
            "['곽대훈 자유한국당 의원이 공개한 ‘6 27 국무회의록’이 논란이 되고 있다.\\n \\n정부는 당시 국무회의에서 신고리원자력발전소원자력발전소원자력발전소 5, 6호기 공사를 일시 중단시켰다.\\n \\n곽 의원은 11일 행정자치부에서 제출받은 국무회의록을 바탕으로 “정부가 신고리원자력발전소원자력발전소 5, 6호기 공사 일시 중단을 결정하면서 부처 간 토론이나 사전 논의 없이 세 마디 회의로 급하게 결정이 이뤄졌다”고 ..'\n",
            " '“2022년 3월에는 포화 상태 \\n\\n원자력발전소 정치적으로 악용 안돼 \\n\\n지역경제 환경 먼저 고려를”\\n\\n\\n\\n탈원자력발전소 반대단체들이 21일 “안전한 원자력 발전 운영을 위해 월성 원자력발전소 저장시설(맥스터)을 빨리 짓게 해달라”고 촉구했다. 맥스터는 원자력발전소 발전에 쓴 핵연료를 안전하게 보관하기 위한 저장시설로 현재 포화율이 97%를 넘어섰는데 꽉 찰 경우 원자력발전소 발전을..'\n",
            " '28일자 A1, 3면 ‘2조6000억 들인 신고리원자력발전소원자력발전소원자력발전소 공사 스톱’ 기사를 읽으면서 이번 결정은 문제가 많다는 생각이 든다. 정책을 추진하는 데 있어서 전문가를 뺀 일반인들이 결정을 한다는 것은 지나친 포퓰리즘 같다. \\n \\n 신고리원자력발전소원자력발전소 5, 6호기는 2008년에 처음 건설 계획이 세워졌고 지난해 9월 착공했다. 한국수력원자력에 따르면 현재 통합 공정은 28...'\n",
            " '경북 경주 방사성폐기물처리장(방폐장)에 보관중이던 방사성폐기물 드럼 가운데 하나가 부식돼 구멍이 생긴 사고가 뒤늦게 알려졌다. 월성 원자력발전소가 방사성폐기물 드럼에 보관하면 안되는 건전지를 실수로 넣어 발생한 일로, 허술한 방사성폐기물 관리 체계에 대한 우려가 나온다.\\n\\n 한국방사성폐기물관리공단은 “월성 원자력발전소에서 방폐장으로 반입한 폐기물의 정기점검 과정에서 부식..'\n",
            " '경북 울진에 원자력발전소 건설이 잇따르면서 지역경제가 활성화되고 있다. 이미 6기의 원자력발전소을 건설 가동 중인 한국수력원자력㈜ 한울원전원자력본부는 현재 신한울원전원자력발전소원자력발전소 1,2호기를 건설 중이고, 3,4호기 건설을 준비 중이다. \\n \\n29일 한국수력원자력에 따르면 신한울원전원자력발전소 1호기는 현재 구조물공사가 마무리 단계에 있으며, 기계 전기공사가 한창 진행 중이다. 2016년 1월 상온수압시..'\n",
            " '원자력발전 38년 만에 우리나라 고준위방사성폐기물 관리의 중장기 정책 시간표가 발표됐다. 국가가 책임지고 국민 안전을 최우선으로 고려한다는 원칙을 재천명하고 관리시설 부지 확보를 관련 법과 제도에 따라 한다는 것이다. 또 각 관리시설 확보의 소요기간과 일정을 밝혔다. 단계별 관리시설 건설 계획에서 눈여겨볼 점은 부지 선정 준비기간을 12년으로 잡았다는 점이다..'\n",
            " '중 저준위 방사성 방사성폐기물 처분 시설인 경주 방폐장이 이르면 이달 중, 늦어도 내년부터는 가동에 들어간다. 원자력안전위원회가 그제 운영을 허가하면서다. 1986년 방폐장 사업이 시작된 이래 입지 주민의 반발에 부딪혀 아홉 번이나 부지를 옮긴 끝에 일단락된 낭보다. 이로써 원자력발전소마다 용량이 거의 포화 상태인 방사능 폐기물 임시 저장 문제 해결의 숨통은 트인..'\n",
            " '두산중공업이 국내 기업 최초로, 원자력발전소의 사용후핵연료 저장용기인 캐스크(Cask)를 수출하는 데 성공했다. \\n \\n두산중공업은 캐스크 5세트를 미국 펜실베니아주 스리마일섬에 위치한 TMI 원자력발전소에 최근 공급했다고 25일 밝혔다. 캐스크는 원자로에서 연소를 마친 뒤 배출된 사용후핵연료를 운반하고 저장하는 데 사용하는 특수 용기다. \\n \\n사용후핵연..'\n",
            " '2012년 8월 <한겨레> 토요판팀 기자로 송전탑 건설 반대 주민들을 만나러 경상남도 밀양에 처음 갔다. 마치 다른 나라에 온 듯 어두웠다. 수도권으로 에너지를 보내기 위해, 울산시 울주군의 신고리원자력발전소원자력발전소원자력발전소에서 경남 창녕군의 북경남 변전소까지의 송전선로를 건설하기 위한 땅을 내어주는 곳. 국내에서 가장 크고 두꺼운 765㎸(킬로볼트) 송전선로가 지나지..'\n",
            " '1980년 11월15일자 경향신문 7면에 다소 이례적인 기사가 실렸다. ‘인격권 소송 주민이 승리’ ‘새 헌법에 명시된 환경권 인정 첫 사례’라는 표제가 붙었다. 한국전력의 주택가 고압전선 공사에 맞선 주민들이 법정투쟁 끝에 승리했다는 내용이다.\\n\\n한전은 1979년 9월 낙동강 하구 산업단지에 전력을 공급하기 위해 154㎸ 송전탑 공사를 착공했다. 마을..'\n",
            " '한국수력원자력이 월성 원자력발전소 1호기의 연료인출을 시작했다. \\n \\n7일 한국수력원자력에 따르면 월성 1호기 원자로 안에 있는 핵연료를 빼내서 사용후연료저장조에 보관하는 인출 작업이 지난 3일 시작됐다. 작업은 내년 1월 31일까지 진행될 예정이다. 월성 1호기는 작년 5월부터 계획예방정비를 받느라 가동이 중단된 상태에서 지난 6월 조기폐쇄가 결정됐다. \\n ..'\n",
            " '산업통상자원부 산하 민간자문기구인 ‘사용후핵연료(고준위 폐기물) 공론화위원회’가 최근 새누리당 의원 전원(151명)을 대상으로 사용후핵연료 관리 방안에 대한 설문조사를 실시한 것으로 5일 확인됐다. \\n \\n 한미 원자력협정 개정 협상 타결이 임박한 가운데 여당 의원들을 대상으로 핵 재처리 찬반 등을 조사해 정부에 제출할 권고문에 포함시키기 위한 것. 하지..'\n",
            " '경북 경주 월성 원자력발전소에 있는 사용후핵연료 임시저장시설(맥스터)의 증설이 확정됐다. 사용후핵연료를 둘 곳이 없어 원자력발전소을 세워야 하는 상황은 일단 피했다. \\n \\n 정부는 20일 정세균 국무총리 주재로 국정현안점검조정회의를 열고 월성 원자력발전소 사용후핵연료 임시저장시설 증설 추진을 결정했다. 정 총리는 “임시저장시설 확충을 차질 없이 추진하겠다”고 말했다...'\n",
            " '한국원자력연구원이 실제 크기의 사용후핵연료 운반 용기로 국내 첫 육상 운반 시험에 성공했다. 현재 사용후핵연료는 원자력발전소 내부 습식저장소에 임시 보관 중인데, 최종 처분장으로 이송 후 안전하게 처분해야 하기 때문에 운반 테스트는 필수다.\\n한국원자력연구원은 15,16일 이틀 동안 국내 최초로 모의 사용후핵연료를 장전한 운반용기로 도로운반시험을 수행하고..'\n",
            " '지난 1일 고리원자력발전소 1호기 해체계획서 초안에 대한 주민의견수렴을 위한 공람이 시작되었다. 기장군은 해체계획서 초안에 사용후핵연료 처분방안이 담기지 않은 점을 지적했다. 기장군은 졸속으로 해체를 추진하면 사용후핵연료가 임시저장이라는 명목으로 고리원자력발전소원자력발전소 부지에 기약 없이 저장될 수 있음을 우려했다. \\n\\n국내에 이미 발생한 사용후핵연료 외에도 신고리원자력발전소원자력발전소5 6호기만 하..'\n",
            " '정부가 신한울원전원자력발전소 원자력발전소 3 4호기에 대한 공사계획 인가 기간을 2년 더 연장하기로 하자, 발전소 예정부지의 울진지역 주민들은 “더 이상 착공을 미뤄선 안 된다”며 건설재개를 촉구했다.\\n오희열 울진군 범군민대책위원회 사무처장은 “정부가 서류상으로만 2년 더 연장할 계획이라면 결국 원자력발전소 건설을 차기 정부로 미루겠다는 말이 된다”며 “발전소 부지가 조성된 마당에..'\n",
            " '의견 수렴 거쳐 선정기간 12년으로 \\n호주 등 해외 대체지역도 추진\\n정부는 25일 ‘사용후핵연료’ 처분 로드맵을 발표하면서 ‘고준위’ 방사성폐기물 처분장의 부지 선정 기간을 12년으로 잡았다. 이렇게 길게 설정한 데는 앞으로 심각한 갈등이 불거지고 주민 설득이 쉽지 않을 것이라는 전망이 반영돼 있다. 시간이 걸리더라도 갈등 요인을 최대한 줄여 나가겠다는..'\n",
            " '찬반 논란을 빚는 제주 제2공항 건설 여부를 공론 조사로 결정하나.\\n위성곤(서귀포시) 더불어민주당 의원이 지난 15일 KBS 제주방송총국 ‘쟁점과 토론’에 출연, “국토교통부와 성산읍 반대 주민들이 공론 조사를 위해 협의 중이며 결과를 어떻게 반영할지도 의견 개진 중”이라고 말했다.\\n또 위 의원은 “공론 조사는 정부가 하는 것은 아니고 제주도나 제주도의..'\n",
            " '정부와 경북 울진군 간 신한울원전원자력발전소원자력발전소 건설협상이 15년만에 타결됐다. \\n \\n 이에 따라 산업통상자부 산하 공공기관인 한국수력원자력은 울진군의 교육 의료 등에 2800억원을 지원한다. \\n \\n 정부는 21일 오전 울진군청에서 한국수력원자력과 울진군이 신한울원전원자력발전소 원자력발전소 건설관련 8개 대안사업 합의서에 서명했다고 밝혔다. \\n \\n 양측의 신한울원전원자력발전소원자력발전소 협상은 1999년 울진군이 추..'\n",
            " '20일 경주시청 앞 기자회견 월성원자력발전소 가동중단 대책 촉구\\n\\n경북 경주의 월성원자력발전소 인근 주민들이 맥스터(사용후핵연료 건식저장시설) 증설 지연에 따른 원자력발전소 가동 중단을 우려, 대정부 투쟁을 예고하고 나섰다.\\n경주 감포ㆍ양남ㆍ양북면 주민들로 구성된 동경주대책위원회(이하 동경주대책위)는 “20일 경주시청 앞에서 정부의 탈원자력발전소 정책과 일관성 없는 사용 후 연료 ..']\n",
            "\n",
            "\n",
            "==================================================================================\n",
            "\n",
            "\n",
            "토픽       14: 토픽 개수     1115, 전체 퍼센트    3.567%\n",
            "0      지진\n",
            "1      총리\n",
            "2      아베\n",
            "3      규모\n",
            "4    후쿠시마\n",
            "5      피해\n",
            "6      지역\n",
            "7      도쿄\n",
            "8      태풍\n",
            "9     기상청\n",
            "Name: #14, dtype: object\n",
            "['아베(安倍晉三) 총리가 이끄는 일본의 집권 자민당이 7월 참의원 선거에서 내걸 공약의 윤곽이 드러났다. 이미 여러 차례 확언한 헌법 96조 개정은 물론 2011년 후쿠시마 원자력발전소사고 이후 한때 가동이 중단됐던 원자력발전소의 재가동도 전면에 내걸기로 했다. \\n \\n요미우리신문은 12일 자민당이 7월 참의원 선거 공약으로 내거는 ‘J-파일’의 원안이 밝혀졌다며 ..'\n",
            " '7일 전국이 강풍을 동반한 제10호 태풍 ‘하이선’의 영향권에 들면서 7만 5,000여 가구가 정전됐고, 원자력발전기 2기가 중지됐다.\\n당초 예상과 달리 태풍이 경북 내륙에 상륙하고, 동해안에 바짝 붙어 북상하면서 울산 등 한반도 동쪽 지역에 피해가 집중되고 있다.\\n중앙재난안전대책본부(중대본)와 소방청에 따르면 태풍으로 이날 2명이 실종되고, 8명이 부..'\n",
            " '일본의 고이즈미 준이치로(小泉純一郞) 전 총리가 도쿄 지사 선거(2월 9일)에 출마하는 호소카와 모리히로(細川護熙) 전 총리 지지를 선언했다. 탈원자력발전소 연대로 뭉친 두 전직 총리가 아베(安倍晋三) 총리가 추진중인 원자력발전소재가동에 제동을 걸 수 있을 지 주목된다. \\n\\n\\n\\n 호소카와 전 총리는 14일 고이즈미 전 총리와 회동한 뒤 \"이번 도지사 선거에 출마..'\n",
            " '아베(安倍晋三) 일본 총리가 소비세 인상, 원자력발전소 재가동, 역사 인식 등을 둘러싸고 거침없는 행보를 보이고 있는 가운데, 역대 총리들이 아베 총리의 폭주를 일제히 비난하고 나섰다. \\n일본 역대 총리중 최고의 인기를 구가한 고이즈미 준이치로(小泉純一郞) 전총리는 원자력발전소 재가동에 의욕적인 아베 총리를 연이어 비난하며 곤혹스럽게 몰아세우고 있다. 그는 1일..'\n",
            " '<1>진앙지 현장 르뽀 \\n겉으론 대부분 복구완료\\n트라우마에 시달리는 부지리 주민들\\n‘전통기와 의무’큰 피해 한옥마을\\n현실적 정부 보상대책 마련 절실\\n\\n글 싣는 순서\\n<1> 진앙지 현장 르뽀\\n<2> 지진 대비책, 어떻게 돼 가나\\n<3> 전문가 제언 \\n\\n지난해 9월12일 경북 경주시 내남면 부지리엔 오후 7시44분32초 리히터규모 5.1의 전진에 이어 48..'\n",
            " '“(아베 총리가) 무슨 말을 한 건지 모르겠다.”\\n\\n 18일 아베 일본 총리가 21일 중의원 해산과 총선 실시 계획을 밝히면서 자신의 퇴임 기준을 ‘연립 여당이 과반수(238석) 확보에 실패할 경우’로 제시한 데 대해 아베 내각 안에서도 비난의 목소리가 쏟아지고 있다. 이름을 밝히지 않은 아베 내각의 중요 각료는 19일치 <니혼게이자이신문>과 인터..'\n",
            " '후쿠시마(福島) 원자력발전소 사고 이후 일본이 원자력발전소의 대안 모색 차원에서 적극 추진한 태양광 등 재생에너지 사업이 파행을 겪는 것으로 나타났다.\\n 홋카이도(북한海道) 도호쿠(東북한) 도쿄(東京) 간사이(關西) 시코쿠(四國) 규슈(九州) 오키나와(沖繩)전력 등 주요 전력회사들이 잇달아 재생에너지 신규 매입 계약을 중단하기로 했다고 일본 언론들이 1일 보도했다. 이는..'\n",
            " '제19호 태풍 ‘하기비스(Hagibis)’가 일본 열도를 관통하면서 최소 45명이 사망 실종됐다. 강풍과 폭우로 수십만 가구가 정전 단수되고, 제방과 둑이 무너지고 하천이 범람하는 등 막대한 피해가 발생했다. 5000여명의 사망 실종자를 냈던 1959년 ‘베라’ 이후 최악의 태풍이다. \\n \\n 일본 NHK방송은 13일 오후 9시 기준 태풍 하기비스의 영향..'\n",
            " '일본의 제3차 아베(安倍晋三) 내각이 24일 출범했다. 새 내각은 집단 자위권 행사와 관련한 법안 처리와 원자력발전소 재가동 추진에 나설 것으로 예상되는 가운데 아베노믹스도 본격적인 시험대에 오를 전망이다. \\n \\n아베 총리는 이날 소집된 특별국회에서 제97대 총리로 선출됐다. 아베 총리는 2006년 9월 2007년 8월 1차 내각 때의 재임 기간을 포함해..'\n",
            " '일본 후쿠시마현 앞바다에서 큰 규모의 지진이 발생해 일본 열도가 두려움에 떨고 있다.\\n일본 기상청은 26일 오전 2시 10분쯤 일본 후쿠시마 북쪽인 미야기현 오사카군 동남쪽 290㎞ 떨어진 해역에서 리히터규모 7.1의 지진이 발생했다고 밝혔다.\\n이번 일본지진의 진원은 북위 37.2도, 동경 144.6도의 깊이 10㎞ 지점이다.\\n일본 기상청은 이번 일본 ..'\n",
            " '경북 울진군 부근 동해 해역에서 규모 3.8의 지진이 발생한 가운데, 한국수력원자력이 원자력발전소에 미친 영향은 없다고 밝혔다. \\n \\n기상청에 따르면 22일 오전 5시 45분께 경북 울진군 동남동 쪽 38㎞ 해역에서 규모 3.8의 지진이 일어났다. 진앙은 북위 36.86, 동경 129.80이다. 발생 깊이는 21㎞로 추정된다. \\n \\n울진에 있는 한국수력..'\n",
            " '도요토미 히데요시의 일본. 그때의 왕경은 교토다. 그는 왕경에서 10리쯤 떨어진 산꼭대기에 자신만의 성을 쌓기 시작했다. 후시미(伏見)성이다. 성 축조가 한창이던 1596년 여름 지진이 강타했다. 성은 무너지고 주변의 가옥은 폐허로 변해 버렸다. 그때의 도요토미 심경은 어땠을까. 가슴이 철렁 내려앉았을 성싶다. 자칫 자신도 황천길로 갈 뻔했으니. 성이 ..'\n",
            " '태풍 위파 일본 강타로 인명피해가 속출했다.16일 제 26호 태풍 위파의 영향으로 일본 전국에서 최소 14명이 사망한 것으로 전해졌다.도쿄에서 120km 떨어진 이즈오섬에서는 태풍 위파의 영향으로 하천이 범람하고 주택이 붕괴돼 주민 7명이 사망한 것으로 알려졌다. 도쿄 마치다시에서는 40대 여성이 하천에 빠져 숨졌고, 가나가와현에서는 초등학생이 파도에 ..'\n",
            " '“응원하지 않겠다. 응원할 명분이 없다고 생각한다.” \\n \\n 고이즈미 준이치로(小泉純一郞 72) 전 일본 총리의 차남 고이즈미 신지로(小泉進次郞 32 사진) 내각부 부흥담당 정무관(차관급)이 일본 여당에 반기를 들었다. 그는 15일 사이타마(埼玉) 현을 방문해 도쿄(東京) 도지사 선거에서 자민당이 지지하는 마스조에 요이치(舛添要一 65) 전 후생노동상을..'\n",
            " '日 정부 도쿄 국립극장서 추도식 \\n\\n발생시각 오후 2시 46분에 기도 \\n\\n세계 각계 인사들도 희생자 추모\\n\\n\\n\\n일본 정부가 11일 동일본대지진 발생 10주기를 맞아 추도식을 열고 희생자들의 넋을 기린다. 지난해 신종 코로나바이러스 감염증(코로나19) 확산으로 개최되지 못했던 추도식은 올해는 긴급사태 재발령 상황에서도 열리게 됐다. 지진 피해 지역에선 전..'\n",
            " '일본 남부에서 14일 밤 규모 6.4의 강진이 발생해 가옥 수십채가 무너지고 1000여명이 대피했다고 NHK 등 현지 언론이 보도했다. \\n \\n 일본 기상청에 따르면 이날 오후 9시26분쯤 규슈 구마모토현 구마모토 남동쪽 14㎞지역에서 규모 6.4의 지진이 일어났다. 진원지는 북위 32.7도, 동경 130.8도이며 진원의 깊이는 약 23㎞로 추정됐다. 이..'\n",
            " '아베(安倍晋三) 일본 총리가 11일 19명의 각료 중 17명을 교체하면서 우익 성향의 강경파 인사와 측근들을 대거 입각시켰다. 이번 개각으로 아베 정권의 우익 성향이 더욱 짙어지면서 한국은 물론 주변국과 충돌이 더 잦아질 수 있다는 우려가 제기되고 있다. \\n \\n아베 총리는 2012년 2차 집권 이후 최대 규모인 이번 개각에서도 아소 다로(麻生太郞)..'\n",
            " '아베(安倍晋三) 일본 총리는 15일 후쿠시마 제1원자력발전소 오염수 문제에 대해 “식품과 물에 미치는 영향은 기준치를 크게 밑돌고 있다”며 “이것이 사실”이라고 밝혔다. \\n \\n아베 총리는 이날 개회한 임시국회 소신표명 연설에서 후쿠시마 어민들이 사실과 다른 ‘풍문’에 의한 피해를 받고 있다는 사실을 언급하며 이같이 말했다고 교도통신은 전했다. 오염수 문제..'\n",
            " '일본 규모 8.5 강진, 도쿄에서도 진도 4 흔들림 “충격 컸던 이유는?” \\n일본 규모 8.5 강진\\n일본 태평양 오가사와라 제도에서 규모 8.5의 강진이 발생했다.\\n30일 저녁 8시 24분쯤 일본 태평양 오가사와라 제도에서 리히터규모 8.5의 지진이 발생했다. \\n오가사와라 제도는 도쿄에서 남쪽으로 870km 정도 떨어진 곳으로 30여개의 섬으로 이뤄져 ..'\n",
            " '경북 경주 인근에서 규모 5.8의 지진이 발생했다. 서울에서도 미세한 진동이 이어지는 등 관측 사상 최대 규모였다. \\n\\n 기상청은 12일 “오후 8시32분 규모 5.8의 지진이 경북 경주시 남남서쪽 9㎞ 지역에서 발생했다”고 밝혔다. 이 지진은 같은 지역에서 오후 7시44분께 규모 5.1에 이은 두 번째 지진이다. \\n\\n 규모 5.8은 1978년 기상청에..']\n",
            "\n",
            "\n",
            "==================================================================================\n",
            "\n",
            "\n",
            "토픽       15: 토픽 개수      721, 전체 퍼센트    2.306%\n",
            "0     교수\n",
            "1     과학\n",
            "2     연구\n",
            "3     기술\n",
            "4     대학\n",
            "5    서울대\n",
            "6     교육\n",
            "7     학생\n",
            "8     서울\n",
            "9     정책\n",
            "Name: #15, dtype: object\n",
            "['전주 상산고가 자사고 재지정 평가에서 79.61점을 받았다고 한다. 다른 시도교육청의 커트라인은 70점이다. 그런데 상산고가 속한 전북교육청만 커트라인이 80점이다. 그래서 0.39점 모자라 자사고가 취소된다는 것이다. 코미디가 따로 없다. 상산고는 자사고로 지정된 후 17년간 설립자가 사재 463억원을 쏟아부어 키운 학교다. 과학고 외고들과 비교해도 ..'\n",
            " '한국전력국제원자력대학원대학교(KINGS 총장 안남성)는 동유럽 국가와의 원자력 및 원자력발전소인력양성 협력을 위해 체코 폴란드 원자력발전소인력양성세미나를 지난 1일부터 9일까지 9일간 일정으로 주제별 온라인(Webex) 방식으로 개최하고 있다고 2일 밝혔다.\\n이번 국제행사는 1일 체코와 ‘신규원자력발전소도입국 인력양성’을 주제로 한 세미나를 시작으로, 오는 4일엔 폴란드와 ..'\n",
            " '극심한 취업난 속에서도 취업률 95%를 자랑하던 경북 울진의 한국원자력마이스터고가 학과명 바꾸기 작업에 나섰다. 원자력발전소기계과는 기계과로, 원자력발전소전기제어과는 전기제어과로 간판을 바꿔 다는 등 ‘탈원자력발전소’에 안간힘을 쓰고 있다. 정부의 탈원자력발전소 정책 충격으로 2013년 개교 이래 처음 신입생 미달 사태를 맞은데 따른 생존 전략이지만, 효과가 얼마나 있을지 불투명해..'\n",
            " '양성자가속기가 들어설 경북 경주에서 ‘경주양성자가속기센터 활용과 경북신성장산업벨트 구축’ 정책세미나가 개최됐다. \\n \\n경북정책연구원과 대구경북연구원은 10일 동국대학교 경주캠퍼스 백주년기념관에서 정강식경주부시장을 비롯 김준한 대구경북연구원장, 동국대 경주캠퍼스 이계영총장, 백성기 전 포스텍총장, 조용섭 경주양성자가속기센터장, 시 도의원, 관련 ..'\n",
            " '미 의회조사국(CRS) 소속 에너지 전문가 마크 홀트 박사는 미국 원자력 산업계에서 고려되는 가장 중요한 요소로 ‘공공 수용성(Public Acceptance)’을 꼽았다. 안전하고 효율적인 원자력발전소 운영을 위해 주민 의견 수렴 등이 필수적이라는 것이다. \\n \\n 홀트 박사는 29일 국민일보와의 이메일 인터뷰에서 “미국 원자력 산업계는 미 원자력규제위원회(N..'\n",
            " '\"스위스 국민이 초콜릿을 더 이상 먹지 않는데, (초콜릿을) 수출하겠다고 하면 의아할 것이다.\"(케리 이매뉴얼 미국 MIT 교수) \\n \\n\"국내에서 원자력발전소(원자력발전소)을 폐쇄하고 해외 원자력발전소 수출에 성공한 사례는 못 봤다.\"(아그네타 리징 세계원자력협회 사무총장) \\n \\n지난 20일 조선비즈 주최 ‘2019 미래에너지포럼’에 참석한 해외 원자력 환경 전문가들..'\n",
            " '‘전력산업 전문가’ 문승일 서울대 전기공학부 교수\\n\\n\\n\\n“AI 등 미래 에너지 신기술이 \\n\\n現전기사업법 끼어들 틈 없어 \\n\\n새로운 에너지 기본법 필요”\\n\\n\\n\\n“현재 우리가 쓰고 있는 전력망은 100여 년 전에 완성된 기술을 그대로 가져다 쓰는 것입니다. 기껏 만들어낸 전기조차 제대로 저장을 못 해 날려버리는 셈이죠. 길을 제대로 닦아놓지 않고 자동차만 ..'\n",
            " '━\\n \"세계 최고 기술 믿었는데 진로 변경해야\" \\n “정부의 탈원자력발전소 정책 때문에 대학원에 진학한 뒤 원자력 발전이 아닌 방사선 분야로 바꿔 공부하고 있습니다.” \\n \\n 한국과학기술원(KAIST) 원자력 및 양자공학과에서 박사과정 중인 A씨가 16일 중앙일보와 전화 인터뷰에서 한 말이다. 그는 “아랍에미리트(아랍에미리트) 바라카 원자력발전소 수출과 대한민국의 세계적인..'\n",
            " '임기철 前 과학기술기획평가원장 \\n\\n‘위기의 과학혁신정책’ 세미나 \\n\\n“5G 제외하면 내세울 성과 전무”\\n\\n\\n\\n“코리안 패러독스를 아십니까.”\\n\\n\\n\\n임기철(64 사진) 전 과학기술기획평가원(KISTEP) 원장은 18일 우리나라 국내총생산(GDP) 대비 연구 개발(R&D) 투자 비중(4.55%)은 2017년 기준 전 세계 1위인 데 반해 연구개발의 질적 성..'\n",
            " '2018년 전체 보고서 6천개 중 2위 달성 \\n\\n\\n한국수력원자력이 미국커뮤니케이션 연맹(LACP)이 주최하는 2017~18 비전 어워드 지속가능경영 보고서 부문에서 대상(플래티넘)을 수상했다. 이번 보고서는 전세계 1,000여 기업이 응모한 6,000여 보고서 중 2위, 아시아 1위를 했다.\\nLACP는 2001년 설립된 세계적인 마케팅 전문기관이다. 포..'\n",
            " '원자력발전소 관련 전문기술 인력을 양성하기 위해 경북 울진군에 설립된 한국원자력마이스터고의 졸업생들이 높은 취업률을 기록하고 있다. \\n \\n7일 경북도에 따르면 원자력발전소산업기계과, 원자력발전소전기제어과 2개학과로 전문학교의 특성을 살려 운영하고 있는 한국원자력마이스터고는 오는 15일 제4회 졸업생 78명을 배출한다. 이 학교는 2013년 공고에서 마이스터고로 전환한 이후 ..'\n",
            " '더멋진세상을 외교통상부 산하 비정부기구(NGO)로 등록하기 위해 정관을 작성했다. 복잡한 행정절차가 매우 까다로웠다. 그래도 요소요소에서 돕는 이들을 만나 ‘과연 하나님이 하시는 일이구나’라고 느꼈다. 외교통상부 국세청을 거치고 법원 등기 등을 하느라 1년 넘게 걸려야 하는데, 2010년 12월 29일 두 달 만에 가까스로 외교통상부 장관의 사단법인 설..'\n",
            " '“신규 원자력발전소 수출시장은 없다고 봐도 무방합니다. (원자력발전소 수출은) 자율경쟁시장을 위해 비용 측면에서 추진되는 것이 아닌 지정학 부패 군사 등 다른 이슈로 인한 것입니다.”원자력 정책 관련 독립적인 국제 컨설턴트인 마이클 슈나이더는 6일 서울 중구 프레스센터에서 ‘세계 원자력발전소산업을 톺아보다’라는 주제로 열린 기자간담회를 통해 “전 세계 전력공급에 있어서 원자력발전소..'\n",
            " '암 예방 역학 분야의 세계적 권위자인 유근영 서울대 의대 교수가 정년퇴임을 앞두고 ‘암 정복의 여정’ 제하의 글을 경향신문에 보내왔다. 오는 8월말 33년간 교수로 재직하던 서울대 의대를 퇴직(동기들과 맞춰 1년 조기 퇴직)하는 유 교수는 의학연구방법론 및 의학통계의 개척자로 꼽힌다. 암 예방을 위해 평생을 헌신하며 역학과 예방의학의 학문적 승격에 기여..'\n",
            " '올해부터 국내 중학교에 자유학기제가 전면 시행되면서 이와 비슷한 학제를 선구적으로 운영해 온 외국의 사례가 관심을 끌고 있다. 그 가운데서도 덴마크의 애프터스콜레는 아일랜드의 전환학년제와 더불어 가장 주목 는 교육제도다. 덴마크 의무교육 과정(1~10학년, 한국의 초ㆍ중학교) 막바지에 1년 동안 자유로운 분위기에서 다양한 학습 체험을 쌓으며 진로를 모색..'\n",
            " '클라우제비츠와의 마주침\\n\\n김만수 지음/갈무리 3만9000원\\n\\n김만수 홍익대 교수는 20년 가까운 세월을 카를 폰 클라우제비츠(1780~1831) 연구에 바쳐 왔다. 클라우제비츠의 주저 <전쟁론>(전 3권)의 독일어 원자력발전소 초판을 국내 최초로 완역했고, <전쟁론>의 ‘부록’을 번역하고 해설한 <전쟁이란 무엇인가>를 출간했다. 또 클라우제비츠 <전쟁론> 연구..'\n",
            " '전남 영광군이 29일 원자력발전소 주변 지역 주민 자녀 가운데 장학금 지원 대상자 793명을 선발해 4억 3560만원을 지급했다.\\n\\n\\n대상자는 학부모의 학비경감과 지역인재 육성을 위해 국민기초생활수급자, 특수학교 장애학생, 성적우수자, 예체능특기자 등이다.\\n\\n\\n김준성 군수는 “장학금을 받은 학생들이 지역을 대표하는 인재로 성장하길 바란다”며 “앞으로도 지역주민..'\n",
            " \"삼성SDS, 국내 IT업계 최초 ‘글로모 어워드’ 수상\\n삼성SDS는 자사의 모바일 통합 솔루션 '삼성 모바일 시큐리티 매니지먼트 스위트’가 국내 정보기술(IT) 서비스 및 솔루션 업계 최초로 ‘MWC 글로벌 모바일 어워드’를 수상(사진)했다고 2일 밝혔다. MWC 2017의 부대행사인 '글로벌 모바일 어워드'는 이동통신분야 최고 권위의 상으로 꼽힌다.\\n..\"\n",
            " '서울 성북구 길음동에 있는 계성고가 신흥 학종 명문으로 떠오르고 있다. 계성고는 교육열이 뜨거운 서울 강남 지역에 있는 학교도 아니고 특목고나 자사고도 아니다. 보통 중학생들이 지원해서 들어오는 일반 사립고다. \\n \\n 하지만 교육 과정은 특별하다. 다른 학교들이 기존의 교육방식을 고수하고 있을 때 계성고는 미래형 인재를 양성하는 새로운 교육에 도전했다...'\n",
            " '국제 사회에 핵무기 폐기를 주장하면서 자국에서는 핵무기 연료 추출이 가능한 사용후핵연료 재처리시설을 건설 중인 일본이 해외 과학자로부터 비판을 받았다. \\n \\n4일 도쿄신문에 따르면 전날 일본 나가사키시에서 열린 ‘퍼그워시회의’에서 프랭크 폰 히펠 미국 프린스턴대 교수가 일본의 원자력발전소 정책을 강하게 비판했다. 이 회의는 핵전쟁의 위험에서 인류를 지키기 위..']\n",
            "\n",
            "\n",
            "==================================================================================\n",
            "\n",
            "\n",
            "토픽       16: 토픽 개수      758, 전체 퍼센트    2.425%\n",
            "0     국민\n",
            "1     조사\n",
            "2     안전\n",
            "3    세월호\n",
            "4     결과\n",
            "5     기관\n",
            "6     여론\n",
            "7     재난\n",
            "8     참사\n",
            "9     공공\n",
            "Name: #16, dtype: object\n",
            "['세월호 침몰 사고 8일째를 맞은 24일 오후, 또다른 비극의 현장인 경기도 안산 단원고등학교엔 ‘평소’와 다른 모습이 연출됐다. 사고 뒤 첫 등교로 언론의 관심이 집중돼 취재진 100여명이 몰렸지만, 이들은 학교 정문에서 20m 떨어진 건너편 도로에서 학생들을 바라보기만 했다. 피해자들의 상처를 덧내는 과도한 취재 탓에 비난이 쏟아지자 스스로 자제한 셈..'\n",
            " '신한울원전원자력발전소 3ㆍ4호기 원자력발전소 건설 재개 논란을 보면서, 2017년 ‘신고리원자력발전소원자력발전소 5ㆍ6호기 건설 재개 공론화’가 원자력발전소에 대한 국가적 가치를 제대로 정립하지 못하고 끝난 것 아닌가 하는 아쉬움이 남는다.\\n원자력발전소과 관련된 가장 중요한 국가적 가치는 무엇일까. 답은 국민 안전이다. 원자력발전소은 우리 사회가 지속가능하도록 안정적인 전력 공급과 함께 국민 생명을 안전하게 지킬 수..'\n",
            " '함철훈/한양대 대학원 특임교수\\n\\n대형 참사, 흉악범죄 및 산업 규제 등 온갖 문제가 사회적으로 논란이 되기 바쁘게 이들 문제가 사회적 관심사로 떠오르면 각종 입법안이 줄을 잇는다. 광복 이후 우리나라 입법의 흐름을 살펴보면 현실과 유리된 졸속 입법이 무수히 이뤄졌고, 그 결과 사문화된 법령이 양산됐다. 이러한 상황은 아직도 현재진행형이다. 그것은 이미 ..'\n",
            " '우리나라 국민들은 원자력발전소사고를 우려하지만 원자력발전소이 테러공격에 노출될 것이라고 걱정하는 경우는 미미한 것으로 나타났다. \\n \\n하지만 한국 응답자의 73% 이상은 사용후핵연료 관리현황을 잘못 알고 있었고 미국 응답자 역시 60% 이상이 잘못 알고 있었다. \\n \\n이러한 결과는 사용후핵연료 공론화위원회(위원장 홍두승)가 여론조사 전문기관인 마크로밀엠브레인에 의뢰해..'\n",
            " '‘4분의 1 내각’ ‘실패 은폐 내각’ ‘성형수술 내각’ .\\n도쿄신문이 제3차 아베(安倍晋三) 내각의 출범에 맞춰 각계 전문가들에게 이번 내각에 어울리는 명칭을 지어달라고 의뢰한 결과, 이런 답변들이 나왔다고 25일 보도했다. 정치풍자로 널리 알려진 극작가 마쓰자키 기쿠야(松崎菊也)는 “이번 총선거에서 투표에 참가한 유권자는 절반이고, 아베 내각을..'\n",
            " '세월호 침몰사고는 원칙이 사라진 한국사회의 모순을 밑바닥까지 드러냈다. “선내에 머무르라”는 방송을 의심하지 않고 믿었던 학생들은 사망했고, 학생들을 남겨둔 채 배를 버린 선장과 선원들은 살아남았다. 원칙대로 한 사람만 희생당한 것이다. \\n안전과 직결된 원자력발전소 관리에서도 원칙은 적용되지 않았다. 부산지방검찰청 동부지청 원자력발전소비리수사단은 이달 초 원자력발전소비리 2차 중..'\n",
            " '정치자금 부당지출 의혹 등으로 각료 2명이 사임(20일)한 이후 실시된 여론조사에서 일본 아베(사진) 내각 지지율이 50% 아래로 떨어진 것으로 나타났다고 니혼게이자이신문이 27일 보도했다. \\n \\n 닛케이와 TV도쿄가 24 26일 벌인 여론조사에서 내각 지지율은 지난달 말 진행한 직전 조사 때에 비해 5% 포인트 하락한 48%로 나타났다. \\n \\n ..'\n",
            " '원자력 반대의 목소리가 높다. 일본 후쿠시마 원자력발전소 사고 이후 국민들의 원자력발전소 안전에 대한 불안감이 팽배한 데다 원자력발전소 사고 은폐, 문서 위조, 불량부품 사용, 직원 비리 등으로 원자력발전소에 대한 국민의 신뢰가 크게 떨어졌기 때문이다. 지난해 한 여론조사에선 국민 4명 중 3명이 원자력발전소 안전에 대해 우려하고 있다고 했다.\\n\\n이런 상황에서 근자에 드러난 한빛원전원자력발전소의 문..'\n",
            " '“해운사와 안전기관들이 서로 유착됐을 때 제도적 안전장치들은 사고를 막을 수 없어” \\n \\n세월호 사고를 보면서 국민들이 느낀 참담함은 총체적이다. 300명이 넘는 사망자와 실종자들, 특히 그중 3분의 2가 꽃다운 10대 학생이라는 사실만 해도 가슴을 후벼낼 정도로 참담했다. 여기에 지난달 16일 사고 직후 초동 구조된 170여명을 제외하고는 단 한 명도..'\n",
            " '정부가 어제 원자력발전소 비리 재발을 막겠다며 여러 대책을 내놓았다. 모든 원자력발전소을 대상으로 시험성적서 전수조사를 벌이고, 원자력 업계에 만연한 유착관계를 근절하는 데 중점을 두었다. 잇단 비리 파문으로 원자력발전소에 대한 국민의 신뢰가 땅에 떨어졌다. 정부가 무관용 원칙까지 내세우며 고강도 대책을 마련한 것은 평가할 만하다. 안전을 담보할 수 있는 견제와 신뢰 시스템..'\n",
            " '아베(安倍晋三) 일본 총리가 지난 11일 단행한 개각에 대해 긍정적인 평가가 우세한 가운데 ‘포스트 아베’로 꼽히는 고이즈미 신지로(小泉進次?) 환경장관 기용 효과를 톡톡히 누린 것으로 나타났다. \\n요미우리(讀賣) 신문이 13~15일 실시한 여론조사 결과, 이번 개각을 긍정적으로 평가한다는 응답이 46%로, 부정적으로 평가한다는 응답(34%)에 비..'\n",
            " '윤석년 광주대 신문방송학과 교수\\n \\n 최근에 일어난 일련의 재난사태에 대한 정부의 대응은 국민에게 많은 실망을 안겨줬다. 국가가 우릴 지켜줄 거라는 신뢰도 사라졌다. 이에 정부는 ‘국가국민안전처’라는 별도의 재난안전 담당 조직을 만들어 국민안전에 만전을 기하겠다는 방안을 내놓았다. 더불어 지난 10여년 간 계속 무산됐던 ‘국가재난안전 통신망’을 구축하겠다는..'\n",
            " '“도쿄올림픽 개막 이후 일본 선수들이 금메달을 8개나 따고 생각보다 성적이 좋게 나오니까 일본 국민들이 선수들 고생하고 노력한 것에 응원을 많이 하고 있는 것 같아요. 하지만 스가 정권에 대해선 김칫국 마시지 말라는 여론이 분명히 있죠.”\\n이영채 일본 게이센여학원대 교수는 27일 도쿄올림픽 개막 이후 일본 민심을 이렇게 진단했다. 올림픽 개최 반대 여론..'\n",
            " \"박근혜 대통령이 당황한 것 같다. 세월호 참사 뒤처리에 성난 민심이 수그러들지 않으니까 네 차례나 사과를 했다. 한번 다녀온 진도 현장을 또 찾아갔다. 참모진과 내각에 '국가개조'라는 말을 써가면서 공직사회 개혁을 요구했다. '관피아' '철밥통' 같은 유행어를 입에 담아 가며 공무원 임용방식과 보직관리의 문제점까지 지적했다. \\n\\n\\n \\n\\n\\n겉으로만 보면 ..\"\n",
            " '주호영 자유한국당 의원이 당 혁신 방안에 대해 “국민에게 책임지는 모습을 보이기 위해 인적 청산이 불가피하다”고 강조했다. \\n\\n 주 의원은 8일 <한겨레티브이(TV)> ‘더정치 인터뷰’에 출연해 “당이 혁신하려면 철저한 자기반성이 전제돼야 한다. 책임 추궁, 인적 청산, 분명한 당 정체성 마련이 요구된다”며 “어느 정도 인적 청산은 불가피하다. 다만 구..'\n",
            " '세계일보가 지난 25일부터 이틀간 여론조사기관인 ㈜리서치앤리서치에 의뢰해 전국 19세 이상 성인 남녀 1000명을 대상으로 실시한 창간 특집 여론조사에서는 한국사회 신뢰도가 100점 만점에 57.4점으로 평가돼 저(低)신뢰 사회의 단면을 그대로 드러냈다. 정치와 경제, 사회 시스템의 투명성에 대해서도 응답자의 65.4%가 ‘신뢰하지 않는다’고 답하는 등..'\n",
            " '14일 KBS1 <시사기획 창>은 ‘세월호 1년, 우리는 달라졌나’란 주제로 참사 이후 한국 사회의 모습과 변화를 들여다본다. 제작진은 “비극은 현재 진행형”이라고 말한다. 곳곳에서 대형 사고가 끊이지 않기 때문이다. 최근에도 안개 속에서 속도를 줄이지 않아 100대가 넘는 차량이 추돌하는 사고가 있었다. 원자력발전소에서는 크고 작은 사고가 계속 발생한다. 자..'\n",
            " '“세월호 참사는 ‘재난의 정치화’가 유족들은 물론 국민 전체의 정신적 후유증 극복을 가로막은 대표적 사례입니다. 미국이 9 11 사태 이후 독립적이고 초당파적인 진상조사위원회를 출범시켜 활동한 사례를 되새겨 봐야 합니다.”(박종희 서울대 정치외교학부 교수)\\n\\n\\n“재난은 자연재해로 시작하지만 얼마나 증폭되느냐는 그 사회의 공공성 등과 관계가 있습니다. 경..'\n",
            " '여야가 세월호 침몰 사고의 진상규명을 위한 국정조사에 합의하고 27일 국회 본회의에서 처리하기로 했다. 조사 대상에는 해양수산부 해양경찰청 해군 안전행정부 지방자치단체 국방부 국무총리실에 청와대도 포함됐다. \\n \\n 사고 당일 박근혜 대통령의 지시를 보면 청와대가 세월호 침몰 상황을 제대로 파악하지 못한 게 아니냐는 의문이 든다. 중앙재난안전대책본부 차장..'\n",
            " '“세월호 참사도, 후쿠시마 원자력발전소 사고도 ‘생명보다 돈’이라는 가치를 우선해 벌어졌다는 점에서 똑같습니다. 함께 연대해 갑시다.”\\n\\n세월호 유가족과 후쿠시마 원자력발전소 사고 활동가들이 만났다. 단원고 2학년 5반 고(故) 이창현 학생의 부모인 이남석 최순화씨와 세월호 참사 국민대책회의 관계자 등은 4일 일본 도쿄에서 후쿠시마 원자력발전소 사고 피해자 지원 활동을 하고..']\n",
            "\n",
            "\n",
            "==================================================================================\n",
            "\n",
            "\n",
            "토픽       17: 토픽 개수     1380, 전체 퍼센트    4.414%\n",
            "0        후보\n",
            "1        대선\n",
            "2        선거\n",
            "3       윤석열\n",
            "4      국민의힘\n",
            "5        대표\n",
            "6    더불어민주당\n",
            "7       대통령\n",
            "8        공약\n",
            "9        의원\n",
            "Name: #17, dtype: object\n",
            "['더불어민주당 윤건영 의원이 ‘월성원자력발전소 1호기 폐쇄’와 관련된 감사원 감사 및 검찰 수사를 ‘민주주의에 대한 도전’으로 규정한데 대해 국민의힘 송파병 당협위원장인 김근식 교수가 15일 “참 무식하다”고 했다. \\n \\n앞서 윤 의원은 지난 13일 페이스북에서 “월성 1호기 폐쇄는 19대 대선 공약이었다”며 “그 공약은 문재인 대통령의 당선을 통해 국민으로부터..'\n",
            " '김두관 더불어민주당 의원이 29일 여권 동료 의원들에게 윤석열 검찰총장 탄핵 추진에 동참해주기를 호소하는 내용의 서한을 보냈다. 문재인 대통령이 직접 추미애-윤석열 갈등 사태에 대해 사과한 가운데 김 의원이 오히려 대통령에게 부담을 주고 있는 것 아니냐는 지적이 나온다. \\n \\n김두관 의원은 이날 더불어민주당 정의당 열린민주당 기본소득당 시대전환 소속 의..'\n",
            " '윤석열 후보 직속 정권교체동행위원회가 윤석열 국민의힘 대선후보 인터뷰 <윤석열의 생각>을 유튜브를 통해 추가 공개했다. \\n \\n9일 오전 공개된 <윤석열의 생각> 3부 ‘정치인 윤석열’에서 윤 후보는 정치에 입문하게 된 계기 등 그간 공개되지 않았던 비하인드 스토리를 밝혔다. \\n \\n윤 후보는 “저는 제가 정치를 할 거라고는 생각을 한 번도 해본 적이 없다..'\n",
            " '2 27 全大출마 공식 선언 \\n\\n\\n\\n“자유 우파 대통합 이룰 것 \\n\\n내년 총선서 압도적 제1당 \\n\\n운동권 철학이 국정 좌우 \\n\\n소득성장 脫원자력발전소 등 폐기” \\n\\n\\n\\n홍준표 “도로 친박당” 비판 \\n\\n黃 출마자격 논란도 격화\\n\\n\\n\\n황교안 전 국무총리는 29일 “문재인 정권의 경제 폭정을 막아내겠다”며 자유한국당 2 27 전당대회 당대표 경선 출마를 공식 선언했..'\n",
            " '시민단체 출신 인사들이 서울시의 태양광 사업을 방만하게 운영했다는 시 감사 결과가 나오자 윤석열 국민의힘 대선후보 측은 이를 \"제2의 대장동 사태\"라며 비판했다. \\n \\n 윤 후보 측 김병민 대변인은 15일 서면 논평을 내고 \"문재인 정부는 탈원자력발전소 미몽이 진정으로 국민과 미래 세대를 위한 정책이었는지 지금이라도 국민께 고해 성사를 해야 한다\"며 이같이 말..'\n",
            " '<!-- SUB_TITLE_START-->ㆍ도지사 출마 호소카와 지지연설 전 현 총리 대리전 ‘후끈’<!-- SUB_TITLE_END-->\\n\\n“총리 재직 중엔 원자력발전소이 가장 안전하고 저렴하다는 전문가들의 말을 믿었지만, 3년 전 원자력발전소사고를 겪은 뒤 그 말이 거짓말이라는 걸 알았습니..'\n",
            " '2017년 대선 여론 조작 혐의 등으로 구속된 드루킹(김동원)이 김경수 경남지사(구속)와 공모해 대선 이후에도 대선 기간의 6배가 넘는 \\'댓글 조작\\'을 했다고 자유한국당이 5일 주장했다. 한국당은 \"최저임금, 탈원자력발전소 등 문재인 정부 국정 운영을 지원하기 위한 김경수 드루킹의 \\'댓글 조작 협업\\'이 대선 이후에도 광범위하게 이뤄졌다\"며 \\'재(再)특검\\'..'\n",
            " '윤석열 검찰총장. 연합뉴스 ‘윤석열 현상’에 여야 정치권이 술렁거리고 있다. \\n \\n 11일 윤석열 검찰총장이 차기 대선주자 선호도 조사에서 1위로 올라서자 더불어민주당은 당혹해하면서도 일시적 현상으로 평가절하했다. 국민의힘 역시 당내 주자들이 지지부진한 상황에서 ‘장외 주자’인 윤 총장이 급부상하자 마냥 달갑지만은 않은 분위기다. \\n \\n 민주당은 차기 ..'\n",
            " '김영춘 더불어민주당 의원이 “문재인 전 대표가 대세론에 안주하면 2002년 이회창 후보의 전철을 밟을 수 있다”며 “변신의 노력을 치열하게 해야 한다”고 말했다. \\n\\n지난 6일 ‘더정치’(진행 김태규 성한용)에 출연한 김 의원은 문 전 대표를 “제일 (대통령이 될) 가능성이 높은 후보”로 꼽으면서도 “부동의 1위 후보라고 안주하고 지금까지 해왔던 정치패..'\n",
            " '여야가 나란히 4 15 총선의 첫 공약을 발표했다. 더불어민주당은 젊은층과 취약계층을 겨냥한 공공 와이파이 확대 방안을, 자유한국당은 정권심판론을 부각할 수 있는 탈원자력발전소 정책 폐기와 노동시장 개혁 정책을 내세웠다. ‘1호 공약’에 각 당의 선거전략이 담겨 있는 셈이다. \\n \\n15일 민주당은 2022년까지 버스 터미널과 박물관, 전통시장 등 전국 방방곡곡..'\n",
            " '“오늘은 여러분에게 서울시를 제가 어떻게 바꿔놓고 싶은지 시각적으로 자세하게 설명 드리려고 합니다. (손으로 브이 표시를 하며) 이른바, 오세훈의 브이(V) 서울입니다. 여기서 브이는 브이아이피(VIP)가 아니라 버추얼(Virtual 가상) 서울입니다. (웃음)” \\n\\n오세훈 국민의힘 서울시장 예비후보가 다시 ‘브이’를 꺼내 들었습니다. 국민의힘 경선 막..'\n",
            " '더불어민주당 대선주자인 이재명 경기지사가 15일 오전 TBS 라디오 ‘김어준의 뉴스공장’ 인터뷰에서 정부가 민주당의 ‘전 국민 재난지원금 지급’ 당론에 반대하는 것과 관련해 “(추경안) 총액이 증액되지 않으면 기획재정부 동의 없이 (국회가) 결정할 수 있다”고 말했다. 그러면서 “(범여권 의석수인) 180석 얘기를 자주 하지 않나. 정말로 필요한 민생에 관..'\n",
            " '오세훈 前 서울시장 인터뷰 \\n\\n“총선 과반 확보 文정부 견제”\\n\\n\\n\\n자유한국당 당권 주자인 오세훈(사진) 전 서울시장은 25일 “경제와 외교 안보, 사회 등 문재인 정부의 정책은 낙제점이 아닌 게 없다”며 “특히 부산 울산 경남(PK) 지역은 정부의 독선적인 탈원자력발전소 정책으로 산업 생태계가 궤멸될 위기에 처했다”고 말했다. \\n\\n\\n\\n오 전 시장은 문화일보와..'\n",
            " '‘복지, 혁신(변화), 소통, 안전, 창조, 일자리.’ \\n \\n1일 닻을 올린 민선 6기 광역자치단체장들의 취임사 키워드다. 앞으로 4년간 16개 광역자치단체 운영 구상이라고 할 수 있다.\\xa0 \\n \\n가장 많이 언급된 단어는 ‘복지’로 16명의 광역자치단체장 중 11명이 언급했다. 박원순 서울시장은 “복지가 행복한 미래를 앞당기는 ‘복지특별시’를 완성해나갈 ..'\n",
            " '최재형 전 감사원장이 15일 “온 국민이 고통받는 현실에서 가장 중요한 명제인 정권교체를 이루는 중심은 제1야당인 국민의힘이 돼야 한다”면서 국민의힘에 전격 입당했다. 감사원장직에서 스스로 물러난 지 17일 만이다. 윤석열 전 검찰총장에 이어 최 전 감사원장까지 임기 도중 사퇴와 함께 현 정권 심판을 외친 데는 현 정부의 책임이 없지 않다. 그럼에도 불..'\n",
            " '이재명 더불어민주당 대선후보는 3일 저녁 열린 첫 \\'4자 TV토론\\'에서 \\'블루수소\\' \\'RE100\\' \\'택소노미\\' 등 다소 생소한 개념을 꺼내들며 다른 후보들을 견제했다. \\n \\n 이날 KBS MBC SBS 등 방송3사 합동 초청으로 이뤄진 첫 TV토론에서 이 후보는 윤석열 국민의힘 대선후보를 향해 \"미래산업의 핵심은 재생에너지, 중심은 수소가 될것이다. 탈..'\n",
            " '더불어민주당 이재명 대선 후보와 국민의힘 윤석열 대선 후보가 공식 선거운동 기간 첫날인 15일 대전을 찾았다. 두 후보는 각각 자신을 ‘충청의 사위’, ‘충청의 아들’이라고 하며 유세를 시작했다. 이 후보의 배우자 김혜경 씨는 충북 충주 출신이며 윤 후보는 부친인 윤기중 연세대 명예교수의 고향이 충남 공주다. \\n \\n이 후보는 이날 대전 중구 으능정이 거..'\n",
            " '방송 광고촬영과 토론준비로 공개일정을 잡지 않은 윤석열 국민의힘 대선 후보가 지난 20일 서울 중구의 한 방송사 스튜디오에서 광고 촬영을 하기 위해 이동하고 있다. 공동취재사진 국민의힘 윤석열 대선 후보는 21일 \"탈원자력발전소 정책을 백지화하고 원자력발전소 최강국을 건설하겠다\"고 밝혔다. \\n \\n 윤 후보는 이날 페이스북 글에서 \"원자력발전소 생태계를 회복하고 안전한 원자력발전소 ..'\n",
            " '▶영상 바로가기: https://youtu.be/ycHvULMmefg\\n\\n \\n\\n 27일 경기도 일산 킨텍스에서 자유한국당 전당대회가 열렸습니다. 당대표와 최고위원을 뽑기 위해 5천명이 넘는 한국당 당원이 모였습니다. 한국당 당원들은 문재인 정부를 어떻게 평가할까요? 이들이 원하는 한국당과 국가는 어떤 모습일까요? 이들은 태극기 부대를 어떻게 생각할까요? ..'\n",
            " '더불어민주당 이재명 대선 후보가 7일 공약 철회 논란이 일고 있는 국토보유세와 전국민 재난지원금과 관련해 “철회한 적 없다”고 주장했다. 이 후보는 “정치인은 자기 주장이 있어야 한다”면서도 “(정치인의 주장이) 국민의 뜻을 넘어서는 건 독재이자 폭압”이라고 했다. 국토보유세와 재난지원금에 대한 의지는 여전한만큼 당선 뒤 국민의 의사를 물어 추진 여부를..']\n",
            "\n",
            "\n",
            "==================================================================================\n",
            "\n",
            "\n",
            "토픽       18: 토픽 개수     1445, 전체 퍼센트    4.622%\n",
            "0    후쿠시마\n",
            "1      사고\n",
            "2     방사능\n",
            "3      물질\n",
            "4     오염수\n",
            "5    도쿄전력\n",
            "6      방사\n",
            "7      유출\n",
            "8      오염\n",
            "9      보도\n",
            "Name: #18, dtype: object\n",
            "['지난 2011년 3월11일 동일본대지진 당시 후쿠시마 제1원자력발전소 폭발 사고 등으로 대량의 방사성 물질이 유출됐던 후쿠시마의 안전 문제는 10년이 지난 지금도 논란이다. 피난을 떠난 주민들이 돌아갈 수 있는 상황인지, 후쿠시마산 농수산물은 먹어도 되는지 불안은 여전하다.\\n\\n후쿠시마엔 방사선량이 높아 출입이 엄격하게 통제되는 ‘귀환 곤란 구역’(연 50밀리서..'\n",
            " '지난달 25일 일본 후쿠시마(福島) 제1원자력발전소으로부터 북서쪽으로 38㎞ 떨어진 이이타테무라(飯<8218>村). 낮에는 출입이 가능하지만 밤에는 빠져나와야 하는 ‘거주제한구역’이다. 마을 중심에서 버스를 타고 국도 399호선을 통해 원자력발전소이 있는 남쪽으로 접근하자 방사능 측정기가 갑자기 ‘삐릭삐릭’하며 요동을 쳤다. 산길을 굽이굽이 도는 비탈길. 화면은 이미..'\n",
            " '일본 후쿠시마(福島) 원자력발전소에서 오염수 유출이 지하수 오염으로 이어지고, 이로 인해 확산된 방사능 물질을 제거하는 작업을 하다 오염이 확산되는 오염의 악순환 고리원자력발전소가 만들어지고 있다. 오염수 유출 탱크 주변의 지하수에서 방사능 물질 농도가 지속적으로 상승하는 가운데 제염(除染) 작업이 진행되고 있었던 배수구에서도 방사능 물질이 검출됐다.\\n\\n오염수 유..'\n",
            " '우리나라 바다는 방사능으로부터 안전하다는 조사결과가 나왔다.\\n\\n\\n\\n국립수산과학원은 한국원자력안전기술원과 지난 2011년부터 우리나라 연근해의 바닷물을 채집 조사한 결과, 일본 방사능 오염수가 우리나라 해역으로 유입되지 않은 것으로 나타났다고 27일 밝혔다. 이번 조사는 일본 후쿠시마(福島) 원자력발전소사고가 국내 어장이나 수산생물에 미치는 영향을 파악하기 위해..'\n",
            " '고이즈미 준이치로(小泉純一郞) 전 일본 총리가 후쿠시마 오염수가 통제되지 않고 있다며 아베 정권의 원자력발전소 정책을 비난했다. \\n \\n 11일 교도통신에 따르면 이날 동일본대지진 및 후쿠시마 원자력발전소사고 4주년을 맞이해 후쿠시마현에서 열린 강연에서 고이즈미 전 총리는 “‘오염수는 통제되고 있다’고 누군가가 말했지만 전혀 통제되지 않고 있다”고 지적했다. \\n \\n 고..'\n",
            " '일본 정부가 2일 2011년 동일본대지진 당시 폭발사고가 발생했던 후쿠시마(福島) 제1 원자력발전소 1~6호기 수조에 남아 있는 사용후핵연료와 미사용핵연료를 2031년까지 반출한다는 계획을 제시했다.\\n교도(共同)통신과 NHK 등에 따르면, 일본 정부는 이날 도쿄전력 후쿠시마 제1원자력발전소 폐로 오염수 대응팀과의 회의에서 이 같은 내용의 폐로 공정표가 담긴 중..'\n",
            " '일본 후쿠시마(福島) 제1원자력발전소 4호기 원자로의 저장수조에 있는 핵연료의 회수 작업이 18일 시작됐다. 폐로가 결정된 후쿠시마 원자력발전소 원자로 수조에서 핵연료를 본격적으로 빼내는 것은 2011년 도호쿠 대지진과 원자력발전소사고 이후 처음이다. \\n\\n후쿠시마 원자력발전소 관리회사인 도쿄전력은 이날 오후 와이어를 사용, 핵연료를 수송용기에 하나씩 옮겨 담은 뒤 건물 상부에 설치..'\n",
            " \"동일본 대지진으로 원자력발전소사고가 난 후쿠시마현에서 이주한 학생을 두고 교사가 세균이라고 부르며 이지메(집단 괴롭힘)한 사건이 잇따라 일본 사회가 분노했다. 3일 아사히신문 등 현지 언론 보도에 따르면 후쿠시마에서 니가타현으로 부모와 함께 피난 온 초등학교 4학년생은 동급생이 자신을 '균'으로 호칭한다며 40대 담임교사에게 상담을 요청했으나 이 교사로부터도..\"\n",
            " '2011년 동일본 대지진으로 후쿠시마 다이치 원자력발전소가 가동을 멈춘 이래 1번 원자력발전소 안 핵연료 격납용기 2호기에서 방사능 수치가 최대치를 기록했다고 도쿄전력이 2일 발표했다. 이 방사능에 노출될 경우 사람은 1분도 채 되지 않아 숨질 수 있다.\\n\\n 도쿄전력의 설명을 보면, 이번에 조사된 방사능 수치는 시간당 최대 530시버트(Sv)에 이른다. 201..'\n",
            " '일본 후쿠시마 제1원자력발전소 관측용 우물의 방사성 물질 수치가 기준치의 3만6000배까지 치솟았던 것으로 알려졌다. \\n \\n일본 마이니치 신문 등 현지 언론은 후쿠시마 원자력발전소 운영사인 도쿄전력의 발표를 인용해 원자력발전소 관측용 우물에서 사상 최대치의 방사성 물질이 검출됐다고 지난 2일(현지시각) 보도했다. \\n \\n보도에 따르면 문제가 된 우물물은 지난달 28일..'\n",
            " '2011년 3월 11일, 지진과 해일이 일본 동북부를 강타하면서 후쿠시마 원자력발전소의 재앙이 시작됐다. 일본 정부는 방사능 오염이 소련 체르노빌 사건과 동일한 수준의 최고 위험단계(7레벨)임을 발표하고 복구에 돌입했다. 이웃나라의 재난은 우리나라에도 공포로 다가왔다. 그리고 3년이 흘렀다. 여전히 진위를 알 수 없는 방사능 괴담이 떠돌고, 일본산 먹거리 생활..'\n",
            " '세상사 모든 관계가 그렇겠지만 후쿠시마 원자력발전소사고 이후 신뢰의 중요성은 더욱 커졌다. 일본 후쿠시마 원자력발전소사고 이후에도 원자력발전의 기세는 여전한 듯하다. 전 세계적으로 2030년까지 현재 운용되고 있는 430여기의 원자력발전소이 최소 90개에서 300개까지 추가 건설될 것으로 예상되고 있다. \\n\\n자연재해와 인재가 결합되면서 걷잡을 수 없는 피해를 노출한 후쿠시마..'\n",
            " \"제19호 태풍 '하기비스'로 내린 폭우의 영향으로 후쿠시마 원자력발전소사고 후 수거한 방사성 오염 물질이 대거 하천에 방류된 것으로 보인다. \\n \\n 일본 당국은 상황이 제대로 파악되지도 않은 상태에서 환경에 미치는 영향이 적다고 설명하는 등 허술하게 대응했다. \\n \\n 17일 교도통신에 따르면 후쿠시마현 다무라(田村)시는 후쿠시마 원자력발전소사고 후 오염 제거 작업으로..\"\n",
            " '아베(安倍晋三) 일본 총리가 24일 중국 청두(成都)에서 진행된 문재인 대통령과 정상회담에서 후쿠시마 오염수 배출 문제와 관련해 \"후쿠시마 제1원자력발전소에서 배출되는 물에 포함된 방사성 물질의 양은 한국 원자력발전소 배수의 100분의 1 이하\"라고 말했다고 산케이신문이 28일 보도했다. \\n \\n산케이신문은 이날 한국과 일본의 외교 소식통 전언을 인용해 아베 총리..'\n",
            " '지난 4~5월 일본 사회를 떠들썩하게 했던 ‘ 파문’의 중심에 섰던 이도가와 가쓰타카(68 사진) 전 후타바마치 정장(군수 등 기초단체장에 해당)이 3 11 후쿠시마 원자력발전소사고 참사 이후 처음 치러지는 후쿠시마현 지사 선거에 출마하겠다고 밝혔다. 다음달 26일 실시되는 이번 선거는 이달 초 아베 2차 내각이 출범한 뒤 처음 치러지는 대규모 선거인데다, ‘..'\n",
            " '1급 발암물질인 라돈이 검출돼 전국에서 수거했던 침대 매트리스의 폐기물이 충남 천안에 2년째 방치돼 있는 것으로 드러났다. 일부 폐기물은 창고가 아닌 야적장에 쌓인 채 장대비를 맞고 있어 유해물질 유출 우려도 나온다. 원자력안전위원회(원자력안전위원회)와 환경부가 법 규정을 따지며 서로 책임을 떠넘긴 결과다. \\n \\n 3일 원자력안전위원회와 환경부에 따르면 2018년 전국에..'\n",
            " '원자력발전소 폐로(廃炉)를 결정한 일본이 방사성폐기물 처리를 놓고 심각한 고민에 빠졌다. \\n2011년 동일본 대지진 이후 일본 정부는 ‘가동한 지 40년이 넘은 원자로는 폐로한다’는 방침을 세웠다. 이에 따라 일본 원자력규제위원회가 4개 원자력발전소 내 원자로 5기의 폐로를 19일 최종 승인했다고 일본 언론들이 전했다. \\n문제는 폐로 과정에서 쏟아져 나올 총..'\n",
            " '인천시가 관내 유통되는 수산물의 방사능 등 유해물질 검사를 대폭 강화한다. 최근 일본 정부의 후쿠시마 원자력발전소 방사능 오염수 방류로 수산물 안전성에 대한 시민 불안감이 더욱 가중된데 따른 것이다. \\n \\n 3일 인천시 보건환경연구원에 따르면 지난해 지역 수산물의 유해물질 검사를 벌인 결과 대체적으로 안전하다고 확인됐다. 소래포구, 연안부두 어시장을 비롯해 마..'\n",
            " '최근 1~2년 사이 일본 방사능유출 공포와 맞물려 DNA 손상에 대한 우려의 목소리가 커지고 있고 더불어 바이오테크놀로지(생명공학) 산업에 대한 관심이 늘어나고 있다. \\n\\n최근 일본 후쿠시마 원자력발전소의 고농도 방사능 오염수 사태로 인한 파장이 방사능괴담으로까지 이어지고 있다. 얼마 전 공중파 오락프로그램 한 출연자는 \"20~30년 후에는 일본 방사능으로 인..'\n",
            " '도쿄전력 후쿠시마 제1원자력발전소에서 발생하는 오염수(일본에서는 처리수)의 양이 대폭 줄어든 것으로 나타났다. 일본 정부가 오염수 저장탱크의 용량이 부족하다며 2023년 봄에 방출하겠다는 방침을 밝혔지만 지금 상태로라면 방출 시기를 늦춰도 된다는 지적이 나왔다.\\n30일 도쿄신문이 도쿄전력이 매주 공개하는 오염수의 양을 바탕으로 2015년부터 지난 23일..']\n",
            "\n",
            "\n",
            "==================================================================================\n",
            "\n",
            "\n",
            "토픽       19: 토픽 개수      862, 전체 퍼센트    2.757%\n",
            "0         월성\n",
            "1    산업통상자원부\n",
            "2         수사\n",
            "3         장관\n",
            "4         검찰\n",
            "5        경제성\n",
            "6         조작\n",
            "7         평가\n",
            "8         의혹\n",
            "9         혐의\n",
            "Name: #19, dtype: object\n",
            "['산업통상자원부 전 현직 장관이 월성 원자력발전소 1호기 조기 폐쇄와 관련해 \"한국수력원자력 이사회의 자율적 결정\"이라는 입장을 밝혔지만, 검찰이 당시 산업통상자원부가 한국수력원자력의 결정에 개입한 정황이 담긴 문건을 대거 복구했다. \\n \\n \\n ━\\n 한국수력원자력 이사회 3주 전 산업통상자원부 \"월성 1호기 영구중단 요청해야\" \\n 29일 중앙일보가 입수한 공소장 범죄일람표에는 산업통상자원부 공무원..'\n",
            " '백운규(57) 전 산업통상자원부 장관과 채희봉(55) 전 청와대 산업정책비서관 등의 월성 1호기 원자력발전소 경제성 평가 부당개입 혐의 사건 첫 재판이 다음 달 열린다. \\n \\n 법조계에 따르면 대전지방법원 제11형사부(재판장 박헌행)는 다음달 24일 오후 2시 직권남용권리행사방해, 업무방해, 배임 등 혐의로 기소된 백운규 전 산업통상자원부 장관과 채희봉 전 청와대..'\n",
            " '‘월성 원자력발전소 경제성 평가 조작 의혹’의 핵심 피의자인 채희봉 전 청와대 산업정책비서관(현 한국가스공사 사장)이 수사 기소 적정성에 대한 외부 판단을 받아보겠다며 검찰 수사심의위원회(이하 심의위) 소집을 신청했지만 받아들여지지 않았다. \\n \\n대전지방검찰청은 “대전지방검찰청 시민위원회가 논의한 결과 (이 사건을)심의위에 부의하지 않기로 기각 의결했다”고 밝혔다. 검찰..'\n",
            " '‘월성 1호기’ 경제성 평가 조작 의혹과 관련해 검찰이 산업통상자원부와 한국수력원자력, 한국가스공사 등을 상대로 압수수색한 데 대해 성윤모 산업통상자원부 장관이 9일 “매우 당혹스럽다”고 밝혔다. \\n\\n 성 장관은 이날 국회 예산결산특별위원회 전체회의에 나와 “(감사원) 감사 결과의 세부 쟁점에 대해서 (산업통상자원부가) 재심 신청을 검토하고 있는 단계에..'\n",
            " '월성 원자력발전소 1호기 조기 폐쇄를 위해 한국수력원자력 등이 경제성 평가를 조작한 의혹이 있다는 본지 보도(20일 자 A2면)와 관련, 한국수력원자력이 조작 의혹을 제기한 내부 공익 제보자를 감사한다는 명분으로 컴퓨터를 봉인하는 등 제재에 나섰다. \\n \\n20일 강창호 한국수력원자력 새울원자력본부 새울1발전소 노조 위원장과 한국수력원자력에 따르면, 한국수력원자력 감사실은 19일 오후부터 ..'\n",
            " '■ 檢 공소장서 확인\\n\\n\\n\\n회계사 “정부가 원하는 결과\\n\\n맞추기 위한 작업 된 것 같아”\\n\\n\\n\\n한국수력원자력 직원 “나도 맘 안 좋아\\n\\n결과도 처음보다 이상해져”\\n\\n\\n\\n檢 “평가 왜곡 서로 인정한 것”\\n\\n\\n\\n검찰이 ‘월성 원자력발전소 1호기 경제성 평가 조작’ 의혹 관련 경제성 평가 용역을 맡았던 회계법인과 한국수력원자력 담당자 간에 문재인 정부의 압력에 의한 수치 ..'\n",
            " '검찰이 월성 원자력발전소 조기 폐쇄 수사와 관련해 ‘정책의 옳고 그름이 아닌 집행 과정 상 형사적 문제를 수사하는 것’이라며 정치적 해석에 선을 그었다. 하지만 이미 고발 사건 등에 정치권이 개입한 데다 수사의 칼날이 이른바 윗선(청와대)을 향할 것으로 보여 정치로부터 자유로울 수 없다는 전망이 여전하다.\\n월성 1호기 원자력발전소 경제성 평가 조작 의혹 등 고발 사건..'\n",
            " '월성 1호기 원자력발전소과 관련한 내부 자료를 대량으로 삭제하는데 직 간접적으로 관여한 혐의를 받는 산업통산자원부 공무원 3명 중 국장급 2명만 구속됐다. 함께 영장이 청구된 과장급 공무원 1명은 증거 인멸이나 도주 염려가 없는 점을 고려해 기각됐다. \\n \\n대전지방법원 오세용 영장전담 부장판사는 지난 4일 구속 전 피의자 심문(영장실질심사)을 해 공용전자기록 등 ..'\n",
            " '산업통상자원부에 에너지 정책 기능을 전담하는 차관이 생길 전망이다. 정부는 최근 내놓은 ‘2050년 탄소중립 비전 및 추진전략’을 보다 체계적으로 추진하기 위한 ‘포석’이라고 말하지만 월성 원자력발전소 평가 조작 혐의 등 ‘탈원자력발전소 정책’ 주무부처로서 수세에 몰린 산업통상자원부에 힘을 실어주기 위한 조치라는 해석도 나온다. \\n \\n 행정안전부는 이 같은 내용의 정부조직법..'\n",
            " '월성원자력발전소 1호기 경제성 평가 조작 의혹에 대한 검찰의 전격적인 압수수색과 관련해 성윤모 산업통상자원부 장관이 “매우 당혹스럽다”고 밝혔다. 성 장관은 9일 국회 예산결산특별위원회 전체회의에 출석해 “정책 수립을 위한 정부 내 의사결정 과정은 존중돼야 한다”며 “감사원 감사 결과의 세부 쟁점에 대해 재심청구를 검토하는 단계인데 검찰 수사가 시작돼 매우 당..'\n",
            " '추미애 법무부 장관이 월성 원자력발전소 1호기 폐쇄 과정 의혹과 관련해 검찰이 압수수색에 나선 데 대해 ‘정치인 총장이 정부를 공격하고 흔들려는 과잉수사’라고 주장해 정치권에 논란이 일었다. 추 장관은 검찰의 이번 수사에 대해 “제가 볼 때 권력형 비리가 아니고, 정부의 정책 결정 과정에서의 문제”라며 무리한 수사라고 주장했다. 검찰이 청와대의 에너지 전환 정..'\n",
            " '법원은 백운규 전 산업통상자원부 장관에 대한 구속영장 기각 사유로 박근혜정부의 문화계 블랙리스트 대법원원 판결을 인용했다. 해당 판결은 직권남용죄 성립 문턱을 한층 높였다는 평가를 받는 판결이다. 검찰은 영장 기각을 납득하기 어렵다는 입장을 냈지만 향후 수사에 제동이 불가피하게 됐다. \\n \\n대전지방법원 오세용 영장전담 부장판사는 9일 백 전 장관에 대한 구속..'\n",
            " '‘월성 1호기’ 원자력발전소 조기 폐쇄 의혹을 수사 중인 대전지방검찰청이 28일 백운규 전 산업통상부 장관과 채희봉 전 대통령산업정책비서관, 정재훈 한국수력원자력 사장 등을 기소해야 한다는 의견을 대검찰청찰청에 재차 보고한 것으로 알려졌다. \\n \\n 노정환 대전지방검찰청장은 이날 김오수 검찰총장에게 백 전 장관과 채 전 비서관, 정 사장 등 핵심 피의자 3명을 직권남용..'\n",
            " '1. \\n 월성1호기 조기폐쇄에 대한 검찰수사가 심상찮습니다. \\n \\n 지난 9일자 코멘터리(윤석열 ‘살아있는 권력’은 대통령인가)에서 심각성을 예고했는데, 불과 이틀만에 ‘진짜 대통령을 겨냥하는구나’라는 심증을 굳히게 됩니다. \\n \\n 예상대로 감사원에서 검찰로 보낸 ‘수사참고자료’가 폭탄입니다. \\n 감사원은 월성1호기 감사결과를 지난달 200페이지 분량으..'\n",
            " '검찰이 월성 원자력발전소 1호기 조기폐쇄와 관련 산업통상자원부 공무원들로부터 \"경제성 평가의 핵심 변수인 이용률과 판매단가를 낮추는 과정에 백운규 장관의 지시와 관여가 있었다\"는 취지의 진술을 확보한 것으로 9일 확인됐다. 검찰은 이에 법원의 백 전 장관에 대한 구속영장 기각에도 불구하고 채희봉 전 산업정책비서관을 포함한 청와대 관계자에 대한 수사를 차질없이 ..'\n",
            " '14일 오후 제주 서남서쪽 해역에서 지진이 발생한 데 대해 김부겸 국무총리는 각 부처에 비상근무태세를 유지하고 여진 발생 가능성에 대비하라고 긴급 지시했다. \\n \\n 김 총리는 \"행정안전부장관과 소방청장은 지진으로 인한 피해 상황을 신속히 파악하고 필요한 조치 등에 만전을 기하라\"라고 지시했다. \\n \\n 김 총리는 \"산업통상자원부장관, 과학기술정보통신부장관..'\n",
            " '백운규 전 산업통상자원부 장관이 ‘월성 1호기’에 대한 감사원 감사가 진행 중이던 작년 2월 청와대에 보낼 ‘구명 요청 편지’를 쓴 것으로 31일 전해졌다. 해당 편지에는 ‘감사원 감사가 이대로 이뤄지면 검찰 수사로 이어질 가능성이 크다. 관심을 갖고 대처해야 한다’는 내용이 담겼던 것으로 알려졌다. 사실상 청와대에도 경고 메시지를 보내는 내용이다. \\n..'\n",
            " '월성1호기 원자력발전소과 관련 내부자료를 대량으로 삭제하는데 직 간접적 관여한 혐의를 받는 산업통상자원부 공무원 2명이 구속됐다. 1명의 영장은 기각됐다.\\n\\n공무원 구속으로 정치적 수사라는 논란에서 다소 벗어나 검찰 수사는 이른바 ‘윗선’을 향할 것으로 보인다.\\n\\n대전지방법원 오세용 영장전담 부장판사는 4일 공용전자기록 등 손상과 감사원법 위반 등 혐의를 받는 산..'\n",
            " '검찰이 월성 원자력발전소 1호기 경제성 평가 조작 등의 혐의를 받는 한국수력원자력 본사에 대해 이틀 연속 압수수색을 진행한다. \\n \\n 6일 대전지방검찰청은 한국수력원자력 본사에 대한 압수수색을 실시한다. 검찰은 전날에도 한국수력원자력 본사를 포함해 산업통상자원부와 한국가스공사 본사도 압수수색한 바 있다. \\n \\n 검찰은 자료 확보를 위한 시간이 부족했다며 압수수색을 이어가겠다고 밝..'\n",
            " '대전지방법원서 공판준비 절차 직권남용 법리 해석 치열한 다툼 전망\\n\\n\\n\\n월성 원자력발전소 1호기 경제성 평가 과정에서 결과를 조작한 혐의를 받고 있는 백운규(57) 전 산업통상자원부 장관과 채희봉(55) 전 청와대 산업정책비서관 등에 대한 재판이 다음 달부터 시작된다.\\n\\n \\n\\n15일 법조계에 따르면 대전지방법원 제11형사부(부장 박헌행)는 다음 달 24일 오후 백 전..']\n",
            "\n",
            "\n",
            "==================================================================================\n",
            "\n",
            "\n",
            "토픽       20: 토픽 개수      544, 전체 퍼센트    1.740%\n",
            "0    혐의\n",
            "1    법원\n",
            "2    기소\n",
            "3    구속\n",
            "4    드론\n",
            "5    차관\n",
            "6    선고\n",
            "7    판결\n",
            "8    소송\n",
            "9    부장\n",
            "Name: #20, dtype: object\n",
            "['시험성적서 위조 등 원자력발전소비리에 연루된 원자력발전소부품 납품회사 임직원에게 1심에서 최고 징역 12년이 선고되는 등 선고 대상자 18명에 대해 대부분 중형이 선고됐다. \\n \\n이에 따라 내년 2 3월 1심 선고가 내려질 것으로 예상되는 원자력발전소 권력형 비리 혐의자, 한전 임원 등에 대해서도 중형 선고가 예상된다. \\n \\n이날 1차로 선고가 이뤄진 피고인들은 원자력발전소 핵심부..'\n",
            " '울산해양경찰서는 천일염을 불법으로 시중에 유통시킨 전남지역 전 국회의원 B(79)씨와 울산의 전 국회의원 L(70)씨를 소금산업진흥법 위반 등의 혐의로 불구속 입건했다고 11일 밝혔다.\\n\\n\\nB씨는 2011년 품질검사를 거치지 않은 소금 27t을 L씨에게 판매한 혐의를 받고 있다. B씨는 또 2011년 6월 경북 포항의 한 농민(50)에게 접근해 “일본 ..'\n",
            " '부산지방법원 동부지원 형사1부(김문관 부장판사)는 20일 원자력발전소 업체로부터 청탁과 함께 1억7000만원을 받은 혐의(뇌물수수 등)로 구속기소된 김종신(68) 전 한국수력원자력 사장에게 징역 7년과 벌금 2억1000만원, 추징금 1억7000만원을 선고했다.\\n\\n김 전 사장은 2009년 7월부터 2012년 1월까지 원자력발전소 수처리 전문업체인 한국정수공업의 이모 회장(..'\n",
            " '법원이 어제 ‘환경부 블랙리스트’ 사건으로 기소된 김은경 전 환경부 장관에게 징역 2년6개월의 실형을 선고하고 법정 구속했다. 문재인 정부에서 장관을 지낸 인사가 직권남용죄로 실형이 선고된 건 이번이 처음이다. 신미숙 전 청와대 균형인사비서관에게도 유죄가 선고됐다. 이 정부 출범 후 검찰의 ‘1호 정권 수사’로 꼽힌 이 사건에 대한 1심 판결의 요체는 ..'\n",
            " '원자력발전소 주변 주민의 암 발병이 원자력발전소과 무관하지 않다는 첫 판결이 나왔다. 이는 암 발병에 대해 원자력발전소 측의 책임을 인정한 것이어서 파장이 예상된다. \\n \\n 부산동부지원 민사2부(부장판사 최호식)는 “부산 기장군에 사는 박모 씨(48 여)의 갑상샘암 발병에 원자력발전소의 책임이 일부 인정된다”며 “한국수력원자력은 박 씨에게 1500만 원의 위자료를 지급하라”..'\n",
            " '성창호 부장판사가 사법농단 연루 혐의로 재판에 넘겨진 것과 관련, 황교안 자유한국당 대표가 6일 “누가 봐도 명백한 김경수 판결에 대한 보복이고 사법부에 대한 겁박”이라고 비판했다. \\n \\n 성 부장판사는 지난 1월 드루킹 댓글조작 공모 혐의에 대해 김경수 경남지사에게 징역 2년을 선고하고 법정구속했다. \\n \\n 황 대표는 이날 국회에서 최고위원 중진의원 ..'\n",
            " '유튜브 영상 갈무리 \\n 남양유업이 홍보 대행사를 동원해 경쟁사를 겨냥한 비방글을 온라인에 게시한 정황을 경찰이 포착해 수사 중이다. \\n \\n 서울 종로경찰서는 홍원식 남양유업 회장(70 사진) 등 7명을 명예훼손 등 혐의로 입건해 수사하고 있다고 6일 밝혔다. \\n \\n 경찰 등에 따르면 남양유업은 지난해 초 홍보 대행사를 동원해 육아 정보를 공유하는 온라인..'\n",
            " '원자력발전소과 관련한 청탁과 함께 금품을 혐의로 기소된 박영준 전 지식경제부 차관(54)에 대해 유죄가 선고됐다.\\n\\n부산지방법원 동부지원 형사1부(김문관 부장판사)는 김종신 전 한국수력원자력 사장(68)으로부터 700만원을 받은 혐의로 기소된 박 전 차관에 대해 징역 6월과 벌금 1400만원, 추징금 700만원을 선고했다. \\n\\n박 전 차관 측은 범죄 일시와 장소가..'\n",
            " '일본 재계의 총리로 불리는 일본경제단체연합회(경단련) 신임 회장에 토쿠라 마사카즈 스미토모화학 회장이 선임됐다. 경단련은 10일 기자회견을 열어 나카니시 히로아키 현 회장이 림프종 투병을 이유로 임기중 회장직으로 사퇴하고, 신임 회장에 토쿠라 회장이 선임됐다고 밝혔다. 신임 회장의 임기는 2025년까지다. \\n 일본 경단련 신임 회장으로 지명된 토쿠라 마..'\n",
            " '법원이 14일 북한 김일성 주석의 항일 회고록 \\'세기와 더불어\\' 판매 배포 금지 가처분 신청을 기각했다. \\n 서울서부지방법원 민사합의21부(박병태 수석부장판사)는 이날 \"채권자들의 사건 신청은 이유 없으므로 기각한다\"고 밝혔다. \\n \\n \\n ━\\n 법원 \"인격권 침해로 보기 어렵다\" \\n 소송을 제기한 측은 \"김일성은 유엔이 공식적으로 인정한 반인도범죄자인데, ..'\n",
            " '부산지방검찰청 동부지청 원자력발전소비리수사단(단장 김기동 지청장)은 원자력발전소 설비 용역 업체 한국정수공업으로부터 3억원에 달하는 금품을 받은 혐의(배임수재)로 최모(49) 전 산은캐피탈 투자실장을 구속기소했다고 24일 밝혔다. 검찰에 따르면 최 전 실장은 지난해 5월 한국정수공업 이모(75) 회장으로부터 경영권 방어를 도와달라는 청탁과 함께 2억5000만원을 받은 혐의..'\n",
            " '도널드 트럼프 미국 대통령이 지난달 31일(현지시간) 닐 고서치(49) 콜로라도주 연방항소법원 판사를 신임 연방대법원관 후보로 지명했다. 트럼프 대통령은 이날 백악관에서 진행된 TV 생중계를 통해 “최고의 판사를 찾았다. 법치와 정의를 지키기 위해 우리에게 필요한 인물”이라며 고서치 지명을 발표했다. 지난해 2월 사망한 앤터닌 스캘리아 대법원관의 후임 인선..'\n",
            " '부산지방법원 동부지원 형사1부는 20일 원자력발전소 부품 납품 청탁과 함께 1억7000만원을 받은 혐의로 기소된 김종신(68) 전 한국수력원자력 사장에게 징역 7년에 벌금 2억1000만원을 선고했다. 또 김 사장으로부터 700만원을 받은 박영준(55) 전 지식경제부 차관에게는 징역 6월을 선고했다.'\n",
            " '울산지방법원은 8일 한국수력원자력 사장 등 고위간부를 잘 안다며 원자력발전소 납품업체 임직원에게서 청탁 대가로 돈을 받은 혐의로 기소된 원자력발전소 로비스트 윤모(57) 씨에게 징역 3년 6월에 추징금 11억7200만 원을 선고했다.\\n\\n\\n\\n윤 씨에게는 사기, 특정경제범죄가중처벌 등에 관한 법률 위반(알선수재), 변호사법위반, 뇌물공여, 범죄수익 은닉의 규제 및 처..'\n",
            " '여러 비리에 연루돼 유죄 판결을 받고 복역한 뒤 지난해 11월 출소한 ‘왕차관’ 박영준 전 지식경제부 차관(55)이 수감생활 중 공무원연금공단을 상대로 행정소송을 제기한 것으로 확인됐다.\\n\\n3일 서울행정법원에 따르면 박 전 차관은 지난해 8월6일 “공무원연금공단이 퇴직급여를 환수하기로 한 처분을 취소해달라”며 이 법원에 소송을 제기했다. 앞서 공무원연금..'\n",
            " '“내 처의 자살은 후쿠시마(福島) 원자력발전소 사고로 난민 생활을 한 데 따른 우울증 때문이다.”(60대 남편) “무슨 소리냐, 다들 멀쩡한 데 . 자살은 개인의 정신적 취약성 탓이다.”(도쿄전력) 후쿠시마 원자력발전소 사고와 난민의 자살을 둘러싼 ‘인과성 공방’에서 재판부는 난민의 손을 들어줬다. 2년 3개월 간의 치열한 공방이었다. 후쿠시마 지방법원은 26일 2011..'\n",
            " '한국수력원자력(한국수력원자력)을 비롯한 발전 공기업들이 문재인 정부 출범 직후 ‘임원 배상책임 보험’(이하 배상보험)에 연달아 가입한 것으로 나타났다. 이 배상보험은 임원이 직무와 관련해 회사 및 제3자에게 법률상 손해배상을 해야 할 경우 이를 보전해주는 보험 상품이다. 이를 두고 야당에선 “현 정부의 탈원자력발전소 탈석탄 기조에 따른 배상 책임을 우려해 보험에 가입..'\n",
            " '부산지방법원 동부지원 형사1부(김문관 부장판사)는 20일 원자력발전소 업체로부터 청탁과 함께 1억7000만원을 받은 혐의(뇌물수수 등)로 구속기소된 김종신(68) 전 한국수력원자력 사장에게 징역 7년과 벌금 2억1000만원, 추징금 1억7000만원을 선고했다. \\n \\n\\xa0재판부는 판결문에서 “어떤 공무원보다 청렴성과 공정성을 유지하려고 부단히 노력해야 할 피고인이 5..'\n",
            " '이용구 법무부 차관이 지난해 11월 6일 오후 11시 30분 술에 취한 상태에서 택시 운전사 A 씨를 폭행한 당일 백운규 전 산업통상자원부 장관 자택에서 백 전 장관 부부와 술자리를 함께 한 것으로 알려졌다. \\n \\n A 씨는 24일 채널A와의 인터뷰에서 “이 차관이 친구네 부부와 같이 내려왔다. 부부가 내려와서 배웅했다”고 밝혔다. A 씨가 이 차관을 ..'\n",
            " '2011년 동일본대지진 때 발생한 후쿠시마(福島)원자력발전소 사고와 관련해 기소된 도쿄전력의 옛 경영진에게 무죄 판결을 내린 것이 부당하다며 검찰을 대신해 공소 유지를 담당하는 변호사가 항소했다고 아사히(朝日)신문이 1일 보도했다. \\n \\n 보도에 따르면 항소한 변호사는 가쓰마타 쓰네히사(勝?恒久) 전 회장 등 도쿄전력 옛 경영진 3명의 업무상 과실치사상 혐의에..']\n",
            "\n",
            "\n",
            "==================================================================================\n",
            "\n",
            "\n",
            "토픽       21: 토픽 개수      374, 전체 퍼센트    1.196%\n",
            "0     과장\n",
            "1     정책\n",
            "2     승진\n",
            "3     기획\n",
            "4    본부장\n",
            "5     전보\n",
            "6     지원\n",
            "7     산업\n",
            "8     처장\n",
            "9     실장\n",
            "Name: #21, dtype: object\n",
            "['문재인 대통령이 18일 해양수산부 차관에 엄기두(55) 해양수산부 기획조정실장을, 국토교통부 대도시권광역교통위원장에 백승근(57) 국토교통부 기획조정실장을 임명했다. \\n\\n청와대는 이날 차관급 인사 2명에 대한 인사를 발표했다. 엄기두 신임 해수부 차관은 국립수산물품질관리원장과 해운물류국장, 수산정책실장 등을 지냈다. 청와대는 “엄기두 신임 해양수산부 차..'\n",
            " '산업통상자원부 ◆과장급 전보 △산업정책과장 황수성△창의산업정책과장 최우석 \\n \\n한국전력 △원자력발전소수출본부장 박종혁△아랍에미리트원자력발전소사업처장 임현승△해외원자력발전소개발처장 태종훈 \\n \\n한국가스안전공사 ◆승진 <2급> △청렴감사부장 김두홍△고객지원부장 윤탁영△굴착공사정보지원센터장 형원중△장치연구부장 이진한△에너지안전실증사업단장 서원석△대외파견 권우철'\n",
            " '▲김기경(전 한국일보 판매이사)씨 별세ㆍ준성(제이제이유비쿼터스 이사)씨 부친상=14일 오후11시20분 압구정성당 발인 17일 오전7시 (02)515-1938\\n ▲신명선(전 현대중공업 부사장)씨 별세ㆍ찬웅(미 인디애나 웨슬리안대 교수) 해인(나루아트센터 주임)씨 부친상ㆍ유상림(미 인디애나주립대 교수)씨 시부상ㆍ이정훈(SK C&C 과장)씨 장인상=14일 오..'\n",
            " '동명대(총장 오거돈)가 12일 부산상공회의소에서 제9회 동명대상 시상식을 개최한다. \\n산업통상자원부문과 문화부문, 봉사부문으로 구분된 이번 시상식 수상자로는 이채윤 리노공업㈜ 대표(산업통상자원부문), 오동석 (재)부산사회체육센터 상임부이사장(문화부문), 신고리원자력발전소원자력발전소5, 6호기 백지화 부산시민운동본부(봉사부문)가 각각 선정됐다. \\n산업통상자원부문의 이채윤 리노공업㈜ 대표는 ‘타기업..'\n",
            " '한국수력원자력㈜ 고리원자력발전소원자력본부 신임 본부장에 노기경(56) 전 고리원자력발전소제3발전소 소장이 선임됐다. \\n노 본부장은 부산대 대학원 전기공학과를 졸업했으며, 1979년 한국전력에 입사한 이후 고리원자력발전소1발전소 발전부장, 고리원자력발전소본부 교육훈련센터장, 고리원자력발전소제3발전소 소장 등을 역임하고 제27대 고리원자력발전소본부장으로 취임하게 됐다. 신임 노 본부장은 25일 취임식을 갖고 본격적인 업..'\n",
            " '정보통신정책연구원 \\n \\n◇승진 ▲방송미디어연구본부장 황준호 ▲디지털경제연구실장 이준배 \\n \\n한국석유공사 \\n \\n◇본부장(상임이사) ▲경영지원본부장 최문규 ◇처장 및 지사장(전보) ▲홍보문화실장 현송현 ▲안전보안처장 정찬식 ▲해외사업1처장 이재석 ▲해외사업2처장 임건묵 ▲석유비축처장 김광신 ▲유통사업처장 직무대행 전병혁 ▲에너지인프라사업처장 서경식 ▲서산지..'\n",
            " '◇통일부 기획조정실장 이덕행 \\n \\n ◇산업통상자원부 ＜승진＞ ▽국장급 △통상협력국장 노건기 △경제자유구역기획단장 김용채 ＜전보＞ ▽과장급 △원자력발전소환경과장 윤요한 \\n \\n ◇고용노동부 △광주고용센터소장 이병성 \\n \\n ◇인사혁신처 ＜승진＞ ▽3급 △인사조직과장 손무조 ＜전보＞ ▽실장급 △소청심사위원회 상임위원 김우호 ▽과장급 △인재정보담당관 윤미경 \\n \\n ◇파..'\n",
            " '■금융위원회 △자본시장조사단장 김홍식 △창조기획재정담당관 윤영은 △금융소비자과장 성기철 △금융정보분석원 기획행정실장 박광 △ 제도운영과장 김귀수 △투자금융연금팀장 박주영 △금융분쟁대응팀장 진선영 △의사운영정보팀장 오화세\\n■국회사무처 ◇부이사관 승진 △농림축산식품해양수산위원회 입법조사관 공춘택 △국회사무처 김태균 △교육문화체육관광위원회 입법조사관 박규찬..'\n",
            " '보건복지부 △질병관리본부 생명과학연구관리과장 임은정△국립목포병원 서무과장 권명길 \\n \\n병무청 ◆국장급 전보 △입영동원국장 홍승미 \\n \\n기상청 ◆4급(과장급) 승진 △수치모델링센터 수치자료응용과장 이용희 \\n \\n특허청 ◆과장급 전보 △산업재산창출전략팀장 양재석△국제출원과장 문창진△정보기술융합심사과장 정성중△특허심판원 심판관 조명선 이영민 \\n \\n한국금융연구원..'\n",
            " '◆국토교통부<부이사관>◎승진△복합도시정책과장 김형석△주택정책 권혁진△국토정보정책 손우준△교통정책조정 김영태△운영지원 손옥주△운항정책 장만희 \\n \\n◆산업통상자원부<과장급>△원자력발전소수출진흥과장 서가람△산업피해조사 채규남 \\n \\n◆한국일보△AD전략국장 장학만'\n",
            " '◆산업통상자원부 [과장] ▦산업정책 황수성 ▦창의산업정책 최우석 \\n◆보건복지부 ▦사회서비스정책과장 신꽃시계 ▦생명윤리정책과장 황의수\\n◆산업연구원 ▦부원장 주현 ▦기획조정실장 허문구 \\n◆한국전력 ▦원자력발전소수출본부장 박종혁 ▦아랍에미리트원자력발전소사업처장 임현승 ▦해외원자력발전소개발처장 태종훈 \\n◆한국가스안전공사 [2급] ▦청렴감사부장 김두홍 ▦고객지원부장 윤탁영 ▦굴착공사정보지..'\n",
            " '◇농림축산식품부 ＜승진＞ ▽부이사관 △친환경농업과장 이상혁 \\n \\n ◇한전KPS △감사실장 김민수 △미래창출 임채진 △기획처장 정광선 △인사혁신실장 손영권 △상생협력처장 류종남 △정보통신보안실장 장석용 △신사업개발처장 백영화 △신재생사업실장 김택조 △품질경영 허상국 △재난안전 이계성 △서인천사업처장 강기석 △보령 이재삼 △당진 김백기 △영흥 송..'\n",
            " '◆외교부 △공공외교외교관 장재복 △의전장 임기모\\n◆산업통상자원부 <승진> [서기관] △차관실 한용재 △기획재정담당관실 김상우 △규제개혁법무담당관실 김범식 △소재부품총괄과 전두민 △중견기업정책과 윤용석 △가스산업과 이주형 △구주통상과 김수진 △중동아프리카통상과 이동섭 △자유무역협정정책기획과 조성중 △자유무역협정서비스투자과 정성화 △한미자유무역협정대책과 한주..'\n",
            " '감사원에서 일하는 과장급은 군대로 치면 연대장, 경찰에서는 서장 정도의 위치로 ‘감사원의 꽃’이다. 감사현장에서 감사관들을 지휘하고, 감사보고서를 작성해 감사위원회원회를 통과하기까지 하나의 감사를 완성하는 것이 과장의 역할이다. 어떤 방향으로 어떤 감사를 할지 기획하는 일도 물론 과장이 한다. \\n\\n\\n\\n현재 감사원 과장급 92명 가운데 행정고시 또는 기술고시..'\n",
            " '■국세청 ◇ 부이사관 승진 ▲ 국세청 청렴세정담당관 류덕환 ▲ 국세청 법령해석과장 김대훈(이상 12월 24일자) ◇ 부이사관 전보 ▲ 서울지방국세청 징세관 정철우 ▲ 강남세무서장 류덕환 ▲ 중부지방국세청 납세자보호담당관 박석현 ▲ 대전지방국세청 조사1국장 최상로 ▲ 대전지방국세청 조사2국장 이청룡 ▲ 대구지방국세청 성실납세지원국장 조정목 ▲ 국세청 김대..'\n",
            " '산업통상자원부 ◆부이사관 승진 △섬유탄소나노과장 제경희 △산업기술정책과장 안세진 △자원안보정책과장 김선기 △석유산업과장 윤창현 △산업통상자원부 심진수 ◆서기관 승진 △통상교섭본부장실 김이경 △감사담당관실 권순만 △기획재정담당관실 이동철 △산업정책과 최익현 △소재부품장비총괄과 이원규 △산업기술정책과 최혜진 △지역경제총괄과 김등용 △에너지혁신정책과 김기일 ..'\n",
            " '■국무조정실 국무총리비서실 ◇실장급 전보 △국정운영실장 윤창렬 ◇실장급 승진 △규제조정실장 박구연 △사회조정실장 장상윤 ◇국장급 전보 △기획총괄정책관 임상준 △일반행정정책관 심종섭 △개발협력정책관 손동균 △국정과제관리관 남형기 △규제총괄정책관 이정원 △규제혁신기획관 김달원 △재정금융기후정책관 이효진 △농림국토해양정책관 송경원 △사회복지정책관 김영수 △공..'\n",
            " '■행정안전부 ◇실장급 전보 △전라북도 행정부지사 최용범 \\n\\n■기획재정부 ◇국장급 인사 △국제금융심의관 강부성\\n\\n■국토교통부 ◇국장급 승진 △물류정책관 김영한 △대도시권광역교통위원회 광역교통정책국장 안석환 △ 광역교통운영국장 김희수 ◇부이사관 승진 △감사담당관 김종학 △항공안전정책과장 정의헌 △철도정책과장 이윤상\\n\\n■보건복지부 △질병관리본부 질병예방센터..'\n",
            " '◆헌법재판소◎신규 보임<과장>△홍보심의관실 홍보담당관 석현철◎전보<과장>△정보화기획과장 김 희△심판사무 2과장 김기호△통일교육원 파견 장유식△국방대학교  최병협<서기관(4급)>△재판관비서관 권순모◎승진<서기관(4급)>△행정관리국 총무과 지인수△심판사무국 심판행정과 하영화 \\n \\n◆외교부<국장>△국립외교원 외교안보연구소 경제통상연구부장 신성원△ 기획부장..'\n",
            " '김호성 원자력문화재단 이사장 (사회)\\n\\n장순흥 한동대 총장\\n\\n김학노 원자력연구원 전략사업 부원장\\n\\n이희용 한국전력 원자력발전소수출 본부장\\n\\n지난 2010년 10월 시작된 한미원자력협정 개정 협상이 첨예한 논의 끝에 4년 반 만인 지난 22일 타결됐다. 1956년 한미원자력협정을 체결한 이후 반세기 동안 한국의 원자력 산업은 급속도로 발전, 세계 5위의 원자력 ..']\n",
            "\n",
            "\n",
            "==================================================================================\n",
            "\n",
            "\n",
            "토픽       22: 토픽 개수      787, 전체 퍼센트    2.517%\n",
            "0         북한\n",
            "1         건설\n",
            "2         추진\n",
            "3        대통령\n",
            "4        문재인\n",
            "5       국민의힘\n",
            "6    산업통상자원부\n",
            "7         의혹\n",
            "8        청와대\n",
            "9         논란\n",
            "Name: #22, dtype: object\n",
            "['“원자력산업 강화” 건설 재개 소신 靑, 재반박하며 경고장\\n\\n\\n송영길 더불어민주당 의원이 제기한 탈원자력발전소 논란이 집안싸움으로 번질 조짐을 보이고 있다. 청와대의 경고에 한발 물러서는 듯했던 송 의원이 하루 만에 청와대 입장을 반박했고, 청와대는 송 의원의 주장을 재반박하며 설전을 벌였다. \\n일각에선 지난해 8월 전당대회 당대표 경선에서 차점으로 탈락한 ..'\n",
            " '국민의힘 초선 의원들이 1일 북한 원자력발전소 지원 의혹과 관련해 청와대와 여당 등을 비판하면서 ‘집단적 조현병’이라고 빗대 논란이 일고 있다. 정치권이 비판 발언을 내놓을 때 장애나 병에 빗대는 잘못된 언어 습관으로 지난해 여야 정치인들이 연이어 국가인권위원회의 권고를 받았음에도 전혀 시정되지 않고 있다는 지적이 나온다.\\n국민의힘 초선 의원 31명은 이날 ‘..'\n",
            " '산업통상자원부가 1일 오후 내부문건인 ‘북한지역 원자력발전소건설 추진방안’ 원문을 전격 공개했다. 정치권을 중심으로 북한 원자력발전소 건설과 관련한 논란이 확산되자 문건 공개를 통해 조기 진화에 나선 것이다. 문재인 대통령은 이에 앞선 이날 오전 북한 원자력발전소 건설과 연관된 의혹 공세를 펴는 야당을 향해 “구시대의 유물 같은 정치”라며 작심 비판하고 나섰다. \\n산업통상자원부는 ..'\n",
            " '전문가 명단 등 구체계획 포함 \\n\\n‘집행’을 염두에 둔 단계 정황 \\n\\n60년간 연간 2조원 비용 들어 \\n\\n“부처 자체적 아이디어였다면 \\n\\n실무자들은 파일을 왜 지웠나”\\n\\n\\n\\n산업통상자원부가 북한 원자력발전소 건설 추진 문건과 관련해 ‘아이디어 차원 검토’라고 해명했지만 삭제 파일 중에는 2개 버전의 ‘북한 지역 원자력발전소건설 추진방안’ 파일과 ‘한반도에너지개발기구(..'\n",
            " '金 “120조 북한 원자력발전소 초대형 프로젝트를 \\n공무원의 습작? 범죄행위 할 이유가 없다” \\n“회담 후 김정은 경수로 점검이 우연이냐” \\n“산업통상자원부 삭제된 자료 전부 공개하라” \\n산업통상자원부 “아이디어 차원서 검토 후 종결” \\n \\n김태년, ‘북한 원자력발전소 의혹제기’ 金 연일 비난 \\n산업통상자원부 월성감사 직전 삭제 530건 중 \\n원자력발전소 내부 자료에 ‘북한 원자력발전소 추진’ 포함 \\n20..'\n",
            " '산업통상자원부 공무원들이 2019년 12월 감사원의 월성 원자력발전소(原電) 1호기 감사 직전 삭제한 530개 파일 목록이 공개됐다. 본지가 입수한 공소장에 따르면 삭제 파일 중엔 2018년 작성된 ‘북한 원자력발전소 건설 및 남북 에너지 협력’ 관련 문건 파일이 다수 포함된 것으로 드러났다. \\n \\n◇북한 원자력발전소 파일 핀란드어로 저장 “외부 공개되지 않도록 보안 신경쓴..'\n",
            " '박근혜 대통령은 11일 전두환ㆍ노태우 전 대통령의 추징금 미납과 관련해 \"과거 정부는 무엇을 했는지 묻고 싶다\"고 말했다.\\n박근혜 대통령은 이날 청와대에서 국무회의를 주재하면서 \"문제가 되고 있는 전직 대통령 추징금 문제도 과거 10년 이상 쌓여온 일인데 역대 정부가 해결을 못하고 이제서야 새 정부가 의지를 갖고 해결하려고 하고 있다\"며 이같이 말했다. 박..'\n",
            " '북한 원자력발전소 건설 추진 보고서와 관련, 산업통상자원부는 “구체적인 계획 없는 아이디어 차원의 다양한 가능성을 기술하고 있다”고 강조했다. 그러나 보고서에 나온 추진방안 등은 상당히 구체적이라는 게 관가(官街) 의 평가다. \\n \\n 2일 산업통상자원부 등 주요 경제부처에 따르면 산업통상자원부가 전날 공개한 ‘북한 지역 원자력발전소 건설 추진 방안’ 보고서는 2018년 4월..'\n",
            " '원자력 발전소 때문에 일본이 떠들썩하다. 고이즈미 준이치로 전 총리는 원자력발전소 폐쇄를 주장했다. 원자력 발전소를 적극적으로 이용하자던 생각은 핀란드 사용후핵연료 최종처분장을 둘러보면서 바뀌었다. 원자력발전소 마피아로 불리는 세력이 원자력은 싸다고 주장하지만 고이즈미 전 총리는 안전신화를 전제로 한 허구라고 반박했다.\\n\\n\\n\\n원자력발전소 마피아를 파헤친 소설 <원발(原發 ..'\n",
            " '정부의 \\'북한 원자력발전소건설 추진\\' 의혹을 둘러싼 정치권의 공방이 격화일로를 걷고 있다. \\n \\n 국민의힘은 \"제2의 대북송금 사건\" \"원자력발전소 대북상납\"이라고 규정하고 총공세에 나섰고, 더불어민주당은 \"보궐선거를 염두에 둔 망국적 색깔론\"이라고 역공을 가했다. \\n \\n 국민의힘은 31일 문재인 대통령을 향해 진상규명을 요구하며 당 차원의 진상규명위를 설치하기로 하..'\n",
            " '산업통상자원부가 ‘북한 원자력발전소 건설’ 문건을 공개하면서 추측성 의혹이 상당 부분 해소됐지만 아직 남은 의문이 있다. 어느 선까지 보고된 ‘내부 문서’냐는 문제가 남았다. 지시 자체는 청와대가 출발선으로 보인다. 지시로 만들어진 문건이라면 윗선에 보고가 됐을 수밖에 없다는 상식적 추론이 가능하다. 보고가 어느 선까지 올라갔냐에 따라 문건의 무게가 달라진다...'\n",
            " '안철수 국민의당 대표는 30일 김종인 국민의힘 비상대책위원장의 ‘이적 행위’ 발언에 청와대가 법적 조치를 거론한 데 대해 “야당의 정당한 문제제기에 법적조치 운운하는 건 참으로 졸렬하다”며 “그만큼 뒤가 구리고 도둑이 제 발 저려하는 모습”이라고 했다. 최근 김 위원장과 야권 단일화 문제를 놓고 치열한 신경전을 벌이고 있으나, 청와대 비판엔 공동 전선을..'\n",
            " '국민의힘 김종인 비상대책위원장이 정부가 북한에 원자력발전소를 지어주기로 했다는 의혹을 제기하며 “이적 행위”라고 비판하자 청와대가 강하게 반발하면서 법적 대응을 예고했다. 2019년 감사원의 월성 원자력발전소 1호기 감사 직전 산업통상자원부 공무원들이 삭제한 파일에 공교롭게도 2018년 1, 2차 남북정상회담 사이 작성된 ‘북한 원자력발전소 건설’ 관련 파일 제목들이..'\n",
            " '국민의힘이 ‘북한 원자력발전소건설 추진 의혹’에 대한 국회 국정조사를 공식 요구했으나 더불어민주당은 이를 거부했다.\\n국민의힘 주호영 원내대표는 1일 원내대표 정례회동 모두발언에서 “판문점회담 이후 문건이 작성되고 산업통상자원부에서 지운 배경에 비춰보면 국민적 동의 없이 북한에 원자력발전소을 지어주려는 계획이 있었던 것 아닌가”라며 국회 국정조사를 제안했다.\\n그러자 민..'\n",
            " '국가 권력과 직결되는 의도적 거짓 정보부터 특정인을 겨냥한 악의적 험담에 이르기까지, 가짜뉴스(교묘한 왜곡 보도)가 사회관계망서비스(SNS)를 통해 전광석화처럼 퍼지며 범람한다. 악의도 없고 특별한 피해도 야기하지 않는 가짜뉴스라면 만우절의 장난 정도로 봐 준다지만, 작금의 가짜뉴스는 건전한 사회적 신뢰를 파괴하고 서로 증오하게 하는 암적 존재에 다름 ..'\n",
            " '연일 최대 전력수요가 급증하면서 문재인 정부의 탈원자력발전소 정책을 둘러싼 논란이 또다시 확산되고 있다. \\n 문재인 대통령이 24일 국무회의에서 최근 전력수급 상황과 원자력발전소 가동 상황을 왜곡하는 주장이 있다고 발언하면서 논란은 더욱 뜨거워지고 있다. 전력수요가 급증하자 정부가 원자력발전소를 재가동해 이를 충당하고 있는 건지, 정부의 수요 예측이 틀린 건지 점검해..'\n",
            " '김종인 국민의힘 비상대책위원장이 제기한 ‘북한 원자력발전소 건설 추진 의혹’이 모든 이슈를 덮어버리는 정쟁의 블랙홀이 되고 있다. 김 위원장이 지난 29일 ‘월성원자력발전소 경제성 조작 및 공문서 불법파기 사건’의 공소장을 근거로 “문재인 정부가 북한에 극비리에 원자력발전소을 지어주려 했다”며 “충격적인 이적행위”라고 비난했다. 그 뒤 국민의힘은 연일 문재인 대통령을 겨냥한..'\n",
            " '정부세종청사 산업통상자원부 원자력발전소산업정책과 모습. 뉴시스 국민의힘은 31일 문재인 정부가 북한에 원자력발전소을 지어주려 했다는 의혹과 관련해 “문재인 대통령이 직접 답변하라”고 촉구했다. \\n \\n 김은혜 대변인은 이날 논평에서 “이 모든 사태의 의문을 풀어줄 사람은 문재인 대통령밖에 없다”며 이같이 말했다. \\n \\n 김 대변인은 “NPT(핵확산금지조약) 탈퇴 이후 ..'\n",
            " '정부가 북한에 원자력발전소를 지어 주려 했다는 의혹과 관련해 여권 관계자가 “신재생에너지, 화력발전소와 관련한 구상이 북한에 전달된 적은 있지만 원자력발전소은 전혀 아니다”라는 취지로 일축했다.\\n2018년 4ㆍ27 남북정상회담에 긴밀히 관여한 여권 핵심 인사 A씨는 31일 한국일보와 통화에서 이 같이 설명했다. 그는 “문재인 대통령이 2015년 새정치민주연합 ..'\n",
            " 'USB, 도보다리 회담 아닌 환담장서 전달 \\n조한기 “전 세계 생중계 왜곡 기가 찰 뿐” \\n윤건영 “원자력발전소 의제에 없어 야당이 소설 써” \\n김종인 “정상회담 성사 보답 의구심 든다”산업통상자원부 직원들이 북한 원자력발전소 관련 파일을 삭제한 것을 두고 야당은 연일 청와대의 비밀 원자력발전소 지원 의혹이 드러났다고 주장하고 있다. 북한에 대한 국민 감정이 악화된 상황에..']\n",
            "\n",
            "\n",
            "==================================================================================\n",
            "\n",
            "\n",
            "토픽       23: 토픽 개수      795, 전체 퍼센트    2.543%\n",
            "0       비리\n",
            "1       부품\n",
            "2       위조\n",
            "3       업체\n",
            "4       납품\n",
            "5       검찰\n",
            "6    시험성적서\n",
            "7      케이블\n",
            "8       수사\n",
            "9      수사단\n",
            "Name: #23, dtype: object\n",
            "['산업통상자원부는 원자력 발전소 부품 시험성적서 위조 사태의 책임을 물어 김균섭(63) 한국수력원자력 사장을 6일 자로 면직해 달라고 박근혜 대통령에게 제청하기로 했다고 연합뉴스가 이날 밝혔다.한국수력원자력 사장의 임면권자는 대통령이며 산업통상자원부 장관이 임명 면직을 제청한다. 한국수력원자력은 새 사장을 선임할 때까지 7일부터 전용갑 부사장의 직무대행 체제로 운영될 ..'\n",
            " '“원자력발전소 감사를 나가면 ‘안전규정이나 시험성적서 등 관련 자료가 워낙 많아서 이것만 태워도 발전소 하나는 돌리겠다’는 얘기가 자연스럽게 튀어나온다.”\\n\\n감사원 관계자의 말이다. 원자력발전소 1기에 들어가는 부품만 수백만개에 달한다. 여기에 관련된 납품 업체도 2000개에 육박한다. 들춰 봐야 할 서류가 어느 정도인지 예측조차 어렵다. 워낙 검증할 것이 많..'\n",
            " '현대중공업그룹이 21일 10대 그룹 가운데 가장 먼저 연말 정기 사장단 인사를 단행했다.\\n 현대중공업은 이재성 현대중공업 사장(사진)을 회장으로 승진 발령했다. 이 신임 회장은 2009년 부사장에서 사장으로 승진한 이후 4년 만에 회장 자리에 오르게 됐다. 현대중공업은 또 김외현 조선 해양부문 사장을 조선 해양 플랜트사업 총괄사장으로 바꾸고, 김정래 현..'\n",
            " '김종신(67) 전 한국수력원자력 사장이 원자력발전소 냉각수 관련 업체로부터 억대 금품을 받은 혐의로 구속됐다. 부산지방검찰청 동부지청 원자력발전소비리수사단(단장 김기동 지청장)은 7일 원자력발전소설비업체 H사 대표 L씨(76)로부터 “원자력발전소 납품과 관련한 편의를 봐 달라”는 청탁과 함께 1억원 상당의 금품을 받은 혐의(뇌물수수)로 김 전 사장을 구속했다. 지난 4일 ..'\n",
            " '한국수력원자력(이하 한국수력원자력)이 울산 신고리원자력발전소원자력발전소 원자력발전소 3 4호기에 불량 케이블을 납품한 JS전선을 상대로 손해배상 청구소송을 제기하기로 했다. \\n \\n조석 한국수력원자력 사장은 4일 “다시 원자력발전소 비리가 발생하지 않도록 하기 위해 소송하지 않을 수 없는 상황”이라며 “소송액과 제기시점은 결정되지 않았다”고 밝혔다. \\n \\n신고리원자력발전소원자력발전소 3 4호기의 케이블 전량 교체비용 ..'\n",
            " '원자력발전소비리를 자수하거나 제보하면 형사처벌이 감면된다. \\n \\n대검찰청찰청은 9일 부산지방검찰청 동부지청 원자력발전소비리 수사단과 함께 ‘원자력발전소비리 제보자(신고자) 보호 및 자수자 형 감면 방안’을 시행키로 했다고 밝혔다. \\n \\n검찰은 자수자의 자수 내용과 수사 기여도에 따라 불입건, 불기소, 불구속, 구속취소 등의 결정을 내리고 부득이하게 입건하는 경우에도 정상을 참작해 가..'\n",
            " '대기업인 (주)효성도 원자력발전소 부품의 시험성적서를 위조해 납품한 것으로 드러났다.\\n\\n부산지방검찰청 동부지청 원자력발전소비리수사단은 효성의 일반 직원 2명을 사문서 위조 등의 혐의로 구속했다고 27일 밝혔다. 시험성적서를 위조한 대기업은 LS전선에 이어 효성이 두 번째다. 특히 효성이 납품한 부품은 원자력발전소의 안전과 직결되는 안전성(Q) 등급이다.\\n\\n이들 직원은 2010~2..'\n",
            " '원자력발전소 케이블 시험성적서뿐 아니라 제어봉 위치전송기 등의 시험성적서도 위조된 것으로 드러났다. 이 과정에서 시험성적서 승인 기관 간부들이 검증 업체로부터 수천만원어치의 골프 접대를 받는 등 원자력발전소비리 고리원자력발전소들이 하나씩 확인되고 있다. \\n \\n부산지방검찰청 동부지청 원자력발전소비리수사단(단장 김기동 지청장)은 새한티이피 이모(36 구속) 차장이 2010년 신고리원자력발전소원자력발전소 3 4호기에..'\n",
            " '검찰이 국내 최대 전선업체인 엘에스(LS)전선㈜이 원자력발전소 케이블 등을 납품하면서 가격을 짬짜미(담합)한 혐의를 잡고 엘에스전선 본사를 압수수색했다. 검찰이 원자력발전소비리와 관련해 대기업 본사를 압수수색한 것은 지난달 10일 현대중공업에 이어 엘에스전선이 두번째다.\\n 검찰 원자력발전소비리 수사단(단장 김기동 부산지방검찰청 동부지청장)은 18일 엘에스전선 본사 압수수색을 통해..'\n",
            " '원자력발전소 부품 시험성적서 위조 사건으로 문제가 된 한국수력원자력(한국수력원자력) 신임 사장에 조석 전 지식경제부 2차관(56 사진)이 선임됐다.\\n한국수력원자력은 17일 서울 강남구 삼성동 서울사무소에서 주주총회를 열고 조 전 차관을 신임사장으로 선임했다고 밝혔다. 원자력발전소부품 시험성적서 위조 사건으로 지난 6월 김균섭 전 사장이 물러난 지 3개월여 만에 사장 공백상태..'\n",
            " '한국수력원자력(한국수력원자력)을 상대로 정부가 그 동안 실시했던 감사가 상당기간 ‘형식적’으로 진행돼 최근 불거진 원자력발전소비리를 사실상 방조한 게 아니냐는 논란이 일고 있다. 원자력발전소비리 사건이 드러나기 전에는 경징계가 대부분이었으며 심지어 감사원은 이번 시험성적서 위조사건이 발생했던 시기 직후 한국수력원자력을 상대로 감사를 한 뒤 공적 표창까지 준 것으로 확인됐다.관련기사..'\n",
            " '대법원원 1부(주심 김용덕 대법원관)는 13일 원자력발전소 납품비리 혐의로 기소된 엄모(53) JS전선 고문에게 징역 10년을 선고한 원심을 확정했다. 엄 고문은 2008년 신고리원자력발전소원자력발전소 1 2호기와 신월성 1 2호기 제어 케이블, 2010년 신고리원자력발전소원자력발전소 3 4호기 제어 케이블 등의 시험성적서를 각각 위조해 납품하고 182억원을 편취한 혐의로 재판에 넘겨졌다. \\n \\n ..'\n",
            " '공정거래위원회는 원자력발전소용 부품 구매 입찰에서 8년간 담합해 온 효성, 현대중공업 등 5개 사업자에 시정명령과 함께 11억5300만원의 과징금을 부과하고 5개 법인을 검찰에 고발했다고 16일 밝혔다.\\n공정위에 따르면 이들은 2005년 4월부터 지난해 4월까지 한국수력원자력이 발주한 원자력발전소용 전동기 구매입찰 128건에서 낙찰사와 들러리를 미리 정한 뒤,..'\n",
            " '한국수력원자력(한국수력원자력) 고위 간부 퇴직자들이 원자력발전소 설계부터 건설 정비 품질 안전 검사와 관련된 업체들에까지 전방위로 재취업해왔던 것으로 드러났다. 원자력발전소 관련 일거리를 주는 한국수력원자력 출신의 퇴직자들이 협력업체에 재취업하는 것은 오래된 관행으로 원자력발전소 비리의 고질적인 원인으로 꼽혀왔지만 제대로 공개되지 않아왔다. \\n 4일 가 확인한 ‘한국수력원자력 퇴직자 재취..'\n",
            " '부산지방검찰청 동부지청 원자력발전소비리수사단(단장 김기동 지청장)은 15일 특경법상 사기 및 뇌물수수 혐의로 이종찬(57) 한국전력 해외부문 부사장을 구속했다. 이 부사장은 2008년 JS전선이 부산 기장군 신고리원자력발전소원자력발전소 1, 2호기 등에 납품한 케이블의 시험성적서 위조에 공모한 혐의다. JS전선 제품은 당시 성능 시험에서 거듭 불합격됐으나 위조한 시험성적서를 제출해 납품..'\n",
            " '한국수력원자력, 안전한 원자력발전소운영 위한 청렴 서약\\n 한국수력원자력은 15일 서울사무소에서 간부 50여명이 참여한 가운데 안전하고 투명한 원자력발전소운영을 위한 청렴경영인 임명패 수여식을 개최했다. 참석자들은 청렴서약서에 법과원칙 준수, 공익 우선, 지위와 권한남용 금지, 금품과 향응 수수금지, 부당간섭 배제 등 5대 실천과제를 명시했다.\\n \\n 문체부, 관광업계 720억..'\n",
            " '대기업인 LS전선도 원자력발전소 부품의 시험 성적서를 위조해 납품한 것으로 드러났다.\\n\\n부산지방검찰청 동부지청 원자력발전소비리 수사단은 14일 사기 등 혐의로 전 LS전선의 차장 조모씨(52)와 전 직원 황모씨(51)를 불구속 기소했다.\\n\\n조씨 등은 2006년 8월 하청업체인 ㅂ사가 공급한 냉각수 공급용 냉동기의 씰링(밀봉) 어셈블리 시험 성적서를 다른 하청업체인 ㅇ사 명..'\n",
            " '한국수력원자력은 조석 전 차관 유력공석이던 일부 발전사들의 신임 사장 윤곽이 드러나고 있다. 원자력발전소 부품 시험성적서 위조 사건으로 김균섭 전 사장이 물러나면서 공석이 된 한국수력원자력(한국수력원자력)의 차기 사장 후보는 4명으로 압축됐다.조석 전 지식경제부 차관, 안남성 현 현 에너지기술평가원장, 김기학 현 한전원자력연료 사장, 강승철 전 석유관리원 이사장 등이다. 이..'\n",
            " '구자열(사진) LS그룹 회장은 8일 원자력발전소 비리사태와 관련, “임직원 모두가 유구무언의 심정으로 통렬히 반성하고 사죄해야 한다”고 강조했다. 구 회장은 이날 안양 LS타워에서 열린 ‘LS그룹 창립 10주년 기념행사’에서 “원자력발전소 부품 시험성적서 조작과 담합으로 국민과 정부에 불편을 끼쳤다”며 “출범한 지 10년이 되는 현재, 이토록 참담하고 부끄러운 날은 ..'\n",
            " '건설 초기 단계인 신한울원전원자력발전소(울진) 원자력발전소 1 2호기에도 시험성적서 등 품질서류가 제대로 갖춰지지 않은 ‘불량부품’이 납품된 것으로 확인됐다. \\n \\n한국수력원자력은 신한울원전원자력발전소 1 2호기에 설치될 부품인 열교환기 튜브시트에 품질서류 미비 등 문제점이 발견돼 지난 3일 반품 조치했다고 11일 밝혔다. 신한울원전원자력발전소 1 2호기의 현재 공정률은 38%다. \\n \\n열교환기..']\n",
            "\n",
            "\n",
            "==================================================================================\n",
            "\n",
            "\n",
            "토픽       24: 토픽 개수     1186, 전체 퍼센트    3.794%\n",
            "0        오염수\n",
            "1       후쿠시마\n",
            "2         방류\n",
            "3         해양\n",
            "4         결정\n",
            "5    국제원자력기구\n",
            "6         방출\n",
            "7         국제\n",
            "8         바다\n",
            "9         문제\n",
            "Name: #24, dtype: object\n",
            "['대학생기후행동이 14일 서울 종로구 일본외교관관 앞에서 일본의 후쿠시마 오염수 방출 규탄 기자회견을 열고 퍼포먼스를 하고 있다. 2021. 4. 14\\n박윤슬 기자 seul@seoul.co.kr'\n",
            " '“오염수, 조만간 방류 결정이 내려질지도 몰라요.” \\n \\n 최근 만난 소식통으로부터 후쿠시마 제1원자력발전소 내 쌓여 있는 오염수를 바다로 방류하는 결정이 ‘머지않았다’는 말을 들었다. 그는 오염수 처리 총괄 부서인 경제산업성과 외무성의 내부 사정에 밝은 인물이다. \\n \\n 그는 얼마 전까지만 해도 “당분간 움직임은 없을 것”이라고 했다. 제1원자력발전소을 소유한 도쿄..'\n",
            " '과학기술정보통신부는 코넬 페루타 국제원자력기구(국제원자력기구)가 후쿠시마 원자력발전소 오염수 문제를 원자력 안전과 관련한 다른 모든 사안처럼 비중있게 다루고 있음을 밝혔다고 19일 발표했다.\\n\\n 오스트리아 빈에서 열리고 있는 제63차 국제원자력기구 총회에 참석한 문미옥 과학기술정보통신부 1차관과 엄재식 원자력안전위원회 위원장은 17일(현지시각) 코넬 파루타 국제원자력기구 사무총장 대..'\n",
            " '일본 정부는 4월 13일 후쿠시마 원자력발전소 오염수를 2년 후부터 해양에 방류하겠다고 결정했다. 일본 정부는 방사성 물질 수치와 농도를 국제 기준 미만으로 낮춘 후 방출하면 과학적으로 문제가 없다는 입장이다. 여론조사 결과 양국 국민 모두 일본 정부의 주장을 완전히 신뢰하지는 않았다. 그런데 한국인은 대부분이 불신하는 반면 일본인은 반반이었다.\\n후쿠시마 제1..'\n",
            " '일본 정부가 후쿠시마(福島) 원자력발전소 오염수의 해양 방류를 검토 중인 데 대해 한국 정부가 이를 막기 위한 국제 여론전에 나선다. \\n 해양수산부는 오는 7일(현지시간) 열리는 ‘런던협약 의정서 당사국 총회’에 대표단을 파견하고 일본의 후쿠시마 원자력발전소 오염수 처리 문제를 국제적으로 공론화할 계획이라고 6일 밝혔다. 총회는 영국 런던의 국제해사기구(IMO Int..'\n",
            " '후쿠시마 제1원자력발전소 부지 내에 늘어서 있는 오염수 보관용 물탱크들의 모습. 삼중수소를 제외한 다른 방사성 물질을 제거한 오염수를 보관하는 용도다. 사진은 2017년 촬영된 것이다. 후쿠시마원자력발전소 공동 취재단 일본 정부의 환경 담당 각료가 후쿠시마(福島) 원자력발전소의 오염수 처리 방법에 대해 바다에 방류할 수밖에 없다고 밝혀 논란이 예상된다. \\n \\n 11일 지지통..'\n",
            " '일본 정부가 현지 어민들의 반발에도 불구하고 후쿠시마(福島) 제1원자력발전소 해양 방류 방침을 고수하고 있다. \\n \\n 28일 마이니치 신문에 따르면 후쿠시마 제1원자력발전소을 운영하는 도쿄전력은 전날 후쿠시마 이와키(いわき)시에서 어업협동조합연합회 소속 조합장을 대상으로 회의를 열었다. \\n \\n 회의에는 후쿠시마 제1원자력발전소 폐로 추진 컴퍼니의 오노 아키라(小야당明)..'\n",
            " '일본 정부는 후쿠시마 제1원자력발전소사고로 발생한 다량의 방사성 물질 오염수를 바다에 배출하기로 했다.\\n\\n13일 연합뉴스에 따르면 일본 정부는 후쿠시마 제1원자력발전소 탱크에 보관 중인 오염수를 해양에 방출한다는 계획을 담은 ‘처리수 처분에 관한 기본 방침’을 13일 관계 각료 회의에서 결정했다고 일본 언론들이 보도했다.\\n\\n배출 전에 다핵종제거설비(ALPS) 등으로 ..'\n",
            " '일본 정부가 최근 후쿠시마 원자력발전소 오염수 해양 방류를 결정한 가운데 제주도가 단계별 대응을 계획을 세웠다. 제주도의회는 결의안을 채택하고, 수산 관련 단체들은 항의집회를 열었다.\\n\\n도가 20일 마련한 단계별 대응 계획을 보면, 지금부터 방류 예정 6개월 전까지를 1단계(관심)로 설정해 대책반을 구성하고 현재 해양수산부가 운영하는 감시체계를 이용한 모니터링..'\n",
            " '일본 마이니치신문의 15일자 기사. 마이니치신문 홈페이지 캡처 \\n 일본 정부가 후쿠시마(福島) 제1원자력발전소 오염수의 방사성 물질 농도를 기준 이하로 낮춘 뒤, 바다에 방류하는 방침을 굳힌 것으로 알려졌다. 일본은 오염수를 ‘처리수’라고 주장한다. \\n \\n 일본 마이니치신문은 정부 관계자의 발언을 인용, 일본 정부가 이달 중 후쿠시마 제1원자력발전소의 폐로와 오염수 ..'\n",
            " '■ 현안 인터뷰 - 문성혁 해양수산부 장관\\n\\n\\n\\n한진해운 파산 국면서 등판\\n\\n2년 5개월째 해수부 이끌어\\n\\n\\n\\n2045년 어촌 80% 소멸 우려\\n\\n6조원 들여 인력유인 등 노력\\n\\n\\n\\n연내 ‘탄소중립 로드맵’ 수립\\n\\n내년 관련 예산도 30% 늘려\\n\\n\\n\\n후쿠시마 방류 대비 TF구성\\n\\n조사 지점수 횟수 늘려 대응\\n\\n\\n\\n박수진 기자, 정리 = 이정우 기자\\n\\n\\n..'\n",
            " '일본이 국제적 비난에도 불구하고 후쿠시마 제1원자력발전소에 보관하고 있는 방사능 오염수를 해양에 방류하겠다고 결정했다. 후쿠시마 오염수 방류가 문제가 되는 이유는 무엇이고, 가장 우려되고 있는 삼중수소의 정체, 수산물에 미치는 영향 등 궁금증을 풀어봤다.\\nQ. 후쿠시마 오염수에는 어떤 방사능 물질이 있을까?\\nA. 2011년 3월 동일본 대지진의 여파로 후쿠시마..'\n",
            " '여권이 윤석열 전 검찰총장의 \\'일본 후쿠시마 오염수 발언\\'에 대해 \"일본 극우 세력의 주장\"이라고 공세 하자, 윤 전 총장 측은 \"지난해 국정감사에서 강경화 외교부 장관의 답변을 지적한 것\"이라고 해명했다. \\n \\n 7일 윤 전 총장 측 대변인은 \"윤 전 총장의 \\'크게 문제 삼지 않았다\\'는 발언은 지난해 10월 26일 국정감사에서 외교부 장관이 일본의 오..'\n",
            " '중국이 일본 원자력발전소의 오염수 해양 방류 문제와 관련, 한국 해양수산부의 최근 조치를 지지한다고 밝혔다. 앞서 문성혁 해수부 장관은 일본의 후쿠시마 원자력발전소 오염수 해양 방류 결정과 관련해 국제해사기구(IMO)에 \"국제원자력기구(국제원자력기구)와의 협력 방안을 검토해 달라\"는 내용의 서한을 발송했다. \\n \\n 자오리젠(趙立堅) 중국 외교부 대변인은 17일 정례..'\n",
            " '부산시의회가 일본 정부의 후쿠시마원자력발전소 방사능 오염수 해양 방류 결정을 규탄했다.\\n\\n 부산시의회는 26일 제296회 임시회 1차 본회의에서 ’일본 후쿠시마원자력발전소 오염수 해양 방류 결정 전면 철회 촉구 결의안’을 참석자 모두의 찬성으로 통과시켰다.\\n\\n 결의안에서 부산시의회는 “일본 정부는 후쿠시마원자력발전소 방사능 오염수 해양 방류 결정을 즉각 철회하고 후쿠시마원자력발전소..'\n",
            " '마이니치 “日정부, 원자력발전소 방류 방침 굳혀” \\n오는 27일 日각료 회의 열어 방류 확정원희룡 제주도지사가 오는 27일 일본이 2011년 후쿠시마 원자력발전소 폭발사고 당시 원자로 내 핵연료를 식히면서 만들어진 원자력발전소 오염수를 바다에 방류하면 국내외 재판소에 소송을 내겠다고 20일 밝혔다. 일본은 매일 160t 이상 발생하는 원자력발전소 수를 더는 육지에 보관할 수 없다며..'\n",
            " '내부회의에서 “日 오염수 방류, 국제해양법재판소 제소 검토”\\n\\n\\n\\n문재인 대통령은 14일 아이보시 고이치(相星孝一) 주한 일본외교관를 만나 일본 정부의 후쿠시마(福島) 원자력발전소 오염수 해양 방류 결정에 대한 우려를 전달했다. \\n\\n \\n\\n문 대통령은 이날 아이보시 외교관의 신임장 제정식 직후 가진 환담에서 “이 말씀을 안 드릴 수 없다”면서 “일본의 원자력발전소 오염수 ..'\n",
            " '한국수력원자력(주) 월성원자력본부는 5일 경주시 양남면 하서리 인근 연안에서 원자력발전소 온배수를 이용해 양식한 강도다리 치어 10만 마리와 전복치패 9만미를 방류했다. \\n \\n이날 방류한 어 패류는 1억7000만원 상당으로 원자력발전소 인근 해양 어족자원 조성 및 어민들의 소득증대에 크게 기여할 것으로 기대된다. \\n \\n월성원자력발전소은 1999년부터 참돔, 돌돔, 우럭, 전..'\n",
            " '일본 후쿠시마 제1원자력발전소. 후쿠시마=가타노다 히토시(폴라리스 이미지) 일본 정부가 13일 도쿄전력 후쿠시마(福島) 제1원자력발전소 오염수의 해양 방출 결정을 할 것으로 알려져 긴장이 고조되고 있다. 11일 NHK, 교도통신 등에 따르면 일본 정부는 후쿠시마 제1원자력발전소 오염수의 해양 방출 방침을 굳히고 13일 관계 각료회의를 열어 공식 결정할 전망이다..'\n",
            " '지역 소득의 절반 이상을 어업에서 얻는 경북 울릉군이 일본 정부의 후쿠시마 원자력발전소 오염수 방류 결정에 철회를 촉구하며 강력 반발했다. \\n울릉군은 13일 보도자료를 내고 “일본이 후쿠시마 원자력발전소 오염수를 방류하면 동해 유일의 도서지방인 울릉도와 독도 주민들이 주소득인 수산물 채취 및 유통에 막대한 피해를 입는다”며 “일본 정부는 후쿠시마 원자력발전소 오염수를 바다로..']\n",
            "\n",
            "\n",
            "==================================================================================\n",
            "\n",
            "\n",
            "토픽       25: 토픽 개수     1134, 전체 퍼센트    3.627%\n",
            "0      가동\n",
            "1    한빛원전\n",
            "2      정지\n",
            "3     원자로\n",
            "4      발전\n",
            "5      수급\n",
            "6      중단\n",
            "7      수요\n",
            "8      고리\n",
            "9      정비\n",
            "Name: #25, dtype: object\n",
            "['지난 6일 한울원전 원자력발전소 1 2호기가 해양생물 ‘살파’의 유입으로 발전을 멈췄다. 지난달 22일에 이어 15일 만이다. 지난해 가을 태풍에 원자력발전소 6기가 멈춰섰는데, 기후변화의 영향으로 해양 대기 상황이 달라지면 원자력발전소의 불안정성이 커질 수 있다는 우려가 나온다. \\n\\n지난 22일 살파가 대량으로 원자력발전소 취수구로 유입되면서 한울원전 1호기 터빈이 멈추고 한울원전 2호기는..'\n",
            " '오는 5일부터 전력난이 절정에 달해 전력위기가 본격화될 전망이다. 장마 후 불볕더위가 예보된데다 산업계의 여름휴가도 끝나면서 다음 주부터 8월 셋째 주까지 올여름 전력위기의 고비가 될 것이라는 분석이다. \\n\\n이에 따라 예비전력을 확보하기 위한 전력 수급 대책마련에 들어간 전력당국에 비상이 걸렸다. 그동안 원자력 발전소 가동 중지로 예견된 전력수급 위기가..'\n",
            " '문재인 대통령이 정부의 탈원자력발전소 기조에 대한 일각의 지적에 “폭염으로 인한 전력수요가 급증하고 있어 이에 대한 우려와 함께 원자력발전소 가동사항을 터무니없이 왜곡하는 주장이 있다”며 “산업통상자원부가 전체적인 전력 수급계획과 전망, 그리고 대책에 대해 소상히 국민들께 밝혀달라”고 강조했다. \\n \\n 문 대통령은 24일 오전 ‘제32회 국무회의’를 주재하고 “정부가 폭염 ..'\n",
            " '일본 내 48개 원자력발전소이 가동을 정지한 지 15일로 1년이 됐다. 일본에서 원자력 발전이 시작된 1966년 이후 처음으로 ‘원자력발전소 제로’ 상태로 여름 전력 수요 피크를 넘기며 탈원자력발전소 가능성을 입증했다는 평가를 얻었다. 하지만 정부가 원자력발전소 재가동을 위한 절차를 진행하고 있어 원자력발전소을 둘러싼 갈등은 증폭될 것으로 보인다.\\n\\n일본은 지난해 9월 15일 후쿠이현의 ..'\n",
            " '경북 울진군 북면 부구리 한울원전원자력발전소 5호기(100만kW급 가압경수로형) 가동이 정지됐다. \\n \\n한국수력원자력㈜ 한울원전원자력본부는 5일 오후 6시11분 한울원전원자력발전소 5호기가 원자로 냉각재 펌프 이상으로 원자로 보호 신호가 작동하면서 가동이 정지됐다고 밝혔다. 한울원전원자력발전소 측은 “원자로 안에 설치된 원자로 냉각재 펌프 4대 중 2대가 멈춰 자동으로 원자로가 정지됐다”..'\n",
            " \"원자력발전소 부품 중견업체 '우리기술'은 원자로 내부가 과열되면 자동으로 원자력발전소 가동을 정지(셧다운)시키는 감시제어시스템(MMIS)을 공급한다. MMIS는 원자력발전소 폭발을 막는 핵심 기술로, 사람으로 치면 '뇌신경'에 해당한다. 오(誤)작동 시 최악의 사태가 빚어질 수 있다. 과거 미국 웨스팅하우스가 공급했던 시스템을 우리기술이 국가 R&D(연구개발) 개발 예산을 ..\"\n",
            " '지난 2012년 11월 설계수명 30년을 채운 뒤 계속 운전하기로 한 경북 경주 월성원자력발전소 1호기 원자로가 재가동한 지 57일 만인 22일 오전 11시24분쯤 다시 정지했다. \\n \\n 한국수력원자력 월성원자력본부는 월성 1호기의 안전정지계통이 동작해 원자로가 멈췄다고 이날 밝혔다. 안전정지계통은 원자력발전소에 이상이 발생하면 자동으로 작동해 가동을 멈추게 하는 설..'\n",
            " '전력사정이 아슬아슬하다. 일부 지역 낮 최고 기온이 한때 40도에 육박하는 등 역대급 폭염이 나타나며 전력 사용량은 올 여름 들어 최대치를 경신했다. 폭염이 당분간 지속될 것으로 예보돼 이번 주에 전력수급 비상단계가 내려질 가능성도 크다. 전력당국은 가동 중단된 원자력발전소을 조기 재가동하는 등 대비하고 있지만 운영계획 등이 미흡했다는 지적을 피하기는 어려워 ..'\n",
            " '경북 경주의 신월성원자력발전소 2호기가 제1차 계획예방정비에 착수했다. \\n \\n한국수력원자력 월성원자력본부는 신월성원자력발전소 2호기(가압경수로형 100만㎾급)가 주요 설비 정비 및 연료교체 등을 위해 8일 오전10시에 발전을 중단하고 약 59일간 제1차 계획예방정비에 들어갔다고 밝혔다. \\n \\n신월성 2호기는 지난해 7월 24일 상업운전 시작 이후 321일간의 첫 주기..'\n",
            " \"예상했던 사고가 지난 16일 한빛원전 원자력발전소 3호기에서 발생했다. \\n\\n\\n \\n\\n\\n원자력발전소에 부적합한 합금인 '인코넬600' 재질을 사용한 증기발생기 세관(얇은관)이 손상되어 1차 계통의 냉각재가 2차 계통으로 시간당 15.3리터 정도 흘러들어간 사고다. 그 결과 2차 계통의 복수기에서 리터당 33만1520베크렐(Bq: 1초에 한 번 핵붕괴하는 방사성물질의 방사능 ..\"\n",
            " '태풍 마이삭이 덮친 한국수력원자력 고리원자력발전소원자력발전소 내 원자로 4기가 운영 중단됐을 뿐만 아니라 고리원자력발전소 1 2호기에선 비상 디젤발전기도 가동된 것으로 확인됐다. 비상 발전기가 가동됐다는 것은 내부 원자로에도 전력 공급이 불안정했다는 의미다. \\n \\n원자력안전위원회(원자력안전위원회) 한 관계자는 3일 “고장이 일어난 직후 사업자(발전소)가 실시간으로 원자력안전위원회에 보고를 했다”면서 “한국..'\n",
            " '전남 영광 지역 주민들과 환경단체 활동가 등 500여 명이 6일 오전 영광군 홍농읍 한빛원전원자력발전소 정문 앞에서 한빛원전원자력발전소 3호기 폐원자로 헤드 교체를 중지하라고 촉구하고 있다. 원자력발전소 당국은 한빛원전 3호기 원자로 헤드에 사용된 인코넬 600 재질이 고온 고압에서 부식과 균열에 취약하다고 판단해 크롬 함량 등을 강화한 인코넬 690 재질인 원자로 헤드로 이날..'\n",
            " '올여름 관공서의 사무실 냉방온도 하한선이 지난해와 같은 26도로 정해졌다. 2013년 수준(28도 이상)으로 제한하지 않아도 전력 수급에 문제가 없다고 판단해서다. 중동호흡기증후군(MERSㆍ메르스) 대응 의료기관을 비롯해 냉방 제한 예외 기관은 지난해보다 늘었다. 산업통상자원부는 2일 이런 내용의 여름철 전력수급 종합대책을 다음달 28일까지 시행한다고 ..'\n",
            " '원자력발전소 용량을 꾸준히 늘려왔던 스위스가 2029년 원자력발전소 가동 중단 여부를 놓고 내달 국민투표를 한다. 투표 결과에 따라 당초 2050년 원자력발전소 가동 중단 계획보다 20년 이상 앞당겨질 수 있다. \\n \\n31일(현지시간) 스위스 연방 정부에 따르면 2029년까지 스위스 안에 있는 5개의 원자력발전소 가동을 차례로 중단하는 내용을 담은 ‘점진적 원자력발전소 철거’안이 내달 2..'\n",
            " '8월 2~3주 마이너스 예비력 전망\\n\\n본격적인 무더위에 따른 냉방 수요 급증 영향으로 이번 주부터 8월 말까지 전력수급 불안 현상이 지속될 전망이다. 기상청은 7월 하순부터 8월 중순까지 기온이 평년(24~28도)보다 높거나 비슷한 수준을 유지할 것이라고 예보했다.\\n\\n한빛원전 원자력발전소 3호기가 원자로헤드 관통부 정비를 마치고 지난달 10일 재가동됨에 따라 10..'\n",
            " '김총리 “전력 수급문제 없도록 대응” \\n이른 무더위 산업생산증가로 전력수요 급증 \\n예비전력 10GW 이하 한 달 이상 빨라 \\n저렴한 원자력발전소 사용 지양 속 한전 수익 악화일로 \\n원자력발전소 구입단가 ㎾h당 59.7원, 신재생 149.4원폭염이 지속되는 가운데 전력사용량이 폭증하면서 김부겸 국무총리가 19일 문재인 대통령에게 “이번 주 예비전력이 최저 수준을 보일 ..'\n",
            " '박광수 에너지경제연구원 선임연구위원 111년 만에 역대 최고 기온을 경신하면서 온 나라가‘찜통더위’에 시달리고 있다. 기상관측 이후 최초다. 7월 24일에 최대전력수요는 사상 최대치인 9248만kW를 기록하였고, 7월 23일 부터 7월 27일까지 5일 동안 9000만kW를 넘어서기도 했으나 올해는 공급전력이 충분하여 지난 5,6년 전과 같은 전력수급 비..'\n",
            " '올여름 전력수급 위기 상황을 극복하기 위한 국민절전캠페인이 시작됐다. \\n \\n에너지시민연대 등 5개 시민단체와 산업통상자원부, 에너지관리공단 등은 13일 서울 용산역 로비에서 ‘여름철 국민절전캠페인 출범식’을 열었다. \\n \\n절전운동은 ‘100W(와트) 줄이기! 올여름 착한 바람!’이란 슬로건을 내걸었다. 또 100W 줄이기를 실천할 수 있는 예로 오후 2..'\n",
            " '부산을 강타한 태풍 ‘마이삭’의 영향으로 원자력 발전소 4기의 운영이 중단됐다. 보통 원자력발전소에 이상이 있을 때 가동이 중단되긴 하지만 4기가 한꺼번에 중단된 것은 극히 이례적으로 이번 태풍의 위력을 실감케 하고 있다. 한국수력원자력 고리원자력발전소원자력본부는 “3일 새벽 운영 중이던 고리원자력발전소 3, 4호기, 신고리원자력발전소원자력발전소 1, 2호기의 원자로가 정지됐다”고 밝혔다.\\n\\n \\n\\n전기..'\n",
            " '[한여름의 연쇄살인, 폭염] 해외 편 <2> 한국 폭염의 확장판, 일본\\n\\n“시민 여러분, 생명이 위험합니다. 주의해야 합니다.”\\n지난해 7월 일본의 TV, 신문, 라디오에선 이런 섬뜩한 경고가 끊이지 않았다. 일본을 끊임없이 괴롭히는 지진이나 홍수 문제가 아니었다. 폭염 사망자 급증 때문이었다. 2011년 동일본대지진과 후쿠시마 원자력발전소 폭발 사고 ..']\n",
            "\n",
            "\n",
            "==================================================================================\n",
            "\n",
            "\n",
            "토픽       26: 토픽 개수      904, 전체 퍼센트    2.892%\n",
            "0        국회\n",
            "1        의원\n",
            "2        대표\n",
            "3    더불어민주당\n",
            "4       위원회\n",
            "5        원내\n",
            "6     자유한국당\n",
            "7       민주당\n",
            "8        여야\n",
            "9      국민의힘\n",
            "Name: #26, dtype: object\n",
            "['청와대 최재성 정무수석은 3일 4차 재난지원금의 보편 선별 지급 논란에 대해 \"어제(2일) 이낙연 민주당 대표님의 교섭단체 대표연설로 이것에 대한 검토와 논의가 시작된 것 아니냐\"고 했다. \\n \\n 최 수석은 이날 오전 KBS 라디오 \\'김경래의 최강시사\\' 전화 통화 인터뷰에서 이같이 말했다. \\n \\n 맞춤형 지급과 전국민 지급을 동시에 추진하겠다는 이 대표..'\n",
            " '문재인 새정치민주연합 대표가 탈원자력발전소을 당론으로 확정해야 한다고 강조했다. 그는 그제 당 부설 민주정책연구원이 주최한 김익중 원자력안전위원회 비상임위원의 ‘한국 원자력의 미래’ 강연에서 “탈원자력발전소이 우리 당의 당론인지 애매하다”며 “빨리 당론으로 정립하는 게 필요하다”고 말했다. 문 대표의 이 발언으로 탈원자력발전소 당론화 논의가 본격적으로 이루어지는 계기가 될지..'\n",
            " '국회 농림축산식품해양수산위원회 소속 맹성규(인천 남동구갑) 국회의원은 4일 열린 해양수산부장관후보자 인사청문회에서 박준영 해수부장관후보자를 대상으로 일본 원자력발전소 오염수 대책, 외국인 어선원 송출입 공공성 강화, 보호어종(상어 등) 불법조업 문제 해결을 비롯한 해양수산 분야 주요 정책 역량을 검증했다. \\n \\n \\n \\n맹 의원은 “수산업에 종사하는 국민이 10..'\n",
            " '민경욱 자유한국당 의원. 연합뉴스 임금체불 혐의로 사전구속영장이 청구된 ‘386 운동권’ 출신 허인회 전 녹색드림협동조합 이사장에 대해 민경욱 자유한국당 의원이 강한 어조로 비판했다. \\n \\n 민 의원은 25일 오전 페이스북에 “태양광 사업의 비리를 지적한 한국당 정용기 의원에게 전화해 ‘나한테 정용기 의원은 X도 아냐’라고 소리쳤던 태양광 사업자 허인회..'\n",
            " '새해 벽두부터 여권 내부 분위기가 심상치가 않다. 그동안 잠잠하던 더불어민주당 비문재인계 중진들이 당(黨) 청(靑)의 입장에 다른 목소리를 내기 시작한 것이다. \\n \\n 송영길 의원의 ‘탈원자력발전소 재검토’ 발언(11일)이 파장을 일으킨데 이어 15일엔 4선의 박영선 의원이 당내 ‘순혈주의’ 문제를 제기했다. 무소속 손금주 이용호 의원의 입당 불허 결정을 두고..'\n",
            " '여야가 통합진보당 이석기 의원 체포동의안을 국회에서 처리하면서 정치적인 큰 고비를 넘었다. 이제 국회 정상화 문제를 심각하게 고민해야 할 때다. \\n \\n한 달 넘게 이어지고 있는 민주당의 장외투쟁으로 9월 정기국회는 일정조차 잡지 못하는 공백상황이 지속되고 있다. 국정감사와 예결산안 심의 확정 외에 각종 민생 입법들이 줄지어 기다리는 정기국회가 시간에 쫓..'\n",
            " '자유한국당 김성태 원내대표는 11일 “작년부터 54조여 원을 들이고도 일자리는 3000명밖에 만들어내지 못한 이 정부의 가짜 일자리의 가면도 벗겨내는 성과도 있었다”며 “한 놈만 패는 전략은 유효했다”고 자평했다. 김 원내대표는 그러면서 “문재인 대통령의 국정운영의 80%는 오로지 북한, 김정은 위원장이고, 두 분의 신뢰”라고 비판한 뒤 “절대적으로 대..'\n",
            " '황교안 자유한국당 대표가 “우리는 시종 비폭력, 무저항으로 싸웠다”고 주장했다. \\n \\n황 대표는 30일 긴급의원총회에서 “저들은 흉기에 가까운 도구들을 사용하면서 우리들의 정의로운 민주투쟁을 압박하고 겁박했다”며 “당직자, 보좌관님들, 의원님들이 다치고 찢어지고 부러졌다. 병원에 입원하신 분도 여럿 있다. 자유민주국가에서 이런 일이 벌어져도 되는 것인가..'\n",
            " '국내 12개 원자력발전소를 가동하는 데 투입된 인력의 55%가 비정규직인 것으로 확인됐다.\\n\\n국회 미래창조과학방송통신위원회 소속 새정치민주연합 최원식 의원은 4일 올해 7월 기준 한국수력원자력 4개 원자력본부 산하 12개 원자력발전소 종사는 1만5775명으로 이 가운데 정규직 근로자는 7113명(45%)에 불과하다고 밝혔다.\\n\\n이들을 제외한 8662명(55%)..'\n",
            " '한무경 국민의힘 의원 법안 발의 \\n\\n \\n\\n탈원자력발전소 정책에 대해 공론화위원회를 설치해 논의하자는 법안이 발의됐다. 한무경 국민의힘 의원은 8일 ‘에너지 전환 정책 공론화위원회 설치 및 운영에 관한 특별법안’을 대표 발의했다고 9일 밝혔다.\\n\\n \\n\\n한 의원 등이 발의한 특별법안은 대통령 소속으로 에너지 전환 정책 공론화위를 설치해 탈원자력발전소 정책과 관련한 ..'\n",
            " \"일본 참의원(參議院 상원의원)이 6일 후쿠시마(福島) 제1원자력발전소 '오염수'(일본 정부 명칭 '처리수')를 태평양 낙도인 미나미토리시마(南鳥島)로 운반해 방류할 것을 제안했다. \\n \\n 우익 성향의 야당인 일본유신회 소속 마쓰자와 시게후미(松澤成文) 참의원은 이날 참의원 예산위원회에서 스가 요시히데(菅義偉) 총리 등 각료들을 상대로 한 질의를 통해 이런 주장..\"\n",
            " '[육계주] 테마가 강세다. 전일 대비 2.14% 상승세이다. 체리부로(066360)+4.86%, 정다운(208140)+4.48%, 하림(136480)+2.71% 등이 테마 상승을 이끌고 있다. \\n \\n테마 설명육계란 닭을 사육하여 식용이나 그 밖의 인간 생활에 도움을 주는 부속물 생사하는 축산업의 한 분야. 우리나라의 육계 산업은 종계, 부화, 사육에서 ..'\n",
            " '한국과 일본의 국회의원 모임인 한 일, 일 한 의원연맹이 다음 달 30일 도쿄에서 합동총회를 갖는다고 교도통신이 지난 12일 보도했다.\\n\\n\\n통신에 따르면 한국 측 간사인 강창일 민주당 의원과 일본 측 간사인 가와무라 다케오 자민당 의원은 이날 서울 시내에서 간사 회의를 열고 이같이 잠정 결정했다. 합동총회는 2011년 서울에서 열린 뒤 2년 만으로, 지..'\n",
            " '야당 추천 원자력안전위원회(원자력안전위원회) 위원 후보자 2명을 청와대가 3개월 이상 위촉하지 않는 것과 관련, 한국당과 청와대가 5일 충돌했다. 나경원 한국당 원내대표가 “국회를 무시하고 삼권분립을 파괴한 사건”이라고 주장하자 청와대 김의겸 대변인이 “현행법에 따른 결격사유로 위촉할 수 없는 상황”이라고 반박했다.\\n \\n \\n 한국당이 추천한 이병령ㆍ이경우 원자력안전위원회..'\n",
            " '정부의 김해신공항안 백지화 결정으로 국민의힘은 딜레마에 빠진 모습이다. 당의 핵심 지지 기반인 대구경북과 부산울산경남 민심이 엇갈리고 있기 때문이다. 당장 김종인 비상대책위원장과 주호영 원내대표부터 이견을 보였다. \\n \\n 김 위원장은 17일 국회에서 기자들과 만나 “정부의 정책 일관성이 지켜지지 않는 건 유감스럽다”고 지적하면서도 “새로운 공항에 대한 ..'\n",
            " '국민의힘 김기현 원내대표는 17일 국회 교섭단체 대표 연설에서 “대한민국이 ‘꼰수기(꼰대 수구 기득권)’된 586(50대 80년대 학번 60년대생) 운동권의 요새가 돼가고 있다”고 했다. 그러면서 이들을 “세습의 강철대오”라고 불렀다. 문재인 정부와 더불어민주당을 ‘꼰대 기득권’ 세력으로 규정하고, 정권 교체에 나서야 한다는 것이다. \\n \\n김 원내대표는..'\n",
            " '과기부 장관 청문회도 ‘조국 딸 논문’ 불똥\\n\\n\\n2일 국회 정무위원회에서 열린 조성욱 공정거래위원장 후보자 인사청문회에선 정갑윤 자유한국당 의원이 미혼인 조 후보자에 ‘국가를 위해 출산 의무를 다하라’는 취지의 발언으로 논란을 빚었다.\\n논란은 정 의원이 “아직 결혼 안 하셨죠? 우리 사회의 가장 큰 병폐는 출산율이다. 정말 훌륭한 분이 그걸(출산) 갖췄..'\n",
            " '이낙연 더불어민주당 대표가 25일 서울 여의도 국회에서 열린 최고위원회의에서 화상으로 참석해 모두발언을 하고 있다. 뉴시스 더불어민주당 이낙연 대표가 윤석열 검찰총장 직무정지 사태 국면에서 ‘국정조사’ 카드를 꺼낸 데에는 단순히 총장 개인의 일탈이 아니라 검찰 조직의 ‘적폐’가 드러났다고 보기 때문이다. \\n \\n 이 대표는 25일 최고위원회의에서 검찰의 ..'\n",
            " '국민의힘이 4일 시작되는 국회 대정부 질문을 앞두고 자당 의원들에게 정부 여당을 향해 성폭행 등 ‘프레임 씌우기’에 집중하라고 주문해 논란이 일고 있다. 국민의힘은 원내행정국이 작성한 사전 전략회의 자료에서 ‘반기업, 반시장경제, 반법치주의, 성폭행’을 집중할 프레임으로 거론하며 대정부 질문을 ‘시작부터 결론까지 일관된 프레임 씌우기’로 가야 한다고 했..'\n",
            " '주호영 국민의힘 원내대표가 3일 오전 서울 여의도 국회에서 열린 본회의에서 국정에 관한 교섭단체대표연설을 하고 있다. 뉴스1 주호영 국민의힘 원내대표가 3일 북한 원자력발전소 건설 추진 관련해 국정조사를 요구하며 ‘원자력 발전 능력을 키우겠다’고 한 김정은 국무위원장의 발언 배경에 의구심을 나타냈다. \\n \\n 주 원내대표는 이날 국회에서 교섭단체대표연설을 통해 ..']\n",
            "\n",
            "\n",
            "==================================================================================\n",
            "\n",
            "\n",
            "토픽       27: 토픽 개수      948, 전체 퍼센트    3.032%\n",
            "0     부산\n",
            "1    태양광\n",
            "2     서울\n",
            "3     지역\n",
            "4     시설\n",
            "5     건물\n",
            "6     고리\n",
            "7     마을\n",
            "8     본부\n",
            "9     울산\n",
            "Name: #27, dtype: object\n",
            "['‘전기요금 공평한가.’\\n\\n전기 생산시설이 있는 지방자치단체들이 사회적 비용을 반영한 전기요금 체계 개편을 공론화하면서 ‘지역별 전기요금 차등제’가 핫 이슈로 부상하고 있다.\\n\\n고리원자력발전소원자력발전소 등 6기의 원자력발전소이 있어 원자력발전소 위험을 항상 안고 사는 부산, 울산 등은 물론 화력발전소가 있는 충남, 인천 등은 환경적 피해가 적지 않은데도 전기 주 소비처인 수도권..'\n",
            " '어느 공무원과 대화하면서 놀랍고 부끄러운 경험을 했다. 2015년 완공된 부산 기장군 해수담수화 시설과 관련해서다. 바닷물을 끌고 오는 400m 관로와 염분 불순물을 제거하는 여과 막(膜) 등 핵심 시설이 부식돼 “지금은 사용할 수 없을 정도”라고 했다. 기장 일대에 수돗물로 공급하기 위해 세금 1250억원을 포함해 2000억 들인 시설이 사실상 고철이..'\n",
            " '서울시민이 부산 고리원자력발전소원자력발전소 주변 주민들의 안전을 위한 ‘원자력발전소안전이용부담금’으로 매달 4500원가량을 부담할 수 있다는 설문조사 결과가 나왔다. 원자력발전소 인접지역 주민들의 방호 방재 등 안전확보에 필요한 재원인 ‘원자력발전소안전이용부담금’을 고리원자력발전소원자력발전소의 생산전력을 이용하는 수도권 주민들이 내도록 하자는 취지에서 실시된 조사다.\\n\\n(사)시민정책공방과 부산참여연대는..'\n",
            " '“정부나 여당 얘기는 이제 못 믿겠다 아입니꺼. 원자력발전소이 안전하긴 한 건지, 앞으로 또 이런 일이 생기면 어떻게 하겠다는 건지 .”\\n\\n21일 부산 자갈치시장에서 만난 주부 김종남(53)씨는 하소연부터 했다. 해운대의 고층 아파트에 살기 때문에 지진이 더 두렵다는 김씨는 “대안 없는 이 나라를 떠나는 것밖에 방법이 없나, 별생각이 다 든다”고 덧붙였다. 이..'\n",
            " '발전소 냉각수 관로를 막고 어업에 피해를 주는 보름달물해파리의 대발생은 선박 정박시설과 양식장 부유시설 등 인공시설에 천문학적 숫자의 유생이 들러붙어 자라기 때문으로 밝혀졌다. 유생이 특히 고밀도로 자라는 곳은 전국 연안에 500여 곳에 이르는 것으로 나타났다.\\n\\n 채진호 해양환경연구소 소장은 18일 한양대에서 열린 한국환경생물학회 추계학술대회에서 한 ..'\n",
            " '전남 영광군 한빛원전원자력발전소에서 비상상황 발생 시 유일한 대피로인 법성 홍농 간 도로가 4차로로 확장된다. 확장 구간은 국도 22호선인 영광군 법성면에서 홍농읍 한국수력원자력 사택 진입 교차로까지 5.1km로, 사업비는 520억 원이 소요될 것으로 예상된다. 국비에서 440억 원을 지원받고 보상비 80억 원은 전남도와 영광군, 한국수력원자력이 분담하기로 했다. 내년에..'\n",
            " 'ㆍ원자력안전위원회 특별점검, 157㎝ 공극 발견 \\nㆍ한국수력원자력 “내달까지 보수방안 마련” \\nㆍ지역민들 ‘부실시공’ 불안감 커져\\n\\n\\n\\n전남 영광 한빛원전원자력발전소 4호기의 격납건물 콘크리트 벽에서 150㎝가 넘는 공극(구멍)이 발견됐다. 유사시 원자력발전소의 최후방벽 역할을 해야 하는 격납건물의 내부 공사 및 관리가 허술했던 것으로 드러나면서 지역민들의 불안감이 커지고 있다.\\n\\n한국..'\n",
            " '<한겨레>와 <중앙일보>가 함께 구성한 지면으로 두 언론사의 사설을 통해 중3~고2 학생 독자들의 사고력 확장에 도움이 되도록 비교분석하였습니다. 다음주 10월8일에는 ‘검찰독립’에 대한 논제가 실립니다.\\n\\n\\n\\n \\n\\n[한겨레 사설] 밀양 송전탑 갈등, 돈으로 해결될 일 아니다\\n\\n정홍원 국무총리가 11일 송전탑 문제로 밀양을 방문했다. 정 총리의 방문은 ..'\n",
            " '#1. 서울 강서구 재활용집하장과 서남물재생센터에는 2020년 완공을 목표로 집단에너지시설이 건설되고 있다. LNG(액화천연가스) 발전과 하수열, 소각열 등을 이용해 마곡지구 내 아파트와 업무용 빌딩에서 쓰는 냉난방에너지의 약 60%를 공급할 예정이다. 친환경에너지를 이만한 규모로 공급하는 것은 국내에서는 처음이다. 마곡집단에너지시설은 마곡지구에 입주하..'\n",
            " 'ㆍ‘한국 첫 해체 원자력발전소’ 부산 기장군 고리원자력발전소1호기 가보니\\n\\n\\n\\n주제어실 ‘원자로 출력 0’ 제어판 버튼마다 ‘영구정지’ 스티커\\n고준위방사성폐기물 처분 방법 미확정, 건식저장시설은 착공도 못해\\n\\n지난 29일 찾은 부산 기장군 고리원자력발전소1호기 원자력발전소 주제어실. 제어판 한가운데에 위치한 전광판의 원자로 출력은 0을 가리키고 있었다. 제어판 기기에 빼곡한 버튼 위에..'\n",
            " \"지난달 31일 서울 서초구에 있는 6층 건물의 옥상. 고양이 한 마리가 CCTV 감시카메라 앞으로 들어왔지만, 관제실에는 아무런 알람이 없었다. 3분 뒤 모자를 눌러쓴 사람이 등장하자 6층 관제실 화면에서 '삐익' 하는 소리와 함께 알람이 떴다. 동시에 1층 로비에 있던 경비 책임자의 스마트폰에도 알람이 왔다. 관제실 컴퓨터는 옥상 CCTV 영상을 녹화..\"\n",
            " '경기 과천시에 사는 주부 김유정(37)씨는 남편의 사업이 어려워지자 전기 절약을 실천하기로 했다. 우선 컴퓨터에는 전력이 자동으로 차단되는 ‘멀티탭’을 달았다. 모니터와 프린터가 낭비의 주범이기 때문이다. 전기밥솥은 압력밥솥으로 바꾸고 세탁기 탈수 시간은 1분으로 정했다. 덜 마른 빨랫감은 잘 펴서 햇볕에 말렸더니 구김이 줄고 전력도 아낄 수 있었다. ..'\n",
            " '12일 오후 2시경 등기부등본을 발급받으려고 서울의 한 구청을 찾은 정모 씨(37)는 구청 건물에 들어서다 깜짝 놀랐다. 에어컨 가동이 중단된 가운데 사무실 전등마저 꺼져 있었기 때문이다. 사무실 한편에 설치된 온도계는 34도를 나타냈다. 한증막을 방불케 하는 찜통더위에 정 씨는 서류를 발급받는 10여 분 동안 진땀을 뺐다. \\n \\n 올여름 최악의 전력난..'\n",
            " '서울 은평구가 에너지 절약에 행정력을 쏟아붓고 있다. 여름철 전력수급 비상뿐 아니라 화석연료 절감을 통해 친환경도시로 나아가기 위해서다.\\n\\n\\n구는 다음달 29일까지 정부의 에너지 사용 제한 정책에 발맞춰 적정 실내온도 유지뿐 아니라 개문 냉방업소 단속 등 지속적이고 강력한 에너지 낭비 단속을 벌인다고 7일 밝혔다. 주민들의 불편을 최소화하기 위해 지난 ..'\n",
            " '김성환 노원구청장은 휴대전화를 꺼내 독일 프라이부르크 주택단지에서 직접 찍었던 사진 수십장을 보여 줬다. 페인트칠도 없이 원목 그대로 만든 어린이 놀이터의 모습은 투박해 보이면서도 자연을 그대로 느낄 수 있게 해 줬다. 김 구청장은 “화려하진 않지만 자연 그 자체를 느끼면서 놀 수 있도록 한 놀이시설을 보면서 자연 속에 어우러지는 인간의 삶을 되새겼다”..'\n",
            " '라인강을 가로지르는 독일 본의 케네디대교에는 솔라패널(태양광판)이 수를 놓은 듯 장식돼 있다. 물론 이는 장식품이 아니라 실제로 태양광 발전에 이용되는 시설이다. 2006년 2.2GWh에 불과했던 독일의 태양광발전은 2013년 31GWh로 7년 사이 15배 가까이로 늘었다. 거대한 바람개비가 달린 풍력발전소 또한 독일 어느 곳에서나 쉽게 찾아볼 수 있다..'\n",
            " \"14일 서울시청 브리핑실에서 이동진 서울시구청장협의회장을 비롯한 협의회 소속 구청장들이 '박원순 시장 궐위에 따른 입장문'을 발표하고 있다. 이제원 기자 서울 자치구 구청장들은 14일 “박원순이 없는 서울에서 우리가 비록 새로운 혁신의 길을 개척하지는 못할지언정 그가 개척한 길에서 벗어나지는 않아야 할 것”이라며 “박원순 시장의 시정철학과 가치는 유지 ..\"\n",
            " '3일 대구 달서구 한 아파트에서 지진에 따른 아파트 화재 및 붕괴 사고를 가정한 안전한국훈련 현장 시범훈련이 펼쳐지고 있다. 행정안전부 제공 “소방서죠? 방금 발생한 지진으로 (건물이 무너져) 주민들이 다치고 고립됐습니다. 구해 주세요!” \\n \\n 3일 오후 2시 대구 달서소방서 월성 119안전센터로 다급한 목소리의 신고전화가 걸려왔다. 달서구 인근에서 ..'\n",
            " '두산중공업이 경남 창원 단조공장에 세계 최대 규모인 1만7000t 프레스를 설치하고 지난 21일 준공식(사진)을 마쳤다고 23일 밝혔다. \\n \\n 단조공장은 쇳물로 녹여 만든 강괴(쇳덩어리)를 가열한 뒤 대장간에서처럼 프레스로 두드려 원하는 형상을 만드는 곳이다. 각종 발전 산업설비 소재를 생산한다. \\n \\n 이번에 설치한 프레스는 높이 29m, 너비 9m..'\n",
            " '15일 전남 완도군 완도읍 해변공원. 왼편에 신지도가 그림처럼 펼쳐져 있고 오른편에는 137종의 상록수가 자라고 있는 주도(천연기념물 제28호)가 한눈에 들어온다. 이곳에서는 ‘2014 완도국제해조류박람회’ 주전시장인 주제관 공사가 한창이다. 4월 시작된 공사는 80% 공정을 보이고 있다. 이달 말 골조공사가 끝나면 전시콘텐츠 설치 공사가 내년 2월까지..']\n",
            "\n",
            "\n",
            "==================================================================================\n",
            "\n",
            "\n",
            "토픽       28: 토픽 개수     1268, 전체 퍼센트    4.056%\n",
            "0      요금\n",
            "1      한전\n",
            "2      전기\n",
            "3     지난해\n",
            "4      인상\n",
            "5    한국전력\n",
            "6      분기\n",
            "7      적자\n",
            "8      비용\n",
            "9      올해\n",
            "Name: #28, dtype: object\n",
            "['끝없이 오를 것만 같던 석유가격이 심상찮은 하락세에 있다. 올해에만 약 40% 이상 하락해 배럴 당 50달러대를 기록하고 있다. 30달러대까지 하락할 것이라는 의견도 있다. 지난 40여년을 고유가 걱정 속에 살아온 우리나라가 저유가 폐해를 걱정하고 있는 것이다. 유가 10% 하락으로 0.3%대의 성장촉진효과와 물가하락, 가계실질소득 증대가 예상된다. 총..'\n",
            " '올해 우리 경상수지 흑자가 630억 달러로, 사상 처음 일본(601억 달러 추정)을 앞지를 전망이다. 이런 역전 현상은 최근 두 나라의 경제상황을 반영하고 있다는 점에서 반가운 소식임이 틀림없다. 글로벌 경기침체 속에서도 우리의 주력 수출상품인 휴대전화 자동차 반도체 등은 선전을 거듭하고 있다. 그 덕분에 지난달 월별 수출액이 사상 처음으로 500억 달..'\n",
            " '한국수력원자력이 회사 창립 20주년을 맞아 1일 경주 본사에서 기념식을 가졌다. 정재훈 한국수력원자력 사장은 “한국수력원자력은 지난 20년 동안 힘든 일을 극복해오면서 저력을 얻었다”며 “천년의 세월에도 흔들리지 않는 기업을 만들어가자”고 말했다. 한국남동 남부 동서 서부 중부발전 등 한국전력 산하 5개 발전 공기업들도 2일 일제히 창립 20돌을 맞는다. 한국전력은 ..'\n",
            " '한국전력(015760)공사가 지난해 원자력발전소(원자력발전소) 이용률 하락에 따른 전력구입비 증가와 연료비 상승으로 6년 만에 영업적자를 기록한 가운데 올해 LNG(액화천연가스) 세금 인하가 반전카드로 작용할지 관심이 모아지고 있다. \\n \\n지난달 19일 국무회의에서는 발전용 LNG의 수입부과금을 인하하는 ‘석유 및 석유대체연료 사업법 시행령’ 개정안이 의결됐다..'\n",
            " '석탄, 천연가스 가격 급등으로 최근 중국 도시들의 난방비가 오르고 있지만 인구 20만명이 사는 산둥(山東)성 하이양(海陽)시는 예외다. 이 도시의 난방비는 올겨울 1㎡당 23위안(약 4370원)에서 22위안으로 1위안 인하됐다. 지난 15일부터 도시 전체의 난방 온수를 원자력발전소에서 나온 열을 이용해 공급하기 때문이다. \\n \\n중국 경제매체 차이신은 산..'\n",
            " '최고치 행진을 이어가던 코스피가 숨을 골랐다. 구글이 유럽연합(EU)으로부터 불공정거래 혐의로 역대 최대 규모의 과징금 폭탄을 맞으면서 미국 증시가 하락한 여파다. \\n \\n 28일 코스피지수는 9.39포인트 하락한 2382.56으로 장을 마쳤다. 이날 새벽 마감한 미 증시에서 구글 지주사인 알파벳 주가는 2.47% 떨어졌다. S&P500과 나스닥지수도 각..'\n",
            " '전기 요금 현실화 논의가 본격 시작됐다. 새누리당 에너지특별위원회는 그제 당정회의를 열고 전기 요금 체계를 전면 개편하기로 했다. 연료비 연동제와 주택용 전기 요금 누진제 축소가 핵심이다. 이런 방향으로 요금 체계를 새로 짜면 싼 맛에 전기를 펑펑 쓰는 시절은 사실상 끝날 것으로 보인다. 새 전기 요금 체계는 10월께 확정될 예정이다. 전기 요금 체계는 19..'\n",
            " 'ㆍ2018년 적자폭보다 6배나 늘어 \\nㆍ날씨 따뜻해 전기판매수익 ‘뚝’\\n\\n지난해 한국전력이 글로벌 금융위기가 덮쳤던 2008년 이후 11년 만에 가장 큰 적자를 냈다. 온화한 날씨와 더불어 그간 ‘값싼 전기’로 생각됐던 석탄화력 원자력 관련 외부비용이 높아진 게 영향을 끼쳤다. 한전은 “지속 가능한 요금체계를 만들겠다”고 밝혀 앞으로 전기요금 인상이 불..'\n",
            " '- 전기요금 개편안 확정\\n\\n\\n\\n신재생에너지 의존도 증가로\\n\\n‘분리고지’ 기후 환경料 오를것 \\n\\n\\n\\n내년 1월부터 시행되는 ‘연료비 연동제’로 소비자들은 단기적으로 전기요금 절감 효과를 누리게 됐지만, 중장기적으로는 탈 원자력발전소과 신재생에너지 의존 증가로 ‘기후 환경요금’이 눈덩이처럼 불어나며 요금 상승 압박 요인으로 작용할 수밖에 없다는 우려가 나온다..'\n",
            " '정부의 탈원자력발전소 정책 여파로 한국전력이 6년 만에 적자를 기록했다. 지난해 원자력발전소 이용률이 37년 만에 최저치로 떨어져 그 공백을 메우느라 값비싼 LNG(액화천연가스)와 석탄 발전을 늘렸기 때문이다. \\n \\n한전은 22일 \"지난해 영업손실이 2080억원으로 잠정 집계됐다\"고 밝혔다. 2017년 4조9532억원의 영업이익을 낸 것과 비교하면 1년 만에 이..'\n",
            " '국내 원자력발전소의 이용률이 1991년 이후 20여년 만에 처음 80% 이하로 추락했다. 2000년대 90%가 넘었던 원자력발전소 이용률은 고장이 잦았던 지난해 82%로 하락한 데 이어 올해 들어 79%로 떨어졌다. \\n \\n2일 한국수력원자력과 원자력통계기관 뉴클레오닉스에 따르면 전국에 있는 원자력발전소 23기의 올해 1 4월 발전량은 4785만8000㎿h로 이용률은 ..'\n",
            " '한국전력공사가 13일 실적 공시를 통해 올 상반기 8204억원의 영업이익을 냈다고 밝혔다. 작년 상반기 9285억원의 영업적자에서 흑자 전환한 것이다. 한전의 흑자 반전은 코로나 사태로 인한 국제유가의 폭락에 따른 것이다. 한전에 따르면 작년 평균 배럴당 64달러였던 두바이유 가격은 올 상반기에 41달러로 36% 하락했다. \\n \\n실적을 발표하면서 한전은..'\n",
            " '탈원자력발전소 정책의 ‘직격탄’을 맞은 에너지 공기업이나 ‘문재인 케어’ 영향으로 실적이 악화한 국민건강보험공단이 정부의 지난해 경영실적 평가에선 ‘합격점’을 받았다. 실적은 대규모 적자를 기록했지만, 일자리 창출 같은 분야에서 제 몫을 했다고 평가했다. \\n \\n 기획재정부는 20일 홍남기 경제부총리 주재로 공공기관운영위원회를 열고 ‘2018년도 공공기관 ..'\n",
            " '◇ 월성 1호기 조기 폐쇄, 신규 원자력발전소 건설 백지화 비용 반영한국수력원자력은 올 2분기에 연결기준으로 6134억원의 순손실을 기록했다고 14일 공시했다. 2분기 영업이익은 433억원으로 지난해 2분기(2025억원)보다 78.6%가 줄었다. 매출액은 1조9815억원을 기록, 지난해 2분기 대비 13.8% 감소했다.한국수력원자력은 올 6월 이사회가 의결한 월성 1호기 조..'\n",
            " '정부가 전기요금을 평균 5.4% 인상하기로 했다. 이에 따라 주택은 2.7%, 산업은 6.4%의 전기료가 각각 올라갈 전망이다.\\n\\n산업통상자원부는 에너지 상대가격 체계 개선의 일환으로 한국전력공사가 제출한 전기공급약관변경안을 인가해 21일자로 전기요금이 평균 5.4% 인상된다고 19일 밝혔다.\\n\\n용도별 조정률은 ▲주택 2.7% ▲일반 5.8% ▲산업 6..'\n",
            " '한전기술이 국내 원자력발전소사업에 대한 불확실성이 축소되면서 상승세를 타고 있다.16일 오전 9시 52분 현재 한전기술은 전 거래일 대비 0.88% 오른 6만9100원에 거래 중이다.성수완 우리투자증권 연구원은 “지난 14일 발표된 2차 국가에너지기본계획에서 원자력발전소비중 목표가 29%(2035년 기준)로 확정되면서 국내 원자력발전소사업에 대한 불확실성이 축소된 점 등을 ..'\n",
            " '이덕환 서강대 명예교수 에너지정책합리화교수협 공동대표\\n\\n\\n\\n결국 정부가 전기 요금 인상을 결정했다. 연료비 연동제까지 무시하고 전기료를 동결하겠다고 밝히고 일주일 만의 일이다. 삼척동자까지 들먹이면서 전기료를 인상할 이유가 없다던 정부의 억지는 새빨간 거짓말이었다. 대선 이후로 잡아 놓은 인상 시기도 의심스럽다. ‘대통령이 여당 후보의 선대위원장을 자처..'\n",
            " '동북아의 경제대국 중국과 일본의 금융시장이 올해 들어 크게 엇갈린 행보를 보이고 있다. 두 나라의 금융시장이 모두 악재를 맞았지만 중국 시장이 상대적으로 안정세를 유지하는 데 비해 일본 시장은 크게 요동치는 형국이다. 전문가들은 양국 정부의 경제정책에 대한 글로벌 투자가들의 신뢰와 기대감이 이런 큰 차이를 만들고 있다고 분석하면서 이런 상황이 상당 기간..'\n",
            " '25%. 에마뉘엘 마크롱 프랑스 대통령의 요즘 국정 지지율이다. 최연소 대통령으로 당선될 때만 해도 80%를 넘던 지지율은 역대 대통령 중 가장 낮은 수준으로 떨어졌다. 하지만 마크롱은 아랑곳하지 않았다. 기업의 해고 권한을 확대하고 법인세 인하를 결정한 그는 역대 정부의 개혁을 줄줄이 좌절시켜온 국영철도 노조의 파업도 돌파하며 철밥통 제도를 개편했다...'\n",
            " '‘싼 주식’ 위주 찾는 게 화근 \\n손실종목 ‘물타기 매수’ 수렁으로 \\n단타 집중 테마주 투자도 문제\\n\\n\\n\\n 개인투자자 김철수(가명)씨는 주식에 200억원을 굴리는 ‘큰손’이다. 30개 종목에 분산투자를 하고 있다. 문제는 30개 가운데 29개 종목이 마이너스 수익률을 기록하고 있다는 것이다. \\n\\n 김씨의 포트폴리오에는 현대중공업, 오씨아이(OCI), 엘..']\n",
            "\n",
            "\n",
            "==================================================================================\n",
            "\n",
            "\n",
            "토픽       29: 토픽 개수     1433, 전체 퍼센트    4.584%\n",
            "0     산업\n",
            "1     기술\n",
            "2     사업\n",
            "3     해체\n",
            "4     개발\n",
            "5     경제\n",
            "6     기업\n",
            "7     연구\n",
            "8     울산\n",
            "9    에너지\n",
            "Name: #29, dtype: object\n",
            "['경북과 부산, 울산이 국내에서 개발하는 원자력발전소 해체기술을 실증 검증하는 원자력 해체기술 종합연구센터(이하 연구센터)를 유치하기 위해 발벗고 나섰다.2일 경북도에 따르면 정부는 올해 말까지 연구센터에 대한 예비타당성 조사를 마무리하고 내년부터 본격적인 사업에 들어갈 예정이다. 사업비 1473억원이 투입되는 데다 앞으로 국내외 원자력발전소 해체산업 규모가 엄청나게 ..'\n",
            " '해저자원 물리탐사연구선(가칭 ‘탐해3호’) 조감도. 탐사선건조사업단 제공 해저자원 탐사를 위한 물리탐사연구선이 건조된다. \\n \\n 산업통상자원부는 총사업비 약 1869억원을 투자하는 6000t급 해저자원 물리탐사연구선(가칭 ‘탐해3호’) 건조사업을 본격 추진한다고 28일 밝혔다. 산업통상자원부는 이날 물리탐사연구선 건조사업 주관기관인 한국지질자원연구원, 건조사인..'\n",
            " '경북 영덕군은 3일 산업통상자원부를 방문해 천지원자력발전소 백지화 결정에 따른 지역보완대책과 특별지원금 사용승인 및 정부요구 대안사업 수용을 촉구했다. \\n \\n군은 신재생에너지클러스터 조성에 따른 에너지산업 융복합단지 조성(2조원), 신재생에너지보급 융 복합지원사업(100억원), 강구 연안항 확대개발(3000억원), 안동~청송~영덕 중부내륙 철도망 구축(1조30..'\n",
            " '한국수력원자력(사장 정재훈)은 11일 혁신성장위원회를 발족했다고 밝혔다. \\n \\n혁신성장위원회는 원자력발전소 안전 보안 분야 신사업 발굴, 중소 벤처기업과의 동반 성장 강화 등 혁신성장 과제를 수행할 예정이다. \\n \\n정재훈 사장과 황주호 경희대 교수를 공동위원장으로 4차산업혁명 분야 전문가인 최재붕 성균관대 교수, 윤태범 한국지방행정연구원장 등 분야별 사외 전문..'\n",
            " '산업통상자원부 법 개정안 통과\\n\\n정부가 중소기업이 대부분이던 ‘뿌리산업’의 지원영역에 중견기업을 포함시킨다. 뿌리산업은 제품의 형상을 만드는 주조 금형 소성가공 용접과 소재에 특수기능을 부여하는 열처리 표면처리 산업을 말한다. 정부는 이번 정책이 중소기업이 중견기업으로의 성장을 기피하는 현상을 일부분 해소할 수 있을 것으로 기대하고 있다.\\n\\n산업통상자원부는 ..'\n",
            " '4일엔 서울 여의도에 있는 중소기업중앙회에서 회장단을 만났다. 지난달 12일 대한상의를 시작으로 무역협회(11월 22일), 중견기업연합회(11월 26일), 경영자총협회(11월 28일)를 포함, 한 달도 안 돼 주요 경제단체 5곳을 모두 돌았다. 경제단체의 고위 임원은 \"성 장관은 말을 먼저 하기보다 주로 들으며 업계 요구 하나하나에 대해 현장에서 피드백..'\n",
            " '정부가 중소기업이 대부분이던 ‘뿌리산업’의 지원영역에 중견기업을 포함시킨다. 뿌리산업은 제품의 형상을 만드는 주조 금형 소성가공 용접과 소재에 특수기능을 부여하는 열처리 표면처리 산업을 말한다. 정부는 이번 정책이 중소기업이 중견기업으로의 성장을 기피하는 현상을 일부분 해소할 수 있을 것으로 기대하고 있다.\\n\\n산업통상자원부는 뿌리산업 지원대상에 중견기업..'\n",
            " '월성 원자력 발전소 1호기의 재가동 승인과 2년 뒤 설계수명이 종료되는 고리원자력발전소 원자력발전소 1호기를 둘러싼 논란이 증폭되는 가운데 사용 후 핵연료의 안전관리와 원자력발전소 해체 기술개발에 올해 3100억원의 예산이 투입된다.\\n\\n\\n미래창조과학부는 2일 원자력 핵심기술 개발과 원자력 연구개발 사업에 지난해보다 7.7% 많은 3146억원을 투입한다고 밝혔다. 원자력기술개발 ..'\n",
            " '“부 울 경은 물론 대구 경북을 묶는 ‘영남권 그랜드 메가시티’를 만들어야 대한민국의 새 발전 축이 될 수 있습니다.” 송철호(사진) 울산시장이 최근 강조하고 있는 말이다. 송 시장은 “영남에서 행정통합 논의가 이뤄지고 있으나 두 권역으로 나뉘면 수도권 집중화 대응에 한계가 있다”며 “영남권 5개 시 도를 하나로 묶는 영남권 그랜드 메가시티가 조성돼야 ..'\n",
            " '“국가 연구개발사업의 선순환구조를 조성하여 창조경제의 모범사례를 구현”, “창조경제의 대표적 모델” 미래창조과학부가 지난 3월 3일 낸 보도자료의 일부다. 박근혜 정부 3년, 핵심 어젠다로 내세운 ‘창조경제란 도대체 무엇인가’라는 세간의 논란에 대해 마침내 주무부서가 답을 찾은 모양이다.\\n\\n3월 3일 미래부의 보도자료 제목은 ‘중소형 원자로 SMART ..'\n",
            " '원자력발전소융합 산업단지 2018년까지 조성 \\n \\n울주군이 서생면 신암리 일대에 2018년까지 원자력융합 산업단지를 조성하기로 하고 타당성 용역에 착수한다고 28일 밝혔다. \\n \\n원자력발전소융합 산단은 2015년부터 2018년까지 신암리 일원 66만㎡에 조성 예정이다. 예상 사업비는 총 1800억원이다. 군은 산단에 원자력발전소, 원자력융합 관련 기업체, 산업시설, 원자력융..'\n",
            " '한국의 원자력발전소 건설 경험은 어느 정도의 가치가 있을까. 30년 원자력 기술 자립 경험을 토대로 건설 관리를 위해 정보기술(IT) 시스템으로 바꾼 기술은 시장에서 얼마를 받을 수 있을까.\\n\\n원자력발전소 건설 경험을 정보통신기술과 결합한 결과는 놀랍게도, 발전소 한 기당 700억원의 수익을 얻는 것으로 아랍에미리트(아랍에미리트) 원자력발전소 수출 현장에서 확인할 ..'\n",
            " '수출 6000억 달러 달성 목표 \\n\\n한국 中 FTA 등 활용률 65%로 \\n\\n\\n\\n비관세장벽 해소 시장 개척 등 \\n\\n무역협회서 對中무역 종합지원 \\n\\n내수 2400개사 수출기업 전환 \\n\\n中企 수출비중도 35%로 확대\\n\\n\\n\\n한 중 자유무역협정(FTA) 발효에 대비해 중국과의 무역업무를 지원할 ‘차이나 데스크’가 무역협회에 설치되고 중소 중견기업의 FTA 활용률이..'\n",
            " '한국수력원자력(사장 조 석)은 19일 민간기업 29개사와 함께 원자력발전소기자재와 기술의 해외 수출을 맡을 법인 한국원자력기자재주식회사(KNP)를 설립했다. KNP는 이날 삼성동 인터컨티넨탈서울코엑스에서 조석 한국수력원자력 사장과 민간기업 대표이사 등 80여명이 참석한 가운데 설립총회를 개최했다. \\n \\nKNP는 글로벌 원자력발전소시장에서 원자력발전소기자재를 비롯 검사 기술 정비 용..'\n",
            " '원자력발전소소재지역 특별위원회가 사용후핵연료에 관한 원자력발전소소재지역의 의견수렴을 위해 의견수렴 전문기관 및 사용후핵연료 공론화지원단과 상호협력협약을 28일 체결했다.원자력발전소소재지역 특별위원회는 사용후핵연료에 관한 원자력발전소소재지역의 의견수렴을 위해 의견수렴 전문기관 및 사용후핵연료 공론화지원단과 상호협력협약을 28일 체결했다. \\n \\n이날 동국대학교 경주캠퍼스 백주년기념관에..'\n",
            " '산업통상자원부가 제조업 활력 회복 및 산업 혁신 성장을 가속화하고 에너지 분야 수요혁신 및 산업 육성을 강화하기 위한 조직 개편을 이달 말 단행한다. 앞으로는 산업정책실에서 산업정책 수립과 업종별 현장 정책을 함께 담당하게 되고, 에너지자원실에는 에너지혁신정책관을 신설해 에너지 소비구조 혁신 및 분산 에너지 활성화 정책을 담당토록 할 계획이다. \\n \\n산..'\n",
            " '바다를 떠다니면서 전력을 생산해 세계 곳곳에 전기를 팔 수 있는 ‘선박 발전소’가 세계 최초로 개발된다. 선박과 발전소가 융합한 개념으로, 원자력발전소 1기(1000㎿)에 맞먹는 전력을 만들어내는 대용량 발전선이 개발되는 것은 이번이 처음이다.\\n\\n현대중공업은 한국중부발전소, 지멘스, 폴라리스쉬핑 등과 ‘이동식 발전선(Mobile Powership)’ 개발을 위..'\n",
            " '성장잠재력 갖춘 中企 발굴\\n전문 컨설팅으로 문제 진단\\n기술 디자인 등 맞춤형 지원\\n기업별 전담 공무원도 지정\\n\\n광주광역시 민선 6기 정책 중 하나인 ‘명품 강소기업’ 육성이 지역 경제계의 호평을 받고 있다. 성장 가능성 및 잠재력 있는 중소기업을 발굴한 뒤 전문 기관의 컨설팅을 통해 문제점을 파악해 맞춤형 지원을 해주고 있는 것. 광주시는 현재 30개인..'\n",
            " '경북 울진군은 죽변비상활주로 지정해제 및 이전 후 부지활용 방안을 공모한다. \\n \\n이번 공모는 원자력발전소운영 위험요인 및 지역발전의 잠재적 저해요인 해소를 위한 ‘죽변비상활주로 폐쇄이전 전략수립 및 지정해제 시 신사업아이디어 발굴 공모사업’ 연구용역 과업수행의 일환이다. \\n \\n공모기간은 9일부터 10월 20일까지로 대한민국 국민이면 누구나 참여할 수 있다. ..'\n",
            " '서울 광주 전남 전북 경북 등 5개 시 도가 사무관 교환근무를 펼친다.\\n\\n 전남도는 28일 “다른 지역의 정책 특성과 공직 문화를 배우기 위해 5개 시 도가 사무관 1명을 한 해 동안 교환근무하게 하는 제도를 시작한다”고 밝혔다.\\n\\n 광역단체들이 교환근무를 시행하는 것은 이번이 처음이다. 지난 6월 서울시청에서 열린 지역상생포럼에서 이낙연 전남지사가 제..']\n",
            "\n",
            "\n",
            "==================================================================================\n",
            "\n",
            "\n",
            "토픽       30: 토픽 개수      854, 전체 퍼센트    2.732%\n",
            "0    원자력안전위원회\n",
            "1          안전\n",
            "2          운영\n",
            "3         신고리\n",
            "4          가동\n",
            "5          확인\n",
            "6          허가\n",
            "7          승인\n",
            "8          국내\n",
            "9          검사\n",
            "Name: #30, dtype: object\n",
            "[\"전남 영광 한빛원전원자력발전소의 격납건물에서 발견된 다수의 공극(구멍)은 건설 당시 부실하게 지어진데다 이후 관리 미흡으로 비롯됐다는 조사 결과가 나왔다. \\n \\n 1일 전남 영광 주민, 환경단체, 전문가 등으로 구성된 '한빛원전원자력발전소 민관합동조사단'은 영광군청에서 한빛원전원자력발전소 안전성 검증 조사 보고회를 열었다. \\n \\n 조사단은 지난 2년간 한빛원전원자력발전소 격납건물의 방사능 유출 ..\"\n",
            " '원자력안전위원회 산하 원자력안전재단이 원자력발전소 종사자 19만명의 개인 정보 1090만여 건이 노출됐는데도 불구하고 “개인 정보 유출은 확인되지 않았다”며 은폐해온 것으로 11일 나타났다. \\n \\n국민의힘 박성중 의원실이 입수한 ‘방사선작업종사자 종합 정보 시스템(RAWIS) 개인 정보 노출 의심 사례 정밀 분석’ 보고서에 따르면, 원자력안전재단 시스템 서버는..'\n",
            " '일본의 아베(安倍晋三) 정부가 원자력발전소 재가동을 본격화할 태세다. \\n \\n니혼게이자이신문은 12일 후쿠이(福井)현에 있는 간사이(關西)전력 다카하마(高浜)원자력발전소 3 4호기가 재가동을 위한 새로운 안전 심사를 연내에 통과할 전망이라고 보도했다. \\n \\n다카하마 3 4호기는 정부 기구인 원자력규제위원회로부터 연내에 합격 내정을 받을 전망이며, 그로부터 1개월 ..'\n",
            " '대한체육회가 도쿄올림픽 조직위원회에 방사능 문제와 관련한 안전성 검사를 국제원자력기구(국제원자력기구) 등 국제기구에 의뢰해 조사키로 하는 방안을 건의할 방침인 것으로 확인됐다. 공신력 있는 제3의 기관에 의뢰해 객관적인 데이터를 확인하겠다는 취지다. 건의가 받아들여질 경우 일본 방사능 문제가 국제 이슈로 떠오를 것으로 보인다. \\n \\n 노태강 문화체육관광부 2..'\n",
            " '정부가 원자력발전소같은 국가주요시설물과 문화재 등 422개소에 설치된 불량 불꽃감지기 4641개를 전량 폐기 교체하기로 했다. 하지만 원자력발전소 3곳은 내년 8월에야 교체가 가능하다. 불꽃감지기는 작은 불꽃을 감지해 관할 소방서로 자동 통보해 대형 화재를 막는 고가의 첨단 방재시스템이다. \\n\\n\\n \\n\\n\\n소방방재청은 16일 정부서울청사에서 불량 불꽃감지기 근절대책을 발..'\n",
            " '국내 연구진이 ‘제2의 후쿠시마 원자력발전소 사고’를 막을 수 있는 안전장치를 개발했다. 문제가 생길 경우 원자력발전소을 중지시키는 동시에 냉각시키는 ‘하이브리드 제어봉’이다. 제어봉은 원자로 내부에 핵분열 반응을 정지시키는 장치다. \\n \\n 울산과학기술대(UNIST)는 기계 및 원자력공학부 방인철(사진) 교수팀이 기존 발전용 원자로에 들어가는 제어봉에 ‘히트 파이프’..'\n",
            " '원자로 격납용기는 후쿠시마 원자력발전소사고에서 보았듯이 원자력발전소의 가장 중요한 안전설비 중 하나다. 원자로가 녹는 상황에서도 격납용기가 적절하게 기능했다면 사고 피해를 상당부분 줄일 수 있었기 때문에 그 중요성은 더 이상 말할 필요도 없다.\\n\\n따라서 계속운전을 위해 새롭게 인허가 승인이 되는 시점에서는 초기 설계 단계에서 적용된 안전기준이 계속운전 시점에서 적용되..'\n",
            " '원자력발전소 비리에 대한 과징금이 현재 5000만원에서 50억원으로 100배 인상되고 제보자에게 최대 10억원의 포상금이 지급된다. 또 원자력안전위원회가 특별사법경찰관을 선임해 원자력발전소비리를 직접 조사한다. 원자력안전위원회는 14일 열린 대통령 업무보고 자리에서 법무부와 관련 법 개정을 논의하겠다고 밝혔다.'\n",
            " 'ㆍ원자력안전연구회 워크숍 “기술적 실수 많았다” 분석 쏟아져\\n\\n지난 10일 발생한 한빛원전 원자력발전소 1호기 출력급증 사건 진행 과정에 해소되지 않은 의문점이 많다는 지적이 일고 있다. 원자력발전소 운영사인 한국수력원자력의 열출력 계산 방식에 왜 오류가 있었는지, 제어봉 계산 실수 원인이 무엇인지 등이 확인돼야 한다는 게 전문가들의 진단이다.\\n\\n30일 원자력공학 전문가..'\n",
            " '정부가 10일 원자력발전소 비리 근절 대책을 내놓았으나 사후약방문식 대책보다는 근본적으로 원자력발전소의 비중을 줄이면서 안전 규제를 강화해야 한다는 지적이 나온다. 수명을 다한 원자력발전소 설비를 안전하게 해체할 수 있는 기술개발도 과제로 떠오른다.\\n\\n\\n원자력안전위원회가 국회 미래창조과학방송특별위 소속 강동원(무소속) 의원에게 제출한 국정감사 자료에 따르면 1978년 국내 ..'\n",
            " '원자로 건물에 쓰이는 보온재를 납품하는 ㄷ사 대표 김아무개씨는 2008년부터 고리원자력발전소원자력발전소 2호기에 들어갈 제품을 납품했다. 격납건물 내부의 배관 등에 사용되는 보온재는 내진 내열 성능 점검을 거쳐 인증된 특수 보온재를 사용해야 한다. 설치할 때도 스테인리스 케이스로 감싼 뒤 2중클립으로 고정시켜야 한다. 하지만 김 대표는 화재나 충격에 약한 일반 보온재를 ..'\n",
            " '고리원자력발전소원자력발전소의 7번째 발전기인 울산 울주군 신고리원자력발전소원자력발전소3호기가 본격 상업운전을 앞두고 있다. 또 신고리원자력발전소원자력발전소4호기는 완공단계에, 5ㆍ6호기는 건설을 앞두고 있다. 국내최대 발전설비인 신고리원자력발전소원자력발전소3호기는 최고의 기술력과 안전성이 집적된 국내원자력발전소기술의 총아로 평가되고 있다. 그러나 최근 일본과 에콰도르 등에서 잇단 지진이 발생하면서 국내 원자력발전소에 대한 우려감도 커지고 있다. 고..'\n",
            " '원자력안전위원회 산하 기관인 한국원자력안전재단이 원자력발전소 종사자 19만명의 개인 정보가 담긴 시스템에 4년간 악성 코드가 심어진 사실을 전혀 모르고 있다가 지난달 처음 발견하고 조치한 것으로 19일 확인됐다. 원자력안전위원회가 매년 보안 점검을 실시하고도 4년 동안 이를 적발하지 못해 원자력발전소 보안에 구멍이 뚫렸다는 비판이 제기됐다. \\n \\n바른미래당 신용현 의..'\n",
            " '“신고리원자력발전소원자력발전소원자력발전소 3, 4호기는 최첨단 기술과 공법을 적용해 안전을 최우선시해 만든 수출형 원자력발전소입니다.”\\n\\n지난 3일 울산 울주군 서생면 신고리원자력발전소원자력발전소원자력발전소 건설현장에서 만난 김인엽(사진) 신고리원자력발전소원자력발전소원자력발전소 3, 4호기 건설현장 대표 소장(현대건설 전무)은 “40년 이상 축적한 원자력발전소 시공 경험과 노하우를 바탕으로 철저한 공기 준수와 효과적인 건설 관리로 원자력발전소 안전성 확보에 ..'\n",
            " '불량 케이블 교체로 가동 시점이 불투명해진 신고리원자력발전소원자력발전소 원자력발전소 3호기와 관련, 한국수력원자력이 내년 말 시운전을 거쳐 2015년 9월 상업운전에 들어가겠다는 세부 일정을 세운 것으로 확인됐다. 그러나 케이블 교체작업과 완공 후 운영허가 심사 등에 걸리는 시간이 유동적이어서, 이 같은 일정이 지켜질 수 있을지는 여전히 미지수다.\\n\\n또 어떤 경우든 내년 여..'\n",
            " '한국수력원자력이 국내에서 12번째이자 마지막으로 건설된 100만㎾급 개선형 한국표준형원자력발전소(OPR1000)인 신월성원자력발전소 2호기가 24일 상업운전에 들어갔다고 밝혔다. 경북 경주시 양남면에 건설된 신월성 2호기는 국내 24번째 원자력발전소으로 2005년 10월 공사를 시작해 10년 만에 상업운전을 시작했다. 한국수력원자력 관계자는 “연간 79억㎾h의 전기 생산이 가능한 ..'\n",
            " '원자력발전소 비파괴 검사 용역 입찰 과정에서 상습적으로 담합 행위를 벌여 온 7개사에 모두 50억원의 과징금이 부과됐다. 비파괴 검사란 시설을 부수지 않고 내부 균열 등 안전성을 조사하는 검사다. 이번에 적발된 업체 중 6곳은 지난해에도 같은 혐의로 적발됐다. \\n \\n 공정거래위원회는 한국수력원자력이 발주한 용역 사업을 담합해 수주한 삼영검사엔지니어링 등..'\n",
            " '일본 정부가 도쿄전력의 원자력발전소 재가동을 전제로 한 재건계획을 승인했다. 다음 달 9일 열리는 도쿄도 지사 보궐선거에서 원자력발전소 재가동 문제가 선거쟁점으로 부상한 상황에서 일본 정부의 움직임이 관심을 모으고 있다. \\n \\n16일 요미우리신문 등 일본 언론은 후쿠시마 제1원자력발전소 사고 당사자인 도쿄전력이 만든 원자력발전소 관련 종합특별사업계획을 정부가 승인했다고 전했..'\n",
            " '한국수력원자력, 국회에 요구 자료 제출\\n\\n\\n\\n한국수력원자력이 “문미옥 전 청와대 과학기술보좌관이 재임기간(2017년 6월 2018년 12월) 중 월성 원자력발전소에 출입한 기록이 없고, 문재인 정부 청와대 관계자의 방문기록도 없다”며 “원자로 건물 외벽 철근 노출 사고는 중외교관고에 해당하지 않고 (월성 1호기에 대한) 구조건전성 평가 시행 결과 문제가 없는 것을 확인..'\n",
            " '원자력안전위원회가 28일 공개한 신고리원자력발전소원자력발전소 1~4호기, 신월성 1 2호기 부품 서류 위조사건의 특징은 부품 성능을 평가하는 시험기관이 서류를 조작했다는 점이다. 납품업체가 아니라 시험기관이 직접 서류를 조작하면 불량 부품 사용 여부를 파악하기 어렵다. 실제 지난해 영광 원자력발전소 등에서 문제가 됐던 부품은 모두 납품업체가 서류를 위조한 경우였다. 원자력안전위원회는 실제 ..']\n",
            "\n",
            "\n",
            "==================================================================================\n",
            "\n",
            "\n"
          ]
        }
      ]
    },
    {
      "cell_type": "code",
      "source": [
        "theta_df.head()"
      ],
      "metadata": {
        "id": "8cCBzEXbBXOk",
        "colab": {
          "base_uri": "https://localhost:8080/",
          "height": 1000
        },
        "outputId": "e2018b78-256d-4b27-dd33-1f3afa38f220"
      },
      "execution_count": null,
      "outputs": [
        {
          "output_type": "execute_result",
          "data": {
            "text/plain": [
              "             id      date press  \\\n",
              "0  1.100401e+06  20170509  동아일보   \n",
              "1  1.101101e+06  20170508  한국일보   \n",
              "2  1.100101e+06  20170508  경향신문   \n",
              "3  1.100101e+06  20170508  경향신문   \n",
              "4  1.101001e+06  20170508   한겨레   \n",
              "\n",
              "                                            maintext      date1 year-month  \\\n",
              "0  석탄발전 퇴출과 원자력발전소 축소, 재생에너지 확대는 대선 후보 대부분의 에너지 정... 2017-05-09    2017-05   \n",
              "1  도널드 트럼프 미국 행정부 요청으로 중국이 대북 압박을 강화하는 것으로 알려졌지만,... 2017-05-08    2017-05   \n",
              "2  ■마지막 한마디\\n\\n“저 문재인에게 당면한 나라의 위기를 극복할 힘을 주십시오. ... 2017-05-08    2017-05   \n",
              "3  ■마지막 한마디\\n\\n“많은 분들이 유승민 참 좋은데 찍으면 사표 될까봐 걱정하십니... 2017-05-08    2017-05   \n",
              "4  주요 5개 정당 대선 후보들이 대통령에 당선되면 지방분권에 관심을 갖고 헌법 개정 ... 2017-05-08    2017-05   \n",
              "\n",
              "                                               nouns        #1        #2  \\\n",
              "0  ['석탄', '발전', '퇴출', '원자력발전소', '축소', '재생에너지', '확...  0.077733  0.000697   \n",
              "1  ['도널드', '트럼프', '미국', '행정부', '요청', '중국', '대북', ...  0.000991  0.000647   \n",
              "2  ['마지막', '한마디', '문재인', '당면', '나라', '위기', '극복', ...  0.001385  0.000905   \n",
              "3  ['마지막', '한마디', '유승민', '사표', '걱정', '소신', '양심', ...  0.537364  0.039313   \n",
              "4  ['주요', '정당', '대선', '후보', '대통령', '당선', '지방', '분...  0.544784  0.000618   \n",
              "\n",
              "         #3  ...       #22       #23       #24       #25       #26       #27  \\\n",
              "0  0.000591  ...  0.000637  0.000479  0.000586  0.001296  0.000665  0.000615   \n",
              "1  0.000549  ...  0.000591  0.000445  0.000544  0.001204  0.000617  0.000571   \n",
              "2  0.000768  ...  0.000827  0.000622  0.000761  0.001683  0.000863  0.000799   \n",
              "3  0.000885  ...  0.000954  0.000717  0.000878  0.001941  0.000995  0.000921   \n",
              "4  0.000524  ...  0.000565  0.000425  0.000520  0.001149  0.000589  0.000545   \n",
              "\n",
              "        #28       #29       #30  topic  \n",
              "0  0.000663  0.077580  0.001293     #8  \n",
              "1  0.000616  0.000849  0.001200    #16  \n",
              "2  0.199993  0.001187  0.001679    #19  \n",
              "3  0.000993  0.001369  0.001936     #1  \n",
              "4  0.000588  0.000810  0.001146     #1  \n",
              "\n",
              "[5 rows x 38 columns]"
            ],
            "text/html": [
              "\n",
              "  <div id=\"df-2a296446-1dd5-4cae-977d-1c49bdaffa3d\">\n",
              "    <div class=\"colab-df-container\">\n",
              "      <div>\n",
              "<style scoped>\n",
              "    .dataframe tbody tr th:only-of-type {\n",
              "        vertical-align: middle;\n",
              "    }\n",
              "\n",
              "    .dataframe tbody tr th {\n",
              "        vertical-align: top;\n",
              "    }\n",
              "\n",
              "    .dataframe thead th {\n",
              "        text-align: right;\n",
              "    }\n",
              "</style>\n",
              "<table border=\"1\" class=\"dataframe\">\n",
              "  <thead>\n",
              "    <tr style=\"text-align: right;\">\n",
              "      <th></th>\n",
              "      <th>id</th>\n",
              "      <th>date</th>\n",
              "      <th>press</th>\n",
              "      <th>maintext</th>\n",
              "      <th>date1</th>\n",
              "      <th>year-month</th>\n",
              "      <th>nouns</th>\n",
              "      <th>#1</th>\n",
              "      <th>#2</th>\n",
              "      <th>#3</th>\n",
              "      <th>...</th>\n",
              "      <th>#22</th>\n",
              "      <th>#23</th>\n",
              "      <th>#24</th>\n",
              "      <th>#25</th>\n",
              "      <th>#26</th>\n",
              "      <th>#27</th>\n",
              "      <th>#28</th>\n",
              "      <th>#29</th>\n",
              "      <th>#30</th>\n",
              "      <th>topic</th>\n",
              "    </tr>\n",
              "  </thead>\n",
              "  <tbody>\n",
              "    <tr>\n",
              "      <th>0</th>\n",
              "      <td>1.100401e+06</td>\n",
              "      <td>20170509</td>\n",
              "      <td>동아일보</td>\n",
              "      <td>석탄발전 퇴출과 원자력발전소 축소, 재생에너지 확대는 대선 후보 대부분의 에너지 정...</td>\n",
              "      <td>2017-05-09</td>\n",
              "      <td>2017-05</td>\n",
              "      <td>['석탄', '발전', '퇴출', '원자력발전소', '축소', '재생에너지', '확...</td>\n",
              "      <td>0.077733</td>\n",
              "      <td>0.000697</td>\n",
              "      <td>0.000591</td>\n",
              "      <td>...</td>\n",
              "      <td>0.000637</td>\n",
              "      <td>0.000479</td>\n",
              "      <td>0.000586</td>\n",
              "      <td>0.001296</td>\n",
              "      <td>0.000665</td>\n",
              "      <td>0.000615</td>\n",
              "      <td>0.000663</td>\n",
              "      <td>0.077580</td>\n",
              "      <td>0.001293</td>\n",
              "      <td>#8</td>\n",
              "    </tr>\n",
              "    <tr>\n",
              "      <th>1</th>\n",
              "      <td>1.101101e+06</td>\n",
              "      <td>20170508</td>\n",
              "      <td>한국일보</td>\n",
              "      <td>도널드 트럼프 미국 행정부 요청으로 중국이 대북 압박을 강화하는 것으로 알려졌지만,...</td>\n",
              "      <td>2017-05-08</td>\n",
              "      <td>2017-05</td>\n",
              "      <td>['도널드', '트럼프', '미국', '행정부', '요청', '중국', '대북', ...</td>\n",
              "      <td>0.000991</td>\n",
              "      <td>0.000647</td>\n",
              "      <td>0.000549</td>\n",
              "      <td>...</td>\n",
              "      <td>0.000591</td>\n",
              "      <td>0.000445</td>\n",
              "      <td>0.000544</td>\n",
              "      <td>0.001204</td>\n",
              "      <td>0.000617</td>\n",
              "      <td>0.000571</td>\n",
              "      <td>0.000616</td>\n",
              "      <td>0.000849</td>\n",
              "      <td>0.001200</td>\n",
              "      <td>#16</td>\n",
              "    </tr>\n",
              "    <tr>\n",
              "      <th>2</th>\n",
              "      <td>1.100101e+06</td>\n",
              "      <td>20170508</td>\n",
              "      <td>경향신문</td>\n",
              "      <td>■마지막 한마디\\n\\n“저 문재인에게 당면한 나라의 위기를 극복할 힘을 주십시오. ...</td>\n",
              "      <td>2017-05-08</td>\n",
              "      <td>2017-05</td>\n",
              "      <td>['마지막', '한마디', '문재인', '당면', '나라', '위기', '극복', ...</td>\n",
              "      <td>0.001385</td>\n",
              "      <td>0.000905</td>\n",
              "      <td>0.000768</td>\n",
              "      <td>...</td>\n",
              "      <td>0.000827</td>\n",
              "      <td>0.000622</td>\n",
              "      <td>0.000761</td>\n",
              "      <td>0.001683</td>\n",
              "      <td>0.000863</td>\n",
              "      <td>0.000799</td>\n",
              "      <td>0.199993</td>\n",
              "      <td>0.001187</td>\n",
              "      <td>0.001679</td>\n",
              "      <td>#19</td>\n",
              "    </tr>\n",
              "    <tr>\n",
              "      <th>3</th>\n",
              "      <td>1.100101e+06</td>\n",
              "      <td>20170508</td>\n",
              "      <td>경향신문</td>\n",
              "      <td>■마지막 한마디\\n\\n“많은 분들이 유승민 참 좋은데 찍으면 사표 될까봐 걱정하십니...</td>\n",
              "      <td>2017-05-08</td>\n",
              "      <td>2017-05</td>\n",
              "      <td>['마지막', '한마디', '유승민', '사표', '걱정', '소신', '양심', ...</td>\n",
              "      <td>0.537364</td>\n",
              "      <td>0.039313</td>\n",
              "      <td>0.000885</td>\n",
              "      <td>...</td>\n",
              "      <td>0.000954</td>\n",
              "      <td>0.000717</td>\n",
              "      <td>0.000878</td>\n",
              "      <td>0.001941</td>\n",
              "      <td>0.000995</td>\n",
              "      <td>0.000921</td>\n",
              "      <td>0.000993</td>\n",
              "      <td>0.001369</td>\n",
              "      <td>0.001936</td>\n",
              "      <td>#1</td>\n",
              "    </tr>\n",
              "    <tr>\n",
              "      <th>4</th>\n",
              "      <td>1.101001e+06</td>\n",
              "      <td>20170508</td>\n",
              "      <td>한겨레</td>\n",
              "      <td>주요 5개 정당 대선 후보들이 대통령에 당선되면 지방분권에 관심을 갖고 헌법 개정 ...</td>\n",
              "      <td>2017-05-08</td>\n",
              "      <td>2017-05</td>\n",
              "      <td>['주요', '정당', '대선', '후보', '대통령', '당선', '지방', '분...</td>\n",
              "      <td>0.544784</td>\n",
              "      <td>0.000618</td>\n",
              "      <td>0.000524</td>\n",
              "      <td>...</td>\n",
              "      <td>0.000565</td>\n",
              "      <td>0.000425</td>\n",
              "      <td>0.000520</td>\n",
              "      <td>0.001149</td>\n",
              "      <td>0.000589</td>\n",
              "      <td>0.000545</td>\n",
              "      <td>0.000588</td>\n",
              "      <td>0.000810</td>\n",
              "      <td>0.001146</td>\n",
              "      <td>#1</td>\n",
              "    </tr>\n",
              "  </tbody>\n",
              "</table>\n",
              "<p>5 rows × 38 columns</p>\n",
              "</div>\n",
              "      <button class=\"colab-df-convert\" onclick=\"convertToInteractive('df-2a296446-1dd5-4cae-977d-1c49bdaffa3d')\"\n",
              "              title=\"Convert this dataframe to an interactive table.\"\n",
              "              style=\"display:none;\">\n",
              "        \n",
              "  <svg xmlns=\"http://www.w3.org/2000/svg\" height=\"24px\"viewBox=\"0 0 24 24\"\n",
              "       width=\"24px\">\n",
              "    <path d=\"M0 0h24v24H0V0z\" fill=\"none\"/>\n",
              "    <path d=\"M18.56 5.44l.94 2.06.94-2.06 2.06-.94-2.06-.94-.94-2.06-.94 2.06-2.06.94zm-11 1L8.5 8.5l.94-2.06 2.06-.94-2.06-.94L8.5 2.5l-.94 2.06-2.06.94zm10 10l.94 2.06.94-2.06 2.06-.94-2.06-.94-.94-2.06-.94 2.06-2.06.94z\"/><path d=\"M17.41 7.96l-1.37-1.37c-.4-.4-.92-.59-1.43-.59-.52 0-1.04.2-1.43.59L10.3 9.45l-7.72 7.72c-.78.78-.78 2.05 0 2.83L4 21.41c.39.39.9.59 1.41.59.51 0 1.02-.2 1.41-.59l7.78-7.78 2.81-2.81c.8-.78.8-2.07 0-2.86zM5.41 20L4 18.59l7.72-7.72 1.47 1.35L5.41 20z\"/>\n",
              "  </svg>\n",
              "      </button>\n",
              "      \n",
              "  <style>\n",
              "    .colab-df-container {\n",
              "      display:flex;\n",
              "      flex-wrap:wrap;\n",
              "      gap: 12px;\n",
              "    }\n",
              "\n",
              "    .colab-df-convert {\n",
              "      background-color: #E8F0FE;\n",
              "      border: none;\n",
              "      border-radius: 50%;\n",
              "      cursor: pointer;\n",
              "      display: none;\n",
              "      fill: #1967D2;\n",
              "      height: 32px;\n",
              "      padding: 0 0 0 0;\n",
              "      width: 32px;\n",
              "    }\n",
              "\n",
              "    .colab-df-convert:hover {\n",
              "      background-color: #E2EBFA;\n",
              "      box-shadow: 0px 1px 2px rgba(60, 64, 67, 0.3), 0px 1px 3px 1px rgba(60, 64, 67, 0.15);\n",
              "      fill: #174EA6;\n",
              "    }\n",
              "\n",
              "    [theme=dark] .colab-df-convert {\n",
              "      background-color: #3B4455;\n",
              "      fill: #D2E3FC;\n",
              "    }\n",
              "\n",
              "    [theme=dark] .colab-df-convert:hover {\n",
              "      background-color: #434B5C;\n",
              "      box-shadow: 0px 1px 3px 1px rgba(0, 0, 0, 0.15);\n",
              "      filter: drop-shadow(0px 1px 2px rgba(0, 0, 0, 0.3));\n",
              "      fill: #FFFFFF;\n",
              "    }\n",
              "  </style>\n",
              "\n",
              "      <script>\n",
              "        const buttonEl =\n",
              "          document.querySelector('#df-2a296446-1dd5-4cae-977d-1c49bdaffa3d button.colab-df-convert');\n",
              "        buttonEl.style.display =\n",
              "          google.colab.kernel.accessAllowed ? 'block' : 'none';\n",
              "\n",
              "        async function convertToInteractive(key) {\n",
              "          const element = document.querySelector('#df-2a296446-1dd5-4cae-977d-1c49bdaffa3d');\n",
              "          const dataTable =\n",
              "            await google.colab.kernel.invokeFunction('convertToInteractive',\n",
              "                                                     [key], {});\n",
              "          if (!dataTable) return;\n",
              "\n",
              "          const docLinkHtml = 'Like what you see? Visit the ' +\n",
              "            '<a target=\"_blank\" href=https://colab.research.google.com/notebooks/data_table.ipynb>data table notebook</a>'\n",
              "            + ' to learn more about interactive tables.';\n",
              "          element.innerHTML = '';\n",
              "          dataTable['output_type'] = 'display_data';\n",
              "          await google.colab.output.renderOutput(dataTable, element);\n",
              "          const docLink = document.createElement('div');\n",
              "          docLink.innerHTML = docLinkHtml;\n",
              "          element.appendChild(docLink);\n",
              "        }\n",
              "      </script>\n",
              "    </div>\n",
              "  </div>\n",
              "  "
            ]
          },
          "metadata": {},
          "execution_count": 27
        }
      ]
    },
    {
      "cell_type": "markdown",
      "source": [
        "## 분석을 위한 데이터프레임 가공"
      ],
      "metadata": {
        "id": "LaZwTDS2N6wY"
      }
    },
    {
      "cell_type": "code",
      "source": [
        "#데이터프레임 피봇\n",
        "groupby_topic=theta_df[['id','press','topic']].groupby(['press','topic']).agg('count')\n",
        "group_pivot=groupby_topic.pivot_table(index='press',columns='topic')\n",
        "group_pivot=group_pivot['id']"
      ],
      "metadata": {
        "id": "BOSBvxylN-E6"
      },
      "execution_count": null,
      "outputs": []
    },
    {
      "cell_type": "code",
      "source": [
        "#토픽 번호 데이터프레임 생성\n",
        "df=[]\n",
        "for i in range(1,31):\n",
        "  df.append('#'+str(i))\n",
        "group_pivot=group_pivot[df]"
      ],
      "metadata": {
        "id": "S8-WHC0bN5-0"
      },
      "execution_count": null,
      "outputs": []
    },
    {
      "cell_type": "code",
      "source": [
        "#토픽별 집계\n",
        "groupby_topic=theta_df[['id','press','topic']].groupby(['press','topic']).agg('count')"
      ],
      "metadata": {
        "id": "qHzGqG7Rp18v"
      },
      "execution_count": null,
      "outputs": []
    },
    {
      "cell_type": "code",
      "source": [
        "groupby_topic"
      ],
      "metadata": {
        "colab": {
          "base_uri": "https://localhost:8080/",
          "height": 455
        },
        "id": "yEt7-aP4rrD5",
        "outputId": "ae97df5b-d8f0-4d74-9e21-10f4482b484c"
      },
      "execution_count": null,
      "outputs": [
        {
          "output_type": "execute_result",
          "data": {
            "text/plain": [
              "              id\n",
              "press topic     \n",
              "경향신문  #1     158\n",
              "      #10    158\n",
              "      #11    116\n",
              "      #12    232\n",
              "      #13     75\n",
              "...          ...\n",
              "한국일보  #5      77\n",
              "      #6      62\n",
              "      #7     188\n",
              "      #8     114\n",
              "      #9      41\n",
              "\n",
              "[330 rows x 1 columns]"
            ],
            "text/html": [
              "\n",
              "  <div id=\"df-95b0b207-79f3-4125-bc83-989a5a097797\">\n",
              "    <div class=\"colab-df-container\">\n",
              "      <div>\n",
              "<style scoped>\n",
              "    .dataframe tbody tr th:only-of-type {\n",
              "        vertical-align: middle;\n",
              "    }\n",
              "\n",
              "    .dataframe tbody tr th {\n",
              "        vertical-align: top;\n",
              "    }\n",
              "\n",
              "    .dataframe thead th {\n",
              "        text-align: right;\n",
              "    }\n",
              "</style>\n",
              "<table border=\"1\" class=\"dataframe\">\n",
              "  <thead>\n",
              "    <tr style=\"text-align: right;\">\n",
              "      <th></th>\n",
              "      <th></th>\n",
              "      <th>id</th>\n",
              "    </tr>\n",
              "    <tr>\n",
              "      <th>press</th>\n",
              "      <th>topic</th>\n",
              "      <th></th>\n",
              "    </tr>\n",
              "  </thead>\n",
              "  <tbody>\n",
              "    <tr>\n",
              "      <th rowspan=\"5\" valign=\"top\">경향신문</th>\n",
              "      <th>#1</th>\n",
              "      <td>158</td>\n",
              "    </tr>\n",
              "    <tr>\n",
              "      <th>#10</th>\n",
              "      <td>158</td>\n",
              "    </tr>\n",
              "    <tr>\n",
              "      <th>#11</th>\n",
              "      <td>116</td>\n",
              "    </tr>\n",
              "    <tr>\n",
              "      <th>#12</th>\n",
              "      <td>232</td>\n",
              "    </tr>\n",
              "    <tr>\n",
              "      <th>#13</th>\n",
              "      <td>75</td>\n",
              "    </tr>\n",
              "    <tr>\n",
              "      <th>...</th>\n",
              "      <th>...</th>\n",
              "      <td>...</td>\n",
              "    </tr>\n",
              "    <tr>\n",
              "      <th rowspan=\"5\" valign=\"top\">한국일보</th>\n",
              "      <th>#5</th>\n",
              "      <td>77</td>\n",
              "    </tr>\n",
              "    <tr>\n",
              "      <th>#6</th>\n",
              "      <td>62</td>\n",
              "    </tr>\n",
              "    <tr>\n",
              "      <th>#7</th>\n",
              "      <td>188</td>\n",
              "    </tr>\n",
              "    <tr>\n",
              "      <th>#8</th>\n",
              "      <td>114</td>\n",
              "    </tr>\n",
              "    <tr>\n",
              "      <th>#9</th>\n",
              "      <td>41</td>\n",
              "    </tr>\n",
              "  </tbody>\n",
              "</table>\n",
              "<p>330 rows × 1 columns</p>\n",
              "</div>\n",
              "      <button class=\"colab-df-convert\" onclick=\"convertToInteractive('df-95b0b207-79f3-4125-bc83-989a5a097797')\"\n",
              "              title=\"Convert this dataframe to an interactive table.\"\n",
              "              style=\"display:none;\">\n",
              "        \n",
              "  <svg xmlns=\"http://www.w3.org/2000/svg\" height=\"24px\"viewBox=\"0 0 24 24\"\n",
              "       width=\"24px\">\n",
              "    <path d=\"M0 0h24v24H0V0z\" fill=\"none\"/>\n",
              "    <path d=\"M18.56 5.44l.94 2.06.94-2.06 2.06-.94-2.06-.94-.94-2.06-.94 2.06-2.06.94zm-11 1L8.5 8.5l.94-2.06 2.06-.94-2.06-.94L8.5 2.5l-.94 2.06-2.06.94zm10 10l.94 2.06.94-2.06 2.06-.94-2.06-.94-.94-2.06-.94 2.06-2.06.94z\"/><path d=\"M17.41 7.96l-1.37-1.37c-.4-.4-.92-.59-1.43-.59-.52 0-1.04.2-1.43.59L10.3 9.45l-7.72 7.72c-.78.78-.78 2.05 0 2.83L4 21.41c.39.39.9.59 1.41.59.51 0 1.02-.2 1.41-.59l7.78-7.78 2.81-2.81c.8-.78.8-2.07 0-2.86zM5.41 20L4 18.59l7.72-7.72 1.47 1.35L5.41 20z\"/>\n",
              "  </svg>\n",
              "      </button>\n",
              "      \n",
              "  <style>\n",
              "    .colab-df-container {\n",
              "      display:flex;\n",
              "      flex-wrap:wrap;\n",
              "      gap: 12px;\n",
              "    }\n",
              "\n",
              "    .colab-df-convert {\n",
              "      background-color: #E8F0FE;\n",
              "      border: none;\n",
              "      border-radius: 50%;\n",
              "      cursor: pointer;\n",
              "      display: none;\n",
              "      fill: #1967D2;\n",
              "      height: 32px;\n",
              "      padding: 0 0 0 0;\n",
              "      width: 32px;\n",
              "    }\n",
              "\n",
              "    .colab-df-convert:hover {\n",
              "      background-color: #E2EBFA;\n",
              "      box-shadow: 0px 1px 2px rgba(60, 64, 67, 0.3), 0px 1px 3px 1px rgba(60, 64, 67, 0.15);\n",
              "      fill: #174EA6;\n",
              "    }\n",
              "\n",
              "    [theme=dark] .colab-df-convert {\n",
              "      background-color: #3B4455;\n",
              "      fill: #D2E3FC;\n",
              "    }\n",
              "\n",
              "    [theme=dark] .colab-df-convert:hover {\n",
              "      background-color: #434B5C;\n",
              "      box-shadow: 0px 1px 3px 1px rgba(0, 0, 0, 0.15);\n",
              "      filter: drop-shadow(0px 1px 2px rgba(0, 0, 0, 0.3));\n",
              "      fill: #FFFFFF;\n",
              "    }\n",
              "  </style>\n",
              "\n",
              "      <script>\n",
              "        const buttonEl =\n",
              "          document.querySelector('#df-95b0b207-79f3-4125-bc83-989a5a097797 button.colab-df-convert');\n",
              "        buttonEl.style.display =\n",
              "          google.colab.kernel.accessAllowed ? 'block' : 'none';\n",
              "\n",
              "        async function convertToInteractive(key) {\n",
              "          const element = document.querySelector('#df-95b0b207-79f3-4125-bc83-989a5a097797');\n",
              "          const dataTable =\n",
              "            await google.colab.kernel.invokeFunction('convertToInteractive',\n",
              "                                                     [key], {});\n",
              "          if (!dataTable) return;\n",
              "\n",
              "          const docLinkHtml = 'Like what you see? Visit the ' +\n",
              "            '<a target=\"_blank\" href=https://colab.research.google.com/notebooks/data_table.ipynb>data table notebook</a>'\n",
              "            + ' to learn more about interactive tables.';\n",
              "          element.innerHTML = '';\n",
              "          dataTable['output_type'] = 'display_data';\n",
              "          await google.colab.output.renderOutput(dataTable, element);\n",
              "          const docLink = document.createElement('div');\n",
              "          docLink.innerHTML = docLinkHtml;\n",
              "          element.appendChild(docLink);\n",
              "        }\n",
              "      </script>\n",
              "    </div>\n",
              "  </div>\n",
              "  "
            ]
          },
          "metadata": {},
          "execution_count": 34
        }
      ]
    },
    {
      "cell_type": "code",
      "source": [
        "group_pivot"
      ],
      "metadata": {
        "colab": {
          "base_uri": "https://localhost:8080/",
          "height": 455
        },
        "id": "KftzqZlM3c1g",
        "outputId": "4655f96b-88a1-4029-d385-fb350bdb8779"
      },
      "execution_count": null,
      "outputs": [
        {
          "output_type": "execute_result",
          "data": {
            "text/plain": [
              "topic   #1  #10  #11  #12  #13  #14  #15  #16  #17  #18  ...  #28  #29   #3  \\\n",
              "press                                                    ...                  \n",
              "경향신문   158  158  116  232   75   44  208  129  111  110  ...   72  108  126   \n",
              "국민일보    93  167   92  133   72   19   93  120  159  111  ...   61   61   84   \n",
              "내일신문    38   26   75   16   41   30   32   17  127   32  ...   16   50   14   \n",
              "동아일보    88   82   69   72   70   58   54  108  151   78  ...   80   51   58   \n",
              "문화일보    76   60  141   67   44   11   31  109  145   39  ...   85   62   48   \n",
              "서울신문    85  191   82  139   71   37   59  112   95   87  ...   84  100   67   \n",
              "세계일보   190  250  218  281   94   37   93  167  175  227  ...  135   75  133   \n",
              "조선일보   140   69  213   50   84   15   42  145  209  128  ...  114  101   33   \n",
              "중앙일보   177  140  157  110   73   21   41  137  155  153  ...  115   74   82   \n",
              "한겨레    137  157  105  193   52   46  226  100   82   59  ...   55  123   49   \n",
              "한국일보   129  170   81  131   59   42  103  143  186   79  ...   65   78   59   \n",
              "\n",
              "topic  #30   #4   #5  #6   #7   #8  #9  \n",
              "press                                   \n",
              "경향신문   129  218   90  71  353  180  45  \n",
              "국민일보    83  107   92  62  144  106  50  \n",
              "내일신문    32   42   57  33   49   94   5  \n",
              "동아일보   107   52   60  31   91  102  53  \n",
              "문화일보    43  114  120  62  102  235  33  \n",
              "서울신문    93   88   89  36  132   79  46  \n",
              "세계일보    96  137  100  74  337  147  81  \n",
              "조선일보    87   63  158  34  133  365  90  \n",
              "중앙일보   156  103   92  45  146  175  92  \n",
              "한겨레    175  184   77  69  252  173  29  \n",
              "한국일보   119  122   77  62  188  114  41  \n",
              "\n",
              "[11 rows x 30 columns]"
            ],
            "text/html": [
              "\n",
              "  <div id=\"df-4d196b97-3214-415a-9c09-300b20e51320\">\n",
              "    <div class=\"colab-df-container\">\n",
              "      <div>\n",
              "<style scoped>\n",
              "    .dataframe tbody tr th:only-of-type {\n",
              "        vertical-align: middle;\n",
              "    }\n",
              "\n",
              "    .dataframe tbody tr th {\n",
              "        vertical-align: top;\n",
              "    }\n",
              "\n",
              "    .dataframe thead th {\n",
              "        text-align: right;\n",
              "    }\n",
              "</style>\n",
              "<table border=\"1\" class=\"dataframe\">\n",
              "  <thead>\n",
              "    <tr style=\"text-align: right;\">\n",
              "      <th>topic</th>\n",
              "      <th>#1</th>\n",
              "      <th>#10</th>\n",
              "      <th>#11</th>\n",
              "      <th>#12</th>\n",
              "      <th>#13</th>\n",
              "      <th>#14</th>\n",
              "      <th>#15</th>\n",
              "      <th>#16</th>\n",
              "      <th>#17</th>\n",
              "      <th>#18</th>\n",
              "      <th>...</th>\n",
              "      <th>#28</th>\n",
              "      <th>#29</th>\n",
              "      <th>#3</th>\n",
              "      <th>#30</th>\n",
              "      <th>#4</th>\n",
              "      <th>#5</th>\n",
              "      <th>#6</th>\n",
              "      <th>#7</th>\n",
              "      <th>#8</th>\n",
              "      <th>#9</th>\n",
              "    </tr>\n",
              "    <tr>\n",
              "      <th>press</th>\n",
              "      <th></th>\n",
              "      <th></th>\n",
              "      <th></th>\n",
              "      <th></th>\n",
              "      <th></th>\n",
              "      <th></th>\n",
              "      <th></th>\n",
              "      <th></th>\n",
              "      <th></th>\n",
              "      <th></th>\n",
              "      <th></th>\n",
              "      <th></th>\n",
              "      <th></th>\n",
              "      <th></th>\n",
              "      <th></th>\n",
              "      <th></th>\n",
              "      <th></th>\n",
              "      <th></th>\n",
              "      <th></th>\n",
              "      <th></th>\n",
              "      <th></th>\n",
              "    </tr>\n",
              "  </thead>\n",
              "  <tbody>\n",
              "    <tr>\n",
              "      <th>경향신문</th>\n",
              "      <td>158</td>\n",
              "      <td>158</td>\n",
              "      <td>116</td>\n",
              "      <td>232</td>\n",
              "      <td>75</td>\n",
              "      <td>44</td>\n",
              "      <td>208</td>\n",
              "      <td>129</td>\n",
              "      <td>111</td>\n",
              "      <td>110</td>\n",
              "      <td>...</td>\n",
              "      <td>72</td>\n",
              "      <td>108</td>\n",
              "      <td>126</td>\n",
              "      <td>129</td>\n",
              "      <td>218</td>\n",
              "      <td>90</td>\n",
              "      <td>71</td>\n",
              "      <td>353</td>\n",
              "      <td>180</td>\n",
              "      <td>45</td>\n",
              "    </tr>\n",
              "    <tr>\n",
              "      <th>국민일보</th>\n",
              "      <td>93</td>\n",
              "      <td>167</td>\n",
              "      <td>92</td>\n",
              "      <td>133</td>\n",
              "      <td>72</td>\n",
              "      <td>19</td>\n",
              "      <td>93</td>\n",
              "      <td>120</td>\n",
              "      <td>159</td>\n",
              "      <td>111</td>\n",
              "      <td>...</td>\n",
              "      <td>61</td>\n",
              "      <td>61</td>\n",
              "      <td>84</td>\n",
              "      <td>83</td>\n",
              "      <td>107</td>\n",
              "      <td>92</td>\n",
              "      <td>62</td>\n",
              "      <td>144</td>\n",
              "      <td>106</td>\n",
              "      <td>50</td>\n",
              "    </tr>\n",
              "    <tr>\n",
              "      <th>내일신문</th>\n",
              "      <td>38</td>\n",
              "      <td>26</td>\n",
              "      <td>75</td>\n",
              "      <td>16</td>\n",
              "      <td>41</td>\n",
              "      <td>30</td>\n",
              "      <td>32</td>\n",
              "      <td>17</td>\n",
              "      <td>127</td>\n",
              "      <td>32</td>\n",
              "      <td>...</td>\n",
              "      <td>16</td>\n",
              "      <td>50</td>\n",
              "      <td>14</td>\n",
              "      <td>32</td>\n",
              "      <td>42</td>\n",
              "      <td>57</td>\n",
              "      <td>33</td>\n",
              "      <td>49</td>\n",
              "      <td>94</td>\n",
              "      <td>5</td>\n",
              "    </tr>\n",
              "    <tr>\n",
              "      <th>동아일보</th>\n",
              "      <td>88</td>\n",
              "      <td>82</td>\n",
              "      <td>69</td>\n",
              "      <td>72</td>\n",
              "      <td>70</td>\n",
              "      <td>58</td>\n",
              "      <td>54</td>\n",
              "      <td>108</td>\n",
              "      <td>151</td>\n",
              "      <td>78</td>\n",
              "      <td>...</td>\n",
              "      <td>80</td>\n",
              "      <td>51</td>\n",
              "      <td>58</td>\n",
              "      <td>107</td>\n",
              "      <td>52</td>\n",
              "      <td>60</td>\n",
              "      <td>31</td>\n",
              "      <td>91</td>\n",
              "      <td>102</td>\n",
              "      <td>53</td>\n",
              "    </tr>\n",
              "    <tr>\n",
              "      <th>문화일보</th>\n",
              "      <td>76</td>\n",
              "      <td>60</td>\n",
              "      <td>141</td>\n",
              "      <td>67</td>\n",
              "      <td>44</td>\n",
              "      <td>11</td>\n",
              "      <td>31</td>\n",
              "      <td>109</td>\n",
              "      <td>145</td>\n",
              "      <td>39</td>\n",
              "      <td>...</td>\n",
              "      <td>85</td>\n",
              "      <td>62</td>\n",
              "      <td>48</td>\n",
              "      <td>43</td>\n",
              "      <td>114</td>\n",
              "      <td>120</td>\n",
              "      <td>62</td>\n",
              "      <td>102</td>\n",
              "      <td>235</td>\n",
              "      <td>33</td>\n",
              "    </tr>\n",
              "    <tr>\n",
              "      <th>서울신문</th>\n",
              "      <td>85</td>\n",
              "      <td>191</td>\n",
              "      <td>82</td>\n",
              "      <td>139</td>\n",
              "      <td>71</td>\n",
              "      <td>37</td>\n",
              "      <td>59</td>\n",
              "      <td>112</td>\n",
              "      <td>95</td>\n",
              "      <td>87</td>\n",
              "      <td>...</td>\n",
              "      <td>84</td>\n",
              "      <td>100</td>\n",
              "      <td>67</td>\n",
              "      <td>93</td>\n",
              "      <td>88</td>\n",
              "      <td>89</td>\n",
              "      <td>36</td>\n",
              "      <td>132</td>\n",
              "      <td>79</td>\n",
              "      <td>46</td>\n",
              "    </tr>\n",
              "    <tr>\n",
              "      <th>세계일보</th>\n",
              "      <td>190</td>\n",
              "      <td>250</td>\n",
              "      <td>218</td>\n",
              "      <td>281</td>\n",
              "      <td>94</td>\n",
              "      <td>37</td>\n",
              "      <td>93</td>\n",
              "      <td>167</td>\n",
              "      <td>175</td>\n",
              "      <td>227</td>\n",
              "      <td>...</td>\n",
              "      <td>135</td>\n",
              "      <td>75</td>\n",
              "      <td>133</td>\n",
              "      <td>96</td>\n",
              "      <td>137</td>\n",
              "      <td>100</td>\n",
              "      <td>74</td>\n",
              "      <td>337</td>\n",
              "      <td>147</td>\n",
              "      <td>81</td>\n",
              "    </tr>\n",
              "    <tr>\n",
              "      <th>조선일보</th>\n",
              "      <td>140</td>\n",
              "      <td>69</td>\n",
              "      <td>213</td>\n",
              "      <td>50</td>\n",
              "      <td>84</td>\n",
              "      <td>15</td>\n",
              "      <td>42</td>\n",
              "      <td>145</td>\n",
              "      <td>209</td>\n",
              "      <td>128</td>\n",
              "      <td>...</td>\n",
              "      <td>114</td>\n",
              "      <td>101</td>\n",
              "      <td>33</td>\n",
              "      <td>87</td>\n",
              "      <td>63</td>\n",
              "      <td>158</td>\n",
              "      <td>34</td>\n",
              "      <td>133</td>\n",
              "      <td>365</td>\n",
              "      <td>90</td>\n",
              "    </tr>\n",
              "    <tr>\n",
              "      <th>중앙일보</th>\n",
              "      <td>177</td>\n",
              "      <td>140</td>\n",
              "      <td>157</td>\n",
              "      <td>110</td>\n",
              "      <td>73</td>\n",
              "      <td>21</td>\n",
              "      <td>41</td>\n",
              "      <td>137</td>\n",
              "      <td>155</td>\n",
              "      <td>153</td>\n",
              "      <td>...</td>\n",
              "      <td>115</td>\n",
              "      <td>74</td>\n",
              "      <td>82</td>\n",
              "      <td>156</td>\n",
              "      <td>103</td>\n",
              "      <td>92</td>\n",
              "      <td>45</td>\n",
              "      <td>146</td>\n",
              "      <td>175</td>\n",
              "      <td>92</td>\n",
              "    </tr>\n",
              "    <tr>\n",
              "      <th>한겨레</th>\n",
              "      <td>137</td>\n",
              "      <td>157</td>\n",
              "      <td>105</td>\n",
              "      <td>193</td>\n",
              "      <td>52</td>\n",
              "      <td>46</td>\n",
              "      <td>226</td>\n",
              "      <td>100</td>\n",
              "      <td>82</td>\n",
              "      <td>59</td>\n",
              "      <td>...</td>\n",
              "      <td>55</td>\n",
              "      <td>123</td>\n",
              "      <td>49</td>\n",
              "      <td>175</td>\n",
              "      <td>184</td>\n",
              "      <td>77</td>\n",
              "      <td>69</td>\n",
              "      <td>252</td>\n",
              "      <td>173</td>\n",
              "      <td>29</td>\n",
              "    </tr>\n",
              "    <tr>\n",
              "      <th>한국일보</th>\n",
              "      <td>129</td>\n",
              "      <td>170</td>\n",
              "      <td>81</td>\n",
              "      <td>131</td>\n",
              "      <td>59</td>\n",
              "      <td>42</td>\n",
              "      <td>103</td>\n",
              "      <td>143</td>\n",
              "      <td>186</td>\n",
              "      <td>79</td>\n",
              "      <td>...</td>\n",
              "      <td>65</td>\n",
              "      <td>78</td>\n",
              "      <td>59</td>\n",
              "      <td>119</td>\n",
              "      <td>122</td>\n",
              "      <td>77</td>\n",
              "      <td>62</td>\n",
              "      <td>188</td>\n",
              "      <td>114</td>\n",
              "      <td>41</td>\n",
              "    </tr>\n",
              "  </tbody>\n",
              "</table>\n",
              "<p>11 rows × 30 columns</p>\n",
              "</div>\n",
              "      <button class=\"colab-df-convert\" onclick=\"convertToInteractive('df-4d196b97-3214-415a-9c09-300b20e51320')\"\n",
              "              title=\"Convert this dataframe to an interactive table.\"\n",
              "              style=\"display:none;\">\n",
              "        \n",
              "  <svg xmlns=\"http://www.w3.org/2000/svg\" height=\"24px\"viewBox=\"0 0 24 24\"\n",
              "       width=\"24px\">\n",
              "    <path d=\"M0 0h24v24H0V0z\" fill=\"none\"/>\n",
              "    <path d=\"M18.56 5.44l.94 2.06.94-2.06 2.06-.94-2.06-.94-.94-2.06-.94 2.06-2.06.94zm-11 1L8.5 8.5l.94-2.06 2.06-.94-2.06-.94L8.5 2.5l-.94 2.06-2.06.94zm10 10l.94 2.06.94-2.06 2.06-.94-2.06-.94-.94-2.06-.94 2.06-2.06.94z\"/><path d=\"M17.41 7.96l-1.37-1.37c-.4-.4-.92-.59-1.43-.59-.52 0-1.04.2-1.43.59L10.3 9.45l-7.72 7.72c-.78.78-.78 2.05 0 2.83L4 21.41c.39.39.9.59 1.41.59.51 0 1.02-.2 1.41-.59l7.78-7.78 2.81-2.81c.8-.78.8-2.07 0-2.86zM5.41 20L4 18.59l7.72-7.72 1.47 1.35L5.41 20z\"/>\n",
              "  </svg>\n",
              "      </button>\n",
              "      \n",
              "  <style>\n",
              "    .colab-df-container {\n",
              "      display:flex;\n",
              "      flex-wrap:wrap;\n",
              "      gap: 12px;\n",
              "    }\n",
              "\n",
              "    .colab-df-convert {\n",
              "      background-color: #E8F0FE;\n",
              "      border: none;\n",
              "      border-radius: 50%;\n",
              "      cursor: pointer;\n",
              "      display: none;\n",
              "      fill: #1967D2;\n",
              "      height: 32px;\n",
              "      padding: 0 0 0 0;\n",
              "      width: 32px;\n",
              "    }\n",
              "\n",
              "    .colab-df-convert:hover {\n",
              "      background-color: #E2EBFA;\n",
              "      box-shadow: 0px 1px 2px rgba(60, 64, 67, 0.3), 0px 1px 3px 1px rgba(60, 64, 67, 0.15);\n",
              "      fill: #174EA6;\n",
              "    }\n",
              "\n",
              "    [theme=dark] .colab-df-convert {\n",
              "      background-color: #3B4455;\n",
              "      fill: #D2E3FC;\n",
              "    }\n",
              "\n",
              "    [theme=dark] .colab-df-convert:hover {\n",
              "      background-color: #434B5C;\n",
              "      box-shadow: 0px 1px 3px 1px rgba(0, 0, 0, 0.15);\n",
              "      filter: drop-shadow(0px 1px 2px rgba(0, 0, 0, 0.3));\n",
              "      fill: #FFFFFF;\n",
              "    }\n",
              "  </style>\n",
              "\n",
              "      <script>\n",
              "        const buttonEl =\n",
              "          document.querySelector('#df-4d196b97-3214-415a-9c09-300b20e51320 button.colab-df-convert');\n",
              "        buttonEl.style.display =\n",
              "          google.colab.kernel.accessAllowed ? 'block' : 'none';\n",
              "\n",
              "        async function convertToInteractive(key) {\n",
              "          const element = document.querySelector('#df-4d196b97-3214-415a-9c09-300b20e51320');\n",
              "          const dataTable =\n",
              "            await google.colab.kernel.invokeFunction('convertToInteractive',\n",
              "                                                     [key], {});\n",
              "          if (!dataTable) return;\n",
              "\n",
              "          const docLinkHtml = 'Like what you see? Visit the ' +\n",
              "            '<a target=\"_blank\" href=https://colab.research.google.com/notebooks/data_table.ipynb>data table notebook</a>'\n",
              "            + ' to learn more about interactive tables.';\n",
              "          element.innerHTML = '';\n",
              "          dataTable['output_type'] = 'display_data';\n",
              "          await google.colab.output.renderOutput(dataTable, element);\n",
              "          const docLink = document.createElement('div');\n",
              "          docLink.innerHTML = docLinkHtml;\n",
              "          element.appendChild(docLink);\n",
              "        }\n",
              "      </script>\n",
              "    </div>\n",
              "  </div>\n",
              "  "
            ]
          },
          "metadata": {},
          "execution_count": 96
        }
      ]
    },
    {
      "cell_type": "code",
      "source": [
        "df=[]\n",
        "for i in range(1,31):\n",
        "  df.append('#'+str(i))\n",
        "group_pivot=group_pivot[df]"
      ],
      "metadata": {
        "id": "zwnMA28Lxvsz"
      },
      "execution_count": null,
      "outputs": []
    },
    {
      "cell_type": "code",
      "source": [
        "group_pivot.to_csv('/content/drive/MyDrive/dscvr_g3/dscvr_g3_pivot_df.xlsx',encoding='CP949') #내보내기"
      ],
      "metadata": {
        "id": "PuZdG15rtdZA"
      },
      "execution_count": null,
      "outputs": []
    }
  ]
}